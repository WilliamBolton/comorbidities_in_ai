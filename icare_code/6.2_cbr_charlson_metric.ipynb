{
  "cells": [
    {
      "cell_type": "code",
      "execution_count": 1,
      "metadata": {
        "gather": {
          "logged": 1704379852539
        },
        "jupyter": {
          "outputs_hidden": false,
          "source_hidden": false
        },
        "nteract": {
          "transient": {
            "deleting": false
          }
        }
      },
      "outputs": [],
      "source": [
        "# Libraries\n",
        "import numpy as np\n",
        "import pandas as pd\n",
        "pd.set_option('display.max_columns', 40)\n",
        "pd.set_option('display.width', 2000)\n",
        "\n",
        "from IPython.core.interactiveshell import InteractiveShell\n",
        "InteractiveShell.ast_node_interactivity = \"all\""
      ]
    },
    {
      "cell_type": "code",
      "execution_count": 2,
      "metadata": {
        "gather": {
          "logged": 1704379864643
        }
      },
      "outputs": [],
      "source": [
        "# Import\n",
        "path = r'data/filtered_snomed_charlson_index.csv'\n",
        "filtered_snomed_charlson_index = pd.read_csv(path, dtype={'code': 'str'})"
      ]
    },
    {
      "cell_type": "code",
      "execution_count": 5,
      "metadata": {
        "gather": {
          "logged": 1704376417571
        },
        "jupyter": {
          "outputs_hidden": false,
          "source_hidden": false
        },
        "nteract": {
          "transient": {
            "deleting": false
          }
        }
      },
      "outputs": [
        {
          "data": {
            "text/html": [
              "<div>\n",
              "<style scoped>\n",
              "    .dataframe tbody tr th:only-of-type {\n",
              "        vertical-align: middle;\n",
              "    }\n",
              "\n",
              "    .dataframe tbody tr th {\n",
              "        vertical-align: top;\n",
              "    }\n",
              "\n",
              "    .dataframe thead th {\n",
              "        text-align: right;\n",
              "    }\n",
              "</style>\n",
              "<table border=\"1\" class=\"dataframe\">\n",
              "  <thead>\n",
              "    <tr style=\"text-align: right;\">\n",
              "      <th></th>\n",
              "      <th>code</th>\n",
              "      <th>STR</th>\n",
              "      <th>comorbid_condition</th>\n",
              "      <th>weight</th>\n",
              "    </tr>\n",
              "  </thead>\n",
              "  <tbody>\n",
              "    <tr>\n",
              "      <th>0</th>\n",
              "      <td>22298006</td>\n",
              "      <td>Myocardial infarction</td>\n",
              "      <td>Myocardial Infarction</td>\n",
              "      <td>1</td>\n",
              "    </tr>\n",
              "    <tr>\n",
              "      <th>1</th>\n",
              "      <td>22298006</td>\n",
              "      <td>Myocardial infarction, NOS</td>\n",
              "      <td>Myocardial Infarction</td>\n",
              "      <td>1</td>\n",
              "    </tr>\n",
              "    <tr>\n",
              "      <th>2</th>\n",
              "      <td>22298006</td>\n",
              "      <td>Heart attack</td>\n",
              "      <td>Myocardial Infarction</td>\n",
              "      <td>1</td>\n",
              "    </tr>\n",
              "    <tr>\n",
              "      <th>3</th>\n",
              "      <td>22298006</td>\n",
              "      <td>Heart attack, NOS</td>\n",
              "      <td>Myocardial Infarction</td>\n",
              "      <td>1</td>\n",
              "    </tr>\n",
              "    <tr>\n",
              "      <th>4</th>\n",
              "      <td>22298006</td>\n",
              "      <td>Infarction of heart</td>\n",
              "      <td>Myocardial Infarction</td>\n",
              "      <td>1</td>\n",
              "    </tr>\n",
              "    <tr>\n",
              "      <th>...</th>\n",
              "      <td>...</td>\n",
              "      <td>...</td>\n",
              "      <td>...</td>\n",
              "      <td>...</td>\n",
              "    </tr>\n",
              "    <tr>\n",
              "      <th>657</th>\n",
              "      <td>86406008</td>\n",
              "      <td>HIV infection</td>\n",
              "      <td>HIV/AIDS</td>\n",
              "      <td>6</td>\n",
              "    </tr>\n",
              "    <tr>\n",
              "      <th>658</th>\n",
              "      <td>86406008</td>\n",
              "      <td>HIV - Human immunodeficiency virus infection</td>\n",
              "      <td>HIV/AIDS</td>\n",
              "      <td>6</td>\n",
              "    </tr>\n",
              "    <tr>\n",
              "      <th>659</th>\n",
              "      <td>86406008</td>\n",
              "      <td>Human immunodeficiency virus infection</td>\n",
              "      <td>HIV/AIDS</td>\n",
              "      <td>6</td>\n",
              "    </tr>\n",
              "    <tr>\n",
              "      <th>660</th>\n",
              "      <td>86406008</td>\n",
              "      <td>Human immunodeficiency virus infection, NOS</td>\n",
              "      <td>HIV/AIDS</td>\n",
              "      <td>6</td>\n",
              "    </tr>\n",
              "    <tr>\n",
              "      <th>661</th>\n",
              "      <td>86406008</td>\n",
              "      <td>Human immunodeficiency virus infection (disorder)</td>\n",
              "      <td>HIV/AIDS</td>\n",
              "      <td>6</td>\n",
              "    </tr>\n",
              "  </tbody>\n",
              "</table>\n",
              "<p>662 rows × 4 columns</p>\n",
              "</div>"
            ],
            "text/plain": [
              "         code                                                STR     comorbid_condition  weight\n",
              "0    22298006                              Myocardial infarction  Myocardial Infarction       1\n",
              "1    22298006                         Myocardial infarction, NOS  Myocardial Infarction       1\n",
              "2    22298006                                       Heart attack  Myocardial Infarction       1\n",
              "3    22298006                                  Heart attack, NOS  Myocardial Infarction       1\n",
              "4    22298006                                Infarction of heart  Myocardial Infarction       1\n",
              "..        ...                                                ...                    ...     ...\n",
              "657  86406008                                      HIV infection               HIV/AIDS       6\n",
              "658  86406008       HIV - Human immunodeficiency virus infection               HIV/AIDS       6\n",
              "659  86406008             Human immunodeficiency virus infection               HIV/AIDS       6\n",
              "660  86406008        Human immunodeficiency virus infection, NOS               HIV/AIDS       6\n",
              "661  86406008  Human immunodeficiency virus infection (disorder)               HIV/AIDS       6\n",
              "\n",
              "[662 rows x 4 columns]"
            ]
          },
          "execution_count": 5,
          "metadata": {},
          "output_type": "execute_result"
        }
      ],
      "source": [
        "filtered_snomed_charlson_index"
      ]
    },
    {
      "cell_type": "code",
      "execution_count": 5,
      "metadata": {
        "gather": {
          "logged": 1704380158637
        },
        "jupyter": {
          "outputs_hidden": false,
          "source_hidden": false
        },
        "nteract": {
          "transient": {
            "deleting": false
          }
        }
      },
      "outputs": [
        {
          "data": {
            "text/plain": [
              "Cancer                                         130\n",
              "Chronic Pulmonary Disease                       65\n",
              "Connective Tissue Disease Rheumatic Disease     61\n",
              "Congestive Heart Failure                        50\n",
              "Moderate or Severe Liver Disease                37\n",
              "Paraplegia and Hemiplegia                       37\n",
              "Renal Disease                                   37\n",
              "Diabetes without Chronic Complications          36\n",
              "Mild Liver Disease                              33\n",
              "Peripheral Vascular Disease                     33\n",
              "Cerebrovascular Disease                         29\n",
              "Diabetes with Chronic Complications             29\n",
              "Dementia                                        28\n",
              "Peptic Ulcer Disease                            24\n",
              "Myocardial Infarction                           20\n",
              "Metastatic Carcinoma                             8\n",
              "HIV/AIDS                                         5\n",
              "Name: comorbid_condition, dtype: int64"
            ]
          },
          "execution_count": 5,
          "metadata": {},
          "output_type": "execute_result"
        },
        {
          "data": {
            "text/plain": [
              "17"
            ]
          },
          "execution_count": 5,
          "metadata": {},
          "output_type": "execute_result"
        },
        {
          "data": {
            "text/plain": [
              "113"
            ]
          },
          "execution_count": 5,
          "metadata": {},
          "output_type": "execute_result"
        }
      ],
      "source": [
        "filtered_snomed_charlson_index.comorbid_condition.value_counts()\n",
        "filtered_snomed_charlson_index.comorbid_condition.nunique()\n",
        "filtered_snomed_charlson_index.code.nunique()"
      ]
    },
    {
      "cell_type": "code",
      "execution_count": 3,
      "metadata": {
        "gather": {
          "logged": 1704379876441
        },
        "jupyter": {
          "outputs_hidden": false,
          "source_hidden": false
        },
        "nteract": {
          "transient": {
            "deleting": false
          }
        }
      },
      "outputs": [],
      "source": [
        "# Import\n",
        "path = r'data/cbr_metric_my_method.csv'\n",
        "my_method = pd.read_csv(path)\n",
        "\n",
        "path = r'data/cbr_metric_one_hot.csv'\n",
        "one_hot = pd.read_csv(path)\n",
        "\n",
        "path = r'data/cbr_metric_rocheteau.csv'\n",
        "rocheteau = pd.read_csv(path)"
      ]
    },
    {
      "cell_type": "code",
      "execution_count": 4,
      "metadata": {
        "gather": {
          "logged": 1704379924587
        },
        "jupyter": {
          "outputs_hidden": false,
          "source_hidden": false
        },
        "nteract": {
          "transient": {
            "deleting": false
          }
        }
      },
      "outputs": [],
      "source": [
        "# Import\n",
        "path = r'data/final_problem_dummies.csv'\n",
        "problem_dummies = pd.read_csv(path)\n",
        "# Drop columns\n",
        "problem_dummies.drop(columns=['SUBJECT', 'PROBLEM_DT_TM'], inplace=True)\n",
        "# Remove prefix\n",
        "problem_dummies.columns = problem_dummies.columns.str.strip('PROBLEM_')\n",
        "# Set index\n",
        "problem_dummies.set_index('new_subject', inplace=True)"
      ]
    },
    {
      "cell_type": "code",
      "execution_count": 96,
      "metadata": {
        "gather": {
          "logged": 1704382282514
        },
        "jupyter": {
          "outputs_hidden": false,
          "source_hidden": false
        },
        "nteract": {
          "transient": {
            "deleting": false
          }
        }
      },
      "outputs": [],
      "source": [
        "# Get charlson_jaccard_index for my_method\n",
        "my_method_score_list = []\n",
        "\n",
        "for index, row in my_method.iterrows():\n",
        "    patient_n = row['0']\n",
        "    neighbour_n = row['1']\n",
        "    # Get patient and neighbour problems\n",
        "    patient_problems = problem_dummies.loc[patient_n][problem_dummies.loc[patient_n] == 1].index.tolist()\n",
        "    neighbour_problems = problem_dummies.loc[neighbour_n][problem_dummies.loc[neighbour_n] == 1].index.tolist()\n",
        "    # Get charlson catergories\n",
        "    patient_charlson = filtered_snomed_charlson_index[filtered_snomed_charlson_index['code'].isin(patient_problems)]\n",
        "    neighbour_charlson = filtered_snomed_charlson_index[filtered_snomed_charlson_index['code'].isin(neighbour_problems)]\n",
        "    if patient_charlson.empty:\n",
        "        patient_charlson = []\n",
        "    else:\n",
        "        patient_charlson = patient_charlson['comorbid_condition'].unique().tolist()\n",
        "    if neighbour_charlson.empty:\n",
        "        neighbour_charlson = []\n",
        "    else:\n",
        "        neighbour_charlson = neighbour_charlson['comorbid_condition'].unique().tolist()\n",
        "    # If both are empty return 1\n",
        "    if not patient_charlson and not neighbour_charlson:\n",
        "        my_method_score_list.append(1)\n",
        "    else:\n",
        "        # Work out jaccard similarity\n",
        "        s1 = set(patient_charlson)\n",
        "        s2 = set(neighbour_charlson)\n",
        "        my_method_score_list.append(float(len(s1.intersection(s2)) / len(s1.union(s2))))"
      ]
    },
    {
      "cell_type": "code",
      "execution_count": 97,
      "metadata": {
        "gather": {
          "logged": 1704382286787
        },
        "jupyter": {
          "outputs_hidden": false,
          "source_hidden": false
        },
        "nteract": {
          "transient": {
            "deleting": false
          }
        }
      },
      "outputs": [
        {
          "data": {
            "text/plain": [
              "1000"
            ]
          },
          "execution_count": 97,
          "metadata": {},
          "output_type": "execute_result"
        },
        {
          "data": {
            "text/plain": [
              "0.8361595238095237"
            ]
          },
          "execution_count": 97,
          "metadata": {},
          "output_type": "execute_result"
        },
        {
          "data": {
            "text/plain": [
              "0.344557111884721"
            ]
          },
          "execution_count": 97,
          "metadata": {},
          "output_type": "execute_result"
        }
      ],
      "source": [
        "len(my_method_score_list)\n",
        "np.nanmean(my_method_score_list)\n",
        "np.nanstd(my_method_score_list)"
      ]
    },
    {
      "cell_type": "code",
      "execution_count": 111,
      "metadata": {
        "gather": {
          "logged": 1704383347661
        },
        "jupyter": {
          "outputs_hidden": false,
          "source_hidden": false
        },
        "nteract": {
          "transient": {
            "deleting": false
          }
        }
      },
      "outputs": [],
      "source": [
        "# Get jaccard_index for my_method\n",
        "my_method_jaccard_score_list = []\n",
        "\n",
        "for index, row in my_method.iterrows():\n",
        "    patient_n = row['0']\n",
        "    neighbour_n = row['1']\n",
        "    # Get patient and neighbour problems\n",
        "    patient_problems = problem_dummies.loc[patient_n][problem_dummies.loc[patient_n] == 1].index.tolist()\n",
        "    neighbour_problems = problem_dummies.loc[neighbour_n][problem_dummies.loc[neighbour_n] == 1].index.tolist()\n",
        "    # Work out jaccard similarity\n",
        "    s1 = set(patient_problems)\n",
        "    s2 = set(neighbour_problems)\n",
        "    my_method_jaccard_score_list.append(float(len(s1.intersection(s2)) / len(s1.union(s2))))"
      ]
    },
    {
      "cell_type": "code",
      "execution_count": 112,
      "metadata": {
        "gather": {
          "logged": 1704383348152
        },
        "jupyter": {
          "outputs_hidden": false,
          "source_hidden": false
        },
        "nteract": {
          "transient": {
            "deleting": false
          }
        }
      },
      "outputs": [
        {
          "data": {
            "text/plain": [
              "1000"
            ]
          },
          "execution_count": 112,
          "metadata": {},
          "output_type": "execute_result"
        },
        {
          "data": {
            "text/plain": [
              "0.5748233978551922"
            ]
          },
          "execution_count": 112,
          "metadata": {},
          "output_type": "execute_result"
        },
        {
          "data": {
            "text/plain": [
              "0.28443555972796036"
            ]
          },
          "execution_count": 112,
          "metadata": {},
          "output_type": "execute_result"
        }
      ],
      "source": [
        "len(my_method_jaccard_score_list)\n",
        "np.nanmean(my_method_jaccard_score_list)\n",
        "np.nanstd(my_method_jaccard_score_list)"
      ]
    },
    {
      "cell_type": "code",
      "execution_count": 100,
      "metadata": {
        "gather": {
          "logged": 1704382332602
        },
        "jupyter": {
          "outputs_hidden": false,
          "source_hidden": false
        },
        "nteract": {
          "transient": {
            "deleting": false
          }
        }
      },
      "outputs": [],
      "source": [
        "# Get charlson_jaccard_index for one_hot\n",
        "one_hot_score_list = []\n",
        "\n",
        "for index, row in one_hot.iterrows():\n",
        "    patient_n = row['0']\n",
        "    neighbour_n = row['1']\n",
        "    # Get patient and neighbour problems\n",
        "    patient_problems = problem_dummies.loc[patient_n][problem_dummies.loc[patient_n] == 1].index.tolist()\n",
        "    neighbour_problems = problem_dummies.loc[neighbour_n][problem_dummies.loc[neighbour_n] == 1].index.tolist()\n",
        "    # Get charlson catergories\n",
        "    patient_charlson = filtered_snomed_charlson_index[filtered_snomed_charlson_index['code'].isin(patient_problems)]\n",
        "    neighbour_charlson = filtered_snomed_charlson_index[filtered_snomed_charlson_index['code'].isin(neighbour_problems)]\n",
        "    if patient_charlson.empty:\n",
        "        patient_charlson = []\n",
        "    else:\n",
        "        patient_charlson = patient_charlson['comorbid_condition'].unique().tolist()\n",
        "    if neighbour_charlson.empty:\n",
        "        neighbour_charlson = []\n",
        "    else:\n",
        "        neighbour_charlson = neighbour_charlson['comorbid_condition'].unique().tolist()\n",
        "    # If both are empty return 1\n",
        "    if not patient_charlson and not neighbour_charlson:\n",
        "        one_hot_score_list.append(1)\n",
        "    else:\n",
        "        # Work out jaccard similarity\n",
        "        s1 = set(patient_charlson)\n",
        "        s2 = set(neighbour_charlson)\n",
        "        one_hot_score_list.append(float(len(s1.intersection(s2)) / len(s1.union(s2))))"
      ]
    },
    {
      "cell_type": "code",
      "execution_count": 101,
      "metadata": {
        "gather": {
          "logged": 1704382333182
        },
        "jupyter": {
          "outputs_hidden": false,
          "source_hidden": false
        },
        "nteract": {
          "transient": {
            "deleting": false
          }
        }
      },
      "outputs": [
        {
          "data": {
            "text/plain": [
              "1000"
            ]
          },
          "execution_count": 101,
          "metadata": {},
          "output_type": "execute_result"
        },
        {
          "data": {
            "text/plain": [
              "0.8813833333333332"
            ]
          },
          "execution_count": 101,
          "metadata": {},
          "output_type": "execute_result"
        },
        {
          "data": {
            "text/plain": [
              "0.3013014875318223"
            ]
          },
          "execution_count": 101,
          "metadata": {},
          "output_type": "execute_result"
        }
      ],
      "source": [
        "len(one_hot_score_list)\n",
        "np.nanmean(one_hot_score_list)\n",
        "np.nanstd(one_hot_score_list)"
      ]
    },
    {
      "cell_type": "code",
      "execution_count": 117,
      "metadata": {
        "gather": {
          "logged": 1704383415615
        },
        "jupyter": {
          "outputs_hidden": false,
          "source_hidden": false
        },
        "nteract": {
          "transient": {
            "deleting": false
          }
        }
      },
      "outputs": [],
      "source": [
        "# Get jaccard_index for one_hot\n",
        "one_hot_jaccard_score_list = []\n",
        "\n",
        "for index, row in one_hot.iterrows():\n",
        "    patient_n = row['0']\n",
        "    neighbour_n = row['1']\n",
        "    # Get patient and neighbour problems\n",
        "    patient_problems = problem_dummies.loc[patient_n][problem_dummies.loc[patient_n] == 1].index.tolist()\n",
        "    neighbour_problems = problem_dummies.loc[neighbour_n][problem_dummies.loc[neighbour_n] == 1].index.tolist()\n",
        "    # Work out jaccard similarity\n",
        "    s1 = set(patient_problems)\n",
        "    s2 = set(neighbour_problems)\n",
        "    one_hot_jaccard_score_list.append(float(len(s1.intersection(s2)) / len(s1.union(s2))))"
      ]
    },
    {
      "cell_type": "code",
      "execution_count": 118,
      "metadata": {
        "gather": {
          "logged": 1704383418904
        },
        "jupyter": {
          "outputs_hidden": false,
          "source_hidden": false
        },
        "nteract": {
          "transient": {
            "deleting": false
          }
        }
      },
      "outputs": [
        {
          "data": {
            "text/plain": [
              "1000"
            ]
          },
          "execution_count": 118,
          "metadata": {},
          "output_type": "execute_result"
        },
        {
          "data": {
            "text/plain": [
              "0.689585351928773"
            ]
          },
          "execution_count": 118,
          "metadata": {},
          "output_type": "execute_result"
        },
        {
          "data": {
            "text/plain": [
              "0.19517945439040402"
            ]
          },
          "execution_count": 118,
          "metadata": {},
          "output_type": "execute_result"
        }
      ],
      "source": [
        "len(one_hot_jaccard_score_list)\n",
        "np.nanmean(one_hot_jaccard_score_list)\n",
        "np.nanstd(one_hot_jaccard_score_list)"
      ]
    },
    {
      "cell_type": "code",
      "execution_count": 102,
      "metadata": {
        "gather": {
          "logged": 1704382354573
        },
        "jupyter": {
          "outputs_hidden": false,
          "source_hidden": false
        },
        "nteract": {
          "transient": {
            "deleting": false
          }
        }
      },
      "outputs": [],
      "source": [
        "# Get charlson_jaccard_index for rocheteau\n",
        "rocheteau_score_list = []\n",
        "\n",
        "for index, row in rocheteau.iterrows():\n",
        "    patient_n = row['0']\n",
        "    neighbour_n = row['1']\n",
        "    # Get patient and neighbour problems\n",
        "    patient_problems = problem_dummies.loc[patient_n][problem_dummies.loc[patient_n] == 1].index.tolist()\n",
        "    neighbour_problems = problem_dummies.loc[neighbour_n][problem_dummies.loc[neighbour_n] == 1].index.tolist()\n",
        "    # Get charlson catergories\n",
        "    patient_charlson = filtered_snomed_charlson_index[filtered_snomed_charlson_index['code'].isin(patient_problems)]\n",
        "    neighbour_charlson = filtered_snomed_charlson_index[filtered_snomed_charlson_index['code'].isin(neighbour_problems)]\n",
        "    if patient_charlson.empty:\n",
        "        patient_charlson = []\n",
        "    else:\n",
        "        patient_charlson = patient_charlson['comorbid_condition'].unique().tolist()\n",
        "    if neighbour_charlson.empty:\n",
        "        neighbour_charlson = []\n",
        "    else:\n",
        "        neighbour_charlson = neighbour_charlson['comorbid_condition'].unique().tolist()\n",
        "    # If both are empty return 1\n",
        "    if not patient_charlson and not neighbour_charlson:\n",
        "        rocheteau_score_list.append(1)\n",
        "    else:\n",
        "        # Work out jaccard similarity\n",
        "        s1 = set(patient_charlson)\n",
        "        s2 = set(neighbour_charlson)\n",
        "        rocheteau_score_list.append(float(len(s1.intersection(s2)) / len(s1.union(s2))))"
      ]
    },
    {
      "cell_type": "code",
      "execution_count": 103,
      "metadata": {
        "gather": {
          "logged": 1704382355036
        },
        "jupyter": {
          "outputs_hidden": false,
          "source_hidden": false
        },
        "nteract": {
          "transient": {
            "deleting": false
          }
        }
      },
      "outputs": [
        {
          "data": {
            "text/plain": [
              "1000"
            ]
          },
          "execution_count": 103,
          "metadata": {},
          "output_type": "execute_result"
        },
        {
          "data": {
            "text/plain": [
              "0.6448785714285714"
            ]
          },
          "execution_count": 103,
          "metadata": {},
          "output_type": "execute_result"
        },
        {
          "data": {
            "text/plain": [
              "0.44609297988911367"
            ]
          },
          "execution_count": 103,
          "metadata": {},
          "output_type": "execute_result"
        }
      ],
      "source": [
        "len(rocheteau_score_list)\n",
        "np.nanmean(rocheteau_score_list)\n",
        "np.nanstd(rocheteau_score_list)"
      ]
    },
    {
      "cell_type": "code",
      "execution_count": 115,
      "metadata": {
        "gather": {
          "logged": 1704383407608
        },
        "jupyter": {
          "outputs_hidden": false,
          "source_hidden": false
        },
        "nteract": {
          "transient": {
            "deleting": false
          }
        }
      },
      "outputs": [],
      "source": [
        "# Get jaccard_index for rocheteau\n",
        "rocheteau_jaccard_score_list = []\n",
        "\n",
        "for index, row in rocheteau.iterrows():\n",
        "    patient_n = row['0']\n",
        "    neighbour_n = row['1']\n",
        "    # Get patient and neighbour problems\n",
        "    patient_problems = problem_dummies.loc[patient_n][problem_dummies.loc[patient_n] == 1].index.tolist()\n",
        "    neighbour_problems = problem_dummies.loc[neighbour_n][problem_dummies.loc[neighbour_n] == 1].index.tolist()\n",
        "    # Work out jaccard similarity\n",
        "    s1 = set(patient_problems)\n",
        "    s2 = set(neighbour_problems)\n",
        "    rocheteau_jaccard_score_list.append(float(len(s1.intersection(s2)) / len(s1.union(s2))))"
      ]
    },
    {
      "cell_type": "code",
      "execution_count": 116,
      "metadata": {
        "gather": {
          "logged": 1704383409029
        },
        "jupyter": {
          "outputs_hidden": false,
          "source_hidden": false
        },
        "nteract": {
          "transient": {
            "deleting": false
          }
        }
      },
      "outputs": [
        {
          "data": {
            "text/plain": [
              "1000"
            ]
          },
          "execution_count": 116,
          "metadata": {},
          "output_type": "execute_result"
        },
        {
          "data": {
            "text/plain": [
              "0.4657556637925435"
            ]
          },
          "execution_count": 116,
          "metadata": {},
          "output_type": "execute_result"
        },
        {
          "data": {
            "text/plain": [
              "0.3129939022424812"
            ]
          },
          "execution_count": 116,
          "metadata": {},
          "output_type": "execute_result"
        }
      ],
      "source": [
        "len(rocheteau_jaccard_score_list)\n",
        "np.nanmean(rocheteau_jaccard_score_list)\n",
        "np.nanstd(rocheteau_jaccard_score_list)"
      ]
    },
    {
      "cell_type": "markdown",
      "metadata": {
        "nteract": {
          "transient": {
            "deleting": false
          }
        }
      },
      "source": [
        "Test stats"
      ]
    },
    {
      "cell_type": "code",
      "execution_count": 104,
      "metadata": {
        "gather": {
          "logged": 1704382475845
        },
        "jupyter": {
          "outputs_hidden": false,
          "source_hidden": false
        },
        "nteract": {
          "transient": {
            "deleting": false
          }
        }
      },
      "outputs": [],
      "source": [
        "from scipy.stats import shapiro \n",
        "from scipy.stats import kstest\n",
        "from scipy.stats import ttest_rel\n",
        "from scipy.stats import wilcoxon"
      ]
    },
    {
      "cell_type": "code",
      "execution_count": 106,
      "metadata": {
        "gather": {
          "logged": 1704382857941
        },
        "jupyter": {
          "outputs_hidden": false,
          "source_hidden": false
        },
        "nteract": {
          "transient": {
            "deleting": false
          }
        }
      },
      "outputs": [
        {
          "data": {
            "text/plain": [
              "ShapiroResult(statistic=0.5044409036636353, pvalue=0.0)"
            ]
          },
          "execution_count": 106,
          "metadata": {},
          "output_type": "execute_result"
        },
        {
          "data": {
            "text/plain": [
              "KstestResult(statistic=0.638344746068543, pvalue=0.0)"
            ]
          },
          "execution_count": 106,
          "metadata": {},
          "output_type": "execute_result"
        },
        {
          "data": {
            "text/plain": [
              "ShapiroResult(statistic=0.425937294960022, pvalue=0.0)"
            ]
          },
          "execution_count": 106,
          "metadata": {},
          "output_type": "execute_result"
        },
        {
          "data": {
            "text/plain": [
              "KstestResult(statistic=0.6923447460685429, pvalue=0.0)"
            ]
          },
          "execution_count": 106,
          "metadata": {},
          "output_type": "execute_result"
        },
        {
          "data": {
            "text/plain": [
              "ShapiroResult(statistic=0.6812915205955505, pvalue=1.061354667267331e-39)"
            ]
          },
          "execution_count": 106,
          "metadata": {},
          "output_type": "execute_result"
        },
        {
          "data": {
            "text/plain": [
              "KstestResult(statistic=0.5, pvalue=1.064517291557782e-231)"
            ]
          },
          "execution_count": 106,
          "metadata": {},
          "output_type": "execute_result"
        }
      ],
      "source": [
        "# Test if normally distributed (wont be)\n",
        "shapiro(my_method_score_list)\n",
        "kstest(my_method_score_list, 'norm')\n",
        "shapiro(one_hot_score_list)\n",
        "kstest(one_hot_score_list, 'norm')\n",
        "shapiro(rocheteau_score_list)\n",
        "kstest(rocheteau_score_list, 'norm')"
      ]
    },
    {
      "cell_type": "code",
      "execution_count": 107,
      "metadata": {
        "gather": {
          "logged": 1704382884690
        },
        "jupyter": {
          "outputs_hidden": false,
          "source_hidden": false
        },
        "nteract": {
          "transient": {
            "deleting": false
          }
        }
      },
      "outputs": [],
      "source": [
        "import scipy.stats as stats\n",
        "\n",
        "def test_stats(list1, list2):\n",
        "\n",
        "    k2, p = stats.wilcoxon(list1, list2)\n",
        "    alpha = 0.05\n",
        "    print(p)\n",
        "    if p < alpha:\n",
        "        print('Different distribution')\n",
        "    else:\n",
        "        print(' Same distribution')"
      ]
    },
    {
      "cell_type": "code",
      "execution_count": 108,
      "metadata": {
        "gather": {
          "logged": 1704382885752
        },
        "jupyter": {
          "outputs_hidden": false,
          "source_hidden": false
        },
        "nteract": {
          "transient": {
            "deleting": false
          }
        }
      },
      "outputs": [
        {
          "name": "stdout",
          "output_type": "stream",
          "text": [
            "1.5078819993890312e-31\n",
            "Different distribution\n"
          ]
        }
      ],
      "source": [
        "test_stats(my_method_score_list, rocheteau_score_list)"
      ]
    },
    {
      "cell_type": "code",
      "execution_count": 109,
      "metadata": {
        "gather": {
          "logged": 1704382891837
        },
        "jupyter": {
          "outputs_hidden": false,
          "source_hidden": false
        },
        "nteract": {
          "transient": {
            "deleting": false
          }
        }
      },
      "outputs": [
        {
          "name": "stdout",
          "output_type": "stream",
          "text": [
            "2.2527877796978147e-05\n",
            "Different distribution\n"
          ]
        }
      ],
      "source": [
        "test_stats(my_method_score_list, one_hot_score_list)"
      ]
    },
    {
      "cell_type": "code",
      "execution_count": 110,
      "metadata": {
        "gather": {
          "logged": 1704382894618
        },
        "jupyter": {
          "outputs_hidden": false,
          "source_hidden": false
        },
        "nteract": {
          "transient": {
            "deleting": false
          }
        }
      },
      "outputs": [
        {
          "name": "stdout",
          "output_type": "stream",
          "text": [
            "2.133169652205036e-43\n",
            "Different distribution\n"
          ]
        }
      ],
      "source": [
        "test_stats(rocheteau_score_list, one_hot_score_list)"
      ]
    },
    {
      "cell_type": "markdown",
      "metadata": {
        "nteract": {
          "transient": {
            "deleting": false
          }
        }
      },
      "source": [
        "Save"
      ]
    },
    {
      "cell_type": "code",
      "execution_count": 122,
      "metadata": {
        "gather": {
          "logged": 1704383557709
        },
        "jupyter": {
          "outputs_hidden": false,
          "source_hidden": false
        },
        "nteract": {
          "transient": {
            "deleting": false
          }
        }
      },
      "outputs": [],
      "source": [
        "# Add columns\n",
        "my_method['charlson_jaccard_score'] = my_method_score_list\n",
        "my_method['jaccard_score'] = my_method_jaccard_score_list\n",
        "one_hot['charlson_jaccard_score'] = one_hot_score_list\n",
        "one_hot['jaccard_score'] = one_hot_jaccard_score_list\n",
        "rocheteau['charlson_jaccard_score'] = rocheteau_score_list\n",
        "rocheteau['jaccard_score'] = rocheteau_jaccard_score_list"
      ]
    },
    {
      "cell_type": "code",
      "execution_count": 124,
      "metadata": {
        "gather": {
          "logged": 1704383606588
        },
        "jupyter": {
          "outputs_hidden": false,
          "source_hidden": false
        },
        "nteract": {
          "transient": {
            "deleting": false
          }
        }
      },
      "outputs": [],
      "source": [
        "# Save\n",
        "#my_method.to_csv('cbr_my_method_metric_charlson_jaccard.csv')\n",
        "#one_hot.to_csv('cbr_one_hot_metric_charlson_jaccard.csv')\n",
        "#rocheteau.to_csv('cbr_rocheteau_metric_charlson_jaccard.csv')"
      ]
    }
  ],
  "metadata": {
    "kernel_info": {
      "name": "python310-sdkv2"
    },
    "kernelspec": {
      "display_name": "Python 3.10 - SDK v2",
      "language": "python",
      "name": "python310-sdkv2"
    },
    "language_info": {
      "codemirror_mode": {
        "name": "ipython",
        "version": 3
      },
      "file_extension": ".py",
      "mimetype": "text/x-python",
      "name": "python",
      "nbconvert_exporter": "python",
      "pygments_lexer": "ipython3",
      "version": "3.10.11"
    },
    "microsoft": {
      "host": {
        "AzureML": {
          "notebookHasBeenCompleted": true
        }
      },
      "ms_spell_check": {
        "ms_spell_check_language": "en"
      }
    },
    "nteract": {
      "version": "nteract-front-end@1.0.0"
    }
  },
  "nbformat": 4,
  "nbformat_minor": 2
}
