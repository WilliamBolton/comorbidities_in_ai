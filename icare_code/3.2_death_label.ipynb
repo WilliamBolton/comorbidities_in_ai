{
  "cells": [
    {
      "cell_type": "code",
      "execution_count": 1,
      "metadata": {
        "gather": {
          "logged": 1677061516106
        }
      },
      "outputs": [],
      "source": [
        "# Libraries\n",
        "import pandas as pd\n",
        "pd.set_option('display.max_columns', 40)\n",
        "pd.set_option('display.width', 2000)\n",
        "\n",
        "from IPython.core.interactiveshell import InteractiveShell\n",
        "InteractiveShell.ast_node_interactivity = \"all\""
      ]
    },
    {
      "cell_type": "code",
      "execution_count": null,
      "metadata": {
        "gather": {
          "logged": 1677061608600
        },
        "jupyter": {
          "outputs_hidden": false,
          "source_hidden": false
        },
        "nteract": {
          "transient": {
            "deleting": false
          }
        }
      },
      "outputs": [],
      "source": [
        "%pip install \\\n",
        "--trusted-host 192.168.210.244 \\\n",
        "--index-url http://192.168.210.244:8081/repository/pypi/simple/ \\\n",
        "snowflake-connector-python"
      ]
    },
    {
      "cell_type": "code",
      "execution_count": 3,
      "metadata": {
        "gather": {
          "logged": 1677061629312
        },
        "jupyter": {
          "outputs_hidden": false,
          "source_hidden": false
        },
        "nteract": {
          "transient": {
            "deleting": false
          }
        }
      },
      "outputs": [
        {
          "name": "stderr",
          "output_type": "stream",
          "text": [
            "/anaconda/envs/azureml_py310_sdkv2/lib/python3.10/site-packages/snowflake/connector/options.py:96: UserWarning: You have an incompatible version of 'pyarrow' installed (6.0.0), please install a version that adheres to: 'pyarrow<8.1.0,>=8.0.0; extra == \"pandas\"'\n",
            "  warn_incompatible_dep(\n"
          ]
        },
        {
          "name": "stdout",
          "output_type": "stream",
          "text": [
            "Initiating login request with your identity provider. A browser window should have opened for you to complete the login. If you can't see it, check existing browser windows, or your OS settings. Press CTRL+C to abort and try again...\n",
            "We were unable to open a browser window for you, please open the following url manually then paste the URL you are redirected to into the terminal.\n",
            "URL: https://login.microsoftonline.com/be00e2c6-806c-45f8-84c3-3fc99f64b8d3/saml2?SAMLRequest=pZPRbtowFIZfJfKukzgOpcFqqAIIka0drMA07S44J2Dh2JntkPL2M6FI3UV7szvL%2Fo79%2Bfz2w%2BNrLbwTaMOVTFEUYOSBZKrkcp%2Bi7WbuJ8gztpBlIZSEFJ3BoMfxgylq0dCstQf5An9aMNZzG0lD%2B4UUtVpSVRhuqCxqMNQyus6enygJMG20soopgd6VfF5RGAPaOsNbSWm40ztY29Aw7Lou6OJA6X1IMMYhHoWOuiBfbvyru9MHfBTiwYV3hMNXb24TLq8t%2BExrd4UMXWw2K3%2B1XG%2BQl91Up0qatga9Bn3iDLYvT1cB4wwaPRiNMAmk0vbgQ6tVA0Gj%2BamwILg8BkaqrhLFEZiqm9a6QwI3CisoQ6H23PUhn6WoOfLysJraEzTftpNs2dbL6eLHc74gC03Ok1%2Fbr%2Fd8KpLcZEU07xKGvJ%2B3oMkl6NyYFnJ5ide6KUxiHxOfkE2EKRnSuziIyP1v5M1cvFwWtq%2B83aH3CGrOtDKqsko6cegtd4AxEDb0Ezxk%2FuCuSvxkwGI%2FrthoVA0Hu6SMw0voBF0fEu1F9Pg%2F2%2FMQvt%2Fs7Yl%2Bd6nls5USnJ29udJ1YT8ONQqifoaXftWjFOqCi6wsNRjjwhVCdVMNziNFVreAwvH11H%2F%2Fwvgv&RelayState=48129\n"
          ]
        },
        {
          "data": {
            "text/plain": [
              "<snowflake.connector.cursor.SnowflakeCursor at 0x7f575e9dffd0>"
            ]
          },
          "execution_count": 3,
          "metadata": {},
          "output_type": "execute_result"
        },
        {
          "name": "stdout",
          "output_type": "stream",
          "text": [
            "('7.6.1', 'ICHT_RG_COVOAM_22016_PROD', 'ICHT_WH_COVOAM_22016_PROD')\n"
          ]
        },
        {
          "data": {
            "text/plain": [
              "True"
            ]
          },
          "execution_count": 3,
          "metadata": {},
          "output_type": "execute_result"
        }
      ],
      "source": [
        "import json, snowflake.connector\n",
        "\n",
        "# establish the connection to snowflake\n",
        "ctx = snowflake.connector.connect( \n",
        "    **json.load(open('/opt/ich/python-snowflake-defaults.json')))\n",
        "    \n",
        "# verify and test if connection is working\n",
        "try: \n",
        "    cs = ctx.cursor() \n",
        "    cs.execute('SELECT current_version(), current_role(), current_warehouse()')\n",
        "    print(cs.fetchone())\n",
        "finally: \n",
        "    cs.close()"
      ]
    },
    {
      "cell_type": "code",
      "execution_count": 4,
      "metadata": {
        "gather": {
          "logged": 1677061638238
        },
        "jupyter": {
          "outputs_hidden": false,
          "source_hidden": false
        },
        "nteract": {
          "transient": {
            "deleting": false
          }
        }
      },
      "outputs": [],
      "source": [
        "query = '''\n",
        "SELECT * from ICHT_PROD.ICHT_COVID.DEMOGRAPHIC\n",
        "'''\n",
        "\n",
        "cur = ctx.cursor().execute(query)\n",
        "demographic_df = pd.DataFrame.from_records(iter(cur), columns=[x[0] for x in cur.description])"
      ]
    },
    {
      "cell_type": "markdown",
      "metadata": {
        "nteract": {
          "transient": {
            "deleting": false
          }
        }
      },
      "source": [
        "Problem dummies"
      ]
    },
    {
      "cell_type": "code",
      "execution_count": 5,
      "metadata": {
        "gather": {
          "logged": 1676501852716
        },
        "jupyter": {
          "outputs_hidden": false,
          "source_hidden": false
        },
        "nteract": {
          "transient": {
            "deleting": false
          }
        }
      },
      "outputs": [],
      "source": [
        "# Import\n",
        "path = r'data/problem_charlson_score.csv'\n",
        "problem_charlson_score = pd.read_csv(path)"
      ]
    },
    {
      "cell_type": "code",
      "execution_count": 25,
      "metadata": {
        "gather": {
          "logged": 1676502845634
        },
        "jupyter": {
          "outputs_hidden": false,
          "source_hidden": false
        },
        "nteract": {
          "transient": {
            "deleting": false
          }
        }
      },
      "outputs": [],
      "source": [
        "# Merge\n",
        "problem_charlson = pd.merge(problem_charlson_score, demographic_df[['SUBJECT', 'DEATH_DATE']], how='left')"
      ]
    },
    {
      "cell_type": "code",
      "execution_count": 28,
      "metadata": {
        "gather": {
          "logged": 1676502968597
        },
        "jupyter": {
          "outputs_hidden": false,
          "source_hidden": false
        },
        "nteract": {
          "transient": {
            "deleting": false
          }
        }
      },
      "outputs": [],
      "source": [
        "# To datetime\n",
        "problem_charlson['DT_TM'] = pd.to_datetime(problem_charlson['DT_TM']).dt.date\n",
        "problem_charlson['DEATH_DATE'] = pd.to_datetime(problem_charlson['DEATH_DATE']).dt.date"
      ]
    },
    {
      "cell_type": "code",
      "execution_count": null,
      "metadata": {
        "gather": {
          "logged": 1678113930182
        },
        "jupyter": {
          "outputs_hidden": false,
          "source_hidden": false
        },
        "nteract": {
          "transient": {
            "deleting": false
          }
        }
      },
      "outputs": [],
      "source": [
        "# Work out if death within a year\n",
        "def year_fun(row):\n",
        "    if pd.notnull(row['DEATH_DATE']):\n",
        "        if row['DEATH_DATE'] <= row['DT_TM'] + pd.offsets.DateOffset(years=1):\n",
        "            return 1"
      ]
    },
    {
      "cell_type": "code",
      "execution_count": 47,
      "metadata": {
        "gather": {
          "logged": 1676504259001
        },
        "jupyter": {
          "outputs_hidden": false,
          "source_hidden": false
        },
        "nteract": {
          "transient": {
            "deleting": false
          }
        }
      },
      "outputs": [],
      "source": [
        "# Work out if death at anytime\n",
        "def death_fun(row):\n",
        "    if pd.notnull(row['DEATH_DATE']):\n",
        "        return 1"
      ]
    },
    {
      "cell_type": "code",
      "execution_count": null,
      "metadata": {},
      "outputs": [],
      "source": [
        "# Apply\n",
        "problem_charlson['death_year_label'] = problem_charlson.apply (lambda row: year_fun (row),axis=1)    \n",
        "problem_charlson['death_label'] = problem_charlson.apply (lambda row: death_fun (row),axis=1) "
      ]
    },
    {
      "cell_type": "code",
      "execution_count": 54,
      "metadata": {
        "gather": {
          "logged": 1676504484932
        },
        "jupyter": {
          "outputs_hidden": false,
          "source_hidden": false
        },
        "nteract": {
          "transient": {
            "deleting": false
          }
        }
      },
      "outputs": [],
      "source": [
        "# save\n",
        "#problem_charlson.to_csv('problem_charlson_death.csv', index=False)"
      ]
    },
    {
      "cell_type": "markdown",
      "metadata": {
        "nteract": {
          "transient": {
            "deleting": false
          }
        }
      },
      "source": [
        "MED"
      ]
    },
    {
      "cell_type": "code",
      "execution_count": 5,
      "metadata": {
        "gather": {
          "logged": 1677061700848
        },
        "jupyter": {
          "outputs_hidden": false,
          "source_hidden": false
        },
        "nteract": {
          "transient": {
            "deleting": false
          }
        }
      },
      "outputs": [],
      "source": [
        "# Import\n",
        "path = r'data/problem_charlson_score_med.csv'\n",
        "problem_charlson_score_med = pd.read_csv(path)"
      ]
    },
    {
      "cell_type": "code",
      "execution_count": null,
      "metadata": {
        "gather": {
          "logged": 1677061863188
        },
        "jupyter": {
          "outputs_hidden": false,
          "source_hidden": false
        },
        "nteract": {
          "transient": {
            "deleting": false
          }
        }
      },
      "outputs": [],
      "source": [
        "problem_charlson_med = pd.merge(problem_charlson_score_med, demographic_df[['SUBJECT', 'DEATH_DATE']], how='left')\n",
        "problem_charlson_med['DT_TM'] = pd.to_datetime(problem_charlson_med['DT_TM']).dt.date\n",
        "problem_charlson_med['DEATH_DATE'] = pd.to_datetime(problem_charlson_med['DEATH_DATE']).dt.date\n",
        "problem_charlson_med['death_year_label'] = problem_charlson_med.apply (lambda row: year_fun (row),axis=1)    \n",
        "problem_charlson_med['death_label'] = problem_charlson_med.apply (lambda row: death_fun (row),axis=1) "
      ]
    },
    {
      "cell_type": "code",
      "execution_count": 13,
      "metadata": {
        "gather": {
          "logged": 1677061949211
        },
        "jupyter": {
          "outputs_hidden": false,
          "source_hidden": false
        },
        "nteract": {
          "transient": {
            "deleting": false
          }
        }
      },
      "outputs": [],
      "source": [
        "# Save\n",
        "#problem_charlson_med.to_csv('problem_charlson_death_med.csv', index=False)"
      ]
    },
    {
      "cell_type": "markdown",
      "metadata": {
        "nteract": {
          "transient": {
            "deleting": false
          }
        }
      },
      "source": [
        "Med fuzzy"
      ]
    },
    {
      "cell_type": "code",
      "execution_count": 15,
      "metadata": {
        "gather": {
          "logged": 1677062011111
        },
        "jupyter": {
          "outputs_hidden": false,
          "source_hidden": false
        },
        "nteract": {
          "transient": {
            "deleting": false
          }
        }
      },
      "outputs": [],
      "source": [
        "# Import\n",
        "path = r'data/problem_charlson_score_med_fuzzy.csv'\n",
        "problem_charlson_score_med_fuzzy = pd.read_csv(path)"
      ]
    },
    {
      "cell_type": "code",
      "execution_count": null,
      "metadata": {
        "gather": {
          "logged": 1677062057661
        },
        "jupyter": {
          "outputs_hidden": false,
          "source_hidden": false
        },
        "nteract": {
          "transient": {
            "deleting": false
          }
        }
      },
      "outputs": [],
      "source": [
        "problem_charlson_med_fuzzy = pd.merge(problem_charlson_score_med_fuzzy, demographic_df[['SUBJECT', 'DEATH_DATE']], how='left')\n",
        "problem_charlson_med_fuzzy['DT_TM'] = pd.to_datetime(problem_charlson_med_fuzzy['DT_TM']).dt.date\n",
        "problem_charlson_med_fuzzy['DEATH_DATE'] = pd.to_datetime(problem_charlson_med_fuzzy['DEATH_DATE']).dt.date\n",
        "problem_charlson_med_fuzzy['death_year_label'] = problem_charlson_med_fuzzy.apply (lambda row: year_fun (row),axis=1)    \n",
        "problem_charlson_med_fuzzy['death_label'] = problem_charlson_med_fuzzy.apply (lambda row: death_fun (row),axis=1) "
      ]
    },
    {
      "cell_type": "code",
      "execution_count": 18,
      "metadata": {
        "gather": {
          "logged": 1677062092166
        },
        "jupyter": {
          "outputs_hidden": false,
          "source_hidden": false
        },
        "nteract": {
          "transient": {
            "deleting": false
          }
        }
      },
      "outputs": [],
      "source": [
        "# Save\n",
        "#problem_charlson_med_fuzzy.to_csv('problem_charlson_death_med_fuzzy.csv', index=False)"
      ]
    }
  ],
  "metadata": {
    "kernel_info": {
      "name": "python310-sdkv2"
    },
    "kernelspec": {
      "display_name": "Python 3.10 - SDK v2",
      "language": "python",
      "name": "python310-sdkv2"
    },
    "language_info": {
      "codemirror_mode": {
        "name": "ipython",
        "version": 3
      },
      "file_extension": ".py",
      "mimetype": "text/x-python",
      "name": "python",
      "nbconvert_exporter": "python",
      "pygments_lexer": "ipython3",
      "version": "3.10.11"
    },
    "microsoft": {
      "host": {
        "AzureML": {
          "notebookHasBeenCompleted": true
        }
      },
      "ms_spell_check": {
        "ms_spell_check_language": "en"
      }
    },
    "nteract": {
      "version": "nteract-front-end@1.0.0"
    }
  },
  "nbformat": 4,
  "nbformat_minor": 2
}
