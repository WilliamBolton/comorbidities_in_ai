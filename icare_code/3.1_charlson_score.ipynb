{
  "cells": [
    {
      "cell_type": "code",
      "execution_count": 1,
      "metadata": {
        "gather": {
          "logged": 1713787894637
        }
      },
      "outputs": [],
      "source": [
        "# Libraries\n",
        "import pandas as pd\n",
        "pd.set_option('display.max_columns', 40)\n",
        "pd.set_option('display.width', 2000)\n",
        "\n",
        "from IPython.core.interactiveshell import InteractiveShell\n",
        "InteractiveShell.ast_node_interactivity = \"all\""
      ]
    },
    {
      "cell_type": "code",
      "execution_count": 2,
      "metadata": {
        "gather": {
          "logged": 1713787904661
        },
        "jupyter": {
          "outputs_hidden": false,
          "source_hidden": false
        },
        "nteract": {
          "transient": {
            "deleting": false
          }
        }
      },
      "outputs": [],
      "source": [
        "# Import\n",
        "path = r'data/filtered_snomed_charlson_index.csv'\n",
        "filtered_snomed_charlson_index = pd.read_csv(path, dtype={'code': 'str'})"
      ]
    },
    {
      "cell_type": "markdown",
      "metadata": {
        "nteract": {
          "transient": {
            "deleting": false
          }
        }
      },
      "source": [
        "Normal problem dummies"
      ]
    },
    {
      "cell_type": "code",
      "execution_count": 3,
      "metadata": {
        "gather": {
          "logged": 1676499739880
        },
        "jupyter": {
          "outputs_hidden": false,
          "source_hidden": false
        },
        "nteract": {
          "transient": {
            "deleting": false
          }
        }
      },
      "outputs": [],
      "source": [
        "# Import\n",
        "path = r'data/final_problem_dummies.csv'\n",
        "final_problem_dummies = pd.read_csv(path)"
      ]
    },
    {
      "cell_type": "code",
      "execution_count": 5,
      "metadata": {
        "gather": {
          "logged": 1676499740437
        },
        "jupyter": {
          "outputs_hidden": false,
          "source_hidden": false
        },
        "nteract": {
          "transient": {
            "deleting": false
          }
        }
      },
      "outputs": [
        {
          "data": {
            "text/html": [
              "<div>\n",
              "<style scoped>\n",
              "    .dataframe tbody tr th:only-of-type {\n",
              "        vertical-align: middle;\n",
              "    }\n",
              "\n",
              "    .dataframe tbody tr th {\n",
              "        vertical-align: top;\n",
              "    }\n",
              "\n",
              "    .dataframe thead th {\n",
              "        text-align: right;\n",
              "    }\n",
              "</style>\n",
              "<table border=\"1\" class=\"dataframe\">\n",
              "  <thead>\n",
              "    <tr style=\"text-align: right;\">\n",
              "      <th></th>\n",
              "      <th>code</th>\n",
              "      <th>STR</th>\n",
              "      <th>comorbid_condition</th>\n",
              "      <th>weight</th>\n",
              "    </tr>\n",
              "  </thead>\n",
              "  <tbody>\n",
              "    <tr>\n",
              "      <th>0</th>\n",
              "      <td>22298006</td>\n",
              "      <td>Myocardial infarction</td>\n",
              "      <td>Myocardial Infarction</td>\n",
              "      <td>1</td>\n",
              "    </tr>\n",
              "    <tr>\n",
              "      <th>1</th>\n",
              "      <td>22298006</td>\n",
              "      <td>Myocardial infarction, NOS</td>\n",
              "      <td>Myocardial Infarction</td>\n",
              "      <td>1</td>\n",
              "    </tr>\n",
              "    <tr>\n",
              "      <th>2</th>\n",
              "      <td>22298006</td>\n",
              "      <td>Heart attack</td>\n",
              "      <td>Myocardial Infarction</td>\n",
              "      <td>1</td>\n",
              "    </tr>\n",
              "    <tr>\n",
              "      <th>3</th>\n",
              "      <td>22298006</td>\n",
              "      <td>Heart attack, NOS</td>\n",
              "      <td>Myocardial Infarction</td>\n",
              "      <td>1</td>\n",
              "    </tr>\n",
              "    <tr>\n",
              "      <th>4</th>\n",
              "      <td>22298006</td>\n",
              "      <td>Infarction of heart</td>\n",
              "      <td>Myocardial Infarction</td>\n",
              "      <td>1</td>\n",
              "    </tr>\n",
              "    <tr>\n",
              "      <th>...</th>\n",
              "      <td>...</td>\n",
              "      <td>...</td>\n",
              "      <td>...</td>\n",
              "      <td>...</td>\n",
              "    </tr>\n",
              "    <tr>\n",
              "      <th>657</th>\n",
              "      <td>86406008</td>\n",
              "      <td>HIV infection</td>\n",
              "      <td>HIV/AIDS</td>\n",
              "      <td>6</td>\n",
              "    </tr>\n",
              "    <tr>\n",
              "      <th>658</th>\n",
              "      <td>86406008</td>\n",
              "      <td>HIV - Human immunodeficiency virus infection</td>\n",
              "      <td>HIV/AIDS</td>\n",
              "      <td>6</td>\n",
              "    </tr>\n",
              "    <tr>\n",
              "      <th>659</th>\n",
              "      <td>86406008</td>\n",
              "      <td>Human immunodeficiency virus infection</td>\n",
              "      <td>HIV/AIDS</td>\n",
              "      <td>6</td>\n",
              "    </tr>\n",
              "    <tr>\n",
              "      <th>660</th>\n",
              "      <td>86406008</td>\n",
              "      <td>Human immunodeficiency virus infection, NOS</td>\n",
              "      <td>HIV/AIDS</td>\n",
              "      <td>6</td>\n",
              "    </tr>\n",
              "    <tr>\n",
              "      <th>661</th>\n",
              "      <td>86406008</td>\n",
              "      <td>Human immunodeficiency virus infection (disorder)</td>\n",
              "      <td>HIV/AIDS</td>\n",
              "      <td>6</td>\n",
              "    </tr>\n",
              "  </tbody>\n",
              "</table>\n",
              "<p>662 rows × 4 columns</p>\n",
              "</div>"
            ],
            "text/plain": [
              "         code                                                STR     comorbid_condition  weight\n",
              "0    22298006                              Myocardial infarction  Myocardial Infarction       1\n",
              "1    22298006                         Myocardial infarction, NOS  Myocardial Infarction       1\n",
              "2    22298006                                       Heart attack  Myocardial Infarction       1\n",
              "3    22298006                                  Heart attack, NOS  Myocardial Infarction       1\n",
              "4    22298006                                Infarction of heart  Myocardial Infarction       1\n",
              "..        ...                                                ...                    ...     ...\n",
              "657  86406008                                      HIV infection               HIV/AIDS       6\n",
              "658  86406008       HIV - Human immunodeficiency virus infection               HIV/AIDS       6\n",
              "659  86406008             Human immunodeficiency virus infection               HIV/AIDS       6\n",
              "660  86406008        Human immunodeficiency virus infection, NOS               HIV/AIDS       6\n",
              "661  86406008  Human immunodeficiency virus infection (disorder)               HIV/AIDS       6\n",
              "\n",
              "[662 rows x 4 columns]"
            ]
          },
          "execution_count": 5,
          "metadata": {},
          "output_type": "execute_result"
        }
      ],
      "source": [
        "filtered_snomed_charlson_index"
      ]
    },
    {
      "cell_type": "code",
      "execution_count": 6,
      "metadata": {
        "gather": {
          "logged": 1676499740610
        },
        "jupyter": {
          "outputs_hidden": false,
          "source_hidden": false
        },
        "nteract": {
          "transient": {
            "deleting": false
          }
        }
      },
      "outputs": [],
      "source": [
        "# Get lists\n",
        "code_list = filtered_snomed_charlson_index['code'].unique().tolist()\n",
        "other_list = ['new_subject', 'SUBJECT', 'DT_TM']\n",
        "code_list = other_list + code_list"
      ]
    },
    {
      "cell_type": "code",
      "execution_count": 7,
      "metadata": {
        "gather": {
          "logged": 1676499740776
        },
        "jupyter": {
          "outputs_hidden": false,
          "source_hidden": false
        },
        "nteract": {
          "transient": {
            "deleting": false
          }
        }
      },
      "outputs": [],
      "source": [
        "# Remove '420270002', '51292008' as not in axis \n",
        "code_list.remove('420270002')\n",
        "code_list.remove('51292008')"
      ]
    },
    {
      "cell_type": "code",
      "execution_count": null,
      "metadata": {
        "gather": {
          "logged": 1678115091268
        },
        "jupyter": {
          "outputs_hidden": false,
          "source_hidden": false
        },
        "nteract": {
          "transient": {
            "deleting": false
          }
        }
      },
      "outputs": [],
      "source": [
        "# Remove problem prefix from column names\n",
        "final_problem_dummies.columns = final_problem_dummies.columns.str.removeprefix('PROBLEM_')"
      ]
    },
    {
      "cell_type": "code",
      "execution_count": 9,
      "metadata": {
        "gather": {
          "logged": 1676499741108
        },
        "jupyter": {
          "outputs_hidden": false,
          "source_hidden": false
        },
        "nteract": {
          "transient": {
            "deleting": false
          }
        }
      },
      "outputs": [],
      "source": [
        "# Filter\n",
        "final_problem_dummies = final_problem_dummies[code_list]"
      ]
    },
    {
      "cell_type": "code",
      "execution_count": null,
      "metadata": {
        "jupyter": {
          "outputs_hidden": false,
          "source_hidden": false
        },
        "nteract": {
          "transient": {
            "deleting": false
          }
        }
      },
      "outputs": [],
      "source": [
        "# Create score for each patient! \n",
        "final_problem_dummies_2 = final_problem_dummies.copy()\n",
        "for column in final_problem_dummies_2.iloc[:,3:].columns:\n",
        "    # Replace values with weights\n",
        "    final_problem_dummies_2.loc[final_problem_dummies_2[column] == 1, column] = filtered_snomed_charlson_index[filtered_snomed_charlson_index['code'] == column]['weight'].iloc[0]\n",
        "final_problem_dummies_2['charlson_score'] = final_problem_dummies_2.iloc[:,3:].sum(axis=1)\n",
        "final_problem_dummies_2 = final_problem_dummies_2[['new_subject', 'SUBJECT', 'DT_TM', 'charlson_score']]"
      ]
    },
    {
      "cell_type": "code",
      "execution_count": 29,
      "metadata": {
        "gather": {
          "logged": 1676500603788
        },
        "jupyter": {
          "outputs_hidden": false,
          "source_hidden": false
        },
        "nteract": {
          "transient": {
            "deleting": false
          }
        }
      },
      "outputs": [
        {
          "data": {
            "text/plain": [
              "19.0"
            ]
          },
          "execution_count": 29,
          "metadata": {},
          "output_type": "execute_result"
        },
        {
          "data": {
            "text/plain": [
              "0.0"
            ]
          },
          "execution_count": 29,
          "metadata": {},
          "output_type": "execute_result"
        },
        {
          "data": {
            "text/plain": [
              "0.5305022226425802"
            ]
          },
          "execution_count": 29,
          "metadata": {},
          "output_type": "execute_result"
        },
        {
          "data": {
            "text/plain": [
              "0    0.0\n",
              "Name: charlson_score, dtype: float64"
            ]
          },
          "execution_count": 29,
          "metadata": {},
          "output_type": "execute_result"
        }
      ],
      "source": [
        "final_problem_dummies_2.charlson_score.max()\n",
        "final_problem_dummies_2.charlson_score.min()\n",
        "final_problem_dummies_2.charlson_score.mean()\n",
        "final_problem_dummies_2.charlson_score.mode()"
      ]
    },
    {
      "cell_type": "code",
      "execution_count": 31,
      "metadata": {
        "gather": {
          "logged": 1676500930321
        },
        "jupyter": {
          "outputs_hidden": false,
          "source_hidden": false
        },
        "nteract": {
          "transient": {
            "deleting": false
          }
        }
      },
      "outputs": [],
      "source": [
        "# save\n",
        "#final_problem_dummies_2.to_csv('problem_charlson_score.csv', index=False)"
      ]
    },
    {
      "cell_type": "markdown",
      "metadata": {
        "nteract": {
          "transient": {
            "deleting": false
          }
        }
      },
      "source": [
        "Problem dummies med"
      ]
    },
    {
      "cell_type": "code",
      "execution_count": 3,
      "metadata": {
        "gather": {
          "logged": 1677060431670
        },
        "jupyter": {
          "outputs_hidden": false,
          "source_hidden": false
        },
        "nteract": {
          "transient": {
            "deleting": false
          }
        }
      },
      "outputs": [],
      "source": [
        "# Import\n",
        "path = r'data/final_problem_dummies_med.csv'\n",
        "final_problem_dummies_med = pd.read_csv(path)"
      ]
    },
    {
      "cell_type": "code",
      "execution_count": 17,
      "metadata": {
        "gather": {
          "logged": 1677061069269
        },
        "jupyter": {
          "outputs_hidden": false,
          "source_hidden": false
        },
        "nteract": {
          "transient": {
            "deleting": false
          }
        }
      },
      "outputs": [],
      "source": [
        "# Get lists\n",
        "code_list = filtered_snomed_charlson_index['code'].unique().tolist()\n",
        "other_list = ['new_subject', 'SUBJECT', 'DT_TM']\n",
        "code_list = other_list + code_list"
      ]
    },
    {
      "cell_type": "code",
      "execution_count": 6,
      "metadata": {
        "gather": {
          "logged": 1677060597664
        },
        "jupyter": {
          "outputs_hidden": false,
          "source_hidden": false
        },
        "nteract": {
          "transient": {
            "deleting": false
          }
        }
      },
      "outputs": [],
      "source": [
        "# Remove '420270002', '51292008' as not in axis \n",
        "code_list.remove('420270002')\n",
        "code_list.remove('51292008')"
      ]
    },
    {
      "cell_type": "code",
      "execution_count": 7,
      "metadata": {
        "gather": {
          "logged": 1677060619145
        },
        "jupyter": {
          "outputs_hidden": false,
          "source_hidden": false
        },
        "nteract": {
          "transient": {
            "deleting": false
          }
        }
      },
      "outputs": [],
      "source": [
        "# Remove problem prefix from column names\n",
        "final_problem_dummies_med.columns = final_problem_dummies_med.columns.str.removeprefix('PROBLEM_')"
      ]
    },
    {
      "cell_type": "code",
      "execution_count": 8,
      "metadata": {
        "gather": {
          "logged": 1677060671054
        },
        "jupyter": {
          "outputs_hidden": false,
          "source_hidden": false
        },
        "nteract": {
          "transient": {
            "deleting": false
          }
        }
      },
      "outputs": [],
      "source": [
        "# Filter\n",
        "final_problem_dummies_med = final_problem_dummies_med[code_list]"
      ]
    },
    {
      "cell_type": "code",
      "execution_count": 10,
      "metadata": {
        "gather": {
          "logged": 1677060747265
        },
        "jupyter": {
          "outputs_hidden": false,
          "source_hidden": false
        },
        "nteract": {
          "transient": {
            "deleting": false
          }
        }
      },
      "outputs": [],
      "source": [
        "# Create score for each patient!\n",
        "final_problem_dummies_med_2 = final_problem_dummies_med.copy()\n",
        "for column in final_problem_dummies_med_2.iloc[:,3:].columns:\n",
        "    # Replace values with weights\n",
        "    final_problem_dummies_med_2.loc[final_problem_dummies_med_2[column] == 1, column] = filtered_snomed_charlson_index[filtered_snomed_charlson_index['code'] == column]['weight'].iloc[0]\n",
        "final_problem_dummies_med_2['charlson_score'] = final_problem_dummies_med_2.iloc[:,3:].sum(axis=1)\n",
        "final_problem_dummies_med_2 = final_problem_dummies_med_2[['new_subject', 'SUBJECT', 'DT_TM', 'charlson_score']]"
      ]
    },
    {
      "cell_type": "code",
      "execution_count": 16,
      "metadata": {
        "gather": {
          "logged": 1677060983087
        },
        "jupyter": {
          "outputs_hidden": false,
          "source_hidden": false
        },
        "nteract": {
          "transient": {
            "deleting": false
          }
        }
      },
      "outputs": [],
      "source": [
        "# save\n",
        "#final_problem_dummies_med_2.to_csv('problem_charlson_score_med.csv', index=False)"
      ]
    },
    {
      "cell_type": "markdown",
      "metadata": {
        "nteract": {
          "transient": {
            "deleting": false
          }
        }
      },
      "source": [
        "Problem dummies med fuzzy"
      ]
    },
    {
      "cell_type": "code",
      "execution_count": 18,
      "metadata": {
        "gather": {
          "logged": 1677061113870
        },
        "jupyter": {
          "outputs_hidden": false,
          "source_hidden": false
        },
        "nteract": {
          "transient": {
            "deleting": false
          }
        }
      },
      "outputs": [],
      "source": [
        "# Import\n",
        "path = r'data/final_problem_dummies_med_fuzzy.csv'\n",
        "final_problem_dummies_med_fuzzy = pd.read_csv(path)"
      ]
    },
    {
      "cell_type": "code",
      "execution_count": 19,
      "metadata": {
        "gather": {
          "logged": 1677061318880
        },
        "jupyter": {
          "outputs_hidden": false,
          "source_hidden": false
        },
        "nteract": {
          "transient": {
            "deleting": false
          }
        }
      },
      "outputs": [],
      "source": [
        "# Get lists\n",
        "code_list = filtered_snomed_charlson_index['code'].unique().tolist()\n",
        "other_list = ['new_subject', 'SUBJECT', 'DT_TM']\n",
        "code_list = other_list + code_list\n",
        "# Remove '420270002', '51292008' as not in axis \n",
        "code_list.remove('420270002')\n",
        "code_list.remove('51292008')\n",
        "# Remove problem prefix from column names\n",
        "final_problem_dummies_med_fuzzy.columns = final_problem_dummies_med_fuzzy.columns.str.removeprefix('PROBLEM_')\n",
        "# Filter\n",
        "final_problem_dummies_med_fuzzy = final_problem_dummies_med_fuzzy[code_list]\n",
        "# Create score for each patient!\n",
        "final_problem_dummies_med_fuzzy_2 = final_problem_dummies_med_fuzzy.copy()\n",
        "for column in final_problem_dummies_med_fuzzy_2.iloc[:,3:].columns:\n",
        "    # Replace values with weights\n",
        "    final_problem_dummies_med_fuzzy_2.loc[final_problem_dummies_med_fuzzy_2[column] == 1, column] = filtered_snomed_charlson_index[filtered_snomed_charlson_index['code'] == column]['weight'].iloc[0]\n",
        "final_problem_dummies_med_fuzzy_2['charlson_score'] = final_problem_dummies_med_fuzzy_2.iloc[:,3:].sum(axis=1)\n",
        "final_problem_dummies_med_fuzzy_2 = final_problem_dummies_med_fuzzy_2[['new_subject', 'SUBJECT', 'DT_TM', 'charlson_score']]"
      ]
    },
    {
      "cell_type": "code",
      "execution_count": 23,
      "metadata": {
        "gather": {
          "logged": 1677061367009
        },
        "jupyter": {
          "outputs_hidden": false,
          "source_hidden": false
        },
        "nteract": {
          "transient": {
            "deleting": false
          }
        }
      },
      "outputs": [],
      "source": [
        "# save\n",
        "#final_problem_dummies_med_fuzzy_2.to_csv('problem_charlson_score_med_fuzzy.csv', index=False)"
      ]
    }
  ],
  "metadata": {
    "kernel_info": {
      "name": "python310-sdkv2"
    },
    "kernelspec": {
      "display_name": "Python 3.10 - SDK v2",
      "language": "python",
      "name": "python310-sdkv2"
    },
    "language_info": {
      "codemirror_mode": {
        "name": "ipython",
        "version": 3
      },
      "file_extension": ".py",
      "mimetype": "text/x-python",
      "name": "python",
      "nbconvert_exporter": "python",
      "pygments_lexer": "ipython3",
      "version": "3.10.11"
    },
    "microsoft": {
      "host": {
        "AzureML": {
          "notebookHasBeenCompleted": true
        }
      },
      "ms_spell_check": {
        "ms_spell_check_language": "en"
      }
    },
    "nteract": {
      "version": "nteract-front-end@1.0.0"
    }
  },
  "nbformat": 4,
  "nbformat_minor": 2
}
