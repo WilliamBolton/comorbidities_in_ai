{
  "cells": [
    {
      "cell_type": "code",
      "execution_count": 1,
      "metadata": {
        "gather": {
          "logged": 1693907762383
        }
      },
      "outputs": [],
      "source": [
        "# Libraries\n",
        "import numpy as np\n",
        "from numpy import loadtxt\n",
        "import csv\n",
        "import pandas as pd\n",
        "pd.set_option('display.max_columns', 40)\n",
        "pd.set_option('display.width', 2000)\n",
        "import matplotlib as mpl\n",
        "import matplotlib.pyplot as plt\n",
        "import networkx as nx\n",
        "import sklearn\n",
        "import random\n",
        "\n",
        "from sklearn.linear_model import LogisticRegression\n",
        "\n",
        "from IPython.core.interactiveshell import InteractiveShell\n",
        "InteractiveShell.ast_node_interactivity = \"all\""
      ]
    },
    {
      "cell_type": "code",
      "execution_count": 2,
      "metadata": {
        "gather": {
          "logged": 1693907841129
        },
        "jupyter": {
          "outputs_hidden": false,
          "source_hidden": false
        },
        "nteract": {
          "transient": {
            "deleting": false
          }
        }
      },
      "outputs": [],
      "source": [
        "# Import\n",
        "path = r'data/problem_charlson_death.csv'\n",
        "problem_charlson_death = pd.read_csv(path)\n",
        "# Import\n",
        "path = r'data/trimmed_patient_embedding_128d.csv'\n",
        "patients_embeddings = pd.read_csv(path, index_col=0)\n",
        "# Import\n",
        "path = r'data/trimmed_patient_embedding_128d_random.csv'\n",
        "patients_embeddings_random = pd.read_csv(path, index_col=0)\n",
        "\n",
        "# Fill in nan\n",
        "problem_charlson_death.death_year_label.fillna(0, inplace=True)\n",
        "problem_charlson_death.death_label.fillna(0, inplace=True)\n",
        "# Merge\n",
        "patients_embeddings = pd.concat([problem_charlson_death[['death_year_label', 'death_label']], patients_embeddings], axis=1)\n",
        "patients_embeddings_random = pd.concat([problem_charlson_death[['death_year_label', 'death_label']], patients_embeddings_random], axis=1)\n",
        "# Drop na\n",
        "patients_embeddings = patients_embeddings.dropna()\n",
        "# Import\n",
        "path = r'data/final_problem_dummies.csv'\n",
        "problem_dummies = pd.read_csv(path)\n",
        "# Drop columns\n",
        "problem_dummies.drop(columns=['SUBJECT', 'PROBLEM_DT_TM'], inplace=True)\n",
        "# Remove prefix\n",
        "problem_dummies.columns = problem_dummies.columns.str.strip('PROBLEM_')\n",
        "# Set index\n",
        "problem_dummies.set_index('new_subject', inplace=True)\n",
        "# Merge\n",
        "problem_dummies = pd.concat([problem_charlson_death[['death_year_label', 'death_label']], problem_dummies], axis=1)\n",
        "# Import\n",
        "path = r'data/final_trimmed_snomed_embedding_128d.csv'\n",
        "snomed_embeddings = pd.read_csv(path, index_col=0)\n",
        "# Get list \n",
        "snomed_embeddings.index = snomed_embeddings.index.astype(str)\n",
        "snomed_list = snomed_embeddings.index.tolist()\n",
        "problem_dummies_list = problem_dummies.columns.tolist()\n",
        "overlap_list = list(set(snomed_list) & set(problem_dummies_list))\n",
        "overlap_list = ['death_year_label', 'death_label'] + overlap_list\n",
        "# Get index / patient list\n",
        "patients_embeddings_list = patients_embeddings.index.tolist()\n",
        "# Filter\n",
        "problem_dummies = problem_dummies[overlap_list]\n",
        "problem_dummies = problem_dummies.loc[patients_embeddings_list]\n",
        "patients_embeddings_random = patients_embeddings_random.loc[patients_embeddings_list]\n",
        "# Work out count for problems\n",
        "problem_sum = pd.DataFrame(problem_dummies.iloc[:,2:].sum(axis=0), columns=['Count']).sort_values(by=['Count'], ascending=False)"
      ]
    },
    {
      "cell_type": "code",
      "execution_count": null,
      "metadata": {
        "gather": {
          "logged": 1686148088974
        },
        "jupyter": {
          "outputs_hidden": false,
          "source_hidden": false
        },
        "nteract": {
          "transient": {
            "deleting": false
          }
        }
      },
      "outputs": [],
      "source": [
        "# Save\n",
        "#problem_dummies.to_csv('slim_problem_dummies_death.csv')"
      ]
    }
  ],
  "metadata": {
    "kernel_info": {
      "name": "python310-sdkv2"
    },
    "kernelspec": {
      "display_name": "Python 3.10 - SDK v2",
      "language": "python",
      "name": "python310-sdkv2"
    },
    "language_info": {
      "codemirror_mode": {
        "name": "ipython",
        "version": 3
      },
      "file_extension": ".py",
      "mimetype": "text/x-python",
      "name": "python",
      "nbconvert_exporter": "python",
      "pygments_lexer": "ipython3",
      "version": "3.10.11"
    },
    "microsoft": {
      "host": {
        "AzureML": {
          "notebookHasBeenCompleted": true
        }
      },
      "ms_spell_check": {
        "ms_spell_check_language": "en"
      }
    },
    "nteract": {
      "version": "nteract-front-end@1.0.0"
    }
  },
  "nbformat": 4,
  "nbformat_minor": 2
}
