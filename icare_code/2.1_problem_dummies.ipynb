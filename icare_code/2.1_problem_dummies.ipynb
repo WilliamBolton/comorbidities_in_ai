{
  "cells": [
    {
      "cell_type": "code",
      "execution_count": null,
      "metadata": {
        "gather": {
          "logged": 1675791385955
        }
      },
      "outputs": [],
      "source": [
        "# Libraries\n",
        "import pandas as pd\n",
        "pd.set_option('display.max_columns', 40)\n",
        "pd.set_option('display.width', 2000)\n",
        "\n",
        "from IPython.core.interactiveshell import InteractiveShell\n",
        "InteractiveShell.ast_node_interactivity = \"all\"\n",
        "pd.options.mode.chained_assignment = None\n",
        "%pip install \\\n",
        "--trusted-host 192.168.210.244 \\\n",
        "--index-url http://192.168.210.244:8081/repository/pypi/simple/ \\\n",
        "snowflake-connector-python"
      ]
    },
    {
      "cell_type": "code",
      "execution_count": 2,
      "metadata": {
        "gather": {
          "logged": 1675791408465
        },
        "jupyter": {
          "outputs_hidden": false,
          "source_hidden": false
        },
        "nteract": {
          "transient": {
            "deleting": false
          }
        }
      },
      "outputs": [
        {
          "name": "stderr",
          "output_type": "stream",
          "text": [
            "/anaconda/envs/azureml_py310_sdkv2/lib/python3.10/site-packages/snowflake/connector/options.py:96: UserWarning: You have an incompatible version of 'pyarrow' installed (6.0.0), please install a version that adheres to: 'pyarrow<8.1.0,>=8.0.0; extra == \"pandas\"'\n",
            "  warn_incompatible_dep(\n"
          ]
        },
        {
          "name": "stdout",
          "output_type": "stream",
          "text": [
            "Initiating login request with your identity provider. A browser window should have opened for you to complete the login. If you can't see it, check existing browser windows, or your OS settings. Press CTRL+C to abort and try again...\n",
            "We were unable to open a browser window for you, please open the following url manually then paste the URL you are redirected to into the terminal.\n",
            "URL: https://login.microsoftonline.com/be00e2c6-806c-45f8-84c3-3fc99f64b8d3/saml2?SAMLRequest=pZPRcuIgFIZfJcNeJyHEqmGMHavbWTutdart7nqH5ESpCaRAjO7TL8Y6071ob%2FaOge%2FAx%2FlhcH0oC28P2gglUxQFGHkgucqE3KToeXnr95FnLJMZK5SEFB3BoOvhwLCyqOiotlv5BG81GOu5jaSh7UKKai2pYkYYKlkJhlpOF6OHe0oCTCutrOKqQB9Kvq5gxoC2zvBSkhnh9LbWVjQMm6YJmjhQehMSjHGIk9BRJ%2BTbhT%2B4O33CRyHunHhHOHz%2B7nYj5LkFX2mtz5ChP5bLuT9%2FXCyRN7qojpU0dQl6AXovODw%2F3Z8FjDOodCdJMAmk0nbrQ61VBUGlxZ5ZKITcBUaqJi%2FYDrgqq9q6QwI3CnPIwkJthOvDdJKiaiey2dvtrx7Zfp8dyGPMzHFl8eqmuXtZrK%2F%2BTO7GPyPy27zmD6%2FFruHIe7kETU5BT42pYSpP8Vo3hUnsY%2BLj3jLq0bhLSS%2FoJGSFvImLV0hm28rLHVqPoBRcK6Nyq6QTh9ZyDRgD4V2%2Fj7vc71zlfb%2Ff4bEf5zxJ8m5n3c%2Fi8BQ6QeeHRFsRPfzP9gzCj5u9P9GZS206matC8KN3q3TJ7OehRkHUzojMz1uUQslEMcoyDca4cItCNWMNziNFVteAwuH51H%2F%2FwvAv&RelayState=41623\n"
          ]
        },
        {
          "data": {
            "text/plain": [
              "<snowflake.connector.cursor.SnowflakeCursor at 0x7ff56c32ec80>"
            ]
          },
          "execution_count": 2,
          "metadata": {},
          "output_type": "execute_result"
        },
        {
          "name": "stdout",
          "output_type": "stream",
          "text": [
            "('7.4.4', 'ICHT_RG_COVOAM_22016_PROD', 'ICHT_WH_COVOAM_22016_PROD')\n"
          ]
        },
        {
          "data": {
            "text/plain": [
              "True"
            ]
          },
          "execution_count": 2,
          "metadata": {},
          "output_type": "execute_result"
        }
      ],
      "source": [
        "import json, snowflake.connector\n",
        "\n",
        "# establish the connection to snowflake\n",
        "ctx = snowflake.connector.connect( \n",
        "    **json.load(open('/opt/ich/python-snowflake-defaults.json')))\n",
        "    \n",
        "# verify and test if connection is working\n",
        "try: \n",
        "    cs = ctx.cursor() \n",
        "    cs.execute('SELECT current_version(), current_role(), current_warehouse()')\n",
        "    print(cs.fetchone())\n",
        "finally: \n",
        "    cs.close()"
      ]
    },
    {
      "cell_type": "markdown",
      "metadata": {
        "nteract": {
          "transient": {
            "deleting": false
          }
        }
      },
      "source": [
        "## Data"
      ]
    },
    {
      "cell_type": "code",
      "execution_count": 5,
      "metadata": {
        "gather": {
          "logged": 1675769208189
        },
        "jupyter": {
          "outputs_hidden": false,
          "source_hidden": false
        },
        "nteract": {
          "transient": {
            "deleting": false
          }
        }
      },
      "outputs": [],
      "source": [
        "# Import \n",
        "query = '''\n",
        "SELECT * from ICHT_PROD.ICHT_COVID.PROBLEM\n",
        "'''\n",
        "cur = ctx.cursor().execute(query)\n",
        "problem_df = pd.DataFrame.from_records(iter(cur), columns=[x[0] for x in cur.description])"
      ]
    },
    {
      "cell_type": "code",
      "execution_count": 6,
      "metadata": {
        "gather": {
          "logged": 1675769209983
        },
        "jupyter": {
          "outputs_hidden": false,
          "source_hidden": false
        },
        "nteract": {
          "transient": {
            "deleting": false
          }
        }
      },
      "outputs": [],
      "source": [
        "path = r'data/international_reciprocal_snomed_distance.csv'\n",
        "snomed_distance = pd.read_csv(path, index_col=0)"
      ]
    },
    {
      "cell_type": "markdown",
      "metadata": {
        "nteract": {
          "transient": {
            "deleting": false
          }
        }
      },
      "source": [
        "## Analysis"
      ]
    },
    {
      "cell_type": "code",
      "execution_count": 7,
      "metadata": {
        "gather": {
          "logged": 1675769214269
        },
        "jupyter": {
          "outputs_hidden": false,
          "source_hidden": false
        },
        "nteract": {
          "transient": {
            "deleting": false
          }
        }
      },
      "outputs": [],
      "source": [
        "# Get list of snomed codes \n",
        "snomed_list = snomed_distance.columns.to_list()"
      ]
    },
    {
      "cell_type": "code",
      "execution_count": 9,
      "metadata": {
        "gather": {
          "logged": 1675769219136
        },
        "jupyter": {
          "outputs_hidden": false,
          "source_hidden": false
        },
        "nteract": {
          "transient": {
            "deleting": false
          }
        }
      },
      "outputs": [],
      "source": [
        "# Filter columns\n",
        "problem_df = problem_df[['SUBJECT', 'PROBLEM', 'PROBLEM_DT_TM']]"
      ]
    },
    {
      "cell_type": "code",
      "execution_count": 10,
      "metadata": {
        "gather": {
          "logged": 1675769220382
        },
        "jupyter": {
          "outputs_hidden": false,
          "source_hidden": false
        },
        "nteract": {
          "transient": {
            "deleting": false
          }
        }
      },
      "outputs": [],
      "source": [
        "# Filter for snomed codes in list\n",
        "problem_df = problem_df[problem_df['PROBLEM'].isin(snomed_list)]"
      ]
    },
    {
      "cell_type": "code",
      "execution_count": 32,
      "metadata": {
        "gather": {
          "logged": 1675770176105
        },
        "jupyter": {
          "outputs_hidden": false,
          "source_hidden": false
        },
        "nteract": {
          "transient": {
            "deleting": false
          }
        }
      },
      "outputs": [],
      "source": [
        "# Get list of subjects\n",
        "subject_list = problem_df.SUBJECT.unique().tolist()"
      ]
    },
    {
      "cell_type": "code",
      "execution_count": null,
      "metadata": {
        "gather": {
          "logged": 1675771862528
        },
        "jupyter": {
          "outputs_hidden": false,
          "source_hidden": false
        },
        "nteract": {
          "transient": {
            "deleting": false
          }
        }
      },
      "outputs": [],
      "source": [
        "new_df = pd.DataFrame(columns=['new_subject', 'SUBJECT', 'PROBLEM'])\n",
        "n = -1\n",
        "for subject in subject_list:\n",
        "    temp_df = problem_df[problem_df['SUBJECT'] == subject]\n",
        "    temp_df.sort_values(by='PROBLEM_DT_TM', inplace = True)\n",
        "    for x in temp_df['PROBLEM_DT_TM'].unique():\n",
        "        n += 1\n",
        "        temp_df2 = temp_df[temp_df['PROBLEM_DT_TM'] <= x]\n",
        "        temp_df2['new_subject'] = n\n",
        "        new_df = pd.concat([new_df, temp_df2], ignore_index=True)"
      ]
    },
    {
      "cell_type": "code",
      "execution_count": null,
      "metadata": {},
      "outputs": [],
      "source": [
        "final_dummies = pd.DataFrame()\n",
        "for n in range(0, 95157):\n",
        "    temp_df = new_df[new_df['new_subject'] == n]\n",
        "        \n",
        "    temp_dummies = pd.get_dummies(temp_df, columns=['PROBLEM'])\n",
        "\n",
        "    temp_df_2 = temp_dummies.copy()\n",
        "    temp_df_2 = pd.DataFrame(temp_dummies.iloc[-1,:3]).transpose()\n",
        "    temp_df_2.reset_index(inplace=True, drop=True)\n",
        "\n",
        "    temp_dummies2 = pd.DataFrame(temp_dummies.iloc[:,3:].sum()).transpose()\n",
        "\n",
        "    temp_df_2 = temp_df_2.join(temp_dummies2)\n",
        "    \n",
        "    final_dummies = pd.concat([final_dummies, temp_df_2], ignore_index=True)\n",
        "\n",
        "    if (n / 1000).is_integer():\n",
        "        print(n)\n",
        "        # Load\n",
        "        path = r'working_problem_dummies.csv'\n",
        "        working_dummies = pd.read_csv(path)\n",
        "        # Concat\n",
        "        working_dummies = pd.concat([working_dummies, final_dummies], ignore_index=True)\n",
        "        # Save\n",
        "        #working_dummies.to_csv('working_problem_dummies.csv', index=False)\n",
        "        # Delete\n",
        "        del working_dummies\n",
        "        del final_dummies\n",
        "        final_dummies = pd.DataFrame()\n",
        "        print('new 1000')"
      ]
    },
    {
      "cell_type": "code",
      "execution_count": null,
      "metadata": {},
      "outputs": [],
      "source": [
        "# Load\n",
        "path = r'working_problem_dummies.csv'\n",
        "working_dummies = pd.read_csv(path)\n",
        "# Concat\n",
        "working_dummies_2 = pd.concat([working_dummies, final_dummies], ignore_index=True)\n",
        "# Save\n",
        "#working_dummies_2.to_csv('final_working_problem_dummies.csv', index=False)"
      ]
    },
    {
      "cell_type": "code",
      "execution_count": null,
      "metadata": {},
      "outputs": [],
      "source": [
        "# Fill na ith 0\n",
        "working_dummies_2.fillna(0, inplace=True)"
      ]
    },
    {
      "cell_type": "code",
      "execution_count": null,
      "metadata": {},
      "outputs": [],
      "source": [
        "# Set max value to 1\n",
        "problem_dummies_3 = working_dummies_2.iloc[:,3:]\n",
        "problem_dummies_3.where(problem_dummies_3 <=1, 1, inplace=True)\n",
        "problem_dummies_4 = working_dummies_2.iloc[:,:3].join(problem_dummies_3)"
      ]
    },
    {
      "cell_type": "code",
      "execution_count": null,
      "metadata": {},
      "outputs": [],
      "source": [
        "# Save\n",
        "#problem_dummies_4.to_csv('final_problem_dummies.csv', index=False)"
      ]
    }
  ],
  "metadata": {
    "kernel_info": {
      "name": "python310-sdkv2"
    },
    "kernelspec": {
      "display_name": "Python 3.10 - SDK v2",
      "language": "python",
      "name": "python310-sdkv2"
    },
    "language_info": {
      "codemirror_mode": {
        "name": "ipython",
        "version": 3
      },
      "file_extension": ".py",
      "mimetype": "text/x-python",
      "name": "python",
      "nbconvert_exporter": "python",
      "pygments_lexer": "ipython3",
      "version": "3.10.11"
    },
    "microsoft": {
      "host": {
        "AzureML": {
          "notebookHasBeenCompleted": true
        }
      },
      "ms_spell_check": {
        "ms_spell_check_language": "en"
      }
    },
    "nteract": {
      "version": "nteract-front-end@1.0.0"
    }
  },
  "nbformat": 4,
  "nbformat_minor": 2
}
