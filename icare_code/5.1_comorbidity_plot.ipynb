{
  "cells": [
    {
      "cell_type": "code",
      "execution_count": 1,
      "metadata": {
        "gather": {
          "logged": 1700430399914
        }
      },
      "outputs": [],
      "source": [
        "# Libraries\n",
        "import pandas as pd\n",
        "pd.set_option('display.max_columns', 40)\n",
        "pd.set_option('display.width', 2000)\n",
        "import matplotlib as mpl\n",
        "import matplotlib.pyplot as plt\n",
        "\n",
        "from IPython.core.interactiveshell import InteractiveShell\n",
        "InteractiveShell.ast_node_interactivity = \"all\""
      ]
    },
    {
      "cell_type": "code",
      "execution_count": 2,
      "metadata": {
        "gather": {
          "logged": 1700430432585
        },
        "jupyter": {
          "outputs_hidden": false,
          "source_hidden": false
        },
        "nteract": {
          "transient": {
            "deleting": false
          }
        }
      },
      "outputs": [],
      "source": [
        "# Import\n",
        "path = r'data/slim_problem_dummies_death.csv'\n",
        "slim_problem_dummies_death = pd.read_csv(path, index_col=0)"
      ]
    },
    {
      "cell_type": "code",
      "execution_count": 46,
      "metadata": {
        "gather": {
          "logged": 1700435346630
        },
        "jupyter": {
          "outputs_hidden": false,
          "source_hidden": false
        },
        "nteract": {
          "transient": {
            "deleting": false
          }
        }
      },
      "outputs": [],
      "source": [
        "# Work out count for problems\n",
        "problem_sum = pd.DataFrame(slim_problem_dummies_death.iloc[:,2:].sum(axis=0), columns=['Count']).sort_values(by=['Count'], ascending=False)"
      ]
    },
    {
      "cell_type": "code",
      "execution_count": 47,
      "metadata": {
        "gather": {
          "logged": 1700435363095
        },
        "jupyter": {
          "outputs_hidden": false,
          "source_hidden": false
        },
        "nteract": {
          "transient": {
            "deleting": false
          }
        }
      },
      "outputs": [
        {
          "data": {
            "text/plain": [
              "Count    103.115236\n",
              "dtype: float64"
            ]
          },
          "execution_count": 47,
          "metadata": {},
          "output_type": "execute_result"
        },
        {
          "data": {
            "text/plain": [
              "Count    627.002427\n",
              "dtype: float64"
            ]
          },
          "execution_count": 47,
          "metadata": {},
          "output_type": "execute_result"
        }
      ],
      "source": [
        "problem_sum.mean()\n",
        "problem_sum.std()"
      ]
    },
    {
      "cell_type": "code",
      "execution_count": 23,
      "metadata": {
        "gather": {
          "logged": 1700431266793
        },
        "jupyter": {
          "outputs_hidden": false,
          "source_hidden": false
        },
        "nteract": {
          "transient": {
            "deleting": false
          }
        }
      },
      "outputs": [],
      "source": [
        "# Format\n",
        "problem_sum = problem_sum[problem_sum['Count'] >= 5]\n",
        "people_sum = pd.DataFrame(slim_problem_dummies_death.iloc[:,2:].sum(axis=1), columns=['Count']).sort_values(by=['Count'], ascending=False)\n",
        "people_sum = pd.DataFrame(people_sum.value_counts().reset_index())\n",
        "people_sum.columns = ['Number of co-morbidities', 'Count']\n",
        "people_sum = people_sum[people_sum['Count'] >= 5]\n",
        "people_sum"
      ]
    },
    {
      "cell_type": "code",
      "execution_count": 42,
      "metadata": {
        "gather": {
          "logged": 1700434422214
        },
        "jupyter": {
          "outputs_hidden": false,
          "source_hidden": false
        },
        "nteract": {
          "transient": {
            "deleting": false
          }
        }
      },
      "outputs": [
        {
          "data": {
            "text/plain": [
              "[<matplotlib.lines.Line2D at 0x7f7ed1c0af50>]"
            ]
          },
          "execution_count": 42,
          "metadata": {},
          "output_type": "execute_result"
        },
        {
          "data": {
            "text/plain": [
              "Text(0, 0.5, 'Count')"
            ]
          },
          "execution_count": 42,
          "metadata": {},
          "output_type": "execute_result"
        },
        {
          "data": {
            "text/plain": [
              "[]"
            ]
          },
          "execution_count": 42,
          "metadata": {},
          "output_type": "execute_result"
        },
        {
          "data": {
            "text/plain": [
              "Text(0.5, 0, 'Diseases ordered by count')"
            ]
          },
          "execution_count": 42,
          "metadata": {},
          "output_type": "execute_result"
        },
        {
          "data": {
            "text/plain": [
              "Text(0.5, 1.0, 'Disease frequency')"
            ]
          },
          "execution_count": 42,
          "metadata": {},
          "output_type": "execute_result"
        },
        {
          "data": {
            "text/plain": [
              "<BarContainer object of 17 artists>"
            ]
          },
          "execution_count": 42,
          "metadata": {},
          "output_type": "execute_result"
        },
        {
          "data": {
            "text/plain": [
              "Text(0.5, 0, 'Number of co-morbidities')"
            ]
          },
          "execution_count": 42,
          "metadata": {},
          "output_type": "execute_result"
        },
        {
          "data": {
            "text/plain": [
              "Text(0, 0.5, 'Count')"
            ]
          },
          "execution_count": 42,
          "metadata": {},
          "output_type": "execute_result"
        },
        {
          "data": {
            "text/plain": [
              "Text(0.5, 1.0, 'Co-morbidity frequency')"
            ]
          },
          "execution_count": 42,
          "metadata": {},
          "output_type": "execute_result"
        },
        {
          "data": {
            "text/plain": [
              "[<matplotlib.axis.XTick at 0x7f7ed1bdb310>,\n",
              " <matplotlib.axis.XTick at 0x7f7ed1bdb2e0>,\n",
              " <matplotlib.axis.XTick at 0x7f7ed1bdaf50>,\n",
              " <matplotlib.axis.XTick at 0x7f7ed1a39b70>,\n",
              " <matplotlib.axis.XTick at 0x7f7ed1a3a470>,\n",
              " <matplotlib.axis.XTick at 0x7f7ed1a3a6b0>,\n",
              " <matplotlib.axis.XTick at 0x7f7ed1a3ae90>,\n",
              " <matplotlib.axis.XTick at 0x7f7ed1a3b670>,\n",
              " <matplotlib.axis.XTick at 0x7f7ed1a3be50>,\n",
              " <matplotlib.axis.XTick at 0x7f7ed1a94670>,\n",
              " <matplotlib.axis.XTick at 0x7f7ed1a3b130>,\n",
              " <matplotlib.axis.XTick at 0x7f7ed1a94130>,\n",
              " <matplotlib.axis.XTick at 0x7f7ed1a95090>,\n",
              " <matplotlib.axis.XTick at 0x7f7ed1a95870>,\n",
              " <matplotlib.axis.XTick at 0x7f7ed1a96050>,\n",
              " <matplotlib.axis.XTick at 0x7f7ed1a3bcd0>,\n",
              " <matplotlib.axis.XTick at 0x7f7ed1a94be0>]"
            ]
          },
          "execution_count": 42,
          "metadata": {},
          "output_type": "execute_result"
        },
        {
          "data": {
            "image/png": "[encoded data removed]",
            "text/plain": [
              "<Figure size 1080x360 with 2 Axes>"
            ]
          },
          "metadata": {
            "needs_background": "light"
          },
          "output_type": "display_data"
        }
      ],
      "source": [
        "# Plot\n",
        "# Create subplots side by side\n",
        "fig, axs = plt.subplots(1, 2, figsize=(15, 6))\n",
        "fig.set_figheight(5)\n",
        "#fig.set_figwidth(12)\n",
        "\n",
        "# Subplot 1: Line graph of disease occurrences\n",
        "axs[0].plot(problem_sum['Count'], alpha=0.5)\n",
        "axs[0].set_ylabel('Count')\n",
        "axs[0].set_xticks([])\n",
        "axs[0].set_xlabel('Diseases ordered by count')\n",
        "axs[0].set_title('Disease frequency')\n",
        "\n",
        "# Subplot 2: Bar chart of comorbidity counts\n",
        "axs[1].bar(people_sum['Number of co-morbidities'], people_sum['Count'], alpha=0.5)\n",
        "axs[1].set_xlabel('Number of co-morbidities')\n",
        "axs[1].set_ylabel('Count')\n",
        "axs[1].set_title('Co-morbidity frequency')\n",
        "\n",
        "# Show all x-axis values on Subplot 2\n",
        "axs[1].set_xticks(people_sum['Number of co-morbidities'])\n",
        "\n",
        "# Adjust layout for better spacing\n",
        "plt.tight_layout()\n",
        "\n",
        "# Show the plot\n",
        "plt.show()"
      ]
    }
  ],
  "metadata": {
    "kernel_info": {
      "name": "python310-sdkv2"
    },
    "kernelspec": {
      "display_name": "Python 3.10 - SDK v2",
      "language": "python",
      "name": "python310-sdkv2"
    },
    "language_info": {
      "codemirror_mode": {
        "name": "ipython",
        "version": 3
      },
      "file_extension": ".py",
      "mimetype": "text/x-python",
      "name": "python",
      "nbconvert_exporter": "python",
      "pygments_lexer": "ipython3",
      "version": "3.10.11"
    },
    "microsoft": {
      "host": {
        "AzureML": {
          "notebookHasBeenCompleted": true
        }
      },
      "ms_spell_check": {
        "ms_spell_check_language": "en"
      }
    },
    "nteract": {
      "version": "nteract-front-end@1.0.0"
    }
  },
  "nbformat": 4,
  "nbformat_minor": 2
}
