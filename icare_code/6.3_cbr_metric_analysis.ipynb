{
  "cells": [
    {
      "cell_type": "code",
      "execution_count": 1,
      "metadata": {
        "gather": {
          "logged": 1704800829003
        },
        "jupyter": {
          "outputs_hidden": false,
          "source_hidden": false
        },
        "nteract": {
          "transient": {
            "deleting": false
          }
        }
      },
      "outputs": [],
      "source": [
        "# Libraries\n",
        "import numpy as np\n",
        "import pandas as pd\n",
        "pd.set_option('display.max_columns', 40)\n",
        "pd.set_option('display.width', 2000)\n",
        "import matplotlib as mpl\n",
        "import matplotlib.pyplot as plt\n",
        "\n",
        "from IPython.core.interactiveshell import InteractiveShell\n",
        "InteractiveShell.ast_node_interactivity = \"all\""
      ]
    },
    {
      "cell_type": "code",
      "execution_count": 2,
      "metadata": {
        "gather": {
          "logged": 1704800829383
        }
      },
      "outputs": [],
      "source": [
        "# Import\n",
        "path = r'data/cbr_rocheteau_metric_charlson_jaccard.csv'\n",
        "rocheteau = pd.read_csv(path, index_col=0)\n",
        "\n",
        "# Import\n",
        "path = r'data/cbr_my_method_metric_charlson_jaccard.csv'\n",
        "my_method = pd.read_csv(path, index_col=0)\n",
        "\n",
        "# Import\n",
        "path = r'data/cbr_one_hot_metric_charlson_jaccard.csv'\n",
        "one_hot = pd.read_csv(path, index_col=0)"
      ]
    },
    {
      "cell_type": "markdown",
      "metadata": {
        "nteract": {
          "transient": {
            "deleting": false
          }
        }
      },
      "source": [
        "Number"
      ]
    },
    {
      "cell_type": "code",
      "execution_count": 3,
      "metadata": {
        "gather": {
          "logged": 1704800867894
        },
        "jupyter": {
          "outputs_hidden": false,
          "source_hidden": false
        },
        "nteract": {
          "transient": {
            "deleting": false
          }
        }
      },
      "outputs": [],
      "source": [
        "# Import\n",
        "path = r'data/final_problem_dummies.csv'\n",
        "final_problem_dummies = pd.read_csv(path, index_col=0)"
      ]
    },
    {
      "cell_type": "code",
      "execution_count": 4,
      "metadata": {
        "gather": {
          "logged": 1704800868374
        },
        "jupyter": {
          "outputs_hidden": false,
          "source_hidden": false
        },
        "nteract": {
          "transient": {
            "deleting": false
          }
        }
      },
      "outputs": [],
      "source": [
        "# Filter\n",
        "filtered_problem_dummies = final_problem_dummies.loc[my_method['0']]"
      ]
    },
    {
      "cell_type": "code",
      "execution_count": 5,
      "metadata": {
        "gather": {
          "logged": 1704800868841
        },
        "jupyter": {
          "outputs_hidden": false,
          "source_hidden": false
        },
        "nteract": {
          "transient": {
            "deleting": false
          }
        }
      },
      "outputs": [],
      "source": [
        "# Work out count for patients\n",
        "sum = pd.DataFrame(filtered_problem_dummies.iloc[:,2:].sum(axis=1), columns=['Count']).sort_values(by=['Count'], ascending=False)"
      ]
    },
    {
      "cell_type": "code",
      "execution_count": 6,
      "metadata": {
        "gather": {
          "logged": 1704800869265
        },
        "jupyter": {
          "outputs_hidden": false,
          "source_hidden": false
        },
        "nteract": {
          "transient": {
            "deleting": false
          }
        }
      },
      "outputs": [
        {
          "name": "stdout",
          "output_type": "stream",
          "text": [
            "\n",
            "\n",
            "\n",
            " 0\n",
            "nan\n",
            "nan\n",
            "nan\n",
            "nan\n",
            "nan\n",
            "nan\n",
            "\n",
            "\n",
            "nan\n",
            "nan\n",
            "nan\n",
            "nan\n",
            "nan\n",
            "nan\n",
            "\n",
            "\n",
            "nan\n",
            "nan\n",
            "nan\n",
            "nan\n",
            "nan\n",
            "nan\n",
            "\n",
            "\n",
            "\n",
            " 1\n",
            "0.2545436507936508\n",
            "0.5430344415657944\n",
            "0.9833333333333333\n",
            "0.12909944487358058\n",
            "0.8305555555555556\n",
            "0.34375196170187267\n",
            "\n",
            "\n",
            "0.8\n",
            "0.0\n",
            "1.0\n",
            "0.0\n",
            "0.5\n",
            "0.0\n",
            "\n",
            "\n",
            "2.4441468253968255\n",
            "1.100166017597159\n",
            "0.9583333333333334\n",
            "0.2041241452319315\n",
            "0.7291666666666666\n",
            "0.360530004379623\n",
            "\n",
            "\n",
            "\n",
            " 2\n",
            "1.3489539990753585\n",
            "1.0418903856856085\n",
            "0.8535598705501618\n",
            "0.3476529940286874\n",
            "0.4626078748651564\n",
            "0.29479508122967085\n",
            "\n",
            "\n",
            "3.3325222396650966\n",
            "2.5934105312105578\n",
            "0.6428571428571429\n",
            "0.473085112648373\n",
            "0.31547536712371876\n",
            "0.2315519424132962\n",
            "\n",
            "\n",
            "3.4960497835497835\n",
            "1.8812665891480114\n",
            "0.8948863636363636\n",
            "0.2957353810155552\n",
            "0.5653409090909091\n",
            "0.11948890075064461\n",
            "\n",
            "\n",
            "\n",
            " 3\n",
            "1.6027444163506113\n",
            "1.2419456912888895\n",
            "0.8510324483775812\n",
            "0.3477354122995163\n",
            "0.5235710454737005\n",
            "0.24771902087534067\n",
            "\n",
            "\n",
            "3.26452067669173\n",
            "2.6796748035433327\n",
            "0.6507675438596491\n",
            "0.4601217918550665\n",
            "0.3997731488927309\n",
            "0.2577236792478037\n",
            "\n",
            "\n",
            "3.4836227610310186\n",
            "1.4361829723818293\n",
            "0.900611620795107\n",
            "0.2845386543229495\n",
            "0.6561926605504588\n",
            "0.14283046709983468\n",
            "\n",
            "\n",
            "\n",
            " 4\n",
            "1.6614952987564453\n",
            "1.177677204770213\n",
            "0.8354564755838643\n",
            "0.34332631161731897\n",
            "0.5810863411181882\n",
            "0.23809414662846815\n",
            "\n",
            "\n",
            "3.427003484320557\n",
            "2.7966402830404973\n",
            "0.6592140921409214\n",
            "0.439666847152097\n",
            "0.4785096937177281\n",
            "0.269384854143963\n",
            "\n",
            "\n",
            "4.330889309366131\n",
            "2.0344652335743705\n",
            "0.8818984547461368\n",
            "0.29476255602541057\n",
            "0.6902081362346262\n",
            "0.13373820136326758\n",
            "\n",
            "\n",
            "\n",
            " 5\n",
            "2.4673497267759568\n",
            "2.0488472397098305\n",
            "0.8259562841530055\n",
            "0.3380251699508928\n",
            "0.5463731312307671\n",
            "0.2516324496283314\n",
            "\n",
            "\n",
            "5.209582166199811\n",
            "3.6656141465045042\n",
            "0.5424836601307189\n",
            "0.46223513184536646\n",
            "0.3809388088238982\n",
            "0.26544830599761715\n",
            "\n",
            "\n",
            "4.3954415954415955\n",
            "1.578879205193971\n",
            "0.8561253561253561\n",
            "0.3339835489515888\n",
            "0.6333333333333333\n",
            "0.17887057592193167\n",
            "\n",
            "\n",
            "\n",
            " 6\n",
            "2.331214024071167\n",
            "2.136725661992424\n",
            "0.7315018315018315\n",
            "0.4051325842228411\n",
            "0.6221497151846214\n",
            "0.25368563733574523\n",
            "\n",
            "\n",
            "4.090476190476191\n",
            "3.438464880490426\n",
            "0.6418650793650794\n",
            "0.4322932687403926\n",
            "0.5095971862654192\n",
            "0.298141338526271\n",
            "\n",
            "\n",
            "5.508982683982683\n",
            "2.1325718842303156\n",
            "0.7348484848484848\n",
            "0.40718041447719583\n",
            "0.6911280007870917\n",
            "0.1780421497954062\n",
            "\n",
            "\n",
            "\n",
            " 7\n",
            "2.595804988662132\n",
            "2.6670200948761225\n",
            "0.8075396825396824\n",
            "0.33761884148655863\n",
            "0.6459249414606557\n",
            "0.2931446781785127\n",
            "\n",
            "\n",
            "4.197490347490349\n",
            "4.403759393492721\n",
            "0.6322393822393823\n",
            "0.46526642948038044\n",
            "0.5642732223614577\n",
            "0.3168040960004656\n",
            "\n",
            "\n",
            "6.155865272938444\n",
            "2.141334121298345\n",
            "0.8252032520325202\n",
            "0.3434935296014304\n",
            "0.6949767711962834\n",
            "0.23202243196068323\n",
            "\n",
            "\n",
            "\n",
            " 8\n",
            "2.5333333333333337\n",
            "2.679001420513082\n",
            "0.7772727272727272\n",
            "0.3867110737300582\n",
            "0.6683941479396025\n",
            "0.2631511116088313\n",
            "\n",
            "\n",
            "4.876111111111112\n",
            "4.341304965040943\n",
            "0.6277777777777778\n",
            "0.4562955395492224\n",
            "0.5451624192800663\n",
            "0.3250260986962913\n",
            "\n",
            "\n",
            "6.069227994227995\n",
            "1.7403170964906152\n",
            "0.8636363636363636\n",
            "0.337099931231621\n",
            "0.7104377104377104\n",
            "0.20454074562273092\n",
            "\n",
            "\n",
            "\n",
            " 9\n",
            "2.0793333333333335\n",
            "2.797346129882817\n",
            "0.7233333333333333\n",
            "0.401617101598396\n",
            "0.7459624819624819\n",
            "0.26124620261056125\n",
            "\n",
            "\n",
            "2.705797101449275\n",
            "3.591571251969118\n",
            "0.6847826086956522\n",
            "0.40510981936309626\n",
            "0.7240732129478933\n",
            "0.27000191200620643\n",
            "\n",
            "\n",
            "7.4328095238095235\n",
            "2.6892305569222223\n",
            "0.8166666666666665\n",
            "0.3435921354681384\n",
            "0.7816161616161617\n",
            "0.21173445581901573\n",
            "\n",
            "\n",
            "\n",
            " 10\n",
            "4.259722222222222\n",
            "5.289953592115341\n",
            "0.7972222222222222\n",
            "0.3340774522588199\n",
            "0.6530118733923083\n",
            "0.33133661150216365\n",
            "\n",
            "\n",
            "3.8474358974358975\n",
            "3.5966152179015523\n",
            "0.7051282051282051\n",
            "0.43115824925128815\n",
            "0.6097110154802463\n",
            "0.3432467452152315\n",
            "\n",
            "\n",
            "7.990873015873016\n",
            "3.2354508927217416\n",
            "0.9027777777777777\n",
            "0.18060411157513862\n",
            "0.6844065656565657\n",
            "0.274578667424195\n"
          ]
        }
      ],
      "source": [
        "# ==\n",
        "my_method_similarity_score_list = []\n",
        "my_method_similarity_score_std_list = []\n",
        "\n",
        "my_method_charlson_jaccard_score_list = []\n",
        "my_method_charlson_jaccard_score_std_list = []\n",
        "\n",
        "rocheteau_similarity_score_list = []\n",
        "rocheteau_similarity_score_std_list = []\n",
        "\n",
        "rocheteau_charlson_jaccard_score_list = []\n",
        "rocheteau_charlson_jaccard_score_std_list = []\n",
        "\n",
        "one_hot_similarity_score_list = []\n",
        "one_hot_similarity_score_std_list = []\n",
        "\n",
        "one_hot_charlson_jaccard_score_list = []\n",
        "one_hot_charlson_jaccard_score_std_list = []\n",
        "\n",
        "for x in range(11):\n",
        "    temp_sum = sum[sum['Count'] == x]\n",
        "    temp_my_method = my_method[my_method['0'].isin(temp_sum.index)]\n",
        "    temp_rocheteau = rocheteau[rocheteau['0'].isin(temp_sum.index)]\n",
        "    temp_one_hot = one_hot[one_hot['0'].isin(temp_sum.index)]\n",
        "    print('\\n\\n\\n', x)\n",
        "\n",
        "    print(temp_my_method['similarity_score'].mean())\n",
        "    print(temp_my_method['similarity_score'].std())\n",
        "    print(temp_my_method['charlson_jaccard_score'].mean())\n",
        "    print(temp_my_method['charlson_jaccard_score'].std())\n",
        "    print(temp_my_method['jaccard_score'].mean())\n",
        "    print(temp_my_method['jaccard_score'].std())\n",
        "\n",
        "    print('\\n')\n",
        "    print(temp_rocheteau['similarity_score'].mean())\n",
        "    print(temp_rocheteau['similarity_score'].std())\n",
        "    print(temp_rocheteau['charlson_jaccard_score'].mean())\n",
        "    print(temp_rocheteau['charlson_jaccard_score'].std())\n",
        "    print(temp_rocheteau['jaccard_score'].mean())\n",
        "    print(temp_rocheteau['jaccard_score'].std())\n",
        "\n",
        "    print('\\n')\n",
        "    print(temp_one_hot['similarity_score'].mean())\n",
        "    print(temp_one_hot['similarity_score'].std())\n",
        "    print(temp_one_hot['charlson_jaccard_score'].mean())\n",
        "    print(temp_one_hot['charlson_jaccard_score'].std())\n",
        "    print(temp_one_hot['jaccard_score'].mean())\n",
        "    print(temp_one_hot['jaccard_score'].std())\n",
        "\n",
        "    my_method_similarity_score_list.append(temp_my_method['similarity_score'].mean())\n",
        "    my_method_similarity_score_std_list.append(temp_my_method['similarity_score'].std())\n",
        "\n",
        "    my_method_charlson_jaccard_score_list.append(temp_my_method['charlson_jaccard_score'].mean())\n",
        "    my_method_charlson_jaccard_score_std_list.append(temp_my_method['charlson_jaccard_score'].std())\n",
        "\n",
        "    rocheteau_similarity_score_list.append(temp_rocheteau['similarity_score'].mean())\n",
        "    rocheteau_similarity_score_std_list.append(temp_rocheteau['similarity_score'].std())\n",
        "\n",
        "    rocheteau_charlson_jaccard_score_list.append(temp_rocheteau['charlson_jaccard_score'].mean())\n",
        "    rocheteau_charlson_jaccard_score_std_list.append(temp_rocheteau['charlson_jaccard_score'].std())\n",
        "\n",
        "    one_hot_similarity_score_list.append(temp_one_hot['similarity_score'].mean())\n",
        "    one_hot_similarity_score_std_list.append(temp_one_hot['similarity_score'].std())\n",
        "\n",
        "    one_hot_charlson_jaccard_score_list.append(temp_one_hot['charlson_jaccard_score'].mean())\n",
        "    one_hot_charlson_jaccard_score_std_list.append(temp_one_hot['charlson_jaccard_score'].std())"
      ]
    },
    {
      "cell_type": "code",
      "execution_count": 65,
      "metadata": {
        "gather": {
          "logged": 1704392954067
        },
        "jupyter": {
          "outputs_hidden": false,
          "source_hidden": false
        },
        "nteract": {
          "transient": {
            "deleting": false
          }
        }
      },
      "outputs": [
        {
          "data": {
            "text/plain": [
              "[<matplotlib.lines.Line2D at 0x7febd8d6c640>]"
            ]
          },
          "execution_count": 65,
          "metadata": {},
          "output_type": "execute_result"
        },
        {
          "data": {
            "text/plain": [
              "[<matplotlib.lines.Line2D at 0x7febd8d6c8b0>]"
            ]
          },
          "execution_count": 65,
          "metadata": {},
          "output_type": "execute_result"
        },
        {
          "data": {
            "text/plain": [
              "[<matplotlib.lines.Line2D at 0x7febd8d6cb50>]"
            ]
          },
          "execution_count": 65,
          "metadata": {},
          "output_type": "execute_result"
        },
        {
          "data": {
            "text/plain": [
              "<matplotlib.legend.Legend at 0x7febd8ec0100>"
            ]
          },
          "execution_count": 65,
          "metadata": {},
          "output_type": "execute_result"
        },
        {
          "data": {
            "text/plain": [
              "[<matplotlib.lines.Line2D at 0x7febd8d6d360>]"
            ]
          },
          "execution_count": 65,
          "metadata": {},
          "output_type": "execute_result"
        },
        {
          "data": {
            "text/plain": [
              "[<matplotlib.lines.Line2D at 0x7febd8d6e590>]"
            ]
          },
          "execution_count": 65,
          "metadata": {},
          "output_type": "execute_result"
        },
        {
          "data": {
            "text/plain": [
              "[<matplotlib.lines.Line2D at 0x7febd8d6e7d0>]"
            ]
          },
          "execution_count": 65,
          "metadata": {},
          "output_type": "execute_result"
        },
        {
          "data": {
            "text/plain": [
              "<matplotlib.legend.Legend at 0x7febd8d6e740>"
            ]
          },
          "execution_count": 65,
          "metadata": {},
          "output_type": "execute_result"
        },
        {
          "data": {
            "text/plain": [
              "Text(0.5, 1.0, 'Mean similarity score for patients with different numbers of co-morbidites')"
            ]
          },
          "execution_count": 65,
          "metadata": {},
          "output_type": "execute_result"
        },
        {
          "data": {
            "text/plain": [
              "Text(0.5, 1.0, 'Mean charlson jaccard index for patients with different numbers of co-morbidites')"
            ]
          },
          "execution_count": 65,
          "metadata": {},
          "output_type": "execute_result"
        },
        {
          "data": {
            "text/plain": [
              "(0.0, 10.0)"
            ]
          },
          "execution_count": 65,
          "metadata": {},
          "output_type": "execute_result"
        },
        {
          "data": {
            "text/plain": [
              "(0.0, 1.0)"
            ]
          },
          "execution_count": 65,
          "metadata": {},
          "output_type": "execute_result"
        },
        {
          "data": {
            "text/plain": [
              "Text(0, 0.5, 'Mean SNOMED similarity score')"
            ]
          },
          "execution_count": 65,
          "metadata": {},
          "output_type": "execute_result"
        },
        {
          "data": {
            "text/plain": [
              "Text(0, 0.5, 'Mean charlson jaccard index')"
            ]
          },
          "execution_count": 65,
          "metadata": {},
          "output_type": "execute_result"
        },
        {
          "data": {
            "text/plain": [
              "Text(0.5, 0, 'Numer of co-morbidities')"
            ]
          },
          "execution_count": 65,
          "metadata": {},
          "output_type": "execute_result"
        },
        {
          "data": {
            "text/plain": [
              "Text(0.5, 0, 'Numer of co-morbidities')"
            ]
          },
          "execution_count": 65,
          "metadata": {},
          "output_type": "execute_result"
        },
        {
          "data": {
            "text/plain": [
              "[<matplotlib.axis.XTick at 0x7febd8d143d0>,\n",
              " <matplotlib.axis.XTick at 0x7febd8d143a0>,\n",
              " <matplotlib.axis.XTick at 0x7febd8fbf9d0>,\n",
              " <matplotlib.axis.XTick at 0x7febd8d90400>,\n",
              " <matplotlib.axis.XTick at 0x7febd8d90be0>,\n",
              " <matplotlib.axis.XTick at 0x7febd8d913c0>,\n",
              " <matplotlib.axis.XTick at 0x7febd8d91ba0>,\n",
              " <matplotlib.axis.XTick at 0x7febd8d6f9d0>,\n",
              " <matplotlib.axis.XTick at 0x7febd8d90730>,\n",
              " <matplotlib.axis.XTick at 0x7febd8d92770>,\n",
              " <matplotlib.axis.XTick at 0x7febd8d92f50>]"
            ]
          },
          "execution_count": 65,
          "metadata": {},
          "output_type": "execute_result"
        },
        {
          "data": {
            "text/plain": [
              "[<matplotlib.axis.XTick at 0x7febd8d41090>,\n",
              " <matplotlib.axis.XTick at 0x7febd8d41060>,\n",
              " <matplotlib.axis.XTick at 0x7febd8d40cd0>,\n",
              " <matplotlib.axis.XTick at 0x7febd8d90190>,\n",
              " <matplotlib.axis.XTick at 0x7febd8d93be0>,\n",
              " <matplotlib.axis.XTick at 0x7febd8dc0400>,\n",
              " <matplotlib.axis.XTick at 0x7febd8dc0be0>,\n",
              " <matplotlib.axis.XTick at 0x7febd8dc13c0>,\n",
              " <matplotlib.axis.XTick at 0x7febd8d931c0>,\n",
              " <matplotlib.axis.XTick at 0x7febd8dc01c0>,\n",
              " <matplotlib.axis.XTick at 0x7febd8dc1d50>]"
            ]
          },
          "execution_count": 65,
          "metadata": {},
          "output_type": "execute_result"
        },
        {
          "data": {
            "image/png": "[encoded data removed]",
            "text/plain": [
              "<Figure size 1152x432 with 2 Axes>"
            ]
          },
          "metadata": {
            "needs_background": "light"
          },
          "output_type": "display_data"
        }
      ],
      "source": [
        "# Plot\n",
        "fig, axs = plt.subplots(1, 2)\n",
        "fig.set_figheight(6)\n",
        "fig.set_figwidth(16)\n",
        "\n",
        "axs[0].plot([0, 1, 2, 3, 4, 5 ,6 ,7 ,8 ,9 ,10], my_method_similarity_score_list, alpha=0.8, label='Co-morbid patient embeddings')\n",
        "axs[0].plot([0, 1, 2, 3, 4, 5 ,6 ,7 ,8 ,9 ,10 ], rocheteau_similarity_score_list, alpha=0.8, label='Rocheteau score')\n",
        "axs[0].plot([0, 1, 2, 3, 4, 5 ,6 ,7 ,8 ,9 ,10], one_hot_similarity_score_list, alpha=0.8, label='One hot encodings')\n",
        "axs[0].legend(loc='upper right')\n",
        "\n",
        "axs[1].plot([0, 1, 2, 3, 4, 5 ,6 ,7 ,8 ,9 ,10], my_method_charlson_jaccard_score_list, alpha=0.8, label='Co-morbid patient embeddings')\n",
        "axs[1].plot([0, 1, 2, 3, 4, 5 ,6 ,7 ,8 ,9 ,10], rocheteau_charlson_jaccard_score_list, alpha=0.8, label='Rocheteau score')\n",
        "axs[1].plot([0, 1, 2, 3, 4, 5 ,6 ,7 ,8 ,9 ,10], one_hot_charlson_jaccard_score_list, alpha=0.8, label='One hot encodings')\n",
        "axs[1].legend(loc='upper right')\n",
        "\n",
        "\n",
        "axs[0].set_title('Mean similarity score for patients with different numbers of co-morbidites')\n",
        "axs[1].set_title('Mean charlson jaccard index for patients with different numbers of co-morbidites')\n",
        "\n",
        "axs[0].set_ylim(0, 10)\n",
        "axs[1].set_ylim(0, 1)\n",
        "axs[0].set_ylabel('Mean SNOMED similarity score')\n",
        "axs[1].set_ylabel('Mean charlson jaccard index')\n",
        "axs[0].set_xlabel('Numer of co-morbidities')\n",
        "axs[1].set_xlabel('Numer of co-morbidities')\n",
        "axs[0].set_xticks([0, 1, 2, 3, 4, 5 ,6 ,7 ,8 ,9 ,10])\n",
        "axs[1].set_xticks([0, 1, 2, 3, 4, 5 ,6 ,7 ,8 ,9 ,10])\n",
        "\n",
        "fig.tight_layout()\n",
        "fig.subplots_adjust(top=0.92)\n",
        "\n",
        "plt.show()"
      ]
    },
    {
      "cell_type": "markdown",
      "metadata": {
        "nteract": {
          "transient": {
            "deleting": false
          }
        }
      },
      "source": [
        "Rarity"
      ]
    },
    {
      "cell_type": "code",
      "execution_count": 7,
      "metadata": {
        "gather": {
          "logged": 1704800873842
        },
        "jupyter": {
          "outputs_hidden": false,
          "source_hidden": false
        },
        "nteract": {
          "transient": {
            "deleting": false
          }
        }
      },
      "outputs": [],
      "source": [
        "# Work out count for problems\n",
        "final_problem_dummies.rename(columns=lambda x: x.strip('PROBLEM_'), inplace=True)\n",
        "problem_sum = pd.DataFrame(final_problem_dummies.iloc[:,2:].sum(axis=0), columns=['Count']).sort_values(by=['Count'], ascending=False)"
      ]
    },
    {
      "cell_type": "code",
      "execution_count": 8,
      "metadata": {
        "gather": {
          "logged": 1704800874347
        },
        "jupyter": {
          "outputs_hidden": false,
          "source_hidden": false
        },
        "nteract": {
          "transient": {
            "deleting": false
          }
        }
      },
      "outputs": [],
      "source": [
        "filtered_problem_dummies2 = filtered_problem_dummies.iloc[:,2:]\n",
        "filtered_problem_dummies2.rename(columns=lambda x: x.strip('PROBLEM_'), inplace=True)"
      ]
    },
    {
      "cell_type": "code",
      "execution_count": null,
      "metadata": {
        "gather": {
          "logged": 1704800953003
        },
        "jupyter": {
          "outputs_hidden": false,
          "source_hidden": false
        },
        "nteract": {
          "transient": {
            "deleting": false
          }
        }
      },
      "outputs": [],
      "source": [
        "my_method_similarity_score_list2 = []\n",
        "my_method_similarity_score_std_list2 = []\n",
        "\n",
        "my_method_charlson_jaccard_score_list2 = []\n",
        "my_method_charlson_jaccard_score_std_list2 = []\n",
        "\n",
        "rocheteau_similarity_score_list2 = []\n",
        "rocheteau_similarity_score_std_list2 = []\n",
        "\n",
        "rocheteau_charlson_jaccard_score_list2 = []\n",
        "rocheteau_charlson_jaccard_score_std_list2 = []\n",
        "\n",
        "one_hot_similarity_score_list2 = []\n",
        "one_hot_similarity_score_std_list2 = []\n",
        "\n",
        "one_hot_charlson_jaccard_score_list2 = []\n",
        "one_hot_charlson_jaccard_score_std_list2 = []\n",
        "\n",
        "x = 0\n",
        "for n in range(20):\n",
        "    # Get filter list \n",
        "    x += 130.8 #5%\n",
        "    filter_list = problem_sum.iloc[:round(x)].index.tolist()\n",
        "    filtered_problem_dummies3 = filtered_problem_dummies2.copy()\n",
        "    filter_list = set(filter_list)&set(filtered_problem_dummies3.columns)\n",
        "    for code in filter_list:\n",
        "        filtered_problem_dummies3 = filtered_problem_dummies3.loc[filtered_problem_dummies3[code] != 1]\n",
        "    patient_list = filtered_problem_dummies3.index.tolist()\n",
        "    \n",
        "    temp_my_method = my_method[my_method['0'].isin(patient_list)]\n",
        "    temp_rocheteau = rocheteau[rocheteau['0'].isin(patient_list)]\n",
        "    temp_one_hot = one_hot[one_hot['0'].isin(patient_list)]\n",
        "\n",
        "    my_method_similarity_score_list2.append(temp_my_method['similarity_score'].mean())\n",
        "    my_method_similarity_score_std_list2.append(temp_my_method['similarity_score'].std())\n",
        "\n",
        "    my_method_charlson_jaccard_score_list2.append(temp_my_method['charlson_jaccard_score'].mean())\n",
        "    my_method_charlson_jaccard_score_std_list2.append(temp_my_method['charlson_jaccard_score'].std())\n",
        "\n",
        "    rocheteau_similarity_score_list2.append(temp_rocheteau['similarity_score'].mean())\n",
        "    rocheteau_similarity_score_std_list2.append(temp_rocheteau['similarity_score'].std())\n",
        "\n",
        "    rocheteau_charlson_jaccard_score_list2.append(temp_rocheteau['charlson_jaccard_score'].mean())\n",
        "    rocheteau_charlson_jaccard_score_std_list2.append(temp_rocheteau['charlson_jaccard_score'].std())\n",
        "\n",
        "    one_hot_similarity_score_list2.append(temp_one_hot['similarity_score'].mean())\n",
        "    one_hot_similarity_score_std_list2.append(temp_one_hot['similarity_score'].std())\n",
        "\n",
        "    one_hot_charlson_jaccard_score_list2.append(temp_one_hot['charlson_jaccard_score'].mean())\n",
        "    one_hot_charlson_jaccard_score_std_list2.append(temp_one_hot['charlson_jaccard_score'].std())"
      ]
    },
    {
      "cell_type": "markdown",
      "metadata": {
        "nteract": {
          "transient": {
            "deleting": false
          }
        }
      },
      "source": [
        "Plot both"
      ]
    },
    {
      "cell_type": "code",
      "execution_count": 20,
      "metadata": {
        "gather": {
          "logged": 1704801442625
        },
        "jupyter": {
          "outputs_hidden": false,
          "source_hidden": false
        },
        "nteract": {
          "transient": {
            "deleting": false
          }
        }
      },
      "outputs": [
        {
          "data": {
            "text/plain": [
              "[<matplotlib.lines.Line2D at 0x7f073ee9ebc0>]"
            ]
          },
          "execution_count": 20,
          "metadata": {},
          "output_type": "execute_result"
        },
        {
          "data": {
            "text/plain": [
              "[<matplotlib.lines.Line2D at 0x7f073ee9ee00>]"
            ]
          },
          "execution_count": 20,
          "metadata": {},
          "output_type": "execute_result"
        },
        {
          "data": {
            "text/plain": [
              "[<matplotlib.lines.Line2D at 0x7f073ee9f0a0>]"
            ]
          },
          "execution_count": 20,
          "metadata": {},
          "output_type": "execute_result"
        },
        {
          "data": {
            "text/plain": [
              "[<matplotlib.lines.Line2D at 0x7f073ee9f340>]"
            ]
          },
          "execution_count": 20,
          "metadata": {},
          "output_type": "execute_result"
        },
        {
          "data": {
            "text/plain": [
              "[<matplotlib.lines.Line2D at 0x7f073ee9f610>]"
            ]
          },
          "execution_count": 20,
          "metadata": {},
          "output_type": "execute_result"
        },
        {
          "data": {
            "text/plain": [
              "[<matplotlib.lines.Line2D at 0x7f073ee9f8b0>]"
            ]
          },
          "execution_count": 20,
          "metadata": {},
          "output_type": "execute_result"
        },
        {
          "data": {
            "text/plain": [
              "(0.0, 10.0)"
            ]
          },
          "execution_count": 20,
          "metadata": {},
          "output_type": "execute_result"
        },
        {
          "data": {
            "text/plain": [
              "(0.0, 1.0)"
            ]
          },
          "execution_count": 20,
          "metadata": {},
          "output_type": "execute_result"
        },
        {
          "data": {
            "text/plain": [
              "Text(0, 0.5, 'Mean SNOMED similarity score')"
            ]
          },
          "execution_count": 20,
          "metadata": {},
          "output_type": "execute_result"
        },
        {
          "data": {
            "text/plain": [
              "Text(0, 0.5, 'Mean Charlson Jaccard index')"
            ]
          },
          "execution_count": 20,
          "metadata": {},
          "output_type": "execute_result"
        },
        {
          "data": {
            "text/plain": [
              "Text(0.5, 0, 'Number of co-morbidities')"
            ]
          },
          "execution_count": 20,
          "metadata": {},
          "output_type": "execute_result"
        },
        {
          "data": {
            "text/plain": [
              "[<matplotlib.axis.XTick at 0x7f073f03bc40>,\n",
              " <matplotlib.axis.XTick at 0x7f073f03bc10>,\n",
              " <matplotlib.axis.XTick at 0x7f073f03b880>,\n",
              " <matplotlib.axis.XTick at 0x7f073ee003a0>,\n",
              " <matplotlib.axis.XTick at 0x7f073ee00cd0>,\n",
              " <matplotlib.axis.XTick at 0x7f073ee014b0>,\n",
              " <matplotlib.axis.XTick at 0x7f073ee01c90>,\n",
              " <matplotlib.axis.XTick at 0x7f073ee02470>,\n",
              " <matplotlib.axis.XTick at 0x7f073ee01a80>,\n",
              " <matplotlib.axis.XTick at 0x7f073ee02620>]"
            ]
          },
          "execution_count": 20,
          "metadata": {},
          "output_type": "execute_result"
        },
        {
          "data": {
            "text/plain": [
              "[<matplotlib.axis.XTick at 0x7f073f0b66e0>,\n",
              " <matplotlib.axis.XTick at 0x7f073f0b66b0>,\n",
              " <matplotlib.axis.XTick at 0x7f073f0b6320>,\n",
              " <matplotlib.axis.XTick at 0x7f073ee02fe0>,\n",
              " <matplotlib.axis.XTick at 0x7f073ee03130>,\n",
              " <matplotlib.axis.XTick at 0x7f073edf0340>,\n",
              " <matplotlib.axis.XTick at 0x7f073edf0b20>,\n",
              " <matplotlib.axis.XTick at 0x7f073ee03520>,\n",
              " <matplotlib.axis.XTick at 0x7f073edf09a0>,\n",
              " <matplotlib.axis.XTick at 0x7f073edf1660>]"
            ]
          },
          "execution_count": 20,
          "metadata": {},
          "output_type": "execute_result"
        },
        {
          "data": {
            "text/plain": [
              "[<matplotlib.lines.Line2D at 0x7f073ee9ff40>]"
            ]
          },
          "execution_count": 20,
          "metadata": {},
          "output_type": "execute_result"
        },
        {
          "data": {
            "text/plain": [
              "[<matplotlib.lines.Line2D at 0x7f073edf17b0>]"
            ]
          },
          "execution_count": 20,
          "metadata": {},
          "output_type": "execute_result"
        },
        {
          "data": {
            "text/plain": [
              "[<matplotlib.lines.Line2D at 0x7f073edf0190>]"
            ]
          },
          "execution_count": 20,
          "metadata": {},
          "output_type": "execute_result"
        },
        {
          "data": {
            "text/plain": [
              "[<matplotlib.lines.Line2D at 0x7f073edf1fc0>]"
            ]
          },
          "execution_count": 20,
          "metadata": {},
          "output_type": "execute_result"
        },
        {
          "data": {
            "text/plain": [
              "[<matplotlib.lines.Line2D at 0x7f073edf2230>]"
            ]
          },
          "execution_count": 20,
          "metadata": {},
          "output_type": "execute_result"
        },
        {
          "data": {
            "text/plain": [
              "[<matplotlib.lines.Line2D at 0x7f073edf24d0>]"
            ]
          },
          "execution_count": 20,
          "metadata": {},
          "output_type": "execute_result"
        },
        {
          "data": {
            "text/plain": [
              "(0.0, 10.0)"
            ]
          },
          "execution_count": 20,
          "metadata": {},
          "output_type": "execute_result"
        },
        {
          "data": {
            "text/plain": [
              "(0.0, 1.0)"
            ]
          },
          "execution_count": 20,
          "metadata": {},
          "output_type": "execute_result"
        },
        {
          "data": {
            "text/plain": [
              "Text(0.5, 0, 'Percentage of co-morbidities excluded by frequency')"
            ]
          },
          "execution_count": 20,
          "metadata": {},
          "output_type": "execute_result"
        },
        {
          "data": {
            "text/plain": [
              "[<matplotlib.axis.XTick at 0x7f073f031ab0>,\n",
              " <matplotlib.axis.XTick at 0x7f073f031a80>,\n",
              " <matplotlib.axis.XTick at 0x7f073f038f70>,\n",
              " <matplotlib.axis.XTick at 0x7f073edf2cb0>,\n",
              " <matplotlib.axis.XTick at 0x7f073edf3490>,\n",
              " <matplotlib.axis.XTick at 0x7f073edf3c70>,\n",
              " <matplotlib.axis.XTick at 0x7f073ee70490>,\n",
              " <matplotlib.axis.XTick at 0x7f073ee70c70>]"
            ]
          },
          "execution_count": 20,
          "metadata": {},
          "output_type": "execute_result"
        },
        {
          "data": {
            "text/plain": [
              "[<matplotlib.axis.XTick at 0x7f073f0972b0>,\n",
              " <matplotlib.axis.XTick at 0x7f073f097280>,\n",
              " <matplotlib.axis.XTick at 0x7f073f096ec0>,\n",
              " <matplotlib.axis.XTick at 0x7f073ee70dc0>,\n",
              " <matplotlib.axis.XTick at 0x7f073ee71840>,\n",
              " <matplotlib.axis.XTick at 0x7f073ee71fc0>,\n",
              " <matplotlib.axis.XTick at 0x7f073ee727a0>,\n",
              " <matplotlib.axis.XTick at 0x7f073edf0eb0>]"
            ]
          },
          "execution_count": 20,
          "metadata": {},
          "output_type": "execute_result"
        },
        {
          "data": {
            "text/plain": [
              "[<matplotlib.axis.YTick at 0x7f073f032770>,\n",
              " <matplotlib.axis.YTick at 0x7f073f032110>,\n",
              " <matplotlib.axis.YTick at 0x7f073f030af0>,\n",
              " <matplotlib.axis.YTick at 0x7f073ee730d0>,\n",
              " <matplotlib.axis.YTick at 0x7f073ee738b0>,\n",
              " <matplotlib.axis.YTick at 0x7f073ee73190>]"
            ]
          },
          "execution_count": 20,
          "metadata": {},
          "output_type": "execute_result"
        },
        {
          "data": {
            "text/plain": [
              "[<matplotlib.axis.YTick at 0x7f073f097ca0>,\n",
              " <matplotlib.axis.YTick at 0x7f073f097910>,\n",
              " <matplotlib.axis.YTick at 0x7f073f0961a0>,\n",
              " <matplotlib.axis.YTick at 0x7f073ee711b0>,\n",
              " <matplotlib.axis.YTick at 0x7f073ee49150>,\n",
              " <matplotlib.axis.YTick at 0x7f073ee49930>]"
            ]
          },
          "execution_count": 20,
          "metadata": {},
          "output_type": "execute_result"
        },
        {
          "data": {
            "text/plain": [
              "Text(0.5, 0.98, 'Similar patient retrieval evaluation by number and rarity of comorbidities')"
            ]
          },
          "execution_count": 20,
          "metadata": {},
          "output_type": "execute_result"
        },
        {
          "data": {
            "text/plain": [
              "<matplotlib.legend.Legend at 0x7f073ee00790>"
            ]
          },
          "execution_count": 20,
          "metadata": {},
          "output_type": "execute_result"
        },
        {
          "data": {
            "image/png": "[encoded data removed]",
            "text/plain": [
              "<Figure size 1296x720 with 4 Axes>"
            ]
          },
          "metadata": {
            "needs_background": "light"
          },
          "output_type": "display_data"
        }
      ],
      "source": [
        "fig, axs = plt.subplots(2, 2)\n",
        "fig.set_figheight(10)\n",
        "fig.set_figwidth(18)\n",
        "from matplotlib.ticker import (MultipleLocator, AutoMinorLocator)\n",
        "\n",
        "# Number\n",
        "axs[0, 0].plot([0, 1, 2, 3, 4, 5 ,6 ,7 ,8 ,9 ,10], my_method_similarity_score_list, alpha=0.8, label='Co-morbid patient embeddings')\n",
        "axs[0, 0].plot([0, 1, 2, 3, 4, 5 ,6 ,7 ,8 ,9 ,10 ], rocheteau_similarity_score_list, alpha=0.8, label='Rocheteau score')\n",
        "axs[0, 0].plot([0, 1, 2, 3, 4, 5 ,6 ,7 ,8 ,9 ,10], one_hot_similarity_score_list, alpha=0.8, label='One hot encodings')\n",
        "\n",
        "axs[1, 0].plot([0, 1, 2, 3, 4, 5 ,6 ,7 ,8 ,9 ,10], my_method_charlson_jaccard_score_list, alpha=0.8, label='Co-morbid patient embeddings')\n",
        "axs[1, 0].plot([0, 1, 2, 3, 4, 5 ,6 ,7 ,8 ,9 ,10], rocheteau_charlson_jaccard_score_list, alpha=0.8, label='Rocheteau score')\n",
        "axs[1, 0].plot([0, 1, 2, 3, 4, 5 ,6 ,7 ,8 ,9 ,10], one_hot_charlson_jaccard_score_list, alpha=0.8, label='One hot encodings')\n",
        "\n",
        "axs[0, 0].set_ylim(0, 10)\n",
        "axs[1, 0].set_ylim(0, 1)\n",
        "axs[0, 0].set_ylabel('Mean SNOMED similarity score')\n",
        "axs[1, 0].set_ylabel('Mean Charlson Jaccard index')\n",
        "axs[1, 0].set_xlabel('Number of co-morbidities')\n",
        "axs[0, 0].set_xticks([1, 2, 3, 4, 5 ,6 ,7 ,8 ,9 ,10], labels=[])\n",
        "axs[1, 0].set_xticks([1, 2, 3, 4, 5 ,6 ,7 ,8 ,9 ,10])\n",
        "\n",
        "# Rarity\n",
        "x_values = list(range(0, 71, 5))\n",
        "axs[0, 1].plot(x_values, my_method_similarity_score_list2[:15], alpha=0.8, label='Co-morbid patient embeddings')\n",
        "axs[0, 1].plot(x_values, rocheteau_similarity_score_list2[:15], alpha=0.8, label='Rocheteau score')\n",
        "axs[0, 1].plot(x_values, one_hot_similarity_score_list2[:15], alpha=0.8, label='One hot encodings')\n",
        "\n",
        "axs[1, 1].plot(x_values, my_method_charlson_jaccard_score_list2[:15], alpha=0.8, label='Co-morbid patient embeddings')\n",
        "axs[1, 1].plot(x_values, rocheteau_charlson_jaccard_score_list2[:15], alpha=0.8, label='Rocheteau  index')\n",
        "axs[1, 1].plot(x_values, one_hot_charlson_jaccard_score_list2[:15], alpha=0.8, label='One hot encodings')\n",
        "\n",
        "axs[0, 1].set_ylim(0, 10)\n",
        "axs[1, 1].set_ylim(0, 1)\n",
        "axs[1, 1].set_xlabel('Percentage of co-morbidities excluded by frequency')\n",
        "\n",
        "axs[0, 1].set_xticks([0, 10 ,20, 30, 40, 50, 60, 70], labels=[])\n",
        "axs[1, 1].set_xticks([0, 10 ,20, 30, 40, 50, 60, 70])\n",
        "\n",
        "axs[0, 1].set_yticks([0, 2 ,4, 6, 8, 10], labels=[])\n",
        "axs[1, 1].set_yticks([0, 0.2 ,0.4, 0.6, 0.8, 1], labels=[])\n",
        "\n",
        "fig.suptitle(\"Similar patient retrieval evaluation by number and rarity of comorbidities\")\n",
        "\n",
        "handles, labels = axs[0, 0].get_legend_handles_labels()\n",
        "fig.legend(handles, labels, bbox_to_anchor=(1.0, 0.9), loc='upper left')\n",
        "\n",
        "plt.rcParams.update({'font.size': 15})\n",
        "fig.tight_layout()\n",
        "\n",
        "plt.show()"
      ]
    }
  ],
  "metadata": {
    "kernel_info": {
      "name": "python310-sdkv2"
    },
    "kernelspec": {
      "display_name": "Python 3.10 - SDK v2",
      "language": "python",
      "name": "python310-sdkv2"
    },
    "language_info": {
      "codemirror_mode": {
        "name": "ipython",
        "version": 3
      },
      "file_extension": ".py",
      "mimetype": "text/x-python",
      "name": "python",
      "nbconvert_exporter": "python",
      "pygments_lexer": "ipython3",
      "version": "3.10.11"
    },
    "microsoft": {
      "host": {
        "AzureML": {
          "notebookHasBeenCompleted": true
        }
      },
      "ms_spell_check": {
        "ms_spell_check_language": "en"
      }
    },
    "nteract": {
      "version": "nteract-front-end@1.0.0"
    }
  },
  "nbformat": 4,
  "nbformat_minor": 2
}
