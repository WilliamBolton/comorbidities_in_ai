{
  "cells": [
    {
      "cell_type": "code",
      "execution_count": null,
      "metadata": {
        "gather": {
          "logged": 1674828185737
        }
      },
      "outputs": [],
      "source": [
        "# Libraries\n",
        "import pandas as pd\n",
        "pd.set_option('display.max_columns', 40)\n",
        "pd.set_option('display.width', 2000)\n",
        "\n",
        "\n",
        "from IPython.core.interactiveshell import InteractiveShell\n",
        "InteractiveShell.ast_node_interactivity = \"all\"\n",
        "\n",
        "%pip install \\\n",
        "--trusted-host 192.168.210.244 \\\n",
        "--index-url http://192.168.210.244:8081/repository/pypi/simple/ \\\n",
        "snowflake-connector-python"
      ]
    },
    {
      "cell_type": "code",
      "execution_count": 2,
      "metadata": {
        "gather": {
          "logged": 1674828199159
        },
        "jupyter": {
          "outputs_hidden": false,
          "source_hidden": false
        },
        "nteract": {
          "transient": {
            "deleting": false
          }
        }
      },
      "outputs": [
        {
          "name": "stderr",
          "output_type": "stream",
          "text": [
            "/anaconda/envs/azureml_py310_sdkv2/lib/python3.10/site-packages/snowflake/connector/options.py:96: UserWarning: You have an incompatible version of 'pyarrow' installed (6.0.0), please install a version that adheres to: 'pyarrow<8.1.0,>=8.0.0; extra == \"pandas\"'\n",
            "  warn_incompatible_dep(\n"
          ]
        },
        {
          "name": "stdout",
          "output_type": "stream",
          "text": [
            "Initiating login request with your identity provider. A browser window should have opened for you to complete the login. If you can't see it, check existing browser windows, or your OS settings. Press CTRL+C to abort and try again...\n",
            "We were unable to open a browser window for you, please open the following url manually then paste the URL you are redirected to into the terminal.\n",
            "URL: https://login.microsoftonline.com/be00e2c6-806c-45f8-84c3-3fc99f64b8d3/saml2?SAMLRequest=pZNLc9sgFEb%2FioauJaGHHYmxnHHtydRt2npiua8dRlc2NQIFkOX01xfL8Uy6SDbdMXAuHO4Hk9tTI7wjaMOVLFAUYOSBZKriclegTXnnZ8gzlsqKCiWhQE9g0O10YmgjWjLr7F4%2BwGMHxnpuI2nIsFCgTkuiqOGGSNqAIZaR9ezzPYkDTFqtrGJKoBclb1dQY0BbZ3gtqQx3entrWxKGfd8HfRIovQtjjHGI89BRZ%2BTdlT%2B5O73CRyFOz7wjHL56dnvP5aUFb2ltL5AhH8py5a%2B%2Brkvkza6qcyVN14Begz5yBpuH%2B4uAcQatTvMcx4FU2u596LRqIWg1P1ILgstDYKTqa0EPwFTTdtYdErhRWEMVCrXjrg%2FLRYHaA69GH%2Fs%2FzUY%2B%2FsTL8vdsCw2mc%2FaJJj9O28P3m3TB5ViVsGhHsGPI%2B3YNOj4HvTSmg6U8x2vdFI4TH0d%2BfFNGKcEJweMgT7NfyFu4eLmkdqi83mHwCBrOtDKqtko6cRgst4AxxGzsZ3jM%2FHRUZ36WssRPapbn9TjdZlUSnkOP0eUhkUFET%2F%2BzPZPw5WbPT%2FSLS225WCnB2ZN3p3RD7euhRkE0zPDKrweUQEO5mFWVBmNcuEKofq7BeRTI6g5QOL2c%2Bu9fmP4F&RelayState=44975\n"
          ]
        },
        {
          "data": {
            "text/plain": [
              "<snowflake.connector.cursor.SnowflakeCursor at 0x7f777e21eb00>"
            ]
          },
          "execution_count": 2,
          "metadata": {},
          "output_type": "execute_result"
        },
        {
          "name": "stdout",
          "output_type": "stream",
          "text": [
            "('7.3.0', 'ICHT_RG_COVOAM_22016_PROD', 'ICHT_WH_COVOAM_22016_PROD')\n"
          ]
        },
        {
          "data": {
            "text/plain": [
              "True"
            ]
          },
          "execution_count": 2,
          "metadata": {},
          "output_type": "execute_result"
        }
      ],
      "source": [
        "import json, snowflake.connector\n",
        "\n",
        "# establish the connection to snowflake\n",
        "ctx = snowflake.connector.connect( \n",
        "    **json.load(open('/opt/ich/python-snowflake-defaults.json')))\n",
        "    \n",
        "# verify and test if connection is working\n",
        "try: \n",
        "    cs = ctx.cursor() \n",
        "    cs.execute('SELECT current_version(), current_role(), current_warehouse()')\n",
        "    print(cs.fetchone())\n",
        "finally: \n",
        "    cs.close()"
      ]
    },
    {
      "cell_type": "markdown",
      "metadata": {
        "nteract": {
          "transient": {
            "deleting": false
          }
        }
      },
      "source": [
        "## Problem"
      ]
    },
    {
      "cell_type": "code",
      "execution_count": 5,
      "metadata": {
        "gather": {
          "logged": 1674747177677
        },
        "jupyter": {
          "outputs_hidden": false,
          "source_hidden": false
        },
        "nteract": {
          "transient": {
            "deleting": false
          }
        }
      },
      "outputs": [],
      "source": [
        "# Import \n",
        "query = '''\n",
        "SELECT * from ICHT_PROD.ICHT_COVID.PROBLEM\n",
        "'''\n",
        "cur = ctx.cursor().execute(query)\n",
        "problem_df = pd.DataFrame.from_records(iter(cur), columns=[x[0] for x in cur.description])"
      ]
    },
    {
      "cell_type": "code",
      "execution_count": 55,
      "metadata": {
        "gather": {
          "logged": 1674749101806
        },
        "jupyter": {
          "outputs_hidden": false,
          "source_hidden": false
        },
        "nteract": {
          "transient": {
            "deleting": false
          }
        }
      },
      "outputs": [],
      "source": [
        "# Filter for disorders\n",
        "filtered_problem_df = problem_df[['PROBLEM', 'PROBLEM_DESC']]\n",
        "filtered_problem_df = filtered_problem_df[filtered_problem_df['PROBLEM_DESC'].str.contains(\"\\(disorder\\)\")==True]\n",
        "filtered_problem_df.drop_duplicates(inplace=True)\n",
        "filtered_problem_df.reset_index(inplace=True, drop=True)"
      ]
    },
    {
      "cell_type": "code",
      "execution_count": 56,
      "metadata": {
        "gather": {
          "logged": 1674749105478
        },
        "jupyter": {
          "outputs_hidden": false,
          "source_hidden": false
        },
        "nteract": {
          "transient": {
            "deleting": false
          }
        }
      },
      "outputs": [],
      "source": [
        "# Get count\n",
        "counts = problem_df[['PROBLEM']].value_counts()\n",
        "counts = counts.reset_index()\n",
        "counts.columns = ['PROBLEM', 'count']\n",
        "# Merge\n",
        "filtered_problem_df2 = pd.merge(filtered_problem_df, counts, how='left', on='PROBLEM')"
      ]
    },
    {
      "cell_type": "code",
      "execution_count": 58,
      "metadata": {
        "gather": {
          "logged": 1674749120029
        },
        "jupyter": {
          "outputs_hidden": false,
          "source_hidden": false
        },
        "nteract": {
          "transient": {
            "deleting": false
          }
        }
      },
      "outputs": [],
      "source": [
        "# Drop duplicate\n",
        "filtered_problem_df2.drop_duplicates(subset=['PROBLEM'], inplace=True)\n",
        "# Sort \n",
        "filtered_problem_df2.sort_values(by=['count'], ascending=False, inplace=True)\n",
        "filtered_problem_df2.reset_index(inplace=True, drop=True)"
      ]
    },
    {
      "cell_type": "code",
      "execution_count": 66,
      "metadata": {
        "gather": {
          "logged": 1674749438714
        },
        "jupyter": {
          "outputs_hidden": false,
          "source_hidden": false
        },
        "nteract": {
          "transient": {
            "deleting": false
          }
        }
      },
      "outputs": [],
      "source": [
        "# Drop none\n",
        "filtered_problem_df3 = filtered_problem_df2[filtered_problem_df2['PROBLEM'].str.contains(\"ICD\")==False]"
      ]
    },
    {
      "cell_type": "code",
      "execution_count": 89,
      "metadata": {
        "gather": {
          "logged": 1674750832884
        },
        "jupyter": {
          "outputs_hidden": false,
          "source_hidden": false
        },
        "nteract": {
          "transient": {
            "deleting": false
          }
        }
      },
      "outputs": [],
      "source": [
        "# Filter for move than 5\n",
        "filtered_problem_df4 = filtered_problem_df3[filtered_problem_df3['count'] >= 5]"
      ]
    },
    {
      "cell_type": "code",
      "execution_count": 79,
      "metadata": {
        "gather": {
          "logged": 1674750179819
        },
        "jupyter": {
          "outputs_hidden": false,
          "source_hidden": false
        },
        "nteract": {
          "transient": {
            "deleting": false
          }
        }
      },
      "outputs": [],
      "source": [
        "# Save\n",
        "filtered_problem_df4.to_csv('snomed_problem_codes_morethan5.csv', index=False)"
      ]
    },
    {
      "cell_type": "markdown",
      "metadata": {
        "nteract": {
          "transient": {
            "deleting": false
          }
        }
      },
      "source": [
        "## Riskfactor"
      ]
    },
    {
      "cell_type": "code",
      "execution_count": 80,
      "metadata": {
        "gather": {
          "logged": 1674750539518
        },
        "jupyter": {
          "outputs_hidden": false,
          "source_hidden": false
        },
        "nteract": {
          "transient": {
            "deleting": false
          }
        }
      },
      "outputs": [],
      "source": [
        "# Import \n",
        "query = '''\n",
        "SELECT * from ICHT_PROD.ICHT_COVID.RISKFACTORS\n",
        "'''\n",
        "cur = ctx.cursor().execute(query)\n",
        "riskfactor_df = pd.DataFrame.from_records(iter(cur), columns=[x[0] for x in cur.description])"
      ]
    },
    {
      "cell_type": "code",
      "execution_count": 83,
      "metadata": {
        "gather": {
          "logged": 1674750773493
        },
        "jupyter": {
          "outputs_hidden": false,
          "source_hidden": false
        },
        "nteract": {
          "transient": {
            "deleting": false
          }
        }
      },
      "outputs": [],
      "source": [
        "# Filter for disorders\n",
        "filtered_riskfactor_df = riskfactor_df[['SNOMED_CODE', 'CODE_DESCRIPTION']]\n",
        "filtered_riskfactor_df = filtered_riskfactor_df[filtered_riskfactor_df['CODE_DESCRIPTION'].str.contains(\"\\(disorder\\)\")==True]\n",
        "filtered_riskfactor_df.drop_duplicates(inplace=True)\n",
        "filtered_riskfactor_df.reset_index(inplace=True, drop=True)"
      ]
    },
    {
      "cell_type": "code",
      "execution_count": 84,
      "metadata": {
        "gather": {
          "logged": 1674750774225
        },
        "jupyter": {
          "outputs_hidden": false,
          "source_hidden": false
        },
        "nteract": {
          "transient": {
            "deleting": false
          }
        }
      },
      "outputs": [],
      "source": [
        "# Get count\n",
        "counts = riskfactor_df[['SNOMED_CODE']].value_counts()\n",
        "counts = counts.reset_index()\n",
        "counts.columns = ['SNOMED_CODE', 'count']\n",
        "# Merge\n",
        "filtered_riskfactor_df2 = pd.merge(filtered_riskfactor_df, counts, how='left', on='SNOMED_CODE')"
      ]
    },
    {
      "cell_type": "code",
      "execution_count": 85,
      "metadata": {
        "gather": {
          "logged": 1674750775305
        },
        "jupyter": {
          "outputs_hidden": false,
          "source_hidden": false
        },
        "nteract": {
          "transient": {
            "deleting": false
          }
        }
      },
      "outputs": [],
      "source": [
        "# Drop duplicates\n",
        "filtered_riskfactor_df2.drop_duplicates(subset=['SNOMED_CODE'], inplace=True)\n",
        "# Sort \n",
        "filtered_riskfactor_df2.sort_values(by=['count'], ascending=False, inplace=True)\n",
        "filtered_riskfactor_df2.reset_index(inplace=True, drop=True)"
      ]
    },
    {
      "cell_type": "code",
      "execution_count": 87,
      "metadata": {
        "gather": {
          "logged": 1674750788203
        },
        "jupyter": {
          "outputs_hidden": false,
          "source_hidden": false
        },
        "nteract": {
          "transient": {
            "deleting": false
          }
        }
      },
      "outputs": [],
      "source": [
        "# Drop none\n",
        "filtered_riskfactor_df3 = filtered_riskfactor_df2[filtered_riskfactor_df2['SNOMED_CODE'].str.contains(\"ICD\")==False]"
      ]
    },
    {
      "cell_type": "code",
      "execution_count": 92,
      "metadata": {
        "gather": {
          "logged": 1674750862035
        },
        "jupyter": {
          "outputs_hidden": false,
          "source_hidden": false
        },
        "nteract": {
          "transient": {
            "deleting": false
          }
        }
      },
      "outputs": [],
      "source": [
        "# Filter for move than 5\n",
        "filtered_riskfactor_df4 = filtered_riskfactor_df3[filtered_riskfactor_df3['count'] >= 5]"
      ]
    },
    {
      "cell_type": "code",
      "execution_count": 96,
      "metadata": {
        "gather": {
          "logged": 1674750944976
        },
        "jupyter": {
          "outputs_hidden": false,
          "source_hidden": false
        },
        "nteract": {
          "transient": {
            "deleting": false
          }
        }
      },
      "outputs": [],
      "source": [
        "# Save\n",
        "filtered_riskfactor_df4.to_csv('snomed_riskfactor_codes_morethan5.csv', index=False)"
      ]
    },
    {
      "cell_type": "markdown",
      "metadata": {
        "nteract": {
          "transient": {
            "deleting": false
          }
        }
      },
      "source": [
        "## Diagnosis"
      ]
    },
    {
      "cell_type": "code",
      "execution_count": 3,
      "metadata": {
        "gather": {
          "logged": 1674828242021
        },
        "jupyter": {
          "outputs_hidden": false,
          "source_hidden": false
        },
        "nteract": {
          "transient": {
            "deleting": false
          }
        }
      },
      "outputs": [],
      "source": [
        "# Import \n",
        "query = '''\n",
        "SELECT * from ICHT_PROD.ICHT_COVID.EPISODES_DIAGNOSIS\n",
        "'''\n",
        "cur = ctx.cursor().execute(query)\n",
        "diagnosis_df = pd.DataFrame.from_records(iter(cur), columns=[x[0] for x in cur.description])"
      ]
    },
    {
      "cell_type": "code",
      "execution_count": 113,
      "metadata": {
        "gather": {
          "logged": 1674751869432
        },
        "jupyter": {
          "outputs_hidden": false,
          "source_hidden": false
        },
        "nteract": {
          "transient": {
            "deleting": false
          }
        }
      },
      "outputs": [],
      "source": [
        "# Filter for disorders\n",
        "filtered_diagnosis_df = diagnosis_df[['DIAGNOSIS_CODE_SNOMED', 'DIAGNOSIS_DESCRIPTION_SNOMED']]\n",
        "filtered_diagnosis_df = filtered_diagnosis_df[filtered_diagnosis_df['DIAGNOSIS_DESCRIPTION_SNOMED'].str.contains(\"\\(disorder\\)\")==True]\n",
        "filtered_diagnosis_df.drop_duplicates(inplace=True)\n",
        "filtered_diagnosis_df.reset_index(inplace=True, drop=True)\n",
        "# Get count\n",
        "counts = diagnosis_df[['DIAGNOSIS_CODE_SNOMED']].value_counts()\n",
        "counts = counts.reset_index()\n",
        "counts.columns = ['DIAGNOSIS_CODE_SNOMED', 'count']\n",
        "# Merge\n",
        "filtered_diagnosis_df2 = pd.merge(filtered_diagnosis_df, counts, how='left', on='DIAGNOSIS_CODE_SNOMED')\n",
        "# Drop duplicates\n",
        "filtered_diagnosis_df2.drop_duplicates(subset=['DIAGNOSIS_CODE_SNOMED'], inplace=True)\n",
        "# Sort \n",
        "filtered_diagnosis_df2.sort_values(by=['count'], ascending=False, inplace=True)\n",
        "filtered_diagnosis_df2.reset_index(inplace=True, drop=True)\n",
        "# Drop none\n",
        "filtered_diagnosis_df3 = filtered_diagnosis_df2[filtered_diagnosis_df2['DIAGNOSIS_CODE_SNOMED'].str.contains(\"ICD\")==False]\n",
        "# Filter for move than 5\n",
        "filtered_diagnosis_df4 = filtered_diagnosis_df3[filtered_diagnosis_df3['count'] >= 5]"
      ]
    },
    {
      "cell_type": "code",
      "execution_count": null,
      "metadata": {
        "gather": {
          "logged": 1674751873514
        },
        "jupyter": {
          "outputs_hidden": false,
          "source_hidden": false
        },
        "nteract": {
          "transient": {
            "deleting": false
          }
        }
      },
      "outputs": [],
      "source": [
        "# Remove SNOMED string\n",
        "filtered_diagnosis_df4['DIAGNOSIS_CODE_SNOMED'] = filtered_diagnosis_df4['DIAGNOSIS_CODE_SNOMED'].str.replace('SNOMED!', '')"
      ]
    },
    {
      "cell_type": "code",
      "execution_count": 117,
      "metadata": {
        "gather": {
          "logged": 1674751881885
        },
        "jupyter": {
          "outputs_hidden": false,
          "source_hidden": false
        },
        "nteract": {
          "transient": {
            "deleting": false
          }
        }
      },
      "outputs": [],
      "source": [
        "# Save\n",
        "filtered_diagnosis_df4.to_csv('snomed_diagnosis_codes_morethan5.csv', index=False)"
      ]
    }
  ],
  "metadata": {
    "kernel_info": {
      "name": "python310-sdkv2"
    },
    "kernelspec": {
      "display_name": "Python 3.10 - SDK v2",
      "language": "python",
      "name": "python310-sdkv2"
    },
    "language_info": {
      "codemirror_mode": {
        "name": "ipython",
        "version": 3
      },
      "file_extension": ".py",
      "mimetype": "text/x-python",
      "name": "python",
      "nbconvert_exporter": "python",
      "pygments_lexer": "ipython3",
      "version": "3.10.11"
    },
    "microsoft": {
      "host": {
        "AzureML": {
          "notebookHasBeenCompleted": true
        }
      },
      "ms_spell_check": {
        "ms_spell_check_language": "en"
      }
    },
    "nteract": {
      "version": "nteract-front-end@1.0.0"
    }
  },
  "nbformat": 4,
  "nbformat_minor": 2
}
