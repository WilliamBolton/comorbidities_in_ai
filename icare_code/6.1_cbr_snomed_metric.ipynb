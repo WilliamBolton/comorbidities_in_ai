{
  "cells": [
    {
      "cell_type": "code",
      "execution_count": 2,
      "metadata": {
        "gather": {
          "logged": 1700613822172
        }
      },
      "outputs": [],
      "source": [
        "# Libraries\n",
        "import numpy as np\n",
        "import pandas as pd\n",
        "pd.set_option('display.max_columns', 40)\n",
        "pd.set_option('display.width', 2000)\n",
        "import matplotlib as mpl\n",
        "import matplotlib.pyplot as plt\n",
        "import random\n",
        "from scipy import spatial\n",
        "\n",
        "from IPython.core.interactiveshell import InteractiveShell\n",
        "InteractiveShell.ast_node_interactivity = \"all\""
      ]
    },
    {
      "cell_type": "markdown",
      "metadata": {},
      "source": [
        "# Our method"
      ]
    },
    {
      "cell_type": "code",
      "execution_count": 3,
      "metadata": {
        "gather": {
          "logged": 1699217899464
        },
        "jupyter": {
          "outputs_hidden": false,
          "source_hidden": false
        },
        "nteract": {
          "transient": {
            "deleting": false
          }
        }
      },
      "outputs": [],
      "source": [
        "# Import\n",
        "path = r'data/trimmed_patient_embedding_128d.csv'\n",
        "patients_embeddings = pd.read_csv(path, index_col=0)"
      ]
    },
    {
      "cell_type": "code",
      "execution_count": null,
      "metadata": {
        "gather": {
          "logged": 1684830782523
        },
        "jupyter": {
          "outputs_hidden": false,
          "source_hidden": false
        },
        "nteract": {
          "transient": {
            "deleting": false
          }
        }
      },
      "outputs": [],
      "source": [
        "# Import\n",
        "path = r'data/final_problem_dummies.csv'\n",
        "problem_dummies = pd.read_csv(path)"
      ]
    },
    {
      "cell_type": "code",
      "execution_count": null,
      "metadata": {
        "gather": {
          "logged": 1684830782691
        },
        "jupyter": {
          "outputs_hidden": false,
          "source_hidden": false
        },
        "nteract": {
          "transient": {
            "deleting": false
          }
        }
      },
      "outputs": [],
      "source": [
        "# Drop columns\n",
        "problem_dummies.drop(columns=['SUBJECT', 'PROBLEM_DT_TM'], inplace=True)\n",
        "# Remove prefix\n",
        "problem_dummies.columns = problem_dummies.columns.str.strip('PROBLEM_')\n",
        "# Set index\n",
        "problem_dummies.set_index('new_subject', inplace=True)"
      ]
    },
    {
      "cell_type": "code",
      "execution_count": 4,
      "metadata": {
        "gather": {
          "logged": 1699218689752
        },
        "jupyter": {
          "outputs_hidden": false,
          "source_hidden": false
        },
        "nteract": {
          "transient": {
            "deleting": false
          }
        }
      },
      "outputs": [],
      "source": [
        "# Get closest point for each point\n",
        "distance, index = spatial.KDTree(patients_embeddings).query(patients_embeddings, k=2)"
      ]
    },
    {
      "cell_type": "code",
      "execution_count": null,
      "metadata": {
        "gather": {
          "logged": 1699218912547
        },
        "jupyter": {
          "outputs_hidden": false,
          "source_hidden": false
        },
        "nteract": {
          "transient": {
            "deleting": false
          }
        }
      },
      "outputs": [],
      "source": [
        "# Create df\n",
        "index_df = pd.DataFrame(index, columns=['0', '1'])\n",
        "# Filter for where closest is self - i.e., unique\n",
        "filtered_index_df = index_df[index_df['0'] == index_df.index]\n",
        "filtered_index_df "
      ]
    },
    {
      "cell_type": "code",
      "execution_count": 7,
      "metadata": {
        "gather": {
          "logged": 1684831899049
        },
        "jupyter": {
          "outputs_hidden": false,
          "source_hidden": false
        },
        "nteract": {
          "transient": {
            "deleting": false
          }
        }
      },
      "outputs": [],
      "source": [
        "# Save\n",
        "import pickle\n",
        "no_match_patients_list = filtered_index_df.index.tolist()\n",
        "with open('no_match_patients_list.pickle', 'wb') as handle:\n",
        "    pickle.dump(no_match_patients_list, handle)"
      ]
    },
    {
      "cell_type": "code",
      "execution_count": 9,
      "metadata": {
        "gather": {
          "logged": 1684831913157
        },
        "jupyter": {
          "outputs_hidden": false,
          "source_hidden": false
        },
        "nteract": {
          "transient": {
            "deleting": false
          }
        }
      },
      "outputs": [
        {
          "data": {
            "text/plain": [
              "32251"
            ]
          },
          "execution_count": 9,
          "metadata": {},
          "output_type": "execute_result"
        }
      ],
      "source": [
        "len(no_match_patients_list)"
      ]
    },
    {
      "cell_type": "code",
      "execution_count": 29,
      "metadata": {
        "gather": {
          "logged": 1684500374950
        },
        "jupyter": {
          "outputs_hidden": false,
          "source_hidden": false
        },
        "nteract": {
          "transient": {
            "deleting": false
          }
        }
      },
      "outputs": [],
      "source": [
        "# Get random list of 1000 patients\n",
        "# Doing it post calculation so that we can select for patients where there is no exact match!\n",
        "random_list = list(filtered_index_df.index)\n",
        "random.Random(0).shuffle(random_list)\n",
        "random_list = random_list[:1000]"
      ]
    },
    {
      "cell_type": "code",
      "execution_count": 31,
      "metadata": {
        "gather": {
          "logged": 1684500500914
        },
        "jupyter": {
          "outputs_hidden": false,
          "source_hidden": false
        },
        "nteract": {
          "transient": {
            "deleting": false
          }
        }
      },
      "outputs": [],
      "source": [
        "# filter problem_dummies for random patients \n",
        "filtered_index_df2 = filtered_index_df.loc[random_list]"
      ]
    },
    {
      "cell_type": "code",
      "execution_count": 33,
      "metadata": {
        "gather": {
          "logged": 1684501617718
        },
        "jupyter": {
          "outputs_hidden": false,
          "source_hidden": false
        },
        "nteract": {
          "transient": {
            "deleting": false
          }
        }
      },
      "outputs": [],
      "source": [
        "# Save\n",
        "#filtered_index_df2.to_csv('cbr_metric_my_method.csv')"
      ]
    },
    {
      "cell_type": "code",
      "execution_count": 66,
      "metadata": {
        "gather": {
          "logged": 1684502762866
        },
        "jupyter": {
          "outputs_hidden": false,
          "source_hidden": false
        },
        "nteract": {
          "transient": {
            "deleting": false
          }
        }
      },
      "outputs": [],
      "source": [
        "# Import\n",
        "path = r'data/international_snomed_distance.csv'\n",
        "snomed_distance = pd.read_csv(path, index_col=0)\n",
        "snomed_distance.index = snomed_distance.index.astype(str)\n",
        "snomed_distance.columns = snomed_distance.columns.astype(str)\n",
        "# Add 1 to df\n",
        "snomed_distance = snomed_distance+1"
      ]
    },
    {
      "cell_type": "code",
      "execution_count": 68,
      "metadata": {
        "gather": {
          "logged": 1684502763716
        },
        "jupyter": {
          "outputs_hidden": false,
          "source_hidden": false
        },
        "nteract": {
          "transient": {
            "deleting": false
          }
        }
      },
      "outputs": [
        {
          "data": {
            "text/html": [
              "<div>\n",
              "<style scoped>\n",
              "    .dataframe tbody tr th:only-of-type {\n",
              "        vertical-align: middle;\n",
              "    }\n",
              "\n",
              "    .dataframe tbody tr th {\n",
              "        vertical-align: top;\n",
              "    }\n",
              "\n",
              "    .dataframe thead th {\n",
              "        text-align: right;\n",
              "    }\n",
              "</style>\n",
              "<table border=\"1\" class=\"dataframe\">\n",
              "  <thead>\n",
              "    <tr style=\"text-align: right;\">\n",
              "      <th></th>\n",
              "      <th>52011008</th>\n",
              "      <th>202752002</th>\n",
              "      <th>197632002</th>\n",
              "      <th>205824006</th>\n",
              "      <th>423125000</th>\n",
              "      <th>90325002</th>\n",
              "      <th>38101003</th>\n",
              "      <th>295125005</th>\n",
              "      <th>127189005</th>\n",
              "      <th>372138000</th>\n",
              "      <th>61653009</th>\n",
              "      <th>282026002</th>\n",
              "      <th>78250005</th>\n",
              "      <th>203178006</th>\n",
              "      <th>162218007</th>\n",
              "      <th>146801000119103</th>\n",
              "      <th>15188001</th>\n",
              "      <th>302932006</th>\n",
              "      <th>2089002</th>\n",
              "      <th>230654000</th>\n",
              "      <th>...</th>\n",
              "      <th>52781008</th>\n",
              "      <th>403202002</th>\n",
              "      <th>400130008</th>\n",
              "      <th>232407000</th>\n",
              "      <th>254935002</th>\n",
              "      <th>18391007</th>\n",
              "      <th>125501000119105</th>\n",
              "      <th>93143009</th>\n",
              "      <th>230572002</th>\n",
              "      <th>723116002</th>\n",
              "      <th>40108008</th>\n",
              "      <th>415105001</th>\n",
              "      <th>41345002</th>\n",
              "      <th>371073003</th>\n",
              "      <th>5505005</th>\n",
              "      <th>425558002</th>\n",
              "      <th>262955000</th>\n",
              "      <th>367403001</th>\n",
              "      <th>109355002</th>\n",
              "      <th>65323003</th>\n",
              "    </tr>\n",
              "  </thead>\n",
              "  <tbody>\n",
              "    <tr>\n",
              "      <th>52011008</th>\n",
              "      <td>1.0</td>\n",
              "      <td>5.0</td>\n",
              "      <td>6.0</td>\n",
              "      <td>5.0</td>\n",
              "      <td>3.0</td>\n",
              "      <td>5.0</td>\n",
              "      <td>6.0</td>\n",
              "      <td>6.0</td>\n",
              "      <td>6.0</td>\n",
              "      <td>6.0</td>\n",
              "      <td>4.0</td>\n",
              "      <td>3.0</td>\n",
              "      <td>6.0</td>\n",
              "      <td>5.0</td>\n",
              "      <td>7.0</td>\n",
              "      <td>6.0</td>\n",
              "      <td>5.0</td>\n",
              "      <td>5.0</td>\n",
              "      <td>3.0</td>\n",
              "      <td>5.0</td>\n",
              "      <td>...</td>\n",
              "      <td>4.0</td>\n",
              "      <td>5.0</td>\n",
              "      <td>5.0</td>\n",
              "      <td>5.0</td>\n",
              "      <td>5.0</td>\n",
              "      <td>6.0</td>\n",
              "      <td>6.0</td>\n",
              "      <td>6.0</td>\n",
              "      <td>5.0</td>\n",
              "      <td>6.0</td>\n",
              "      <td>5.0</td>\n",
              "      <td>5.0</td>\n",
              "      <td>4.0</td>\n",
              "      <td>6.0</td>\n",
              "      <td>6.0</td>\n",
              "      <td>6.0</td>\n",
              "      <td>5.0</td>\n",
              "      <td>6.0</td>\n",
              "      <td>5.0</td>\n",
              "      <td>5.0</td>\n",
              "    </tr>\n",
              "    <tr>\n",
              "      <th>202752002</th>\n",
              "      <td>5.0</td>\n",
              "      <td>1.0</td>\n",
              "      <td>7.0</td>\n",
              "      <td>5.0</td>\n",
              "      <td>5.0</td>\n",
              "      <td>5.0</td>\n",
              "      <td>6.0</td>\n",
              "      <td>7.0</td>\n",
              "      <td>5.0</td>\n",
              "      <td>6.0</td>\n",
              "      <td>6.0</td>\n",
              "      <td>4.0</td>\n",
              "      <td>5.0</td>\n",
              "      <td>5.0</td>\n",
              "      <td>7.0</td>\n",
              "      <td>5.0</td>\n",
              "      <td>6.0</td>\n",
              "      <td>5.0</td>\n",
              "      <td>4.0</td>\n",
              "      <td>5.0</td>\n",
              "      <td>...</td>\n",
              "      <td>4.0</td>\n",
              "      <td>6.0</td>\n",
              "      <td>5.0</td>\n",
              "      <td>5.0</td>\n",
              "      <td>5.0</td>\n",
              "      <td>6.0</td>\n",
              "      <td>6.0</td>\n",
              "      <td>5.0</td>\n",
              "      <td>4.0</td>\n",
              "      <td>4.0</td>\n",
              "      <td>5.0</td>\n",
              "      <td>5.0</td>\n",
              "      <td>5.0</td>\n",
              "      <td>6.0</td>\n",
              "      <td>5.0</td>\n",
              "      <td>6.0</td>\n",
              "      <td>5.0</td>\n",
              "      <td>6.0</td>\n",
              "      <td>5.0</td>\n",
              "      <td>5.0</td>\n",
              "    </tr>\n",
              "    <tr>\n",
              "      <th>197632002</th>\n",
              "      <td>6.0</td>\n",
              "      <td>7.0</td>\n",
              "      <td>1.0</td>\n",
              "      <td>7.0</td>\n",
              "      <td>8.0</td>\n",
              "      <td>7.0</td>\n",
              "      <td>7.0</td>\n",
              "      <td>9.0</td>\n",
              "      <td>8.0</td>\n",
              "      <td>8.0</td>\n",
              "      <td>7.0</td>\n",
              "      <td>6.0</td>\n",
              "      <td>7.0</td>\n",
              "      <td>7.0</td>\n",
              "      <td>9.0</td>\n",
              "      <td>7.0</td>\n",
              "      <td>6.0</td>\n",
              "      <td>8.0</td>\n",
              "      <td>6.0</td>\n",
              "      <td>7.0</td>\n",
              "      <td>...</td>\n",
              "      <td>7.0</td>\n",
              "      <td>8.0</td>\n",
              "      <td>7.0</td>\n",
              "      <td>7.0</td>\n",
              "      <td>7.0</td>\n",
              "      <td>8.0</td>\n",
              "      <td>8.0</td>\n",
              "      <td>8.0</td>\n",
              "      <td>7.0</td>\n",
              "      <td>8.0</td>\n",
              "      <td>7.0</td>\n",
              "      <td>7.0</td>\n",
              "      <td>7.0</td>\n",
              "      <td>8.0</td>\n",
              "      <td>6.0</td>\n",
              "      <td>8.0</td>\n",
              "      <td>7.0</td>\n",
              "      <td>7.0</td>\n",
              "      <td>7.0</td>\n",
              "      <td>7.0</td>\n",
              "    </tr>\n",
              "    <tr>\n",
              "      <th>205824006</th>\n",
              "      <td>5.0</td>\n",
              "      <td>5.0</td>\n",
              "      <td>7.0</td>\n",
              "      <td>1.0</td>\n",
              "      <td>5.0</td>\n",
              "      <td>5.0</td>\n",
              "      <td>5.0</td>\n",
              "      <td>6.0</td>\n",
              "      <td>6.0</td>\n",
              "      <td>4.0</td>\n",
              "      <td>5.0</td>\n",
              "      <td>4.0</td>\n",
              "      <td>5.0</td>\n",
              "      <td>5.0</td>\n",
              "      <td>7.0</td>\n",
              "      <td>5.0</td>\n",
              "      <td>4.0</td>\n",
              "      <td>6.0</td>\n",
              "      <td>4.0</td>\n",
              "      <td>5.0</td>\n",
              "      <td>...</td>\n",
              "      <td>4.0</td>\n",
              "      <td>6.0</td>\n",
              "      <td>5.0</td>\n",
              "      <td>4.0</td>\n",
              "      <td>5.0</td>\n",
              "      <td>7.0</td>\n",
              "      <td>6.0</td>\n",
              "      <td>5.0</td>\n",
              "      <td>5.0</td>\n",
              "      <td>6.0</td>\n",
              "      <td>4.0</td>\n",
              "      <td>5.0</td>\n",
              "      <td>4.0</td>\n",
              "      <td>4.0</td>\n",
              "      <td>5.0</td>\n",
              "      <td>6.0</td>\n",
              "      <td>5.0</td>\n",
              "      <td>5.0</td>\n",
              "      <td>5.0</td>\n",
              "      <td>5.0</td>\n",
              "    </tr>\n",
              "    <tr>\n",
              "      <th>423125000</th>\n",
              "      <td>3.0</td>\n",
              "      <td>5.0</td>\n",
              "      <td>8.0</td>\n",
              "      <td>5.0</td>\n",
              "      <td>1.0</td>\n",
              "      <td>6.0</td>\n",
              "      <td>6.0</td>\n",
              "      <td>6.0</td>\n",
              "      <td>6.0</td>\n",
              "      <td>5.0</td>\n",
              "      <td>4.0</td>\n",
              "      <td>4.0</td>\n",
              "      <td>6.0</td>\n",
              "      <td>5.0</td>\n",
              "      <td>8.0</td>\n",
              "      <td>6.0</td>\n",
              "      <td>5.0</td>\n",
              "      <td>5.0</td>\n",
              "      <td>4.0</td>\n",
              "      <td>5.0</td>\n",
              "      <td>...</td>\n",
              "      <td>4.0</td>\n",
              "      <td>6.0</td>\n",
              "      <td>5.0</td>\n",
              "      <td>5.0</td>\n",
              "      <td>5.0</td>\n",
              "      <td>6.0</td>\n",
              "      <td>7.0</td>\n",
              "      <td>5.0</td>\n",
              "      <td>5.0</td>\n",
              "      <td>6.0</td>\n",
              "      <td>7.0</td>\n",
              "      <td>5.0</td>\n",
              "      <td>4.0</td>\n",
              "      <td>7.0</td>\n",
              "      <td>6.0</td>\n",
              "      <td>6.0</td>\n",
              "      <td>4.0</td>\n",
              "      <td>6.0</td>\n",
              "      <td>5.0</td>\n",
              "      <td>6.0</td>\n",
              "    </tr>\n",
              "    <tr>\n",
              "      <th>...</th>\n",
              "      <td>...</td>\n",
              "      <td>...</td>\n",
              "      <td>...</td>\n",
              "      <td>...</td>\n",
              "      <td>...</td>\n",
              "      <td>...</td>\n",
              "      <td>...</td>\n",
              "      <td>...</td>\n",
              "      <td>...</td>\n",
              "      <td>...</td>\n",
              "      <td>...</td>\n",
              "      <td>...</td>\n",
              "      <td>...</td>\n",
              "      <td>...</td>\n",
              "      <td>...</td>\n",
              "      <td>...</td>\n",
              "      <td>...</td>\n",
              "      <td>...</td>\n",
              "      <td>...</td>\n",
              "      <td>...</td>\n",
              "      <td>...</td>\n",
              "      <td>...</td>\n",
              "      <td>...</td>\n",
              "      <td>...</td>\n",
              "      <td>...</td>\n",
              "      <td>...</td>\n",
              "      <td>...</td>\n",
              "      <td>...</td>\n",
              "      <td>...</td>\n",
              "      <td>...</td>\n",
              "      <td>...</td>\n",
              "      <td>...</td>\n",
              "      <td>...</td>\n",
              "      <td>...</td>\n",
              "      <td>...</td>\n",
              "      <td>...</td>\n",
              "      <td>...</td>\n",
              "      <td>...</td>\n",
              "      <td>...</td>\n",
              "      <td>...</td>\n",
              "      <td>...</td>\n",
              "    </tr>\n",
              "    <tr>\n",
              "      <th>425558002</th>\n",
              "      <td>6.0</td>\n",
              "      <td>6.0</td>\n",
              "      <td>8.0</td>\n",
              "      <td>6.0</td>\n",
              "      <td>6.0</td>\n",
              "      <td>6.0</td>\n",
              "      <td>7.0</td>\n",
              "      <td>6.0</td>\n",
              "      <td>6.0</td>\n",
              "      <td>6.0</td>\n",
              "      <td>7.0</td>\n",
              "      <td>4.0</td>\n",
              "      <td>6.0</td>\n",
              "      <td>6.0</td>\n",
              "      <td>8.0</td>\n",
              "      <td>6.0</td>\n",
              "      <td>6.0</td>\n",
              "      <td>7.0</td>\n",
              "      <td>5.0</td>\n",
              "      <td>6.0</td>\n",
              "      <td>...</td>\n",
              "      <td>5.0</td>\n",
              "      <td>6.0</td>\n",
              "      <td>6.0</td>\n",
              "      <td>6.0</td>\n",
              "      <td>5.0</td>\n",
              "      <td>6.0</td>\n",
              "      <td>6.0</td>\n",
              "      <td>6.0</td>\n",
              "      <td>6.0</td>\n",
              "      <td>6.0</td>\n",
              "      <td>6.0</td>\n",
              "      <td>5.0</td>\n",
              "      <td>6.0</td>\n",
              "      <td>7.0</td>\n",
              "      <td>6.0</td>\n",
              "      <td>1.0</td>\n",
              "      <td>6.0</td>\n",
              "      <td>5.0</td>\n",
              "      <td>4.0</td>\n",
              "      <td>6.0</td>\n",
              "    </tr>\n",
              "    <tr>\n",
              "      <th>262955000</th>\n",
              "      <td>5.0</td>\n",
              "      <td>5.0</td>\n",
              "      <td>7.0</td>\n",
              "      <td>5.0</td>\n",
              "      <td>4.0</td>\n",
              "      <td>5.0</td>\n",
              "      <td>6.0</td>\n",
              "      <td>6.0</td>\n",
              "      <td>6.0</td>\n",
              "      <td>6.0</td>\n",
              "      <td>5.0</td>\n",
              "      <td>4.0</td>\n",
              "      <td>5.0</td>\n",
              "      <td>5.0</td>\n",
              "      <td>7.0</td>\n",
              "      <td>5.0</td>\n",
              "      <td>5.0</td>\n",
              "      <td>6.0</td>\n",
              "      <td>5.0</td>\n",
              "      <td>4.0</td>\n",
              "      <td>...</td>\n",
              "      <td>5.0</td>\n",
              "      <td>6.0</td>\n",
              "      <td>4.0</td>\n",
              "      <td>5.0</td>\n",
              "      <td>4.0</td>\n",
              "      <td>6.0</td>\n",
              "      <td>6.0</td>\n",
              "      <td>6.0</td>\n",
              "      <td>5.0</td>\n",
              "      <td>7.0</td>\n",
              "      <td>5.0</td>\n",
              "      <td>4.0</td>\n",
              "      <td>5.0</td>\n",
              "      <td>6.0</td>\n",
              "      <td>5.0</td>\n",
              "      <td>6.0</td>\n",
              "      <td>1.0</td>\n",
              "      <td>5.0</td>\n",
              "      <td>5.0</td>\n",
              "      <td>5.0</td>\n",
              "    </tr>\n",
              "    <tr>\n",
              "      <th>367403001</th>\n",
              "      <td>6.0</td>\n",
              "      <td>6.0</td>\n",
              "      <td>7.0</td>\n",
              "      <td>5.0</td>\n",
              "      <td>6.0</td>\n",
              "      <td>4.0</td>\n",
              "      <td>7.0</td>\n",
              "      <td>7.0</td>\n",
              "      <td>6.0</td>\n",
              "      <td>5.0</td>\n",
              "      <td>7.0</td>\n",
              "      <td>5.0</td>\n",
              "      <td>5.0</td>\n",
              "      <td>6.0</td>\n",
              "      <td>8.0</td>\n",
              "      <td>6.0</td>\n",
              "      <td>6.0</td>\n",
              "      <td>6.0</td>\n",
              "      <td>6.0</td>\n",
              "      <td>5.0</td>\n",
              "      <td>...</td>\n",
              "      <td>5.0</td>\n",
              "      <td>7.0</td>\n",
              "      <td>5.0</td>\n",
              "      <td>5.0</td>\n",
              "      <td>4.0</td>\n",
              "      <td>7.0</td>\n",
              "      <td>6.0</td>\n",
              "      <td>5.0</td>\n",
              "      <td>5.0</td>\n",
              "      <td>7.0</td>\n",
              "      <td>6.0</td>\n",
              "      <td>5.0</td>\n",
              "      <td>6.0</td>\n",
              "      <td>6.0</td>\n",
              "      <td>6.0</td>\n",
              "      <td>5.0</td>\n",
              "      <td>5.0</td>\n",
              "      <td>1.0</td>\n",
              "      <td>5.0</td>\n",
              "      <td>6.0</td>\n",
              "    </tr>\n",
              "    <tr>\n",
              "      <th>109355002</th>\n",
              "      <td>5.0</td>\n",
              "      <td>5.0</td>\n",
              "      <td>7.0</td>\n",
              "      <td>5.0</td>\n",
              "      <td>5.0</td>\n",
              "      <td>5.0</td>\n",
              "      <td>5.0</td>\n",
              "      <td>6.0</td>\n",
              "      <td>5.0</td>\n",
              "      <td>5.0</td>\n",
              "      <td>5.0</td>\n",
              "      <td>5.0</td>\n",
              "      <td>6.0</td>\n",
              "      <td>5.0</td>\n",
              "      <td>7.0</td>\n",
              "      <td>4.0</td>\n",
              "      <td>5.0</td>\n",
              "      <td>6.0</td>\n",
              "      <td>5.0</td>\n",
              "      <td>4.0</td>\n",
              "      <td>...</td>\n",
              "      <td>5.0</td>\n",
              "      <td>5.0</td>\n",
              "      <td>5.0</td>\n",
              "      <td>5.0</td>\n",
              "      <td>4.0</td>\n",
              "      <td>6.0</td>\n",
              "      <td>6.0</td>\n",
              "      <td>4.0</td>\n",
              "      <td>5.0</td>\n",
              "      <td>6.0</td>\n",
              "      <td>5.0</td>\n",
              "      <td>4.0</td>\n",
              "      <td>5.0</td>\n",
              "      <td>6.0</td>\n",
              "      <td>5.0</td>\n",
              "      <td>4.0</td>\n",
              "      <td>5.0</td>\n",
              "      <td>5.0</td>\n",
              "      <td>1.0</td>\n",
              "      <td>5.0</td>\n",
              "    </tr>\n",
              "    <tr>\n",
              "      <th>65323003</th>\n",
              "      <td>5.0</td>\n",
              "      <td>5.0</td>\n",
              "      <td>7.0</td>\n",
              "      <td>5.0</td>\n",
              "      <td>6.0</td>\n",
              "      <td>5.0</td>\n",
              "      <td>5.0</td>\n",
              "      <td>7.0</td>\n",
              "      <td>6.0</td>\n",
              "      <td>6.0</td>\n",
              "      <td>6.0</td>\n",
              "      <td>4.0</td>\n",
              "      <td>6.0</td>\n",
              "      <td>5.0</td>\n",
              "      <td>7.0</td>\n",
              "      <td>5.0</td>\n",
              "      <td>5.0</td>\n",
              "      <td>6.0</td>\n",
              "      <td>5.0</td>\n",
              "      <td>3.0</td>\n",
              "      <td>...</td>\n",
              "      <td>5.0</td>\n",
              "      <td>6.0</td>\n",
              "      <td>3.0</td>\n",
              "      <td>5.0</td>\n",
              "      <td>5.0</td>\n",
              "      <td>7.0</td>\n",
              "      <td>6.0</td>\n",
              "      <td>6.0</td>\n",
              "      <td>4.0</td>\n",
              "      <td>6.0</td>\n",
              "      <td>5.0</td>\n",
              "      <td>5.0</td>\n",
              "      <td>5.0</td>\n",
              "      <td>6.0</td>\n",
              "      <td>6.0</td>\n",
              "      <td>6.0</td>\n",
              "      <td>5.0</td>\n",
              "      <td>6.0</td>\n",
              "      <td>5.0</td>\n",
              "      <td>1.0</td>\n",
              "    </tr>\n",
              "  </tbody>\n",
              "</table>\n",
              "<p>2694 rows × 2694 columns</p>\n",
              "</div>"
            ],
            "text/plain": [
              "           52011008  202752002  197632002  205824006  423125000  90325002  38101003  295125005  127189005  372138000  61653009  282026002  78250005  203178006  162218007  146801000119103  15188001  302932006  2089002  230654000  ...  52781008  403202002  400130008  232407000  254935002  18391007  125501000119105  93143009  230572002  723116002  40108008  415105001  41345002  371073003  5505005  425558002  262955000  367403001  109355002  65323003\n",
              "52011008        1.0        5.0        6.0        5.0        3.0       5.0       6.0        6.0        6.0        6.0       4.0        3.0       6.0        5.0        7.0              6.0       5.0        5.0      3.0        5.0  ...       4.0        5.0        5.0        5.0        5.0       6.0              6.0       6.0        5.0        6.0       5.0        5.0       4.0        6.0      6.0        6.0        5.0        6.0        5.0       5.0\n",
              "202752002       5.0        1.0        7.0        5.0        5.0       5.0       6.0        7.0        5.0        6.0       6.0        4.0       5.0        5.0        7.0              5.0       6.0        5.0      4.0        5.0  ...       4.0        6.0        5.0        5.0        5.0       6.0              6.0       5.0        4.0        4.0       5.0        5.0       5.0        6.0      5.0        6.0        5.0        6.0        5.0       5.0\n",
              "197632002       6.0        7.0        1.0        7.0        8.0       7.0       7.0        9.0        8.0        8.0       7.0        6.0       7.0        7.0        9.0              7.0       6.0        8.0      6.0        7.0  ...       7.0        8.0        7.0        7.0        7.0       8.0              8.0       8.0        7.0        8.0       7.0        7.0       7.0        8.0      6.0        8.0        7.0        7.0        7.0       7.0\n",
              "205824006       5.0        5.0        7.0        1.0        5.0       5.0       5.0        6.0        6.0        4.0       5.0        4.0       5.0        5.0        7.0              5.0       4.0        6.0      4.0        5.0  ...       4.0        6.0        5.0        4.0        5.0       7.0              6.0       5.0        5.0        6.0       4.0        5.0       4.0        4.0      5.0        6.0        5.0        5.0        5.0       5.0\n",
              "423125000       3.0        5.0        8.0        5.0        1.0       6.0       6.0        6.0        6.0        5.0       4.0        4.0       6.0        5.0        8.0              6.0       5.0        5.0      4.0        5.0  ...       4.0        6.0        5.0        5.0        5.0       6.0              7.0       5.0        5.0        6.0       7.0        5.0       4.0        7.0      6.0        6.0        4.0        6.0        5.0       6.0\n",
              "...             ...        ...        ...        ...        ...       ...       ...        ...        ...        ...       ...        ...       ...        ...        ...              ...       ...        ...      ...        ...  ...       ...        ...        ...        ...        ...       ...              ...       ...        ...        ...       ...        ...       ...        ...      ...        ...        ...        ...        ...       ...\n",
              "425558002       6.0        6.0        8.0        6.0        6.0       6.0       7.0        6.0        6.0        6.0       7.0        4.0       6.0        6.0        8.0              6.0       6.0        7.0      5.0        6.0  ...       5.0        6.0        6.0        6.0        5.0       6.0              6.0       6.0        6.0        6.0       6.0        5.0       6.0        7.0      6.0        1.0        6.0        5.0        4.0       6.0\n",
              "262955000       5.0        5.0        7.0        5.0        4.0       5.0       6.0        6.0        6.0        6.0       5.0        4.0       5.0        5.0        7.0              5.0       5.0        6.0      5.0        4.0  ...       5.0        6.0        4.0        5.0        4.0       6.0              6.0       6.0        5.0        7.0       5.0        4.0       5.0        6.0      5.0        6.0        1.0        5.0        5.0       5.0\n",
              "367403001       6.0        6.0        7.0        5.0        6.0       4.0       7.0        7.0        6.0        5.0       7.0        5.0       5.0        6.0        8.0              6.0       6.0        6.0      6.0        5.0  ...       5.0        7.0        5.0        5.0        4.0       7.0              6.0       5.0        5.0        7.0       6.0        5.0       6.0        6.0      6.0        5.0        5.0        1.0        5.0       6.0\n",
              "109355002       5.0        5.0        7.0        5.0        5.0       5.0       5.0        6.0        5.0        5.0       5.0        5.0       6.0        5.0        7.0              4.0       5.0        6.0      5.0        4.0  ...       5.0        5.0        5.0        5.0        4.0       6.0              6.0       4.0        5.0        6.0       5.0        4.0       5.0        6.0      5.0        4.0        5.0        5.0        1.0       5.0\n",
              "65323003        5.0        5.0        7.0        5.0        6.0       5.0       5.0        7.0        6.0        6.0       6.0        4.0       6.0        5.0        7.0              5.0       5.0        6.0      5.0        3.0  ...       5.0        6.0        3.0        5.0        5.0       7.0              6.0       6.0        4.0        6.0       5.0        5.0       5.0        6.0      6.0        6.0        5.0        6.0        5.0       1.0\n",
              "\n",
              "[2694 rows x 2694 columns]"
            ]
          },
          "execution_count": 68,
          "metadata": {},
          "output_type": "execute_result"
        }
      ],
      "source": [
        "snomed_distance"
      ]
    },
    {
      "cell_type": "code",
      "execution_count": 75,
      "metadata": {
        "gather": {
          "logged": 1684503323829
        },
        "jupyter": {
          "outputs_hidden": false,
          "source_hidden": false
        },
        "nteract": {
          "transient": {
            "deleting": false
          }
        }
      },
      "outputs": [
        {
          "name": "stdout",
          "output_type": "stream",
          "text": [
            "0\n",
            "100\n",
            "200\n",
            "300\n",
            "400\n",
            "500\n",
            "600\n",
            "700\n",
            "800\n",
            "900\n"
          ]
        }
      ],
      "source": [
        "# Calculate metric for how good the patient similarity methods are - based on snomed distances \n",
        "\n",
        "# Get patient and neighbour numbers\n",
        "overall_score_list = []\n",
        "z = -1\n",
        "for patient_n in filtered_index_df2.index.tolist():\n",
        "    z += 1\n",
        "    if z % 100 == 0:\n",
        "        print(z)\n",
        "    neighbour_n = filtered_index_df2.loc[patient_n]['1']\n",
        "    # Get patient and neighbour problems\n",
        "    patient_problems = problem_dummies.loc[patient_n][problem_dummies.loc[patient_n] == 1].index.tolist()\n",
        "    neighbour_problems = problem_dummies.loc[neighbour_n][problem_dummies.loc[neighbour_n] == 1].index.tolist()\n",
        "    # Get snomed distances\n",
        "    temp_df = snomed_distance.loc[patient_problems, neighbour_problems]\n",
        "    # Get min for each row and column\n",
        "    score_list = []\n",
        "    for x in range(len(temp_df)):\n",
        "        score_list.append(temp_df.iloc[x].min())\n",
        "    for x in range(len(temp_df.columns)):\n",
        "        score_list.append(temp_df.iloc[:,x].min())\n",
        "    # Work out score (by taking 1 minus the reciprical and summing)\n",
        "    cum_score = 0\n",
        "    for n in score_list:\n",
        "        temp_score = 1 - (1/n)\n",
        "        cum_score += temp_score\n",
        "    # Append to list\n",
        "    overall_score_list.append(cum_score)\n"
      ]
    },
    {
      "cell_type": "code",
      "execution_count": 78,
      "metadata": {
        "gather": {
          "logged": 1684503388931
        },
        "jupyter": {
          "outputs_hidden": false,
          "source_hidden": false
        },
        "nteract": {
          "transient": {
            "deleting": false
          }
        }
      },
      "outputs": [],
      "source": [
        "# Add to df\n",
        "filtered_index_df2['similarity_score'] = overall_score_list"
      ]
    },
    {
      "cell_type": "code",
      "execution_count": 82,
      "metadata": {
        "gather": {
          "logged": 1684503453141
        },
        "jupyter": {
          "outputs_hidden": false,
          "source_hidden": false
        },
        "nteract": {
          "transient": {
            "deleting": false
          }
        }
      },
      "outputs": [
        {
          "data": {
            "text/plain": [
              "1.7840464285714288"
            ]
          },
          "execution_count": 82,
          "metadata": {},
          "output_type": "execute_result"
        },
        {
          "data": {
            "text/plain": [
              "1.8959470724481202"
            ]
          },
          "execution_count": 82,
          "metadata": {},
          "output_type": "execute_result"
        },
        {
          "data": {
            "text/plain": [
              "20.883333333333336"
            ]
          },
          "execution_count": 82,
          "metadata": {},
          "output_type": "execute_result"
        },
        {
          "data": {
            "text/plain": [
              "0.0"
            ]
          },
          "execution_count": 82,
          "metadata": {},
          "output_type": "execute_result"
        }
      ],
      "source": [
        "# Overall results\n",
        "filtered_index_df2['similarity_score'].mean()\n",
        "filtered_index_df2['similarity_score'].std()\n",
        "filtered_index_df2['similarity_score'].max()\n",
        "filtered_index_df2['similarity_score'].min()"
      ]
    },
    {
      "cell_type": "code",
      "execution_count": 92,
      "metadata": {
        "gather": {
          "logged": 1684505375141
        },
        "jupyter": {
          "outputs_hidden": false,
          "source_hidden": false
        },
        "nteract": {
          "transient": {
            "deleting": false
          }
        }
      },
      "outputs": [],
      "source": [
        "# Save\n",
        "#filtered_index_df2.to_csv('cbr_metric_my_method.csv')"
      ]
    },
    {
      "cell_type": "markdown",
      "metadata": {},
      "source": [
        "# One hot / dummies"
      ]
    },
    {
      "cell_type": "code",
      "execution_count": 93,
      "metadata": {
        "gather": {
          "logged": 1684505769200
        },
        "jupyter": {
          "outputs_hidden": false,
          "source_hidden": false
        },
        "nteract": {
          "transient": {
            "deleting": false
          }
        }
      },
      "outputs": [],
      "source": [
        "# Get closest point for spesfic point\n",
        "dummies_distance, dummies_index = spatial.KDTree(problem_dummies).query(problem_dummies.loc[random_list], k=2)"
      ]
    },
    {
      "cell_type": "code",
      "execution_count": 94,
      "metadata": {
        "gather": {
          "logged": 1684505771202
        },
        "jupyter": {
          "outputs_hidden": false,
          "source_hidden": false
        },
        "nteract": {
          "transient": {
            "deleting": false
          }
        }
      },
      "outputs": [],
      "source": [
        "# Create df\n",
        "dummies_index_df = pd.DataFrame(dummies_index, columns=['0', '1'])\n",
        "\n",
        "# Calculate metric for how good the patient similarity methods are - based on snomed distances \n",
        "\n",
        "# Get patient and neighbour numbers\n",
        "overall_score_list = []\n",
        "\n",
        "for patient_n in dummies_index_df.index.tolist():\n",
        "    neighbour_n = dummies_index_df.loc[patient_n]['1']\n",
        "    # Get patient and neighbour problems\n",
        "    patient_problems = problem_dummies.loc[patient_n][problem_dummies.loc[patient_n] == 1].index.tolist()\n",
        "    neighbour_problems = problem_dummies.loc[neighbour_n][problem_dummies.loc[neighbour_n] == 1].index.tolist()\n",
        "    # Get snomed distances\n",
        "    temp_df = snomed_distance.loc[patient_problems, neighbour_problems]\n",
        "    # Get min for each row and column\n",
        "    score_list = []\n",
        "    for x in range(len(temp_df)):\n",
        "        score_list.append(temp_df.iloc[x].min())\n",
        "    for x in range(len(temp_df.columns)):\n",
        "        score_list.append(temp_df.iloc[:,x].min())\n",
        "    # Work out score (by taking 1 minus the reciprical and summing)\n",
        "    cum_score = 0\n",
        "    for n in score_list:\n",
        "        temp_score = 1 - (1/n)\n",
        "        cum_score += temp_score\n",
        "    # Append to list\n",
        "    overall_score_list.append(cum_score)\n",
        "\n",
        "# Add to df\n",
        "dummies_index_df['similarity_score'] = overall_score_list\n"
      ]
    },
    {
      "cell_type": "code",
      "execution_count": 95,
      "metadata": {
        "gather": {
          "logged": 1684505771752
        },
        "jupyter": {
          "outputs_hidden": false,
          "source_hidden": false
        },
        "nteract": {
          "transient": {
            "deleting": false
          }
        }
      },
      "outputs": [
        {
          "data": {
            "text/plain": [
              "4.403623809523809"
            ]
          },
          "execution_count": 95,
          "metadata": {},
          "output_type": "execute_result"
        },
        {
          "data": {
            "text/plain": [
              "2.317331839064028"
            ]
          },
          "execution_count": 95,
          "metadata": {},
          "output_type": "execute_result"
        },
        {
          "data": {
            "text/plain": [
              "17.290476190476195"
            ]
          },
          "execution_count": 95,
          "metadata": {},
          "output_type": "execute_result"
        },
        {
          "data": {
            "text/plain": [
              "0.8"
            ]
          },
          "execution_count": 95,
          "metadata": {},
          "output_type": "execute_result"
        }
      ],
      "source": [
        "# Overall results\n",
        "dummies_index_df['similarity_score'].mean()\n",
        "dummies_index_df['similarity_score'].std()\n",
        "dummies_index_df['similarity_score'].max()\n",
        "dummies_index_df['similarity_score'].min()"
      ]
    },
    {
      "cell_type": "code",
      "execution_count": 96,
      "metadata": {
        "gather": {
          "logged": 1684505772114
        },
        "jupyter": {
          "outputs_hidden": false,
          "source_hidden": false
        },
        "nteract": {
          "transient": {
            "deleting": false
          }
        }
      },
      "outputs": [],
      "source": [
        "# Save\n",
        "#dummies_index_df.to_csv('cbr_metric_one_hot.csv')"
      ]
    },
    {
      "cell_type": "markdown",
      "metadata": {},
      "source": [
        "# Rocheteau"
      ]
    },
    {
      "cell_type": "code",
      "execution_count": null,
      "metadata": {},
      "outputs": [],
      "source": [
        "# Import\n",
        "path = r'data/final_problem_dummies.csv'\n",
        "problem_dummies = pd.read_csv(path)\n",
        "# Drop columns\n",
        "problem_dummies.drop(columns=['SUBJECT', 'PROBLEM_DT_TM'], inplace=True)\n",
        "# Remove prefix\n",
        "problem_dummies.columns = problem_dummies.columns.str.strip('PROBLEM_')\n",
        "# Set index\n",
        "problem_dummies.set_index('new_subject', inplace=True)\n",
        "# Import\n",
        "path = r'data/snomed_codes_parents.csv'\n",
        "snomed_codes_parents = pd.read_csv(path)\n",
        "# Change to str\n",
        "snomed_codes_parents['snomed_code'] = snomed_codes_parents['snomed_code'].astype(int).astype(str)\n",
        "# Get lists\n",
        "problem_list = problem_dummies.columns.tolist()\n",
        "snomed_parent_list = snomed_codes_parents['snomed_code'].tolist()\n",
        "overlap_list = list(set(problem_list)&set(snomed_parent_list))\n",
        "# Add in one hot encodings for parents across all patients\n",
        "n = -1\n",
        "for code in overlap_list:\n",
        "    n += 1\n",
        "    #if n % 500 == 0:\n",
        "        #print(n)\n",
        "    # Get parents\n",
        "    parent_list = snomed_codes_parents[snomed_codes_parents['snomed_code'] == code]['parents'].values[0].strip('[]').split(', ')\n",
        "    # Filter parent_list for those in problem_dummies\n",
        "    parent_list = list(set(problem_list)&set(parent_list))\n",
        "    # Update problem_dummies\n",
        "    problem_dummies.loc[problem_dummies[code] == 1, parent_list] = 1\n",
        "# Create frequency df\n",
        "sum_df = pd.DataFrame()\n",
        "sum_df.index = problem_dummies.columns\n",
        "sum_df['frequency'] = problem_dummies.sum(axis=0)"
      ]
    },
    {
      "cell_type": "code",
      "execution_count": null,
      "metadata": {},
      "outputs": [],
      "source": [
        "# Import\n",
        "path = r'data/cbr_metric_my_method.csv'\n",
        "cbr_metric_my_method = pd.read_csv(path, index_col=0)"
      ]
    },
    {
      "cell_type": "code",
      "execution_count": null,
      "metadata": {},
      "outputs": [],
      "source": [
        "# Iterate through the 1000 random patients and get similarities\n",
        "\n",
        "# Create df\n",
        "score_df = pd.DataFrame()\n",
        "score_df.index = problem_dummies.index\n",
        "# Run\n",
        "n = -1\n",
        "for idx in cbr_metric_my_method.index.tolist():\n",
        "    n += 1\n",
        "    if n % 10 == 0:\n",
        "        print(n)\n",
        "    # Set up patient\n",
        "    patient = problem_dummies.loc[[idx]]\n",
        "    patient = patient.loc[:, (patient != 0).any(axis=0)]\n",
        "    # Find similarity\n",
        "    score_list = []\n",
        "    for index, subject in problem_dummies.iterrows():\n",
        "        #if index % 10000 == 0:\n",
        "        #    print(index)\n",
        "        running_score = 0\n",
        "        # Filter for relevant diseases\n",
        "        subject = subject[patient.columns]\n",
        "        # Algorithm\n",
        "        for column in patient:\n",
        "            running_score += patient[column].values[0] * subject[column] * ((1/sum_df.loc[column].values[0]) + 0.5)\n",
        "        running_score = running_score * 5\n",
        "        running_score = running_score - (patient.sum(axis=1).values[0] + subject.sum())\n",
        "        # Add to list\n",
        "        score_list.append(running_score)\n",
        "\n",
        "    score_df[idx] = score_list\n",
        "    score_df.to_csv('cbr_score_rocheteau.csv')"
      ]
    },
    {
      "cell_type": "code",
      "execution_count": null,
      "metadata": {},
      "outputs": [],
      "source": [
        "# Get clostest and format so same as cbr_metric_my_method\n",
        "rocheteau_index = score_df.apply(lambda s: pd.Series(s.nlargest(2).index)).T\n",
        "rocheteau_index.columns = ['0', '1']"
      ]
    },
    {
      "cell_type": "code",
      "execution_count": null,
      "metadata": {},
      "outputs": [],
      "source": [
        "# Reset problem dummies when making calc\n",
        "\n",
        "# Import\n",
        "path = r'data/final_problem_dummies.csv'\n",
        "problem_dummies = pd.read_csv(path)\n",
        "# Drop columns\n",
        "problem_dummies.drop(columns=['SUBJECT', 'PROBLEM_DT_TM'], inplace=True)\n",
        "# Remove prefix\n",
        "problem_dummies.columns = problem_dummies.columns.str.strip('PROBLEM_')\n",
        "# Set index\n",
        "problem_dummies.set_index('new_subject', inplace=True)\n",
        "# To string\n",
        "problem_dummies.index = problem_dummies.index.astype(str)\n",
        "rocheteau_index['1'] = rocheteau_index['1'].astype(str)"
      ]
    },
    {
      "cell_type": "code",
      "execution_count": null,
      "metadata": {},
      "outputs": [],
      "source": [
        "# Calculate metric for how good the patient similarity methods are - based on snomed distances \n",
        "\n",
        "# Get patient and neighbour numbers\n",
        "overall_score_list = []\n",
        "z = -1\n",
        "for patient_n in rocheteau_index.index.tolist():\n",
        "    z += 1\n",
        "    if z % 100 == 0:\n",
        "        print(z)\n",
        "    neighbour_n = rocheteau_index.loc[patient_n]['1']\n",
        "    # Get patient and neighbour problems\n",
        "    patient_problems = problem_dummies.loc[patient_n][problem_dummies.loc[patient_n] == 1].index.tolist()\n",
        "    neighbour_problems = problem_dummies.loc[neighbour_n][problem_dummies.loc[neighbour_n] == 1].index.tolist()\n",
        "    # Get snomed distances\n",
        "    temp_df = snomed_distance.loc[patient_problems, neighbour_problems]\n",
        "    # Get min for each row and column\n",
        "    score_list = []\n",
        "    for x in range(len(temp_df)):\n",
        "        score_list.append(temp_df.iloc[x].min())\n",
        "    for x in range(len(temp_df.columns)):\n",
        "        score_list.append(temp_df.iloc[:,x].min())\n",
        "    # Work out score (by taking 1 minus the reciprical and summing)\n",
        "    cum_score = 0\n",
        "    for n in score_list:\n",
        "        temp_score = 1 - (1/n)\n",
        "        cum_score += temp_score\n",
        "    # Append to list\n",
        "    overall_score_list.append(cum_score)\n"
      ]
    },
    {
      "cell_type": "code",
      "execution_count": null,
      "metadata": {},
      "outputs": [],
      "source": [
        "# Add to df\n",
        "rocheteau_index['similarity_score'] = overall_score_list"
      ]
    },
    {
      "cell_type": "code",
      "execution_count": null,
      "metadata": {},
      "outputs": [],
      "source": [
        "# Save\n",
        "#rocheteau_index.to_csv('cbr_metric_rocheteau.csv')"
      ]
    },
    {
      "cell_type": "markdown",
      "metadata": {},
      "source": [
        "# Plot and test stastical significance"
      ]
    },
    {
      "cell_type": "code",
      "execution_count": null,
      "metadata": {},
      "outputs": [],
      "source": [
        "# Import\n",
        "path = r'data/cbr_metric_rocheteau.csv'\n",
        "cbr_metric_rocheteau = pd.read_csv(path, index_col=0)\n",
        "\n",
        "# Import\n",
        "path = r'data/cbr_metric_my_method.csv'\n",
        "cbr_metric_my_method = pd.read_csv(path, index_col=0)\n",
        "\n",
        "# Import\n",
        "path = r'data/cbr_metric_one_hot.csv'\n",
        "cbr_metric_one_hot = pd.read_csv(path, index_col=0)"
      ]
    },
    {
      "cell_type": "code",
      "execution_count": 5,
      "metadata": {
        "gather": {
          "logged": 1700613851692
        },
        "jupyter": {
          "outputs_hidden": false,
          "source_hidden": false
        },
        "nteract": {
          "transient": {
            "deleting": false
          }
        }
      },
      "outputs": [
        {
          "data": {
            "text/plain": [
              "3.5238583333333335"
            ]
          },
          "execution_count": 5,
          "metadata": {},
          "output_type": "execute_result"
        },
        {
          "data": {
            "text/plain": [
              "3.260272649175715"
            ]
          },
          "execution_count": 5,
          "metadata": {},
          "output_type": "execute_result"
        },
        {
          "data": {
            "text/plain": [
              "24.700000000000006"
            ]
          },
          "execution_count": 5,
          "metadata": {},
          "output_type": "execute_result"
        },
        {
          "data": {
            "text/plain": [
              "0.0"
            ]
          },
          "execution_count": 5,
          "metadata": {},
          "output_type": "execute_result"
        }
      ],
      "source": [
        "cbr_metric_rocheteau['similarity_score'].mean()\n",
        "cbr_metric_rocheteau['similarity_score'].std()\n",
        "cbr_metric_rocheteau['similarity_score'].max()\n",
        "cbr_metric_rocheteau['similarity_score'].min()"
      ]
    },
    {
      "cell_type": "code",
      "execution_count": 4,
      "metadata": {
        "gather": {
          "logged": 1700608591421
        },
        "jupyter": {
          "outputs_hidden": false,
          "source_hidden": false
        },
        "nteract": {
          "transient": {
            "deleting": false
          }
        }
      },
      "outputs": [
        {
          "data": {
            "text/plain": [
              "(array([134., 300., 122., 125.,  83.,  58.,  52.,  38.,  16.,  11.,  15.,\n",
              "         15.,   8.,   5.,   4.,   1.,   3.,   0.,   0.,   1.,   1.,   2.,\n",
              "          1.,   0.,   2.,   0.,   0.,   1.,   0.,   0.]),\n",
              " array([ 0. ,  0.5,  1. ,  1.5,  2. ,  2.5,  3. ,  3.5,  4. ,  4.5,  5. ,\n",
              "         5.5,  6. ,  6.5,  7. ,  7.5,  8. ,  8.5,  9. ,  9.5, 10. , 10.5,\n",
              "        11. , 11.5, 12. , 12.5, 13. , 13.5, 14. , 14.5, 15. ]),\n",
              " <BarContainer object of 30 artists>)"
            ]
          },
          "execution_count": 4,
          "metadata": {},
          "output_type": "execute_result"
        },
        {
          "data": {
            "text/plain": [
              "(array([  0.,   5.,   2.,  88., 124.,  43., 178.,  77.,  88.,  96.,  40.,\n",
              "         61.,  56.,  16.,  33.,  14.,  10.,  14.,  12.,  14.,   7.,   6.,\n",
              "          3.,   3.,   3.,   0.,   1.,   2.,   1.,   2.]),\n",
              " array([ 0. ,  0.5,  1. ,  1.5,  2. ,  2.5,  3. ,  3.5,  4. ,  4.5,  5. ,\n",
              "         5.5,  6. ,  6.5,  7. ,  7.5,  8. ,  8.5,  9. ,  9.5, 10. , 10.5,\n",
              "        11. , 11.5, 12. , 12.5, 13. , 13.5, 14. , 14.5, 15. ]),\n",
              " <BarContainer object of 30 artists>)"
            ]
          },
          "execution_count": 4,
          "metadata": {},
          "output_type": "execute_result"
        },
        {
          "data": {
            "text/plain": [
              "<matplotlib.legend.Legend at 0x7fb3cc864580>"
            ]
          },
          "execution_count": 4,
          "metadata": {},
          "output_type": "execute_result"
        },
        {
          "data": {
            "text/plain": [
              "(array([134., 300., 122., 125.,  83.,  58.,  52.,  38.,  16.,  11.,  15.,\n",
              "         15.,   8.,   5.,   4.,   1.,   3.,   0.,   0.,   1.,   1.,   2.,\n",
              "          1.,   0.,   2.,   0.,   0.,   1.,   0.,   0.]),\n",
              " array([ 0. ,  0.5,  1. ,  1.5,  2. ,  2.5,  3. ,  3.5,  4. ,  4.5,  5. ,\n",
              "         5.5,  6. ,  6.5,  7. ,  7.5,  8. ,  8.5,  9. ,  9.5, 10. , 10.5,\n",
              "        11. , 11.5, 12. , 12.5, 13. , 13.5, 14. , 14.5, 15. ]),\n",
              " <BarContainer object of 30 artists>)"
            ]
          },
          "execution_count": 4,
          "metadata": {},
          "output_type": "execute_result"
        },
        {
          "data": {
            "text/plain": [
              "(array([110., 216.,  31.,  75.,  69.,  28.,  54.,  42.,  28.,  48.,  36.,\n",
              "         39.,  32.,  33.,  41.,  17.,  24.,  15.,   8.,  15.,   8.,   9.,\n",
              "          3.,   6.,   3.,   3.,   1.,   0.,   2.,   0.]),\n",
              " array([ 0. ,  0.5,  1. ,  1.5,  2. ,  2.5,  3. ,  3.5,  4. ,  4.5,  5. ,\n",
              "         5.5,  6. ,  6.5,  7. ,  7.5,  8. ,  8.5,  9. ,  9.5, 10. , 10.5,\n",
              "        11. , 11.5, 12. , 12.5, 13. , 13.5, 14. , 14.5, 15. ]),\n",
              " <BarContainer object of 30 artists>)"
            ]
          },
          "execution_count": 4,
          "metadata": {},
          "output_type": "execute_result"
        },
        {
          "data": {
            "text/plain": [
              "<matplotlib.legend.Legend at 0x7fb3ca283eb0>"
            ]
          },
          "execution_count": 4,
          "metadata": {},
          "output_type": "execute_result"
        },
        {
          "data": {
            "text/plain": [
              "Text(0.5, 0.98, 'Similarity score distribution')"
            ]
          },
          "execution_count": 4,
          "metadata": {},
          "output_type": "execute_result"
        },
        {
          "data": {
            "text/plain": [
              "(0.0, 350.0)"
            ]
          },
          "execution_count": 4,
          "metadata": {},
          "output_type": "execute_result"
        },
        {
          "data": {
            "text/plain": [
              "(0.0, 350.0)"
            ]
          },
          "execution_count": 4,
          "metadata": {},
          "output_type": "execute_result"
        },
        {
          "data": {
            "text/plain": [
              "Text(130.5, 0.5, 'Count')"
            ]
          },
          "execution_count": 4,
          "metadata": {},
          "output_type": "execute_result"
        },
        {
          "data": {
            "text/plain": [
              "Text(0.5, 42.0, 'SNOMED similarity score')"
            ]
          },
          "execution_count": 4,
          "metadata": {},
          "output_type": "execute_result"
        },
        {
          "data": {
            "text/plain": [
              "Text(0.5, 42.0, 'SNOMED similarity score')"
            ]
          },
          "execution_count": 4,
          "metadata": {},
          "output_type": "execute_result"
        },
        {
          "data": {
            "text/plain": [
              "[<matplotlib.axis.XTick at 0x7fb3cc84bca0>,\n",
              " <matplotlib.axis.XTick at 0x7fb3cc84b970>,\n",
              " <matplotlib.axis.XTick at 0x7fb3ca280460>,\n",
              " <matplotlib.axis.XTick at 0x7fb3ca1a89d0>,\n",
              " <matplotlib.axis.XTick at 0x7fb3ca1a9480>,\n",
              " <matplotlib.axis.XTick at 0x7fb3ca1a9f30>,\n",
              " <matplotlib.axis.XTick at 0x7fb3ca1a98a0>,\n",
              " <matplotlib.axis.XTick at 0x7fb3ca1aab00>,\n",
              " <matplotlib.axis.XTick at 0x7fb3ca1ab5b0>,\n",
              " <matplotlib.axis.XTick at 0x7fb41026a290>,\n",
              " <matplotlib.axis.XTick at 0x7fb3ca1e1e70>,\n",
              " <matplotlib.axis.XTick at 0x7fb3ca1f6a40>,\n",
              " <matplotlib.axis.XTick at 0x7fb3ca1f74f0>,\n",
              " <matplotlib.axis.XTick at 0x7fb3ca1f7fa0>,\n",
              " <matplotlib.axis.XTick at 0x7fb3ca1f6e60>,\n",
              " <matplotlib.axis.XTick at 0x7fb3ca2148e0>]"
            ]
          },
          "execution_count": 4,
          "metadata": {},
          "output_type": "execute_result"
        },
        {
          "data": {
            "text/plain": [
              "[<matplotlib.axis.XTick at 0x7fb3cc8a83a0>,\n",
              " <matplotlib.axis.XTick at 0x7fb3cc8a85e0>,\n",
              " <matplotlib.axis.XTick at 0x7fb3ca1ab820>,\n",
              " <matplotlib.axis.XTick at 0x7fb3ca1bdb10>,\n",
              " <matplotlib.axis.XTick at 0x7fb3ca1e0700>,\n",
              " <matplotlib.axis.XTick at 0x7fb3ca1e11b0>,\n",
              " <matplotlib.axis.XTick at 0x7fb3ca1e1c60>,\n",
              " <matplotlib.axis.XTick at 0x7fb3ca1bead0>,\n",
              " <matplotlib.axis.XTick at 0x7fb3ca1e2680>,\n",
              " <matplotlib.axis.XTick at 0x7fb3cc8a8670>,\n",
              " <matplotlib.axis.XTick at 0x7fb3ca215f30>,\n",
              " <matplotlib.axis.XTick at 0x7fb3ca2169e0>,\n",
              " <matplotlib.axis.XTick at 0x7fb3ca2159c0>,\n",
              " <matplotlib.axis.XTick at 0x7fb3ca217400>,\n",
              " <matplotlib.axis.XTick at 0x7fb3ca217eb0>,\n",
              " <matplotlib.axis.XTick at 0x7fb3ca22c9a0>]"
            ]
          },
          "execution_count": 4,
          "metadata": {},
          "output_type": "execute_result"
        },
        {
          "data": {
            "image/png": "[encoded data removed]",
            "text/plain": [
              "<Figure size 1440x576 with 2 Axes>"
            ]
          },
          "metadata": {
            "needs_background": "light"
          },
          "output_type": "display_data"
        }
      ],
      "source": [
        "# Plot\n",
        "fig, axs = plt.subplots(1, 2, sharey=True)\n",
        "fig.set_figheight(8)\n",
        "fig.set_figwidth(20)\n",
        "\n",
        "bins = np.linspace(0, 15, 31)\n",
        "axs[0].hist(cbr_metric_my_method['similarity_score'], bins=bins, alpha=0.5, label='Co-morbid patient embeddings')\n",
        "axs[0].hist(cbr_metric_one_hot['similarity_score'], bins=bins, alpha=0.5, label='One hot encodings')\n",
        "axs[0].legend(loc='upper right')\n",
        "\n",
        "axs[1].hist(cbr_metric_my_method['similarity_score'], bins=bins, alpha=0.5, label='Co-morbid patient embeddings')\n",
        "axs[1].hist(cbr_metric_rocheteau['similarity_score'], bins=bins, alpha=0.5, label='Rocheteau score')\n",
        "axs[1].legend(loc='upper right')\n",
        "\n",
        "fig.tight_layout()\n",
        "fig.subplots_adjust(top=0.92)\n",
        "\n",
        "fig.suptitle(\"Similarity score distribution\")\n",
        "\n",
        "axs[0].set_ylim(0, 350)\n",
        "axs[1].set_ylim(0, 350)\n",
        "axs[0].set_ylabel('Count')\n",
        "axs[0].set_xlabel('SNOMED similarity score')\n",
        "axs[1].set_xlabel('SNOMED similarity score')\n",
        "axs[0].set_xticks([0, 1, 2, 3, 4, 5 ,6 ,7 ,8 ,9 ,10 ,11, 12, 13, 14, 15])\n",
        "axs[1].set_xticks([0, 1, 2, 3, 4, 5 ,6 ,7 ,8 ,9 ,10 ,11, 12, 13, 14, 15])\n",
        "\n",
        "plt.show()"
      ]
    },
    {
      "cell_type": "code",
      "execution_count": 23,
      "metadata": {
        "gather": {
          "logged": 1684765481149
        },
        "jupyter": {
          "outputs_hidden": false,
          "source_hidden": false
        },
        "nteract": {
          "transient": {
            "deleting": false
          }
        }
      },
      "outputs": [],
      "source": [
        "import scipy.stats as stats\n",
        "\n",
        "def test_stats(list1, list2):\n",
        "\n",
        "    # Assume non-normal distribution\n",
        "    # Test if same distribution\n",
        "    k2, p = stats.mannwhitneyu(list1, list2)\n",
        "    alpha = 0.05\n",
        "    print(p)\n",
        "    if p < alpha:\n",
        "        print('Different distribution')\n",
        "    else:\n",
        "        print(' Same distribution')\n",
        "    \n",
        "    k2, p = stats.pearsonr(list1, list2)\n",
        "    alpha = 0.05\n",
        "    print(p)\n",
        "    if p < alpha:\n",
        "        print('Different distribution')\n",
        "    else:\n",
        "        print(' Same distribution')\n",
        "\n",
        "    k2, p = stats.spearmanr(list1, list2)\n",
        "    alpha = 0.05\n",
        "    print(p)\n",
        "    if p < alpha:\n",
        "        print('Different distribution')\n",
        "    else:\n",
        "        print(' Same distribution')\n",
        "\n",
        "    k2, p = stats.wilcoxon(list1, list2)\n",
        "    alpha = 0.05\n",
        "    print(p)\n",
        "    if p < alpha:\n",
        "        print('Different distribution')\n",
        "    else:\n",
        "        print(' Same distribution')"
      ]
    },
    {
      "cell_type": "code",
      "execution_count": 108,
      "metadata": {
        "gather": {
          "logged": 1684511751126
        },
        "jupyter": {
          "outputs_hidden": false,
          "source_hidden": false
        },
        "nteract": {
          "transient": {
            "deleting": false
          }
        }
      },
      "outputs": [
        {
          "name": "stdout",
          "output_type": "stream",
          "text": [
            "1.2480636183398212e-176\n",
            "Different distribution\n",
            "0.0012688926994121438\n",
            "Different distribution\n",
            "6.142085101920294e-07\n",
            "Different distribution\n",
            "6.8096966305230804e-108\n",
            "Different distribution\n"
          ]
        }
      ],
      "source": [
        "test_stats(filtered_index_df2['similarity_score'].tolist(), dummies_index_df['similarity_score'].tolist())"
      ]
    },
    {
      "cell_type": "code",
      "execution_count": 24,
      "metadata": {
        "gather": {
          "logged": 1684765544086
        },
        "jupyter": {
          "outputs_hidden": false,
          "source_hidden": false
        },
        "nteract": {
          "transient": {
            "deleting": false
          }
        }
      },
      "outputs": [
        {
          "name": "stdout",
          "output_type": "stream",
          "text": [
            "1.333817370878337e-176\n",
            "Different distribution\n",
            "0.0012688926994121438\n",
            "Different distribution\n",
            "6.200248491408138e-07\n",
            "Different distribution\n",
            "7.096026835358197e-108\n",
            "Different distribution\n"
          ]
        }
      ],
      "source": [
        "test_stats(cbr_metric_my_method['similarity_score'].tolist(), cbr_metric_one_hot['similarity_score'].tolist())"
      ]
    },
    {
      "cell_type": "code",
      "execution_count": 25,
      "metadata": {
        "gather": {
          "logged": 1684765545008
        },
        "jupyter": {
          "outputs_hidden": false,
          "source_hidden": false
        },
        "nteract": {
          "transient": {
            "deleting": false
          }
        }
      },
      "outputs": [
        {
          "name": "stdout",
          "output_type": "stream",
          "text": [
            "1.827433825930081e-30\n",
            "Different distribution\n",
            "1.357542924635112e-51\n",
            "Different distribution\n",
            "1.0851465390642961e-70\n",
            "Different distribution\n",
            "7.677926320033033e-67\n",
            "Different distribution\n"
          ]
        }
      ],
      "source": [
        "test_stats(cbr_metric_my_method['similarity_score'].tolist(), cbr_metric_rocheteau['similarity_score'].tolist())"
      ]
    },
    {
      "cell_type": "code",
      "execution_count": 26,
      "metadata": {
        "gather": {
          "logged": 1684765547889
        },
        "jupyter": {
          "outputs_hidden": false,
          "source_hidden": false
        },
        "nteract": {
          "transient": {
            "deleting": false
          }
        }
      },
      "outputs": [
        {
          "name": "stdout",
          "output_type": "stream",
          "text": [
            "1.0097135948934319e-25\n",
            "Different distribution\n",
            "1.587238347303768e-09\n",
            "Different distribution\n",
            "1.0450175706410031e-13\n",
            "Different distribution\n",
            "4.551015664030844e-10\n",
            "Different distribution\n"
          ]
        }
      ],
      "source": [
        "test_stats(cbr_metric_one_hot['similarity_score'].tolist(), cbr_metric_rocheteau['similarity_score'].tolist())"
      ]
    }
  ],
  "metadata": {
    "kernel_info": {
      "name": "python310-sdkv2"
    },
    "kernelspec": {
      "display_name": "Python 3.10 - SDK v2",
      "language": "python",
      "name": "python310-sdkv2"
    },
    "language_info": {
      "codemirror_mode": {
        "name": "ipython",
        "version": 3
      },
      "file_extension": ".py",
      "mimetype": "text/x-python",
      "name": "python",
      "nbconvert_exporter": "python",
      "pygments_lexer": "ipython3",
      "version": "3.10.11"
    },
    "microsoft": {
      "host": {
        "AzureML": {
          "notebookHasBeenCompleted": true
        }
      },
      "ms_spell_check": {
        "ms_spell_check_language": "en"
      }
    },
    "nteract": {
      "version": "nteract-front-end@1.0.0"
    }
  },
  "nbformat": 4,
  "nbformat_minor": 2
}
