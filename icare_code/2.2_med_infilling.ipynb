{
  "cells": [
    {
      "cell_type": "code",
      "execution_count": 1,
      "metadata": {
        "gather": {
          "logged": 1677059584665
        }
      },
      "outputs": [],
      "source": [
        "# Libraries\n",
        "import pandas as pd\n",
        "pd.set_option('display.max_columns', 40)\n",
        "pd.set_option('display.width', 2000)\n",
        "\n",
        "from IPython.core.interactiveshell import InteractiveShell\n",
        "InteractiveShell.ast_node_interactivity = \"all\""
      ]
    },
    {
      "cell_type": "code",
      "execution_count": null,
      "metadata": {
        "gather": {
          "logged": 1676995855243
        },
        "jupyter": {
          "outputs_hidden": false,
          "source_hidden": false
        },
        "nteract": {
          "transient": {
            "deleting": false
          }
        }
      },
      "outputs": [],
      "source": [
        "%pip install \\\n",
        "--trusted-host 192.168.210.244 \\\n",
        "--index-url http://192.168.210.244:8081/repository/pypi/simple/ \\\n",
        "snowflake-connector-python"
      ]
    },
    {
      "cell_type": "code",
      "execution_count": 3,
      "metadata": {
        "gather": {
          "logged": 1676986375466
        },
        "jupyter": {
          "outputs_hidden": false,
          "source_hidden": false
        },
        "nteract": {
          "transient": {
            "deleting": false
          }
        }
      },
      "outputs": [
        {
          "name": "stderr",
          "output_type": "stream",
          "text": [
            "/anaconda/envs/azureml_py310_sdkv2/lib/python3.10/site-packages/snowflake/connector/options.py:96: UserWarning: You have an incompatible version of 'pyarrow' installed (6.0.0), please install a version that adheres to: 'pyarrow<8.1.0,>=8.0.0; extra == \"pandas\"'\n",
            "  warn_incompatible_dep(\n"
          ]
        },
        {
          "name": "stdout",
          "output_type": "stream",
          "text": [
            "Initiating login request with your identity provider. A browser window should have opened for you to complete the login. If you can't see it, check existing browser windows, or your OS settings. Press CTRL+C to abort and try again...\n",
            "We were unable to open a browser window for you, please open the following url manually then paste the URL you are redirected to into the terminal.\n",
            "URL: https://login.microsoftonline.com/be00e2c6-806c-45f8-84c3-3fc99f64b8d3/saml2?SAMLRequest=pZPNctowFIVfxaOuLcs%2FZbAGkyGhpDRpygTSBTshX4MGW3IlGTt5%2BsoGZtJFsulOI52r79x7pMlNV5XeCbQRSmYoxAR5ILnKhdxn6GWz8MfIM5bJnJVKQoZewaCb6cSwqqzprLEH%2BQx%2FGjDWcxdJQ%2FuDDDVaUsWMMFSyCgy1nK5nPx9phAllxoC2DocuJbkRjnWwtqZB0LYtbmOs9D6ICCEBSQOn6iVf0DtE%2FTmj1soqrsprSed6%2BgARBiTpEU7hCKtL4a2Q5xF8RtmdRYZ%2B32xW%2FurXeoO82bW7OyVNU4Fegz4JDi%2FPj2cDxjmodZKmJMJSaXvwodGqBlxrcWIWSiGP2EjVFiU7AldV3VgHwW4VFJAHpdoLN7rlPEP1UeRpuO1GyY%2B3HbMPT6d4O%2BtsMp8f0lh169vRw0J03%2B5Xy939qSUceb%2BvQUd90EtjGljKPl7rtkgU%2ByTyo3ATxjSOaEJwQsIt8uYuXiGZHSqvPQw%2BcCW4VkYVVklnHAaXOyAEIj7yx2TE%2FeRrMfbHCY%2F9uOBpWoyS3TiPgz7ECJ0fEh2M6Ol%2FjmcSvL%2Fs8kSfXGrL%2BUqVgr96C6UrZj8ONcThsCNyvxikFComylmeazDGhVuWqr3T4HxkyOoGUDA9U%2F%2F9C9O%2F&RelayState=33401\n"
          ]
        },
        {
          "data": {
            "text/plain": [
              "<snowflake.connector.cursor.SnowflakeCursor at 0x7f757c152470>"
            ]
          },
          "execution_count": 3,
          "metadata": {},
          "output_type": "execute_result"
        },
        {
          "name": "stdout",
          "output_type": "stream",
          "text": [
            "('7.6.1', 'ICHT_RG_COVOAM_22016_PROD', 'ICHT_WH_COVOAM_22016_PROD')\n"
          ]
        },
        {
          "data": {
            "text/plain": [
              "True"
            ]
          },
          "execution_count": 3,
          "metadata": {},
          "output_type": "execute_result"
        }
      ],
      "source": [
        "import json, snowflake.connector\n",
        "\n",
        "# establish the connection to snowflake\n",
        "ctx = snowflake.connector.connect( \n",
        "    **json.load(open('/opt/ich/python-snowflake-defaults.json')))\n",
        "    \n",
        "# verify and test if connection is working\n",
        "try: \n",
        "    cs = ctx.cursor() \n",
        "    cs.execute('SELECT current_version(), current_role(), current_warehouse()')\n",
        "    print(cs.fetchone())\n",
        "finally: \n",
        "    cs.close()"
      ]
    },
    {
      "cell_type": "code",
      "execution_count": 3,
      "metadata": {
        "gather": {
          "logged": 1676995859212
        },
        "jupyter": {
          "outputs_hidden": false,
          "source_hidden": false
        },
        "nteract": {
          "transient": {
            "deleting": false
          }
        }
      },
      "outputs": [],
      "source": [
        "# Import\n",
        "path = r'data/drugs_indications_and_codes.csv'\n",
        "drugs_indications_and_codes = pd.read_csv(path)\n",
        "\n",
        "path = r'data/final_problem_dummies.csv'\n",
        "final_problem_dummies = pd.read_csv(path)"
      ]
    },
    {
      "cell_type": "code",
      "execution_count": 4,
      "metadata": {
        "gather": {
          "logged": 1676986468774
        },
        "jupyter": {
          "outputs_hidden": false,
          "source_hidden": false
        },
        "nteract": {
          "transient": {
            "deleting": false
          }
        }
      },
      "outputs": [],
      "source": [
        "# Import \n",
        "query = '''\n",
        "SELECT * from ICHT_PROD.ICHT_COVID.PHARMACY_PRESCRIBING\n",
        "'''\n",
        "cur = ctx.cursor().execute(query)\n",
        "prescribing_df = pd.DataFrame.from_records(iter(cur), columns=[x[0] for x in cur.description])"
      ]
    },
    {
      "cell_type": "code",
      "execution_count": 5,
      "metadata": {
        "gather": {
          "logged": 1676986521725
        },
        "jupyter": {
          "outputs_hidden": false,
          "source_hidden": false
        },
        "nteract": {
          "transient": {
            "deleting": false
          }
        }
      },
      "outputs": [],
      "source": [
        "# Filter for administration\n",
        "prescribing_df = prescribing_df[prescribing_df['ADMISSION_MEDICINE_Y_N'] == 'Yes']\n",
        "prescribing_df = prescribing_df[['SUBJECT', 'PRESCRIPTION_ORDER_ID','ORDER_DT_TM', 'PRESCRIPTION_TYPE', 'THERAPEUTICAL_CLASS', 'MEDICATION_NAME_SHORT', 'MEDICATION_NAME']]"
      ]
    },
    {
      "cell_type": "code",
      "execution_count": 7,
      "metadata": {
        "gather": {
          "logged": 1676986674507
        },
        "jupyter": {
          "outputs_hidden": false,
          "source_hidden": false
        },
        "nteract": {
          "transient": {
            "deleting": false
          }
        }
      },
      "outputs": [],
      "source": [
        "# Filter for those subjects of interest\n",
        "prescribing_df = prescribing_df[prescribing_df['SUBJECT'].isin(final_problem_dummies['SUBJECT'].to_list())]"
      ]
    },
    {
      "cell_type": "code",
      "execution_count": 9,
      "metadata": {
        "gather": {
          "logged": 1676986697440
        },
        "jupyter": {
          "outputs_hidden": false,
          "source_hidden": false
        },
        "nteract": {
          "transient": {
            "deleting": false
          }
        }
      },
      "outputs": [],
      "source": [
        "# Filter for medications of interest\n",
        "prescribing_df = prescribing_df[prescribing_df['MEDICATION_NAME_SHORT'].isin(drugs_indications_and_codes['icht_prescribing_medication'].to_list())]"
      ]
    },
    {
      "cell_type": "code",
      "execution_count": 11,
      "metadata": {
        "gather": {
          "logged": 1676986815062
        },
        "jupyter": {
          "outputs_hidden": false,
          "source_hidden": false
        },
        "nteract": {
          "transient": {
            "deleting": false
          }
        }
      },
      "outputs": [],
      "source": [
        "# Save\n",
        "#prescribing_df.to_csv('filtered_pharmacy_prescribing.csv')"
      ]
    },
    {
      "cell_type": "code",
      "execution_count": 17,
      "metadata": {
        "gather": {
          "logged": 1676996235483
        },
        "jupyter": {
          "outputs_hidden": false,
          "source_hidden": false
        },
        "nteract": {
          "transient": {
            "deleting": false
          }
        }
      },
      "outputs": [],
      "source": [
        "# Convert to datetime\n",
        "final_problem_dummies['PROBLEM_DT_TM'] = pd.to_datetime(final_problem_dummies['PROBLEM_DT_TM'])\n",
        "prescribing_df['ORDER_DT_TM'] = pd.to_datetime(prescribing_df['ORDER_DT_TM'])"
      ]
    },
    {
      "cell_type": "code",
      "execution_count": null,
      "metadata": {
        "gather": {
          "logged": 1677002823213
        },
        "jupyter": {
          "outputs_hidden": false,
          "source_hidden": false
        },
        "nteract": {
          "transient": {
            "deleting": false
          }
        }
      },
      "outputs": [],
      "source": [
        "for x in range(len(final_problem_dummies)):\n",
        "    if x % 1000 == 0:\n",
        "        print('x:', x)\n",
        "    # Filter by subject\n",
        "    temp_df = prescribing_df[prescribing_df['SUBJECT'] == final_problem_dummies.loc[x, 'SUBJECT']]\n",
        "    if len(temp_df) >= 1:\n",
        "        # Filter by date\n",
        "        temp_df = temp_df[temp_df['ORDER_DT_TM'] <= final_problem_dummies.loc[x, 'PROBLEM_DT_TM']]\n",
        "        if len(temp_df) >= 1:\n",
        "            temp_drug_df = drugs_indications_and_codes[drugs_indications_and_codes['icht_prescribing_medication'].isin(temp_df['MEDICATION_NAME_SHORT'].to_list())]\n",
        "            snomed_code_list = temp_drug_df['snomed_code'].astype(str).unique().tolist()\n",
        "            # Add prefix \n",
        "            prefix_ADD = 'PROBLEM_'\n",
        "            snomed_code_list = [prefix_ADD + z for z in snomed_code_list if isinstance(z, str)]\n",
        "            # Find snomed codes that overlap\n",
        "            snomed_code_list = list(set(snomed_code_list) & set(final_problem_dummies.iloc[:,3:].columns.tolist()))\n",
        "            # Set those problems to 1 in main df\n",
        "            final_problem_dummies.loc[x, snomed_code_list] = 1"
      ]
    },
    {
      "cell_type": "code",
      "execution_count": 20,
      "metadata": {
        "gather": {
          "logged": 1677003032527
        },
        "jupyter": {
          "outputs_hidden": false,
          "source_hidden": false
        },
        "nteract": {
          "transient": {
            "deleting": false
          }
        }
      },
      "outputs": [],
      "source": [
        "# Save\n",
        "#final_problem_dummies.to_csv('final_problem_dummies_med.csv')"
      ]
    },
    {
      "cell_type": "markdown",
      "metadata": {
        "nteract": {
          "transient": {
            "deleting": false
          }
        }
      },
      "source": [
        "## Run with fuzzy"
      ]
    },
    {
      "cell_type": "code",
      "execution_count": 22,
      "metadata": {
        "gather": {
          "logged": 1677003359904
        },
        "jupyter": {
          "outputs_hidden": false,
          "source_hidden": false
        },
        "nteract": {
          "transient": {
            "deleting": false
          }
        }
      },
      "outputs": [],
      "source": [
        "# Import\n",
        "path = r'data/drugs_indications_and_codes_fuzzy.csv'\n",
        "drugs_indications_and_codes_fuzzy = pd.read_csv(path)"
      ]
    },
    {
      "cell_type": "code",
      "execution_count": 23,
      "metadata": {
        "gather": {
          "logged": 1677003480881
        },
        "jupyter": {
          "outputs_hidden": false,
          "source_hidden": false
        },
        "nteract": {
          "transient": {
            "deleting": false
          }
        }
      },
      "outputs": [],
      "source": [
        "# Import\n",
        "path = r'data/final_problem_dummies.csv'\n",
        "final_problem_dummies = pd.read_csv(path)"
      ]
    },
    {
      "cell_type": "code",
      "execution_count": 26,
      "metadata": {
        "gather": {
          "logged": 1677003515227
        },
        "jupyter": {
          "outputs_hidden": false,
          "source_hidden": false
        },
        "nteract": {
          "transient": {
            "deleting": false
          }
        }
      },
      "outputs": [],
      "source": [
        "# Convert to datetime\n",
        "final_problem_dummies['PROBLEM_DT_TM'] = pd.to_datetime(final_problem_dummies['PROBLEM_DT_TM'])\n",
        "prescribing_df['ORDER_DT_TM'] = pd.to_datetime(prescribing_df['ORDER_DT_TM'])"
      ]
    },
    {
      "cell_type": "code",
      "execution_count": null,
      "metadata": {
        "gather": {
          "logged": 1677010157683
        },
        "jupyter": {
          "outputs_hidden": false,
          "source_hidden": false
        },
        "nteract": {
          "transient": {
            "deleting": false
          }
        }
      },
      "outputs": [],
      "source": [
        "for x in range(len(final_problem_dummies)):\n",
        "    if x % 1000 == 0:\n",
        "        print('x:', x)\n",
        "    # Filter by subject\n",
        "    temp_df = prescribing_df[prescribing_df['SUBJECT'] == final_problem_dummies.loc[x, 'SUBJECT']]\n",
        "    if len(temp_df) >= 1:\n",
        "        # Filter by date\n",
        "        temp_df = temp_df[temp_df['ORDER_DT_TM'] <= final_problem_dummies.loc[x, 'PROBLEM_DT_TM']]\n",
        "        if len(temp_df) >= 1:\n",
        "            temp_drug_df = drugs_indications_and_codes_fuzzy[drugs_indications_and_codes_fuzzy['icht_prescribing_medication'].isin(temp_df['MEDICATION_NAME_SHORT'].to_list())]\n",
        "            snomed_code_list = temp_drug_df['snomed_code'].astype(str).unique().tolist()\n",
        "            # Add prefix \n",
        "            prefix_ADD = 'PROBLEM_'\n",
        "            snomed_code_list = [prefix_ADD + z for z in snomed_code_list if isinstance(z, str)]\n",
        "            # Find snomed codes that overlap\n",
        "            snomed_code_list = list(set(snomed_code_list) & set(final_problem_dummies.iloc[:,3:].columns.tolist()))\n",
        "            # Set those problems to 1 in main df\n",
        "            final_problem_dummies.loc[x, snomed_code_list] = 1"
      ]
    },
    {
      "cell_type": "code",
      "execution_count": 29,
      "metadata": {
        "gather": {
          "logged": 1677010266195
        },
        "jupyter": {
          "outputs_hidden": false,
          "source_hidden": false
        },
        "nteract": {
          "transient": {
            "deleting": false
          }
        }
      },
      "outputs": [],
      "source": [
        "# Save\n",
        "#final_problem_dummies.to_csv('final_problem_dummies_med_fuzzy.csv')"
      ]
    }
  ],
  "metadata": {
    "kernel_info": {
      "name": "python310-sdkv2"
    },
    "kernelspec": {
      "display_name": "Python 3.10 - SDK v2",
      "language": "python",
      "name": "python310-sdkv2"
    },
    "language_info": {
      "codemirror_mode": {
        "name": "ipython",
        "version": 3
      },
      "file_extension": ".py",
      "mimetype": "text/x-python",
      "name": "python",
      "nbconvert_exporter": "python",
      "pygments_lexer": "ipython3",
      "version": "3.10.11"
    },
    "microsoft": {
      "host": {
        "AzureML": {
          "notebookHasBeenCompleted": true
        }
      },
      "ms_spell_check": {
        "ms_spell_check_language": "en"
      }
    },
    "nteract": {
      "version": "nteract-front-end@1.0.0"
    }
  },
  "nbformat": 4,
  "nbformat_minor": 2
}
