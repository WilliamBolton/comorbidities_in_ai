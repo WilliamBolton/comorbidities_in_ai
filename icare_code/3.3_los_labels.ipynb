{
  "cells": [
    {
      "cell_type": "code",
      "execution_count": 1,
      "metadata": {
        "gather": {
          "logged": 1685003587502
        }
      },
      "outputs": [],
      "source": [
        "# Libraries\n",
        "import numpy as np\n",
        "import pandas as pd\n",
        "pd.set_option('display.max_columns', 40)\n",
        "pd.set_option('display.width', 2000)\n",
        "\n",
        "from IPython.core.interactiveshell import InteractiveShell\n",
        "InteractiveShell.ast_node_interactivity = \"all\""
      ]
    },
    {
      "cell_type": "code",
      "execution_count": 2,
      "metadata": {
        "gather": {
          "logged": 1685003606259
        },
        "jupyter": {
          "outputs_hidden": false,
          "source_hidden": false
        },
        "nteract": {
          "transient": {
            "deleting": false
          }
        }
      },
      "outputs": [
        {
          "name": "stderr",
          "output_type": "stream",
          "text": [
            "/anaconda/envs/azureml_py310_sdkv2/lib/python3.10/site-packages/snowflake/connector/options.py:96: UserWarning: You have an incompatible version of 'pyarrow' installed (6.0.0), please install a version that adheres to: 'pyarrow<8.1.0,>=8.0.0; extra == \"pandas\"'\n",
            "  warn_incompatible_dep(\n"
          ]
        },
        {
          "name": "stdout",
          "output_type": "stream",
          "text": [
            "Initiating login request with your identity provider. A browser window should have opened for you to complete the login. If you can't see it, check existing browser windows, or your OS settings. Press CTRL+C to abort and try again...\n",
            "We were unable to open a browser window for you, please open the following url manually then paste the URL you are redirected to into the terminal.\n",
            "URL: https://login.microsoftonline.com/be00e2c6-806c-45f8-84c3-3fc99f64b8d3/saml2?SAMLRequest=pZPNctsgFEZfRUPXktCPbZmxnHHjpHEmbdxYaafZYXTlUCNQAFlJn75YjmbSRbLpjoFz4XA%2FmJ0918I7gDZcyRxFAUYeSKZKLnc5ui8u%2FQx5xlJZUqEk5OgFDDqbzwytRUMWrX2Ud%2FDUgrGe20ga0i%2FkqNWSKGq4IZLWYIhlZLP4ekPiAJNGK6uYEuhNyccV1BjQ1hkOJaXhTu%2FR2oaEYdd1QZcESu%2FCGGMc4mnoqCPyaeCf3Z3e4aMQp0feEQ5fv7p95vLUgo%2B0tifIkKuiWPvr202BvMWgeq6kaWvQG9AHzuD%2B7uYkYJyBskk0GeGg3ftGuR4GjeYHakFwuQ%2BMVF0l6B6YqpvWugMCNworKEOhdtz1YLXMUbPnpb7YPMXxd%2FE7mdzWWwppdrW%2Ffih%2BpX%2BiC%2FpT1qsv0XXFRVdGiiHvxxByfAx5ZUwLK3mM1ropHCc%2BHvnxqMAZSRISJcEEpw%2FIW7pouaS2rxz8e4%2Bg5kwroyqrpBOH3nILGEPMxn6Gx8xPR1XmZylL%2FKRi02k1TrdZmYTHwGN0ekSkF9Hz%2F2jNLHy70evT%2FObSWi3XSnD24l0qXVP7fphREPUzvPSrHiVQUy4WZanBGBeqEKo71%2BA8cmR1Cyicn0799w%2FM%2FwI%3D&RelayState=43051\n"
          ]
        },
        {
          "data": {
            "text/plain": [
              "<snowflake.connector.cursor.SnowflakeCursor at 0x7f09e699cf10>"
            ]
          },
          "execution_count": 2,
          "metadata": {},
          "output_type": "execute_result"
        },
        {
          "name": "stdout",
          "output_type": "stream",
          "text": [
            "('7.17.1', 'ICHT_RG_COVOAM_22016_PROD', 'ICHT_WH_COVOAM_22016_PROD')\n"
          ]
        },
        {
          "data": {
            "text/plain": [
              "True"
            ]
          },
          "execution_count": 2,
          "metadata": {},
          "output_type": "execute_result"
        }
      ],
      "source": [
        "import json, snowflake.connector\n",
        "\n",
        "# establish the connection to snowflake\n",
        "ctx = snowflake.connector.connect( \n",
        "    **json.load(open('/opt/ich/python-snowflake-defaults.json')))\n",
        "    \n",
        "# verify and test if connection is working\n",
        "try: \n",
        "    cs = ctx.cursor() \n",
        "    cs.execute('SELECT current_version(), current_role(), current_warehouse()')\n",
        "    print(cs.fetchone())\n",
        "finally: \n",
        "    cs.close()"
      ]
    },
    {
      "cell_type": "code",
      "execution_count": 3,
      "metadata": {
        "gather": {
          "logged": 1685003634869
        },
        "jupyter": {
          "outputs_hidden": false,
          "source_hidden": false
        },
        "nteract": {
          "transient": {
            "deleting": false
          }
        }
      },
      "outputs": [],
      "source": [
        "# Import \n",
        "query = '''\n",
        "SELECT * from ICHT_PROD.ICHT_COVID.EPISODES\n",
        "'''\n",
        "cur = ctx.cursor().execute(query)\n",
        "episodes = pd.DataFrame.from_records(iter(cur), columns=[x[0] for x in cur.description])"
      ]
    },
    {
      "cell_type": "code",
      "execution_count": 4,
      "metadata": {
        "gather": {
          "logged": 1685003635536
        },
        "jupyter": {
          "outputs_hidden": false,
          "source_hidden": false
        },
        "nteract": {
          "transient": {
            "deleting": false
          }
        }
      },
      "outputs": [],
      "source": [
        "# Filter for relevant columns\n",
        "episodes = episodes[['SUBJECT', 'SPELL_IDENTIFIER',  'ADMISSION_DATE_TIME', 'DISCHARGE_DATE_TIME']]"
      ]
    },
    {
      "cell_type": "code",
      "execution_count": 5,
      "metadata": {
        "gather": {
          "logged": 1685003671692
        },
        "jupyter": {
          "outputs_hidden": false,
          "source_hidden": false
        },
        "nteract": {
          "transient": {
            "deleting": false
          }
        }
      },
      "outputs": [],
      "source": [
        "# Import\n",
        "path = r'data/final_problem_dummies.csv'\n",
        "problem_dummies = pd.read_csv(path)"
      ]
    },
    {
      "cell_type": "code",
      "execution_count": 6,
      "metadata": {
        "gather": {
          "logged": 1685003672333
        },
        "jupyter": {
          "outputs_hidden": false,
          "source_hidden": false
        },
        "nteract": {
          "transient": {
            "deleting": false
          }
        }
      },
      "outputs": [],
      "source": [
        "# Filter for relevant columns\n",
        "problem_dummies2 = problem_dummies.iloc[:,:3]"
      ]
    },
    {
      "cell_type": "code",
      "execution_count": 7,
      "metadata": {
        "gather": {
          "logged": 1685003674443
        },
        "jupyter": {
          "outputs_hidden": false,
          "source_hidden": false
        },
        "nteract": {
          "transient": {
            "deleting": false
          }
        }
      },
      "outputs": [],
      "source": [
        "# Filter for where DISCHARGE_DATE_TIME is after ADMISSION_DATE_TIME\n",
        "episodes = episodes.loc[(episodes['DISCHARGE_DATE_TIME'] >= episodes['ADMISSION_DATE_TIME'] )]\n",
        "# To date time \n",
        "problem_dummies2['PROBLEM_DT_TM'] = pd.to_datetime(problem_dummies2['PROBLEM_DT_TM'])\n",
        "# Merge on subject\n",
        "los = pd.merge(problem_dummies2, episodes)"
      ]
    },
    {
      "cell_type": "code",
      "execution_count": 8,
      "metadata": {
        "gather": {
          "logged": 1685003675083
        },
        "jupyter": {
          "outputs_hidden": false,
          "source_hidden": false
        },
        "nteract": {
          "transient": {
            "deleting": false
          }
        }
      },
      "outputs": [],
      "source": [
        "# Filter for where ADMISSION_DATE_TIME is after PROBLEM_DT_TM\n",
        "los = los.loc[(los['ADMISSION_DATE_TIME'] >= los['PROBLEM_DT_TM'])]\n",
        "# Drop duplicates\n",
        "los = los.drop_duplicates()"
      ]
    },
    {
      "cell_type": "code",
      "execution_count": 9,
      "metadata": {
        "gather": {
          "logged": 1685003775047
        },
        "jupyter": {
          "outputs_hidden": false,
          "source_hidden": false
        },
        "nteract": {
          "transient": {
            "deleting": false
          }
        }
      },
      "outputs": [],
      "source": [
        "# Calculate los\n",
        "los['los_delta'] = los['DISCHARGE_DATE_TIME'] - los['ADMISSION_DATE_TIME']\n",
        "los['los_days'] = (los['los_delta'] / np.timedelta64(1, 'D')).astype(int)\n",
        "los['los_hours'] = (los['los_delta'] / np.timedelta64(1, 'h')).astype(int)\n",
        "def f(row):\n",
        "    if row['los_days'] > 7:\n",
        "        val = 1\n",
        "    else:\n",
        "        val = 0\n",
        "    return val\n",
        "los['los_long'] = los.apply(f, axis=1)"
      ]
    },
    {
      "cell_type": "code",
      "execution_count": 11,
      "metadata": {
        "gather": {
          "logged": 1685004036778
        },
        "jupyter": {
          "outputs_hidden": false,
          "source_hidden": false
        },
        "nteract": {
          "transient": {
            "deleting": false
          }
        }
      },
      "outputs": [],
      "source": [
        "# Save\n",
        "#los.to_csv('los.csv')"
      ]
    }
  ],
  "metadata": {
    "kernel_info": {
      "name": "python310-sdkv2"
    },
    "kernelspec": {
      "display_name": "Python 3.10 - SDK v2",
      "language": "python",
      "name": "python310-sdkv2"
    },
    "language_info": {
      "codemirror_mode": {
        "name": "ipython",
        "version": 3
      },
      "file_extension": ".py",
      "mimetype": "text/x-python",
      "name": "python",
      "nbconvert_exporter": "python",
      "pygments_lexer": "ipython3",
      "version": "3.10.11"
    },
    "microsoft": {
      "host": {
        "AzureML": {
          "notebookHasBeenCompleted": true
        }
      },
      "ms_spell_check": {
        "ms_spell_check_language": "en"
      }
    },
    "nteract": {
      "version": "nteract-front-end@1.0.0"
    }
  },
  "nbformat": 4,
  "nbformat_minor": 2
}
