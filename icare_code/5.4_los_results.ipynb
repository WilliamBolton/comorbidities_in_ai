{
  "cells": [
    {
      "cell_type": "code",
      "execution_count": 1,
      "metadata": {
        "gather": {
          "logged": 1704814082778
        }
      },
      "outputs": [],
      "source": [
        "# Libraries\n",
        "import numpy as np\n",
        "import pandas as pd\n",
        "pd.set_option('display.max_columns', 40)\n",
        "pd.set_option('display.width', 2000)\n",
        "from tqdm import tqdm\n",
        "import math\n",
        "import time\n",
        "\n",
        "import torch\n",
        "import torch.nn as nn\n",
        "import torch.optim as optim\n",
        "import torch.nn.functional as F\n",
        "from torch.utils.data import DataLoader, Dataset\n",
        "\n",
        "from sklearn.linear_model import LogisticRegression\n",
        "from sklearn.neural_network import MLPClassifier\n",
        "from sklearn.model_selection import StratifiedKFold\n",
        "\n",
        "from sklearn.metrics import roc_auc_score\n",
        "from sklearn.metrics import accuracy_score\n",
        "from sklearn.metrics import recall_score\n",
        "from sklearn.metrics import precision_score\n",
        "from sklearn.metrics import f1_score\n",
        "from sklearn.metrics import confusion_matrix\n",
        "from sklearn.metrics import average_precision_score\n",
        "\n",
        "import gc\n",
        "\n",
        "from IPython.core.interactiveshell import InteractiveShell\n",
        "InteractiveShell.ast_node_interactivity = \"all\"\n",
        "\n",
        "device = torch.device(\"cuda\" if torch.cuda.is_available() else \"cpu\")"
      ]
    },
    {
      "cell_type": "code",
      "execution_count": null,
      "metadata": {
        "gather": {
          "logged": 1704224856045
        },
        "jupyter": {
          "outputs_hidden": false,
          "source_hidden": false
        },
        "nteract": {
          "transient": {
            "deleting": false
          }
        }
      },
      "outputs": [],
      "source": [
        "# Import\n",
        "path = r'data/los.csv'\n",
        "los_labels = pd.read_csv(path)\n",
        "\n",
        "# Group by and take average\n",
        "los_labels = los_labels.groupby(['new_subject', 'SUBJECT', 'PROBLEM_DT_TM'])['los_days', 'los_hours', 'los_long'].mean()\n",
        "los_labels = los_labels.reset_index()[['new_subject', 'los_days', 'los_hours', 'los_long']]\n",
        "\n",
        "# Import\n",
        "path = r'data/trimmed_patient_embedding_128d.csv'\n",
        "patients_embeddings = pd.read_csv(path, index_col=0)\n",
        "\n",
        "# Fill in nan\n",
        "los_labels.los_hours.fillna(0, inplace=True)\n",
        "los_labels.los_long.fillna(0, inplace=True)\n",
        "# Merge\n",
        "patients_embeddings = pd.merge(los_labels[['new_subject', 'los_hours', 'los_long']], patients_embeddings.reset_index()).set_index('new_subject', inplace=True)\n",
        "\n",
        "# Import\n",
        "path = r'data/final_problem_dummies.csv'\n",
        "problem_dummies = pd.read_csv(path)\n",
        "\n",
        "# Drop columns\n",
        "problem_dummies.drop(columns=['SUBJECT', 'PROBLEM_DT_TM'], inplace=True)\n",
        "# Remove prefix\n",
        "problem_dummies.columns = problem_dummies.columns.str.strip('PROBLEM_')\n",
        "# Merge\n",
        "problem_dummies = pd.merge(los_labels[['new_subject', 'los_hours', 'los_long']], problem_dummies)\n",
        "# Set index\n",
        "problem_dummies.set_index('new_subject', inplace=True)\n",
        "\n",
        "# Import\n",
        "path = r'data/final_trimmed_snomed_embedding_128d.csv'\n",
        "snomed_embeddings = pd.read_csv(path, index_col=0)\n",
        "\n",
        "# Get list \n",
        "snomed_embeddings.index = snomed_embeddings.index.astype(str)\n",
        "snomed_list = snomed_embeddings.index.tolist()\n",
        "problem_dummies_list = problem_dummies.columns.tolist()\n",
        "overlap_list = list(set(snomed_list) & set(problem_dummies_list))\n",
        "overlap_list = ['los_hours', 'los_long'] + overlap_list\n",
        "\n",
        "# Filter\n",
        "problem_dummies = problem_dummies[overlap_list]\n"
      ]
    },
    {
      "cell_type": "code",
      "execution_count": 3,
      "metadata": {
        "gather": {
          "logged": 1704224873941
        },
        "jupyter": {
          "outputs_hidden": false,
          "source_hidden": false
        },
        "nteract": {
          "transient": {
            "deleting": false
          }
        }
      },
      "outputs": [
        {
          "data": {
            "text/plain": [
              "7"
            ]
          },
          "execution_count": 3,
          "metadata": {},
          "output_type": "execute_result"
        }
      ],
      "source": [
        "del los_labels\n",
        "del patients_embeddings\n",
        "del snomed_embeddings\n",
        "del snomed_list\n",
        "del problem_dummies_list\n",
        "del overlap_list\n",
        "gc.collect()"
      ]
    },
    {
      "cell_type": "markdown",
      "metadata": {
        "nteract": {
          "transient": {
            "deleting": false
          }
        }
      },
      "source": [
        "Statistical tests (ran after results generated)"
      ]
    },
    {
      "cell_type": "code",
      "execution_count": 2,
      "metadata": {
        "gather": {
          "logged": 1704814083271
        },
        "jupyter": {
          "outputs_hidden": false,
          "source_hidden": false
        },
        "nteract": {
          "transient": {
            "deleting": false
          }
        }
      },
      "outputs": [],
      "source": [
        "set_results = [0.747882,\n",
        "0.757391,\n",
        "0.761086,\n",
        "0.720488,\n",
        "0.749033,\n",
        "0.766235,\n",
        "0.757610,\n",
        "0.774033,\n",
        "0.746641,\n",
        "0.748128]\n",
        "random_set_results = [0.745206,\n",
        "0.755118,\n",
        "0.705928,\n",
        "0.722723,\n",
        "0.705892,\n",
        "0.748889,\n",
        "0.742211,\n",
        "0.748850,\n",
        "0.742797,\n",
        "0.740542]\n",
        "lr_results = [0.475000,\n",
        "0.730232,\n",
        "0.694128,\n",
        "0.725744,\n",
        "0.723272,\n",
        "0.738767,\n",
        "0.678671,\n",
        "0.736754,\n",
        "0.723696,\n",
        "0.720582]\n",
        "charlson_results = [0.589538,\n",
        "0.604296,\n",
        "0.596816,\n",
        "0.599770,\n",
        "0.583316,\n",
        "0.602164,\n",
        "0.599521,\n",
        "0.603749,\n",
        "0.614322,\n",
        "0.607869]\n",
        "\n",
        "set_results_8 = [0.476526,\n",
        "0.919048,\n",
        "0.301136,\n",
        "0.463675,\n",
        "0.831276,\n",
        "0.469136,\n",
        "0.764706,\n",
        "0.577778,\n",
        "0.554430,\n",
        "0.768382]\n",
        "random_set_results_8 = [0.204225,\n",
        "0.776190,\n",
        "0.384470,\n",
        "0.480769,\n",
        "0.308642,\n",
        "0.382716,\n",
        "0.460784,\n",
        "0.944444,\n",
        "0.468354,\n",
        "0.757353]\n",
        "lr_results_8 = [0.955556,\n",
        "0.786164,\n",
        "0.636667,\n",
        "0.989130,\n",
        "0.500000,\n",
        "0.488372,\n",
        "0.487179,\n",
        "0.500000,\n",
        "0.456522,\n",
        "0.475000]\n",
        "charlson_results_8 = [0.607869,\n",
        "0.500000,\n",
        "0.484848,\n",
        "0.487179,\n",
        "0.493827,\n",
        "0.493827,\n",
        "0.500000,\n",
        "0.488889,\n",
        "0.587342,\n",
        "0.492647]"
      ]
    },
    {
      "cell_type": "code",
      "execution_count": 4,
      "metadata": {
        "gather": {
          "logged": 1704814286350
        },
        "jupyter": {
          "outputs_hidden": false,
          "source_hidden": false
        },
        "nteract": {
          "transient": {
            "deleting": false
          }
        }
      },
      "outputs": [],
      "source": [
        "from scipy.stats import shapiro \n",
        "from scipy.stats import kstest\n",
        "from scipy.stats import normaltest\n",
        "from scipy.stats import ttest_rel\n",
        "from scipy.stats import wilcoxon"
      ]
    },
    {
      "cell_type": "code",
      "execution_count": 10,
      "metadata": {
        "gather": {
          "logged": 1704467957885
        },
        "jupyter": {
          "outputs_hidden": false,
          "source_hidden": false
        },
        "nteract": {
          "transient": {
            "deleting": false
          }
        }
      },
      "outputs": [
        {
          "data": {
            "text/plain": [
              "ShapiroResult(statistic=0.91277015209198, pvalue=0.3005659282207489)"
            ]
          },
          "execution_count": 10,
          "metadata": {},
          "output_type": "execute_result"
        },
        {
          "data": {
            "text/plain": [
              "KstestResult(statistic=0.7643877072403327, pvalue=1.291738076015592e-06)"
            ]
          },
          "execution_count": 10,
          "metadata": {},
          "output_type": "execute_result"
        },
        {
          "name": "stderr",
          "output_type": "stream",
          "text": [
            "/anaconda/envs/azureml_py310_sdkv2/lib/python3.10/site-packages/scipy/stats/_stats_py.py:1772: UserWarning: kurtosistest only valid for n>=20 ... continuing anyway, n=10\n",
            "  warnings.warn(\"kurtosistest only valid for n>=20 ... continuing \"\n"
          ]
        },
        {
          "data": {
            "text/plain": [
              "NormaltestResult(statistic=4.611049210161704, pvalue=0.09970648040487014)"
            ]
          },
          "execution_count": 10,
          "metadata": {},
          "output_type": "execute_result"
        }
      ],
      "source": [
        "shapiro(set_results)\n",
        "kstest(set_results, 'norm')\n",
        "normaltest(set_results)"
      ]
    },
    {
      "cell_type": "code",
      "execution_count": 11,
      "metadata": {
        "gather": {
          "logged": 1704467994314
        },
        "jupyter": {
          "outputs_hidden": false,
          "source_hidden": false
        },
        "nteract": {
          "transient": {
            "deleting": false
          }
        }
      },
      "outputs": [
        {
          "data": {
            "text/plain": [
              "ShapiroResult(statistic=0.8209559321403503, pvalue=0.026025492697954178)"
            ]
          },
          "execution_count": 11,
          "metadata": {},
          "output_type": "execute_result"
        },
        {
          "data": {
            "text/plain": [
              "KstestResult(statistic=0.7598723485150173, pvalue=1.5918509884571782e-06)"
            ]
          },
          "execution_count": 11,
          "metadata": {},
          "output_type": "execute_result"
        },
        {
          "data": {
            "text/plain": [
              "NormaltestResult(statistic=2.335046864196942, pvalue=0.3111365386566636)"
            ]
          },
          "execution_count": 11,
          "metadata": {},
          "output_type": "execute_result"
        }
      ],
      "source": [
        "shapiro(random_set_results)\n",
        "kstest(random_set_results, 'norm')\n",
        "normaltest(random_set_results)"
      ]
    },
    {
      "cell_type": "code",
      "execution_count": 12,
      "metadata": {
        "gather": {
          "logged": 1704468016263
        },
        "jupyter": {
          "outputs_hidden": false,
          "source_hidden": false
        },
        "nteract": {
          "transient": {
            "deleting": false
          }
        }
      },
      "outputs": [
        {
          "data": {
            "text/plain": [
              "ShapiroResult(statistic=0.5631038546562195, pvalue=2.015241261688061e-05)"
            ]
          },
          "execution_count": 12,
          "metadata": {},
          "output_type": "execute_result"
        },
        {
          "data": {
            "text/plain": [
              "KstestResult(statistic=0.6826065133587409, pvalue=3.751089511108325e-05)"
            ]
          },
          "execution_count": 12,
          "metadata": {},
          "output_type": "execute_result"
        },
        {
          "data": {
            "text/plain": [
              "NormaltestResult(statistic=24.531976093259708, pvalue=4.709221045991683e-06)"
            ]
          },
          "execution_count": 12,
          "metadata": {},
          "output_type": "execute_result"
        }
      ],
      "source": [
        "shapiro(lr_results)\n",
        "kstest(lr_results, 'norm')\n",
        "normaltest(lr_results)"
      ]
    },
    {
      "cell_type": "code",
      "execution_count": 5,
      "metadata": {
        "gather": {
          "logged": 1704814287841
        },
        "jupyter": {
          "outputs_hidden": false,
          "source_hidden": false
        },
        "nteract": {
          "transient": {
            "deleting": false
          }
        }
      },
      "outputs": [
        {
          "data": {
            "text/plain": [
              "ShapiroResult(statistic=0.9653530120849609, pvalue=0.8447386026382446)"
            ]
          },
          "execution_count": 5,
          "metadata": {},
          "output_type": "execute_result"
        },
        {
          "data": {
            "text/plain": [
              "KstestResult(statistic=0.7201597032392104, pvalue=8.822979890802452e-06)"
            ]
          },
          "execution_count": 5,
          "metadata": {},
          "output_type": "execute_result"
        },
        {
          "name": "stderr",
          "output_type": "stream",
          "text": [
            "/anaconda/envs/azureml_py310_sdkv2/lib/python3.10/site-packages/scipy/stats/_stats_py.py:1772: UserWarning: kurtosistest only valid for n>=20 ... continuing anyway, n=10\n",
            "  warnings.warn(\"kurtosistest only valid for n>=20 ... continuing \"\n"
          ]
        },
        {
          "data": {
            "text/plain": [
              "NormaltestResult(statistic=0.9814405359297835, pvalue=0.6121852978910722)"
            ]
          },
          "execution_count": 5,
          "metadata": {},
          "output_type": "execute_result"
        }
      ],
      "source": [
        "shapiro(charlson_results)\n",
        "kstest(charlson_results, 'norm')\n",
        "normaltest(charlson_results)"
      ]
    },
    {
      "cell_type": "code",
      "execution_count": 15,
      "metadata": {
        "gather": {
          "logged": 1704468051624
        },
        "jupyter": {
          "outputs_hidden": false,
          "source_hidden": false
        },
        "nteract": {
          "transient": {
            "deleting": false
          }
        }
      },
      "outputs": [
        {
          "data": {
            "text/plain": [
              "ShapiroResult(statistic=0.9421727657318115, pvalue=0.5774344801902771)"
            ]
          },
          "execution_count": 15,
          "metadata": {},
          "output_type": "execute_result"
        },
        {
          "data": {
            "text/plain": [
              "KstestResult(statistic=0.6183446048356221, pvalue=0.0003261227478991447)"
            ]
          },
          "execution_count": 15,
          "metadata": {},
          "output_type": "execute_result"
        },
        {
          "data": {
            "text/plain": [
              "NormaltestResult(statistic=0.7324600778071833, pvalue=0.6933432869336758)"
            ]
          },
          "execution_count": 15,
          "metadata": {},
          "output_type": "execute_result"
        }
      ],
      "source": [
        "shapiro(set_results_8)\n",
        "kstest(set_results_8, 'norm')\n",
        "normaltest(set_results_8)"
      ]
    },
    {
      "cell_type": "code",
      "execution_count": 16,
      "metadata": {
        "gather": {
          "logged": 1704468058125
        },
        "jupyter": {
          "outputs_hidden": false,
          "source_hidden": false
        },
        "nteract": {
          "transient": {
            "deleting": false
          }
        }
      },
      "outputs": [
        {
          "data": {
            "text/plain": [
              "ShapiroResult(statistic=0.9161323308944702, pvalue=0.3258223533630371)"
            ]
          },
          "execution_count": 16,
          "metadata": {},
          "output_type": "execute_result"
        },
        {
          "data": {
            "text/plain": [
              "KstestResult(statistic=0.580911162069865, pvalue=0.0009861795674738682)"
            ]
          },
          "execution_count": 16,
          "metadata": {},
          "output_type": "execute_result"
        },
        {
          "data": {
            "text/plain": [
              "NormaltestResult(statistic=1.1380770259852806, pvalue=0.5660694455470265)"
            ]
          },
          "execution_count": 16,
          "metadata": {},
          "output_type": "execute_result"
        }
      ],
      "source": [
        "shapiro(random_set_results_8)\n",
        "kstest(random_set_results_8, 'norm')\n",
        "normaltest(random_set_results_8)"
      ]
    },
    {
      "cell_type": "code",
      "execution_count": 17,
      "metadata": {
        "gather": {
          "logged": 1704468068092
        },
        "jupyter": {
          "outputs_hidden": false,
          "source_hidden": false
        },
        "nteract": {
          "transient": {
            "deleting": false
          }
        }
      },
      "outputs": [
        {
          "data": {
            "text/plain": [
              "ShapiroResult(statistic=0.7687857151031494, pvalue=0.0060443882830441)"
            ]
          },
          "execution_count": 17,
          "metadata": {},
          "output_type": "execute_result"
        },
        {
          "data": {
            "text/plain": [
              "KstestResult(statistic=0.6759926728028078, pvalue=4.768463566879488e-05)"
            ]
          },
          "execution_count": 17,
          "metadata": {},
          "output_type": "execute_result"
        },
        {
          "data": {
            "text/plain": [
              "NormaltestResult(statistic=2.526126778016009, pvalue=0.2827864134695235)"
            ]
          },
          "execution_count": 17,
          "metadata": {},
          "output_type": "execute_result"
        }
      ],
      "source": [
        "shapiro(lr_results_8)\n",
        "kstest(lr_results_8, 'norm')\n",
        "normaltest(lr_results_8)"
      ]
    },
    {
      "cell_type": "code",
      "execution_count": 6,
      "metadata": {
        "gather": {
          "logged": 1704814330903
        },
        "jupyter": {
          "outputs_hidden": false,
          "source_hidden": false
        },
        "nteract": {
          "transient": {
            "deleting": false
          }
        }
      },
      "outputs": [
        {
          "data": {
            "text/plain": [
              "ShapiroResult(statistic=0.6320642232894897, pvalue=0.00013367459177970886)"
            ]
          },
          "execution_count": 6,
          "metadata": {},
          "output_type": "execute_result"
        },
        {
          "data": {
            "text/plain": [
              "KstestResult(statistic=0.6861079145284064, pvalue=3.297805441868364e-05)"
            ]
          },
          "execution_count": 6,
          "metadata": {},
          "output_type": "execute_result"
        },
        {
          "name": "stderr",
          "output_type": "stream",
          "text": [
            "/anaconda/envs/azureml_py310_sdkv2/lib/python3.10/site-packages/scipy/stats/_stats_py.py:1772: UserWarning: kurtosistest only valid for n>=20 ... continuing anyway, n=10\n",
            "  warnings.warn(\"kurtosistest only valid for n>=20 ... continuing \"\n"
          ]
        },
        {
          "data": {
            "text/plain": [
              "NormaltestResult(statistic=7.78817716890301, pvalue=0.020361924168909893)"
            ]
          },
          "execution_count": 6,
          "metadata": {},
          "output_type": "execute_result"
        }
      ],
      "source": [
        "shapiro(charlson_results_8)\n",
        "kstest(charlson_results_8, 'norm')\n",
        "normaltest(charlson_results_8)"
      ]
    },
    {
      "cell_type": "code",
      "execution_count": 7,
      "metadata": {
        "gather": {
          "logged": 1704814372436
        },
        "jupyter": {
          "outputs_hidden": false,
          "source_hidden": false
        },
        "nteract": {
          "transient": {
            "deleting": false
          }
        }
      },
      "outputs": [
        {
          "data": {
            "text/plain": [
              "Ttest_relResult(statistic=2.829592962153314, pvalue=0.01973551454323084)"
            ]
          },
          "execution_count": 7,
          "metadata": {},
          "output_type": "execute_result"
        },
        {
          "data": {
            "text/plain": [
              "Ttest_relResult(statistic=2.327709444684237, pvalue=0.04491527408950964)"
            ]
          },
          "execution_count": 7,
          "metadata": {},
          "output_type": "execute_result"
        },
        {
          "data": {
            "text/plain": [
              "Ttest_relResult(statistic=-1.5644104361008246, pvalue=0.1521601324968958)"
            ]
          },
          "execution_count": 7,
          "metadata": {},
          "output_type": "execute_result"
        },
        {
          "data": {
            "text/plain": [
              "Ttest_relResult(statistic=1.5644104361008246, pvalue=0.1521601324968958)"
            ]
          },
          "execution_count": 7,
          "metadata": {},
          "output_type": "execute_result"
        },
        {
          "data": {
            "text/plain": [
              "Ttest_relResult(statistic=-29.598950578378286, pvalue=2.800428635087982e-10)"
            ]
          },
          "execution_count": 7,
          "metadata": {},
          "output_type": "execute_result"
        },
        {
          "data": {
            "text/plain": [
              "Ttest_relResult(statistic=-28.860055928422543, pvalue=3.5083266455280124e-10)"
            ]
          },
          "execution_count": 7,
          "metadata": {},
          "output_type": "execute_result"
        },
        {
          "data": {
            "text/plain": [
              "Ttest_relResult(statistic=-3.94128045770264, pvalue=0.0033993534478292046)"
            ]
          },
          "execution_count": 7,
          "metadata": {},
          "output_type": "execute_result"
        }
      ],
      "source": [
        "ttest_rel(set_results, random_set_results) \n",
        "ttest_rel(set_results, lr_results) \n",
        "ttest_rel(lr_results, random_set_results) \n",
        "ttest_rel(random_set_results, lr_results) \n",
        "\n",
        "ttest_rel(charlson_results, set_results) \n",
        "ttest_rel(charlson_results, random_set_results) \n",
        "ttest_rel(charlson_results, lr_results) "
      ]
    },
    {
      "cell_type": "code",
      "execution_count": 8,
      "metadata": {
        "gather": {
          "logged": 1704814400106
        },
        "jupyter": {
          "outputs_hidden": false,
          "source_hidden": false
        },
        "nteract": {
          "transient": {
            "deleting": false
          }
        }
      },
      "outputs": [
        {
          "data": {
            "text/plain": [
              "WilcoxonResult(statistic=1.0, pvalue=0.00390625)"
            ]
          },
          "execution_count": 8,
          "metadata": {},
          "output_type": "execute_result"
        },
        {
          "data": {
            "text/plain": [
              "WilcoxonResult(statistic=1.0, pvalue=0.00390625)"
            ]
          },
          "execution_count": 8,
          "metadata": {},
          "output_type": "execute_result"
        },
        {
          "data": {
            "text/plain": [
              "WilcoxonResult(statistic=6.0, pvalue=0.02734375)"
            ]
          },
          "execution_count": 8,
          "metadata": {},
          "output_type": "execute_result"
        },
        {
          "data": {
            "text/plain": [
              "WilcoxonResult(statistic=0.0, pvalue=0.001953125)"
            ]
          },
          "execution_count": 8,
          "metadata": {},
          "output_type": "execute_result"
        },
        {
          "data": {
            "text/plain": [
              "WilcoxonResult(statistic=0.0, pvalue=0.001953125)"
            ]
          },
          "execution_count": 8,
          "metadata": {},
          "output_type": "execute_result"
        },
        {
          "data": {
            "text/plain": [
              "WilcoxonResult(statistic=5.0, pvalue=0.01953125)"
            ]
          },
          "execution_count": 8,
          "metadata": {},
          "output_type": "execute_result"
        }
      ],
      "source": [
        "wilcoxon(set_results, random_set_results) \n",
        "wilcoxon(set_results, lr_results) \n",
        "wilcoxon(lr_results, random_set_results)\n",
        "\n",
        "wilcoxon(charlson_results, set_results) \n",
        "wilcoxon(charlson_results, random_set_results) \n",
        "wilcoxon(charlson_results, lr_results) "
      ]
    },
    {
      "cell_type": "code",
      "execution_count": 9,
      "metadata": {
        "gather": {
          "logged": 1704814431481
        },
        "jupyter": {
          "outputs_hidden": false,
          "source_hidden": false
        },
        "nteract": {
          "transient": {
            "deleting": false
          }
        }
      },
      "outputs": [
        {
          "data": {
            "text/plain": [
              "Ttest_relResult(statistic=1.2545714022215622, pvalue=0.24123516463731395)"
            ]
          },
          "execution_count": 9,
          "metadata": {},
          "output_type": "execute_result"
        },
        {
          "data": {
            "text/plain": [
              "Ttest_relResult(statistic=-0.14667884025148195, pvalue=0.8866185689670323)"
            ]
          },
          "execution_count": 9,
          "metadata": {},
          "output_type": "execute_result"
        },
        {
          "data": {
            "text/plain": [
              "Ttest_relResult(statistic=1.005560171919287, pvalue=0.34089546463234344)"
            ]
          },
          "execution_count": 9,
          "metadata": {},
          "output_type": "execute_result"
        },
        {
          "data": {
            "text/plain": [
              "Ttest_relResult(statistic=-1.4867739148193868, pvalue=0.17124386193426686)"
            ]
          },
          "execution_count": 9,
          "metadata": {},
          "output_type": "execute_result"
        },
        {
          "data": {
            "text/plain": [
              "Ttest_relResult(statistic=-0.03895618664411773, pvalue=0.9697757731803747)"
            ]
          },
          "execution_count": 9,
          "metadata": {},
          "output_type": "execute_result"
        },
        {
          "data": {
            "text/plain": [
              "Ttest_relResult(statistic=-1.7847326104121752, pvalue=0.10796609718098465)"
            ]
          },
          "execution_count": 9,
          "metadata": {},
          "output_type": "execute_result"
        }
      ],
      "source": [
        "ttest_rel(set_results_8, random_set_results_8) \n",
        "ttest_rel(set_results_8, lr_results_8) \n",
        "ttest_rel(lr_results_8, random_set_results_8) \n",
        "\n",
        "ttest_rel(charlson_results_8, set_results_8) \n",
        "ttest_rel(charlson_results_8, random_set_results_8) \n",
        "ttest_rel(charlson_results_8, lr_results_8) "
      ]
    },
    {
      "cell_type": "code",
      "execution_count": 10,
      "metadata": {
        "gather": {
          "logged": 1704814450917
        },
        "jupyter": {
          "outputs_hidden": false,
          "source_hidden": false
        },
        "nteract": {
          "transient": {
            "deleting": false
          }
        }
      },
      "outputs": [
        {
          "data": {
            "text/plain": [
              "WilcoxonResult(statistic=14.0, pvalue=0.193359375)"
            ]
          },
          "execution_count": 10,
          "metadata": {},
          "output_type": "execute_result"
        },
        {
          "data": {
            "text/plain": [
              "WilcoxonResult(statistic=27.0, pvalue=1.0)"
            ]
          },
          "execution_count": 10,
          "metadata": {},
          "output_type": "execute_result"
        },
        {
          "data": {
            "text/plain": [
              "WilcoxonResult(statistic=17.0, pvalue=0.322265625)"
            ]
          },
          "execution_count": 10,
          "metadata": {},
          "output_type": "execute_result"
        },
        {
          "data": {
            "text/plain": [
              "WilcoxonResult(statistic=17.0, pvalue=0.322265625)"
            ]
          },
          "execution_count": 10,
          "metadata": {},
          "output_type": "execute_result"
        },
        {
          "data": {
            "text/plain": [
              "WilcoxonResult(statistic=25.0, pvalue=0.845703125)"
            ]
          },
          "execution_count": 10,
          "metadata": {},
          "output_type": "execute_result"
        },
        {
          "data": {
            "text/plain": [
              "WilcoxonResult(statistic=16.0, pvalue=0.275390625)"
            ]
          },
          "execution_count": 10,
          "metadata": {},
          "output_type": "execute_result"
        }
      ],
      "source": [
        "wilcoxon(set_results_8, random_set_results_8) \n",
        "wilcoxon(set_results_8, lr_results_8) \n",
        "wilcoxon(lr_results_8, random_set_results_8) \n",
        "\n",
        "wilcoxon(charlson_results_8, set_results_8) \n",
        "wilcoxon(charlson_results_8, random_set_results_8) \n",
        "wilcoxon(charlson_results_8, lr_results_8) "
      ]
    },
    {
      "cell_type": "markdown",
      "metadata": {
        "nteract": {
          "transient": {
            "deleting": false
          }
        }
      },
      "source": [
        "# LR"
      ]
    },
    {
      "cell_type": "code",
      "execution_count": 4,
      "metadata": {
        "gather": {
          "logged": 1704224875906
        },
        "jupyter": {
          "outputs_hidden": false,
          "source_hidden": false
        },
        "nteract": {
          "transient": {
            "deleting": false
          }
        }
      },
      "outputs": [],
      "source": [
        "# Drop those with no co-morbidities\n",
        "drop_index_list = problem_dummies.iloc[:,2:][(problem_dummies.iloc[:,2:] == 0).all(axis=1)].index.to_list()\n",
        "problem_dummies = problem_dummies[~problem_dummies.index.isin(drop_index_list)]"
      ]
    },
    {
      "cell_type": "code",
      "execution_count": 5,
      "metadata": {
        "gather": {
          "logged": 1704224878820
        },
        "jupyter": {
          "outputs_hidden": false,
          "source_hidden": false
        },
        "nteract": {
          "transient": {
            "deleting": false
          }
        }
      },
      "outputs": [],
      "source": [
        "# Work out count for problems\n",
        "problem_sum = pd.DataFrame(problem_dummies.iloc[:,2:].sum(axis=0), columns=['Count']).sort_values(by=['Count'], ascending=False)\n",
        "# Define what is a rare disease\n",
        "cut_off_list = [45, 8]"
      ]
    },
    {
      "cell_type": "code",
      "execution_count": 6,
      "metadata": {
        "gather": {
          "logged": 1704224879195
        },
        "jupyter": {
          "outputs_hidden": false,
          "source_hidden": false
        },
        "nteract": {
          "transient": {
            "deleting": false
          }
        }
      },
      "outputs": [],
      "source": [
        "# Reset index\n",
        "problem_dummies.reset_index(inplace=True, drop=True)"
      ]
    },
    {
      "cell_type": "code",
      "execution_count": 7,
      "metadata": {
        "gather": {
          "logged": 1704224891946
        },
        "jupyter": {
          "outputs_hidden": false,
          "source_hidden": false
        },
        "nteract": {
          "transient": {
            "deleting": false
          }
        }
      },
      "outputs": [
        {
          "data": {
            "text/plain": [
              "0.0    53402\n",
              "1.0     3293\n",
              "Name: los_long, dtype: int64"
            ]
          },
          "execution_count": 7,
          "metadata": {},
          "output_type": "execute_result"
        }
      ],
      "source": [
        "problem_dummies.los_long.round().value_counts()"
      ]
    },
    {
      "cell_type": "code",
      "execution_count": null,
      "metadata": {
        "gather": {
          "logged": 1699819097727
        },
        "jupyter": {
          "outputs_hidden": false,
          "source_hidden": false
        },
        "nteract": {
          "transient": {
            "deleting": false
          }
        }
      },
      "outputs": [],
      "source": [
        "# Get rare 10 fold cv results for one hot\n",
        "\n",
        "results_df = pd.DataFrame()\n",
        "x_data = problem_dummies.iloc[:,2:]\n",
        "y_data = problem_dummies.los_long.round()\n",
        "# Get CV folds\n",
        "cv = StratifiedKFold(n_splits=10, shuffle=True, random_state=2)\n",
        "fold_n = 0\n",
        "for train_index, test_index in cv.split(x_data, y_data):\n",
        "    fold_n += 1\n",
        "    x_train  = x_data[x_data.index.isin(list(train_index))]\n",
        "    y_train  = y_data[y_data.index.isin(list(train_index))]\n",
        "    x_test  = x_data[x_data.index.isin(list(test_index))]\n",
        "    y_test  = y_data[y_data.index.isin(list(test_index))]\n",
        "\n",
        "    # Fit\n",
        "    LR = LogisticRegression(class_weight='balanced')\n",
        "    LR.fit(x_train, y_train)\n",
        "\n",
        "    # Get results for rare diseases \n",
        "    for n in cut_off_list:\n",
        "        # Get filter list \n",
        "        filter_list = problem_sum[problem_sum['Count'] > n].index.tolist()\n",
        "        x_test2 = x_test.copy()\n",
        "        for code in filter_list:\n",
        "            x_test2 = x_test2.loc[x_test2[code] != 1]\n",
        "        x_test_list = x_test2.index.tolist()\n",
        "        y_test2 = y_test.loc[x_test_list]\n",
        "\n",
        "        # AUC\n",
        "        try:\n",
        "            aucroc = roc_auc_score(y_test2, LR.predict(x_test2))\n",
        "        except:\n",
        "            aucroc = np.nan\n",
        "        # Accuracy\n",
        "        accuracy = accuracy_score(y_test2, LR.predict(x_test2))\n",
        "        # Precision\n",
        "        precision = precision_score(y_test2, LR.predict(x_test2))\n",
        "        # Recall\n",
        "        recall = precision_score(y_test2, LR.predict(x_test2))\n",
        "        # AUPRC\n",
        "        try:\n",
        "            auprc = average_precision_score(y_test2, LR.predict(x_test2))\n",
        "        except:\n",
        "            auprc = np.nan\n",
        "        # F1\n",
        "        f1 = f1_score(y_test2, LR.predict(x_test2))\n",
        "        # TPR and FPR\n",
        "        cm = confusion_matrix(y_test2, LR.predict(x_test2))\n",
        "        try:\n",
        "            _tp = cm[0, 0]\n",
        "        except:\n",
        "            _tp = np.nan\n",
        "        try:\n",
        "            _fn = cm[0, 1]\n",
        "        except:\n",
        "            _fn = np.nan\n",
        "        try:\n",
        "            _fp = cm[1, 0]\n",
        "        except:\n",
        "            _fp = np.nan\n",
        "        try:\n",
        "            _tn = cm[1, 1]\n",
        "        except:\n",
        "            _tn = np.nan\n",
        "        tpr = _tp / (_tp + _fn)\n",
        "        fpr = _fp / (_tn + _fp)\n",
        "\n",
        "        new_row = {'data': 'dummies', 'fold': fold_n, 'subset': n, 'AUROC': aucroc, 'accuracy': accuracy, 'precision': precision, 'recall': recall, 'F1': f1, 'AUPRC': auprc, 'TPR': tpr, 'FPR': fpr}\n",
        "        results_df = results_df.append(new_row, ignore_index=True)"
      ]
    },
    {
      "cell_type": "code",
      "execution_count": 11,
      "metadata": {
        "gather": {
          "logged": 1699819098432
        },
        "jupyter": {
          "outputs_hidden": false,
          "source_hidden": false
        },
        "nteract": {
          "transient": {
            "deleting": false
          }
        }
      },
      "outputs": [
        {
          "data": {
            "text/html": [
              "<div>\n",
              "<style scoped>\n",
              "    .dataframe tbody tr th:only-of-type {\n",
              "        vertical-align: middle;\n",
              "    }\n",
              "\n",
              "    .dataframe tbody tr th {\n",
              "        vertical-align: top;\n",
              "    }\n",
              "\n",
              "    .dataframe thead th {\n",
              "        text-align: right;\n",
              "    }\n",
              "</style>\n",
              "<table border=\"1\" class=\"dataframe\">\n",
              "  <thead>\n",
              "    <tr style=\"text-align: right;\">\n",
              "      <th></th>\n",
              "      <th></th>\n",
              "      <th>fold</th>\n",
              "      <th>AUROC</th>\n",
              "      <th>accuracy</th>\n",
              "      <th>precision</th>\n",
              "      <th>recall</th>\n",
              "      <th>F1</th>\n",
              "      <th>AUPRC</th>\n",
              "      <th>TPR</th>\n",
              "      <th>FPR</th>\n",
              "    </tr>\n",
              "    <tr>\n",
              "      <th>data</th>\n",
              "      <th>subset</th>\n",
              "      <th></th>\n",
              "      <th></th>\n",
              "      <th></th>\n",
              "      <th></th>\n",
              "      <th></th>\n",
              "      <th></th>\n",
              "      <th></th>\n",
              "      <th></th>\n",
              "      <th></th>\n",
              "    </tr>\n",
              "  </thead>\n",
              "  <tbody>\n",
              "    <tr>\n",
              "      <th rowspan=\"2\" valign=\"top\">dummies</th>\n",
              "      <th>8</th>\n",
              "      <td>5.5</td>\n",
              "      <td>0.550889</td>\n",
              "      <td>0.881187</td>\n",
              "      <td>0.070742</td>\n",
              "      <td>0.070742</td>\n",
              "      <td>0.101667</td>\n",
              "      <td>0.060143</td>\n",
              "      <td>0.910112</td>\n",
              "      <td>0.808333</td>\n",
              "    </tr>\n",
              "    <tr>\n",
              "      <th>45</th>\n",
              "      <td>5.5</td>\n",
              "      <td>0.647394</td>\n",
              "      <td>0.822181</td>\n",
              "      <td>0.102456</td>\n",
              "      <td>0.102456</td>\n",
              "      <td>0.165464</td>\n",
              "      <td>0.069421</td>\n",
              "      <td>0.836882</td>\n",
              "      <td>0.542094</td>\n",
              "    </tr>\n",
              "  </tbody>\n",
              "</table>\n",
              "</div>"
            ],
            "text/plain": [
              "                fold     AUROC  accuracy  precision    recall        F1     AUPRC       TPR       FPR\n",
              "data    subset                                                                                       \n",
              "dummies 8        5.5  0.550889  0.881187   0.070742  0.070742  0.101667  0.060143  0.910112  0.808333\n",
              "        45       5.5  0.647394  0.822181   0.102456  0.102456  0.165464  0.069421  0.836882  0.542094"
            ]
          },
          "execution_count": 11,
          "metadata": {},
          "output_type": "execute_result"
        },
        {
          "data": {
            "text/html": [
              "<div>\n",
              "<style scoped>\n",
              "    .dataframe tbody tr th:only-of-type {\n",
              "        vertical-align: middle;\n",
              "    }\n",
              "\n",
              "    .dataframe tbody tr th {\n",
              "        vertical-align: top;\n",
              "    }\n",
              "\n",
              "    .dataframe thead th {\n",
              "        text-align: right;\n",
              "    }\n",
              "</style>\n",
              "<table border=\"1\" class=\"dataframe\">\n",
              "  <thead>\n",
              "    <tr style=\"text-align: right;\">\n",
              "      <th></th>\n",
              "      <th></th>\n",
              "      <th>fold</th>\n",
              "      <th>AUROC</th>\n",
              "      <th>accuracy</th>\n",
              "      <th>precision</th>\n",
              "      <th>recall</th>\n",
              "      <th>F1</th>\n",
              "      <th>AUPRC</th>\n",
              "      <th>TPR</th>\n",
              "      <th>FPR</th>\n",
              "    </tr>\n",
              "    <tr>\n",
              "      <th>data</th>\n",
              "      <th>subset</th>\n",
              "      <th></th>\n",
              "      <th></th>\n",
              "      <th></th>\n",
              "      <th></th>\n",
              "      <th></th>\n",
              "      <th></th>\n",
              "      <th></th>\n",
              "      <th></th>\n",
              "      <th></th>\n",
              "    </tr>\n",
              "  </thead>\n",
              "  <tbody>\n",
              "    <tr>\n",
              "      <th rowspan=\"2\" valign=\"top\">dummies</th>\n",
              "      <th>8</th>\n",
              "      <td>3.02765</td>\n",
              "      <td>0.108442</td>\n",
              "      <td>0.023184</td>\n",
              "      <td>0.074888</td>\n",
              "      <td>0.074888</td>\n",
              "      <td>0.108994</td>\n",
              "      <td>0.029641</td>\n",
              "      <td>0.026671</td>\n",
              "      <td>0.229230</td>\n",
              "    </tr>\n",
              "    <tr>\n",
              "      <th>45</th>\n",
              "      <td>3.02765</td>\n",
              "      <td>0.043717</td>\n",
              "      <td>0.021077</td>\n",
              "      <td>0.036339</td>\n",
              "      <td>0.036339</td>\n",
              "      <td>0.050315</td>\n",
              "      <td>0.025553</td>\n",
              "      <td>0.021020</td>\n",
              "      <td>0.088371</td>\n",
              "    </tr>\n",
              "  </tbody>\n",
              "</table>\n",
              "</div>"
            ],
            "text/plain": [
              "                   fold     AUROC  accuracy  precision    recall        F1     AUPRC       TPR       FPR\n",
              "data    subset                                                                                          \n",
              "dummies 8       3.02765  0.108442  0.023184   0.074888  0.074888  0.108994  0.029641  0.026671  0.229230\n",
              "        45      3.02765  0.043717  0.021077   0.036339  0.036339  0.050315  0.025553  0.021020  0.088371"
            ]
          },
          "execution_count": 11,
          "metadata": {},
          "output_type": "execute_result"
        }
      ],
      "source": [
        "results_df.groupby(['data', 'subset']).mean()\n",
        "results_df.groupby(['data', 'subset']).std()"
      ]
    },
    {
      "cell_type": "code",
      "execution_count": null,
      "metadata": {
        "gather": {
          "logged": 1699819299542
        },
        "jupyter": {
          "outputs_hidden": false,
          "source_hidden": false
        },
        "nteract": {
          "transient": {
            "deleting": false
          }
        }
      },
      "outputs": [],
      "source": [
        "# Get 10 fold cv results for one hot\n",
        "\n",
        "results_df = pd.DataFrame()\n",
        "x_data = problem_dummies.iloc[:,2:]\n",
        "y_data = problem_dummies.los_long.round()\n",
        "# Get CV folds\n",
        "cv = StratifiedKFold(n_splits=10, shuffle=True, random_state=2)\n",
        "fold_n = 0\n",
        "for train_index, test_index in cv.split(x_data, y_data):\n",
        "    fold_n += 1\n",
        "    x_train  = x_data[x_data.index.isin(list(train_index))]\n",
        "    y_train  = y_data[y_data.index.isin(list(train_index))]\n",
        "    x_test  = x_data[x_data.index.isin(list(test_index))]\n",
        "    y_test  = y_data[y_data.index.isin(list(test_index))]\n",
        "    # Split data\n",
        "\n",
        "    # Fit\n",
        "    LR = LogisticRegression(class_weight='balanced')\n",
        "    LR.fit(x_train, y_train)\n",
        "\n",
        "    # AUC\n",
        "    aucroc = roc_auc_score(y_test, LR.predict(x_test))\n",
        "    # Accuracy\n",
        "    accuracy = accuracy_score(y_test, LR.predict(x_test))\n",
        "    # Precision\n",
        "    precision = precision_score(y_test, LR.predict(x_test))\n",
        "    # Recall\n",
        "    recall = recall_score(y_test, LR.predict(x_test))\n",
        "    # AUPRC\n",
        "    auprc = average_precision_score(y_test, LR.predict(x_test))\n",
        "    # F1\n",
        "    f1 = f1_score(y_test, LR.predict(x_test))\n",
        "    # TPR and FPR\n",
        "    cm = confusion_matrix(y_test, LR.predict(x_test))\n",
        "    _tp = cm[0, 0]\n",
        "    _fn = cm[0, 1]\n",
        "    _fp = cm[1, 0]\n",
        "    _tn = cm[1, 1]\n",
        "    tpr = _tp / (_tp + _fn)\n",
        "    fpr = _fp / (_tn + _fp)\n",
        "\n",
        "    new_row = {'data': 'dummies', 'fold': fold_n, 'subset':'overall', 'AUROC': aucroc, 'accuracy': accuracy, 'precision': precision, 'recall': recall, 'F1': f1, 'AUPRC': auprc, 'TPR': tpr, 'FPR': fpr}\n",
        "    results_df = results_df.append(new_row, ignore_index=True)"
      ]
    },
    {
      "cell_type": "code",
      "execution_count": 13,
      "metadata": {
        "gather": {
          "logged": 1699819367590
        },
        "jupyter": {
          "outputs_hidden": false,
          "source_hidden": false
        },
        "nteract": {
          "transient": {
            "deleting": false
          }
        }
      },
      "outputs": [
        {
          "data": {
            "text/html": [
              "<div>\n",
              "<style scoped>\n",
              "    .dataframe tbody tr th:only-of-type {\n",
              "        vertical-align: middle;\n",
              "    }\n",
              "\n",
              "    .dataframe tbody tr th {\n",
              "        vertical-align: top;\n",
              "    }\n",
              "\n",
              "    .dataframe thead th {\n",
              "        text-align: right;\n",
              "    }\n",
              "</style>\n",
              "<table border=\"1\" class=\"dataframe\">\n",
              "  <thead>\n",
              "    <tr style=\"text-align: right;\">\n",
              "      <th></th>\n",
              "      <th></th>\n",
              "      <th>fold</th>\n",
              "      <th>AUROC</th>\n",
              "      <th>accuracy</th>\n",
              "      <th>precision</th>\n",
              "      <th>recall</th>\n",
              "      <th>F1</th>\n",
              "      <th>AUPRC</th>\n",
              "      <th>TPR</th>\n",
              "      <th>FPR</th>\n",
              "    </tr>\n",
              "    <tr>\n",
              "      <th>data</th>\n",
              "      <th>subset</th>\n",
              "      <th></th>\n",
              "      <th></th>\n",
              "      <th></th>\n",
              "      <th></th>\n",
              "      <th></th>\n",
              "      <th></th>\n",
              "      <th></th>\n",
              "      <th></th>\n",
              "      <th></th>\n",
              "    </tr>\n",
              "  </thead>\n",
              "  <tbody>\n",
              "    <tr>\n",
              "      <th>dummies</th>\n",
              "      <th>overall</th>\n",
              "      <td>5.5</td>\n",
              "      <td>0.716109</td>\n",
              "      <td>0.730629</td>\n",
              "      <td>0.138937</td>\n",
              "      <td>0.699679</td>\n",
              "      <td>0.231824</td>\n",
              "      <td>0.114717</td>\n",
              "      <td>0.732538</td>\n",
              "      <td>0.300321</td>\n",
              "    </tr>\n",
              "  </tbody>\n",
              "</table>\n",
              "</div>"
            ],
            "text/plain": [
              "                 fold     AUROC  accuracy  precision    recall        F1     AUPRC       TPR       FPR\n",
              "data    subset                                                                                        \n",
              "dummies overall   5.5  0.716109  0.730629   0.138937  0.699679  0.231824  0.114717  0.732538  0.300321"
            ]
          },
          "execution_count": 13,
          "metadata": {},
          "output_type": "execute_result"
        },
        {
          "data": {
            "text/html": [
              "<div>\n",
              "<style scoped>\n",
              "    .dataframe tbody tr th:only-of-type {\n",
              "        vertical-align: middle;\n",
              "    }\n",
              "\n",
              "    .dataframe tbody tr th {\n",
              "        vertical-align: top;\n",
              "    }\n",
              "\n",
              "    .dataframe thead th {\n",
              "        text-align: right;\n",
              "    }\n",
              "</style>\n",
              "<table border=\"1\" class=\"dataframe\">\n",
              "  <thead>\n",
              "    <tr style=\"text-align: right;\">\n",
              "      <th></th>\n",
              "      <th></th>\n",
              "      <th>fold</th>\n",
              "      <th>AUROC</th>\n",
              "      <th>accuracy</th>\n",
              "      <th>precision</th>\n",
              "      <th>recall</th>\n",
              "      <th>F1</th>\n",
              "      <th>AUPRC</th>\n",
              "      <th>TPR</th>\n",
              "      <th>FPR</th>\n",
              "    </tr>\n",
              "    <tr>\n",
              "      <th>data</th>\n",
              "      <th>subset</th>\n",
              "      <th></th>\n",
              "      <th></th>\n",
              "      <th></th>\n",
              "      <th></th>\n",
              "      <th></th>\n",
              "      <th></th>\n",
              "      <th></th>\n",
              "      <th></th>\n",
              "      <th></th>\n",
              "    </tr>\n",
              "  </thead>\n",
              "  <tbody>\n",
              "    <tr>\n",
              "      <th>dummies</th>\n",
              "      <th>overall</th>\n",
              "      <td>3.02765</td>\n",
              "      <td>0.01094</td>\n",
              "      <td>0.0063</td>\n",
              "      <td>0.004233</td>\n",
              "      <td>0.021951</td>\n",
              "      <td>0.006829</td>\n",
              "      <td>0.004451</td>\n",
              "      <td>0.006775</td>\n",
              "      <td>0.021951</td>\n",
              "    </tr>\n",
              "  </tbody>\n",
              "</table>\n",
              "</div>"
            ],
            "text/plain": [
              "                    fold    AUROC  accuracy  precision    recall        F1     AUPRC       TPR       FPR\n",
              "data    subset                                                                                          \n",
              "dummies overall  3.02765  0.01094    0.0063   0.004233  0.021951  0.006829  0.004451  0.006775  0.021951"
            ]
          },
          "execution_count": 13,
          "metadata": {},
          "output_type": "execute_result"
        }
      ],
      "source": [
        "results_df.groupby(['data', 'subset']).mean()\n",
        "results_df.groupby(['data', 'subset']).std()"
      ]
    },
    {
      "cell_type": "markdown",
      "metadata": {
        "nteract": {
          "transient": {
            "deleting": false
          }
        }
      },
      "source": [
        "# Set transformer"
      ]
    },
    {
      "cell_type": "code",
      "execution_count": 4,
      "metadata": {
        "gather": {
          "logged": 1699828422404
        },
        "jupyter": {
          "outputs_hidden": false,
          "source_hidden": false
        },
        "nteract": {
          "transient": {
            "deleting": false
          }
        }
      },
      "outputs": [],
      "source": [
        "# Drop those with no co-morbidities\n",
        "drop_index_list = problem_dummies.iloc[:,2:][(problem_dummies.iloc[:,2:] == 0).all(axis=1)].index.to_list()\n",
        "problem_dummies = problem_dummies[~problem_dummies.index.isin(drop_index_list)]"
      ]
    },
    {
      "cell_type": "code",
      "execution_count": 5,
      "metadata": {
        "gather": {
          "logged": 1699828422799
        },
        "jupyter": {
          "outputs_hidden": false,
          "source_hidden": false
        },
        "nteract": {
          "transient": {
            "deleting": false
          }
        }
      },
      "outputs": [],
      "source": [
        "# Work out count for problems\n",
        "problem_sum = pd.DataFrame(problem_dummies.iloc[:,2:].sum(axis=0), columns=['Count']).sort_values(by=['Count'], ascending=False)\n",
        "# Define what is a rare disease\n",
        "cut_off_list = [45, 8]"
      ]
    },
    {
      "cell_type": "code",
      "execution_count": 6,
      "metadata": {
        "gather": {
          "logged": 1699828465426
        },
        "jupyter": {
          "outputs_hidden": false,
          "source_hidden": false
        },
        "nteract": {
          "transient": {
            "deleting": false
          }
        }
      },
      "outputs": [
        {
          "name": "stdout",
          "output_type": "stream",
          "text": [
            "Working on 45...\n",
            "Working on 8...\n"
          ]
        }
      ],
      "source": [
        "# Get indexes for rare diseases \n",
        "filter_list_45 = problem_sum[problem_sum['Count'] > 45].index.tolist()\n",
        "filter_list_8 = problem_sum[problem_sum['Count'] > 8].index.tolist()\n",
        "\n",
        "problem_dummies_45 = problem_dummies.iloc[:,2:].reset_index().copy()\n",
        "problem_dummies_8 = problem_dummies.iloc[:,2:].reset_index().copy()\n",
        "print('Working on 45...')\n",
        "for code in filter_list_45:\n",
        "    problem_dummies_45 = problem_dummies_45.loc[problem_dummies_45[code] != 1]\n",
        "    index_list_45 = problem_dummies_45.index.tolist()\n",
        "print('Working on 8...')\n",
        "for code in filter_list_8:\n",
        "    problem_dummies_8 = problem_dummies_8.loc[problem_dummies_8[code] != 1]\n",
        "    index_list_8 = problem_dummies_8.index.tolist()"
      ]
    },
    {
      "cell_type": "code",
      "execution_count": 7,
      "metadata": {
        "gather": {
          "logged": 1699828535883
        },
        "jupyter": {
          "outputs_hidden": false,
          "source_hidden": false
        },
        "nteract": {
          "transient": {
            "deleting": false
          }
        }
      },
      "outputs": [
        {
          "data": {
            "text/plain": [
              "0"
            ]
          },
          "execution_count": 7,
          "metadata": {},
          "output_type": "execute_result"
        }
      ],
      "source": [
        "# Set transformer initial setup\n",
        "\n",
        "# Import\n",
        "path = r'data/final_trimmed_snomed_embedding_128d.csv'\n",
        "snomed_embedding = pd.read_csv(path)\n",
        "\n",
        "#random_bool = True\n",
        "random_bool = False\n",
        "if random_bool == True:\n",
        "    # Get random embeddings for each disease\n",
        "    snomed_embedding.set_index(['snomed_code'], inplace=True)\n",
        "    np.random.seed(0)\n",
        "    random_embedding = pd.DataFrame(np.random.default_rng(seed=0).uniform(low=snomed_embedding.min().min(),high=snomed_embedding.max().max(),size=[len(snomed_embedding),len(snomed_embedding.columns)]))\n",
        "    random_embedding.index = snomed_embedding.index\n",
        "    random_embedding.columns = snomed_embedding.columns\n",
        "    random_embedding.reset_index(inplace=True)\n",
        "    snomed_embedding = random_embedding\n",
        "\n",
        "# Create dfs\n",
        "patient_los = problem_dummies.iloc[:,:2]\n",
        "patient_df = problem_dummies.iloc[:,2:]\n",
        "# Str\n",
        "patient_df.columns = patient_df.columns.astype(str)\n",
        "snomed_embedding['snomed_code'] = snomed_embedding['snomed_code'].astype(str)\n",
        "# Filter\n",
        "snomed_embedding = snomed_embedding[snomed_embedding['snomed_code'].isin(patient_df.columns.tolist())]\n",
        "snomed_embedding.set_index('snomed_code', inplace=True)\n",
        "\n",
        "# Get lengths of each patients co-morbidities\n",
        "comorbidity_len = np.array(patient_df.sum(axis=1))\n",
        "\n",
        "# Add padding embedding \n",
        "padding_df = pd.DataFrame(np.random.choice([0], size=len(snomed_embedding.columns))) # Changed to 0\n",
        "padding_df = padding_df.T\n",
        "padding_df.index = ['9999999999']\n",
        "padding_df.columns = snomed_embedding.columns\n",
        "snomed_embedding2 = pd.concat([snomed_embedding, padding_df])\n",
        "snomed_embedding2.index = snomed_embedding2.index.astype(str)\n",
        "\n",
        "# Get max number of co-morbidities\n",
        "max_len = int(patient_df.sum(axis=1).max())\n",
        "\n",
        "# Format patients embeddings into set and pad / create array\n",
        "feature_array = np.zeros(shape=(len(patient_df), max_len , 128))\n",
        "n = -1\n",
        "for index, row in patient_df.iterrows():\n",
        "    n += 1\n",
        "    n2 = -1\n",
        "    code_list = row[row == 1].index.tolist()\n",
        "    while len(code_list) < max_len:\n",
        "        code_list.append('9999999999')\n",
        "    for code in code_list:\n",
        "        n2 += 1\n",
        "        feature_array[n, n2] = np.array(snomed_embedding2.loc[code])\n",
        "\n",
        "# Get array for death\n",
        "los_array = np.array(patient_los['los_long'].round())\n",
        "los_array = los_array.squeeze()\n",
        "\n",
        "# Create mask tensor based on lengths\n",
        "comorbidity_len2 = torch.as_tensor(comorbidity_len, dtype=torch.long)\n",
        "mask = torch.arange(max_len)[None, :] < comorbidity_len2[:, None]\n",
        "\n",
        "# del so more memory\n",
        "del problem_dummies\n",
        "del snomed_embedding\n",
        "del patient_los\n",
        "del snomed_embedding2\n",
        "del padding_df\n",
        "del row\n",
        "del comorbidity_len\n",
        "del comorbidity_len2\n",
        "gc.collect()"
      ]
    },
    {
      "cell_type": "code",
      "execution_count": 8,
      "metadata": {
        "gather": {
          "logged": 1699828536311
        },
        "jupyter": {
          "outputs_hidden": false,
          "source_hidden": false
        },
        "nteract": {
          "transient": {
            "deleting": false
          }
        }
      },
      "outputs": [],
      "source": [
        "# Custom dataset class\n",
        "class DiseaseDataset(Dataset):\n",
        "    def __init__(self, disease_embeddings, mortality_labels, padding_mask):\n",
        "        self.disease_embeddings = disease_embeddings\n",
        "        self.mortality_labels = mortality_labels\n",
        "        self.padding_mask = padding_mask\n",
        "\n",
        "    def __len__(self):\n",
        "        return len(self.mortality_labels)\n",
        "\n",
        "    def __getitem__(self, idx):\n",
        "        return self.disease_embeddings[idx], self.mortality_labels[idx], self.padding_mask[idx] "
      ]
    },
    {
      "cell_type": "code",
      "execution_count": 9,
      "metadata": {
        "gather": {
          "logged": 1699828536689
        },
        "jupyter": {
          "outputs_hidden": false,
          "source_hidden": false
        },
        "nteract": {
          "transient": {
            "deleting": false
          }
        }
      },
      "outputs": [],
      "source": [
        "class SetTransformer(nn.Module):\n",
        "    def __init__(self, dim_input, num_outputs, dim_output,\n",
        "            num_inds=36, dim_hidden=160, num_heads=4, ln=False):\n",
        "        super(SetTransformer, self).__init__()\n",
        "        self.enc = nn.Sequential(\n",
        "                ISAB(dim_input, dim_hidden, num_heads, num_inds, ln=ln),\n",
        "                ISAB(dim_hidden, dim_hidden, num_heads, num_inds, ln=ln))\n",
        "        self.isab = ISAB(dim_input, dim_hidden, num_heads, num_inds, ln=ln)\n",
        "        self.pma = PMA(dim_hidden, num_heads, num_outputs, ln=ln)\n",
        "        self.dec = nn.Sequential(\n",
        "                #SAB(dim_hidden, dim_hidden, num_heads, ln=ln),\n",
        "                #SAB(dim_hidden, dim_hidden, num_heads, ln=ln),\n",
        "                nn.Linear(dim_hidden, dim_output))\n",
        "\n",
        "    def forward(self, X, batch_mask):\n",
        "        x = self.isab(X, batch_mask)\n",
        "        x = self.pma(x, batch_mask)\n",
        "        return self.dec(x), x\n",
        "\n",
        "class MAB0(nn.Module):\n",
        "    def __init__(self, dim_Q, dim_K, dim_V, num_heads, ln=False):\n",
        "        super(MAB0, self).__init__()\n",
        "        self.dim_V = dim_V\n",
        "        self.num_heads = num_heads\n",
        "        self.fc_q = nn.Linear(dim_Q, dim_V)\n",
        "        self.fc_k = nn.Linear(dim_K, dim_V)\n",
        "        self.fc_v = nn.Linear(dim_K, dim_V)\n",
        "        if ln:\n",
        "            self.ln0 = nn.LayerNorm(dim_V)\n",
        "            self.ln1 = nn.LayerNorm(dim_V)\n",
        "        self.fc_o = nn.Linear(dim_V, dim_V)\n",
        "\n",
        "    def forward(self, Q, K, mask):\n",
        "        Q = self.fc_q(Q)\n",
        "        K, V = self.fc_k(K), self.fc_v(K)\n",
        "\n",
        "        dim_split = self.dim_V // self.num_heads\n",
        "        Q_ = torch.cat(Q.split(dim_split, 2), 0)\n",
        "        K_ = torch.cat(K.split(dim_split, 2), 0)\n",
        "        V_ = torch.cat(V.split(dim_split, 2), 0)\n",
        "\n",
        "        # Create new variable for softmax\n",
        "        WB_ = Q_.bmm(K_.transpose(1,2))/math.sqrt(self.dim_V)\n",
        "\n",
        "        # Exspand mask dimensions to align\n",
        "        mask = mask.unsqueeze(1).repeat(self.num_heads, Q.shape[1], 1)\n",
        "        # Mask for softmax\n",
        "        WB_[~mask] = float('-inf')\n",
        "\n",
        "        A = torch.softmax(WB_, 2)\n",
        "        O = torch.cat((Q_ + A.bmm(V_)).split(Q.size(0), 0), 2)\n",
        "        O = O if getattr(self, 'ln0', None) is None else self.ln0(O)\n",
        "        O = O + F.relu(self.fc_o(O))\n",
        "        O = O if getattr(self, 'ln1', None) is None else self.ln1(O)\n",
        "        return O\n",
        "\n",
        "class MAB(nn.Module):\n",
        "    def __init__(self, dim_Q, dim_K, dim_V, num_heads, ln=False):\n",
        "        super(MAB, self).__init__()\n",
        "        self.dim_V = dim_V\n",
        "        self.num_heads = num_heads\n",
        "        self.fc_q = nn.Linear(dim_Q, dim_V)\n",
        "        self.fc_k = nn.Linear(dim_K, dim_V)\n",
        "        self.fc_v = nn.Linear(dim_K, dim_V)\n",
        "        if ln:\n",
        "            self.ln0 = nn.LayerNorm(dim_V)\n",
        "            self.ln1 = nn.LayerNorm(dim_V)\n",
        "        self.fc_o = nn.Linear(dim_V, dim_V)\n",
        "\n",
        "    def forward(self, Q, K):\n",
        "        Q = self.fc_q(Q)\n",
        "        K, V = self.fc_k(K), self.fc_v(K)\n",
        "\n",
        "        dim_split = self.dim_V // self.num_heads\n",
        "        Q_ = torch.cat(Q.split(dim_split, 2), 0)\n",
        "        K_ = torch.cat(K.split(dim_split, 2), 0)\n",
        "        V_ = torch.cat(V.split(dim_split, 2), 0)\n",
        "\n",
        "        A = torch.softmax(Q_.bmm(K_.transpose(1,2))/math.sqrt(self.dim_V), 2)\n",
        "        O = torch.cat((Q_ + A.bmm(V_)).split(Q.size(0), 0), 2)\n",
        "        O = O if getattr(self, 'ln0', None) is None else self.ln0(O)\n",
        "        O = O + F.relu(self.fc_o(O))\n",
        "        O = O if getattr(self, 'ln1', None) is None else self.ln1(O)\n",
        "        #print('MAB', O)\n",
        "        return O\n",
        "\n",
        "class SAB(nn.Module):\n",
        "    def __init__(self, dim_in, dim_out, num_heads, ln=False):\n",
        "        super(SAB, self).__init__()\n",
        "        self.mab = MAB(dim_in, dim_in, dim_out, num_heads, ln=ln)\n",
        "\n",
        "    def forward(self, X):\n",
        "        return self.mab(X, X)\n",
        "\n",
        "class ISAB(nn.Module):\n",
        "    def __init__(self, dim_in, dim_out, num_heads, num_inds, ln=False):\n",
        "        super(ISAB, self).__init__()\n",
        "        self.I = nn.Parameter(torch.Tensor(1, num_inds, dim_out))\n",
        "        nn.init.xavier_uniform_(self.I)\n",
        "        self.mab0 = MAB0(dim_out, dim_in, dim_out, num_heads, ln=ln)\n",
        "        self.mab1 = MAB(dim_in, dim_out, dim_out, num_heads, ln=ln)\n",
        "\n",
        "    def forward(self, X, mask):\n",
        "        H = self.mab0(self.I.repeat(X.size(0), 1, 1), X, mask)\n",
        "        return self.mab1(X, H)\n",
        "\n",
        "class PMA(nn.Module):\n",
        "    def __init__(self, dim, num_heads, num_seeds, ln=False):\n",
        "        super(PMA, self).__init__()\n",
        "        self.S = nn.Parameter(torch.Tensor(1, num_seeds, dim))\n",
        "        nn.init.xavier_uniform_(self.S)\n",
        "        self.mab = MAB0(dim, dim, dim, num_heads, ln=ln)\n",
        "\n",
        "    def forward(self, X, mask):\n",
        "        return self.mab(self.S.repeat(X.size(0), 1, 1), X, mask)"
      ]
    },
    {
      "cell_type": "code",
      "execution_count": 10,
      "metadata": {
        "gather": {
          "logged": 1699828537090
        },
        "jupyter": {
          "outputs_hidden": false,
          "source_hidden": false
        },
        "nteract": {
          "transient": {
            "deleting": false
          }
        }
      },
      "outputs": [],
      "source": [
        "# Define how long an epoch takes\n",
        "def epoch_time(start_time, end_time):\n",
        "    elapsed_time = end_time - start_time\n",
        "    elapsed_mins = int(elapsed_time / 60)\n",
        "    elapsed_secs = int(elapsed_time - (elapsed_mins * 60))\n",
        "    return elapsed_mins, elapsed_secs\n",
        "\n",
        "# Train function \n",
        "def train(model, dataloader, optimizer, criterion):\n",
        "    model.train()\n",
        "    epoch_loss = 0\n",
        "    batch_prediction_list = []\n",
        "    batch_label_list = []\n",
        "    \n",
        "    for i, (batch_embeddings, batch_labels, batch_mask) in enumerate(tqdm(dataloader, 0)):\n",
        "        batch_labels = batch_labels.to(device)\n",
        "        batch_embeddings = batch_embeddings.to(device)\n",
        "        batch_mask = batch_mask.to(device)\n",
        "\n",
        "        optimizer.zero_grad()\n",
        "        logits, pma = model(batch_embeddings, batch_mask)\n",
        "        logits = logits.squeeze(-1) # squeeze to remove extra dimensions\n",
        "        batch_labels = batch_labels.unsqueeze(1)\n",
        "        \n",
        "        loss = criterion(logits, batch_labels)\n",
        "        loss.backward()\n",
        "        optimizer.step()\n",
        "        epoch_loss += loss.item()\n",
        "\n",
        "        sig = torch.nn.Sigmoid()\n",
        "        output = sig(logits)      \n",
        "        np_predictions = output.cpu().detach().numpy()\n",
        "        np_labels = batch_labels.cpu().detach().numpy()\n",
        "        np_pma = pma.cpu().detach().numpy()\n",
        "\n",
        "        np_predictions = np_predictions.squeeze()\n",
        "        np_labels = np_labels.squeeze()\n",
        "        np_pma = np_pma.squeeze()\n",
        "\n",
        "        np_predictions = np_predictions.flatten()\n",
        "        np_labels = np_labels.flatten()\n",
        "        \n",
        "        # Create list\n",
        "        for x in np_predictions:\n",
        "            batch_prediction_list.append(x)\n",
        "        for x in np_labels:\n",
        "            batch_label_list.append(x)\n",
        "        if i == 0:\n",
        "            np_pma_final = np_pma\n",
        "        else:\n",
        "            np_pma_final = np.vstack([np_pma_final, np_pma])\n",
        "\n",
        "    final_predictions = np.array(batch_prediction_list)\n",
        "\n",
        "    final_labels = np.array(batch_label_list)\n",
        "\n",
        "    try:\n",
        "        auroc = roc_auc_score(final_labels, final_predictions)\n",
        "    except:\n",
        "        auroc = np.nan\n",
        "    \n",
        "    try:\n",
        "        final_loss = epoch_loss / len(dataloader)\n",
        "    except:\n",
        "        final_loss = np.nan\n",
        "\n",
        "    return final_loss, auroc, final_predictions, final_labels, np_pma_final\n",
        "\n",
        "# Eval function\n",
        "def evaluate(model, dataloader, criterion):\n",
        "\n",
        "    # Set the model to evaluation mode\n",
        "    model.eval()\n",
        "    epoch_loss = 0\n",
        "    batch_prediction_list = []\n",
        "    batch_label_list = []\n",
        "\n",
        "    with torch.no_grad():\n",
        "        for i, (batch_embeddings, batch_labels, batch_mask) in enumerate(tqdm(dataloader, 0)):\n",
        "            batch_labels = batch_labels.to(device)\n",
        "            batch_embeddings = batch_embeddings.to(device)\n",
        "            batch_mask = batch_mask.to(device)\n",
        "\n",
        "            logits, pma = model(batch_embeddings, batch_mask)\n",
        "            logits = logits.squeeze() # squeeze to remove extra dimensions\n",
        "\n",
        "            if len(logits.size()) == 0: # Need to add this so tensor with just one element does not cause error\n",
        "                logits = logits.unsqueeze(dim=0)\n",
        "\n",
        "            loss = criterion(logits, batch_labels)\n",
        "\n",
        "            epoch_loss += loss.item()\n",
        "\n",
        "            sig = torch.nn.Sigmoid()\n",
        "            output = sig(logits)      \n",
        "            np_predictions = output.cpu().detach().numpy()\n",
        "            np_labels = batch_labels.cpu().detach().numpy()\n",
        "            np_pma = pma.cpu().detach().numpy()\n",
        "\n",
        "            np_predictions = np_predictions.squeeze()\n",
        "            np_labels = np_labels.squeeze()\n",
        "\n",
        "            np_predictions = np_predictions.flatten()\n",
        "            np_labels = np_labels.flatten()\n",
        "            np_pma = np_pma.squeeze()\n",
        "            \n",
        "            # Create list\n",
        "            for x in np_predictions:\n",
        "                batch_prediction_list.append(x)\n",
        "            for x in np_labels:\n",
        "                batch_label_list.append(x)\n",
        "            if i == 0:\n",
        "                np_pma_final = np_pma\n",
        "            else:\n",
        "                np_pma_final = np.vstack([np_pma_final, np_pma])\n",
        "\n",
        "        final_predictions = np.array(batch_prediction_list)\n",
        "\n",
        "        final_labels = np.array(batch_label_list)\n",
        "\n",
        "        try:\n",
        "            auroc = roc_auc_score(final_labels, final_predictions)\n",
        "        except:\n",
        "            auroc = np.nan\n",
        "        \n",
        "        try:\n",
        "            final_loss = epoch_loss / len(dataloader)\n",
        "        except:\n",
        "            final_loss = np.nan\n",
        "\n",
        "    return final_loss, auroc, final_predictions, final_labels, np_pma_final"
      ]
    },
    {
      "cell_type": "code",
      "execution_count": 11,
      "metadata": {
        "gather": {
          "logged": 1699828537537
        },
        "jupyter": {
          "outputs_hidden": false,
          "source_hidden": false
        },
        "nteract": {
          "transient": {
            "deleting": false
          }
        }
      },
      "outputs": [],
      "source": [
        "# CV for set transformer\n",
        "\n",
        "# Get CV folds and create dictionarys \n",
        "cv = StratifiedKFold(n_splits=10, shuffle=True, random_state=2)\n",
        "fold_n = 0\n",
        "train_index_dict = {}\n",
        "test_index_dict = {}\n",
        "for train_index, test_index in cv.split(feature_array, los_array):\n",
        "    fold_n += 1\n",
        "    train_index_dict[fold_n] = train_index\n",
        "    test_index_dict[fold_n] = test_index"
      ]
    },
    {
      "cell_type": "code",
      "execution_count": 12,
      "metadata": {
        "gather": {
          "logged": 1699828537982
        },
        "jupyter": {
          "outputs_hidden": false,
          "source_hidden": false
        },
        "nteract": {
          "transient": {
            "deleting": false
          }
        }
      },
      "outputs": [
        {
          "data": {
            "text/plain": [
              "0"
            ]
          },
          "execution_count": 12,
          "metadata": {},
          "output_type": "execute_result"
        }
      ],
      "source": [
        "# del for memmory \n",
        "del test_index\n",
        "del train_index\n",
        "del patient_df\n",
        "del index\n",
        "del fold_n\n",
        "del code\n",
        "del code_list\n",
        "del path\n",
        "del n \n",
        "del n2\n",
        "del max_len\n",
        "gc.collect()"
      ]
    },
    {
      "cell_type": "code",
      "execution_count": 30,
      "metadata": {
        "gather": {
          "logged": 1694016249167
        },
        "jupyter": {
          "outputs_hidden": false,
          "source_hidden": false
        },
        "nteract": {
          "transient": {
            "deleting": false
          }
        }
      },
      "outputs": [
        {
          "data": {
            "text/plain": [
              "1.2494696"
            ]
          },
          "execution_count": 30,
          "metadata": {},
          "output_type": "execute_result"
        },
        {
          "data": {
            "text/plain": [
              "-1.530874"
            ]
          },
          "execution_count": 30,
          "metadata": {},
          "output_type": "execute_result"
        }
      ],
      "source": [
        "np.max(feature_array)\n",
        "np.min(feature_array)"
      ]
    },
    {
      "cell_type": "code",
      "execution_count": 15,
      "metadata": {
        "gather": {
          "logged": 1699820501298
        },
        "jupyter": {
          "outputs_hidden": false,
          "source_hidden": false
        },
        "nteract": {
          "transient": {
            "deleting": false
          }
        }
      },
      "outputs": [],
      "source": [
        "# Check if any have no co-morbidities - this was causing nan outputs\n",
        "for n in range(mask.shape[0]):\n",
        "    if torch.all(mask[n] == False):\n",
        "        print(n)"
      ]
    },
    {
      "cell_type": "code",
      "execution_count": 12,
      "metadata": {
        "gather": {
          "logged": 1694016890744
        },
        "jupyter": {
          "outputs_hidden": false,
          "source_hidden": false
        },
        "nteract": {
          "transient": {
            "deleting": false
          }
        }
      },
      "outputs": [
        {
          "data": {
            "text/plain": [
              "False"
            ]
          },
          "execution_count": 12,
          "metadata": {},
          "output_type": "execute_result"
        },
        {
          "data": {
            "text/plain": [
              "False"
            ]
          },
          "execution_count": 12,
          "metadata": {},
          "output_type": "execute_result"
        }
      ],
      "source": [
        "np.isnan(feature_array).any()\n",
        "np.isinf(feature_array).any()"
      ]
    },
    {
      "cell_type": "code",
      "execution_count": 13,
      "metadata": {
        "gather": {
          "logged": 1699828538402
        },
        "jupyter": {
          "outputs_hidden": false,
          "source_hidden": false
        },
        "nteract": {
          "transient": {
            "deleting": false
          }
        }
      },
      "outputs": [],
      "source": [
        "# CV for set transformer\n",
        "\n",
        "# Get CV folds and create dictionarys \n",
        "cv = StratifiedKFold(n_splits=10, shuffle=True, random_state=2)\n",
        "fold_n = 0\n",
        "train_index_dict = {}\n",
        "test_index_dict = {}\n",
        "test_index_dict_8 = {}\n",
        "test_index_dict_45 = {}\n",
        "\n",
        "for train_index, test_index in cv.split(feature_array, los_array):\n",
        "    fold_n += 1\n",
        "    train_index_dict[fold_n] = train_index\n",
        "    test_index_dict[fold_n] = test_index\n",
        "    # Filter for rare diseases in test set\n",
        "    test_index_8 = np.array(list(set(test_index.tolist()) & set(index_list_8)))\n",
        "    test_index_45 = np.array(list(set(test_index.tolist()) & set(index_list_45)))\n",
        "    test_index_dict_8[fold_n] = test_index_8\n",
        "    test_index_dict_45[fold_n] = test_index_45"
      ]
    },
    {
      "cell_type": "code",
      "execution_count": 15,
      "metadata": {
        "gather": {
          "logged": 1699831846597
        },
        "jupyter": {
          "outputs_hidden": false,
          "source_hidden": false
        },
        "nteract": {
          "transient": {
            "deleting": false
          }
        }
      },
      "outputs": [
        {
          "name": "stderr",
          "output_type": "stream",
          "text": [
            "100%|██████████| 89/89 [00:30<00:00,  2.89it/s]\n",
            "100%|██████████| 12/12 [00:01<00:00,  7.05it/s]\n",
            "100%|██████████| 89/89 [00:31<00:00,  2.86it/s]\n",
            "100%|██████████| 12/12 [00:01<00:00,  7.06it/s]\n",
            "100%|██████████| 89/89 [00:30<00:00,  2.93it/s]\n",
            "100%|██████████| 12/12 [00:01<00:00,  7.06it/s]\n",
            "100%|██████████| 89/89 [00:29<00:00,  2.97it/s]\n",
            "100%|██████████| 12/12 [00:01<00:00,  7.11it/s]\n",
            "100%|██████████| 89/89 [00:30<00:00,  2.95it/s]\n",
            "100%|██████████| 12/12 [00:01<00:00,  7.15it/s]\n",
            "100%|██████████| 89/89 [00:29<00:00,  2.97it/s]\n",
            "100%|██████████| 12/12 [00:01<00:00,  6.62it/s]\n",
            "100%|██████████| 89/89 [00:30<00:00,  2.92it/s]\n",
            "100%|██████████| 12/12 [00:01<00:00,  6.92it/s]\n",
            "100%|██████████| 89/89 [00:30<00:00,  2.92it/s]\n",
            "100%|██████████| 12/12 [00:01<00:00,  6.95it/s]\n",
            "100%|██████████| 89/89 [00:30<00:00,  2.91it/s]\n",
            "100%|██████████| 12/12 [00:01<00:00,  6.87it/s]\n",
            "100%|██████████| 89/89 [00:30<00:00,  2.91it/s]\n",
            "100%|██████████| 12/12 [00:01<00:00,  6.48it/s]\n"
          ]
        },
        {
          "name": "stdout",
          "output_type": "stream",
          "text": [
            "Epoch: 0\n",
            "train loss: 1.212\n",
            "train AUROC: 0.696\n",
            "valid loss: 1.325\n",
            "valid AUROC: 0.719\n",
            "BEST VALID LOSS: 1.3253378470738728\n",
            "BEST VALID AUROC: 0.7194735455320971\n",
            "UPDATED BEST INTERMEDIATE MODEL\n",
            "Epoch: 1\n",
            "train loss: 1.158\n",
            "train AUROC: 0.719\n",
            "valid loss: 1.162\n",
            "valid AUROC: 0.752\n",
            "BEST VALID LOSS: 1.1617638220389683\n",
            "BEST VALID AUROC: 0.752378372502901\n",
            "UPDATED BEST INTERMEDIATE MODEL\n",
            "Epoch: 2\n",
            "train loss: 1.103\n",
            "train AUROC: 0.749\n",
            "valid loss: 1.191\n",
            "valid AUROC: 0.753\n",
            "BEST VALID AUROC: 0.7528319378279742\n",
            "UPDATED BEST INTERMEDIATE MODEL\n",
            "Epoch: 3\n",
            "train loss: 1.107\n",
            "train AUROC: 0.750\n",
            "valid loss: 1.170\n",
            "valid AUROC: 0.764\n",
            "BEST VALID AUROC: 0.7635382420445381\n",
            "UPDATED BEST INTERMEDIATE MODEL\n",
            "Epoch: 4\n",
            "train loss: 1.089\n",
            "train AUROC: 0.761\n",
            "valid loss: 1.125\n",
            "valid AUROC: 0.771\n",
            "BEST VALID LOSS: 1.1254191795984905\n",
            "BEST VALID AUROC: 0.7710303217240717\n",
            "UPDATED BEST INTERMEDIATE MODEL\n",
            "Epoch: 5\n",
            "train loss: 1.078\n",
            "train AUROC: 0.765\n",
            "valid loss: 1.131\n",
            "valid AUROC: 0.773\n",
            "BEST VALID AUROC: 0.7733049774383973\n",
            "UPDATED BEST INTERMEDIATE MODEL\n",
            "Epoch: 6\n",
            "train loss: 1.072\n",
            "train AUROC: 0.769\n",
            "valid loss: 1.123\n",
            "valid AUROC: 0.771\n",
            "BEST VALID LOSS: 1.1226187149683635\n",
            "Epoch: 7\n",
            "train loss: 1.078\n",
            "train AUROC: 0.767\n",
            "valid loss: 1.144\n",
            "valid AUROC: 0.775\n",
            "BEST VALID AUROC: 0.774541611630849\n",
            "UPDATED BEST INTERMEDIATE MODEL\n",
            "Epoch: 8\n",
            "train loss: 1.064\n",
            "train AUROC: 0.774\n",
            "valid loss: 1.223\n",
            "valid AUROC: 0.765\n",
            "Epoch: 9\n",
            "train loss: 1.085\n",
            "train AUROC: 0.764\n",
            "valid loss: 1.141\n",
            "valid AUROC: 0.770\n"
          ]
        },
        {
          "data": {
            "text/plain": [
              "<All keys matched successfully>"
            ]
          },
          "execution_count": 15,
          "metadata": {},
          "output_type": "execute_result"
        },
        {
          "name": "stderr",
          "output_type": "stream",
          "text": [
            "100%|██████████| 12/12 [00:01<00:00,  7.05it/s]\n",
            "100%|██████████| 1/1 [00:00<00:00, 43.74it/s]\n",
            "100%|██████████| 1/1 [00:00<00:00,  8.27it/s]\n"
          ]
        },
        {
          "data": {
            "text/plain": [
              "378"
            ]
          },
          "execution_count": 15,
          "metadata": {},
          "output_type": "execute_result"
        },
        {
          "name": "stdout",
          "output_type": "stream",
          "text": [
            "test predictions: 0.302\n",
            "test loss: 1.186\n",
            "test AUROC: 0.748\n",
            "test predictions 8: 0.269\n",
            "test loss 8: 1.470\n",
            "test AUROC 8: 0.477\n",
            "test predictions 45: 0.240\n",
            "test loss 45: 0.974\n",
            "test AUROC 45: 0.552\n",
            "BEST TEST AUROC: 0.7478819865136874\n",
            "UPDATED BEST MODEL\n",
            "Epoch: 0\n",
            "train loss: 1.208\n",
            "train AUROC: 0.691\n",
            "valid loss: 1.146\n",
            "valid AUROC: 0.726\n",
            "BEST VALID LOSS: 1.1460019201040268\n",
            "BEST VALID AUROC: 0.7260285438656225\n",
            "UPDATED BEST INTERMEDIATE MODEL\n",
            "Epoch: 1\n",
            "train loss: 1.124\n",
            "train AUROC: 0.737\n",
            "valid loss: 1.127\n",
            "valid AUROC: 0.747\n",
            "BEST VALID LOSS: 1.1269170641899109\n",
            "BEST VALID AUROC: 0.7471776756327319\n",
            "UPDATED BEST INTERMEDIATE MODEL\n",
            "Epoch: 2\n",
            "train loss: 1.107\n",
            "train AUROC: 0.748\n",
            "valid loss: 1.127\n",
            "valid AUROC: 0.747\n",
            "BEST VALID LOSS: 1.1267147064208984\n",
            "BEST VALID AUROC: 0.7474869481330155\n",
            "UPDATED BEST INTERMEDIATE MODEL\n",
            "Epoch: 3\n",
            "train loss: 1.094\n",
            "train AUROC: 0.755\n",
            "valid loss: 1.125\n",
            "valid AUROC: 0.752\n",
            "BEST VALID LOSS: 1.1250528991222382\n",
            "BEST VALID AUROC: 0.7516005561230281\n",
            "UPDATED BEST INTERMEDIATE MODEL\n",
            "Epoch: 4\n",
            "train loss: 1.107\n",
            "train AUROC: 0.747\n",
            "valid loss: 1.128\n",
            "valid AUROC: 0.756\n",
            "BEST VALID AUROC: 0.7564808194302577\n",
            "UPDATED BEST INTERMEDIATE MODEL\n",
            "Epoch: 5\n",
            "train loss: 1.091\n",
            "train AUROC: 0.759\n",
            "valid loss: 1.159\n",
            "valid AUROC: 0.750\n",
            "Epoch: 6\n",
            "train loss: 1.123\n",
            "train AUROC: 0.735\n",
            "valid loss: 1.112\n",
            "valid AUROC: 0.753\n",
            "BEST VALID LOSS: 1.1122098515431087\n",
            "Epoch: 7\n",
            "train loss: 1.072\n",
            "train AUROC: 0.768\n",
            "valid loss: 1.103\n",
            "valid AUROC: 0.757\n",
            "BEST VALID LOSS: 1.1030169427394867\n",
            "BEST VALID AUROC: 0.7567651231415277\n",
            "UPDATED BEST INTERMEDIATE MODEL\n",
            "Epoch: 8\n",
            "train loss: 1.067\n",
            "train AUROC: 0.772\n",
            "valid loss: 1.097\n",
            "valid AUROC: 0.761\n",
            "BEST VALID LOSS: 1.0971033225456874\n",
            "BEST VALID AUROC: 0.7614853592100783\n",
            "UPDATED BEST INTERMEDIATE MODEL\n",
            "Epoch: 9\n",
            "train loss: 1.062\n",
            "train AUROC: 0.774\n",
            "valid loss: 1.095\n",
            "valid AUROC: 0.762\n",
            "BEST VALID LOSS: 1.0951133618752162\n",
            "BEST VALID AUROC: 0.7618513789581205\n",
            "UPDATED BEST INTERMEDIATE MODEL\n"
          ]
        },
        {
          "name": "stderr",
          "output_type": "stream",
          "text": [
            "/tmp/ipykernel_34140/1471330824.py:188: FutureWarning: The frame.append method is deprecated and will be removed from pandas in a future version. Use pandas.concat instead.\n",
            "  results_df = results_df.append(new_row, ignore_index=True)\n",
            "/tmp/ipykernel_34140/1471330824.py:231: FutureWarning: The frame.append method is deprecated and will be removed from pandas in a future version. Use pandas.concat instead.\n",
            "  results_df = results_df.append(new_row, ignore_index=True)\n",
            "/tmp/ipykernel_34140/1471330824.py:274: FutureWarning: The frame.append method is deprecated and will be removed from pandas in a future version. Use pandas.concat instead.\n",
            "  results_df = results_df.append(new_row, ignore_index=True)\n",
            "100%|██████████| 89/89 [00:30<00:00,  2.94it/s]\n",
            "100%|██████████| 12/12 [00:01<00:00,  6.88it/s]\n",
            "100%|██████████| 89/89 [00:30<00:00,  2.91it/s]\n",
            "100%|██████████| 12/12 [00:01<00:00,  7.03it/s]\n",
            "100%|██████████| 89/89 [00:29<00:00,  2.97it/s]\n",
            "100%|██████████| 12/12 [00:01<00:00,  7.14it/s]\n",
            "100%|██████████| 89/89 [00:29<00:00,  2.97it/s]\n",
            "100%|██████████| 12/12 [00:01<00:00,  7.11it/s]\n",
            "100%|██████████| 89/89 [00:29<00:00,  2.99it/s]\n",
            "100%|██████████| 12/12 [00:01<00:00,  7.13it/s]\n",
            "100%|██████████| 89/89 [00:30<00:00,  2.95it/s]\n",
            "100%|██████████| 12/12 [00:01<00:00,  7.00it/s]\n",
            "100%|██████████| 89/89 [00:29<00:00,  2.99it/s]\n",
            "100%|██████████| 12/12 [00:01<00:00,  7.12it/s]\n",
            "100%|██████████| 89/89 [00:30<00:00,  2.95it/s]\n",
            "100%|██████████| 12/12 [00:01<00:00,  7.14it/s]\n",
            "100%|██████████| 89/89 [00:29<00:00,  2.99it/s]\n",
            "100%|██████████| 12/12 [00:01<00:00,  6.98it/s]\n",
            "100%|██████████| 89/89 [00:29<00:00,  2.98it/s]\n",
            "100%|██████████| 12/12 [00:01<00:00,  7.12it/s]\n"
          ]
        },
        {
          "data": {
            "text/plain": [
              "<All keys matched successfully>"
            ]
          },
          "execution_count": 15,
          "metadata": {},
          "output_type": "execute_result"
        },
        {
          "name": "stderr",
          "output_type": "stream",
          "text": [
            "100%|██████████| 12/12 [00:01<00:00,  7.12it/s]\n",
            "100%|██████████| 1/1 [00:00<00:00, 38.80it/s]\n",
            "100%|██████████| 1/1 [00:00<00:00,  8.58it/s]\n"
          ]
        },
        {
          "data": {
            "text/plain": [
              "0"
            ]
          },
          "execution_count": 15,
          "metadata": {},
          "output_type": "execute_result"
        },
        {
          "name": "stdout",
          "output_type": "stream",
          "text": [
            "test predictions: 0.434\n",
            "test loss: 1.160\n",
            "test AUROC: 0.757\n",
            "test predictions 8: 0.478\n",
            "test loss 8: 0.876\n",
            "test AUROC 8: 0.919\n",
            "test predictions 45: 0.468\n",
            "test loss 45: 1.039\n",
            "test AUROC 45: 0.634\n",
            "BEST TEST AUROC: 0.7573909237993182\n",
            "UPDATED BEST MODEL\n",
            "Epoch: 0\n",
            "train loss: 1.208\n",
            "train AUROC: 0.696\n",
            "valid loss: 1.236\n",
            "valid AUROC: 0.716\n",
            "BEST VALID LOSS: 1.236232782403628\n",
            "BEST VALID AUROC: 0.7159116445352401\n",
            "UPDATED BEST INTERMEDIATE MODEL\n",
            "Epoch: 1\n",
            "train loss: 1.123\n",
            "train AUROC: 0.738\n",
            "valid loss: 1.187\n",
            "valid AUROC: 0.734\n",
            "BEST VALID LOSS: 1.1866472413142521\n",
            "BEST VALID AUROC: 0.7337348201112246\n",
            "UPDATED BEST INTERMEDIATE MODEL\n",
            "Epoch: 2\n",
            "train loss: 1.100\n",
            "train AUROC: 0.754\n",
            "valid loss: 1.181\n",
            "valid AUROC: 0.737\n",
            "BEST VALID LOSS: 1.1806623737017314\n",
            "BEST VALID AUROC: 0.7368161956645102\n",
            "UPDATED BEST INTERMEDIATE MODEL\n",
            "Epoch: 3\n",
            "train loss: 1.091\n",
            "train AUROC: 0.758\n",
            "valid loss: 1.178\n",
            "valid AUROC: 0.740\n",
            "BEST VALID LOSS: 1.1777698993682861\n",
            "BEST VALID AUROC: 0.7404151061173533\n",
            "UPDATED BEST INTERMEDIATE MODEL\n",
            "Epoch: 4\n",
            "train loss: 1.077\n",
            "train AUROC: 0.766\n",
            "valid loss: 1.167\n",
            "valid AUROC: 0.746\n",
            "BEST VALID LOSS: 1.166953484217326\n",
            "BEST VALID AUROC: 0.7455178186357961\n",
            "UPDATED BEST INTERMEDIATE MODEL\n",
            "Epoch: 5\n",
            "train loss: 1.069\n",
            "train AUROC: 0.771\n",
            "valid loss: 1.150\n",
            "valid AUROC: 0.745\n",
            "BEST VALID LOSS: 1.1499936282634735\n",
            "Epoch: 6\n",
            "train loss: 1.066\n",
            "train AUROC: 0.772\n",
            "valid loss: 1.151\n",
            "valid AUROC: 0.745\n",
            "Epoch: 7\n",
            "train loss: 1.071\n",
            "train AUROC: 0.770\n",
            "valid loss: 1.246\n",
            "valid AUROC: 0.732\n",
            "Epoch: 8\n",
            "train loss: 1.108\n",
            "train AUROC: 0.748\n",
            "valid loss: 1.164\n",
            "valid AUROC: 0.745\n",
            "Epoch: 9\n",
            "train loss: 1.057\n",
            "train AUROC: 0.778\n",
            "valid loss: 1.160\n",
            "valid AUROC: 0.748\n",
            "BEST VALID AUROC: 0.7476293837248893\n",
            "UPDATED BEST INTERMEDIATE MODEL\n"
          ]
        },
        {
          "name": "stderr",
          "output_type": "stream",
          "text": [
            "/tmp/ipykernel_34140/1471330824.py:188: FutureWarning: The frame.append method is deprecated and will be removed from pandas in a future version. Use pandas.concat instead.\n",
            "  results_df = results_df.append(new_row, ignore_index=True)\n",
            "/tmp/ipykernel_34140/1471330824.py:231: FutureWarning: The frame.append method is deprecated and will be removed from pandas in a future version. Use pandas.concat instead.\n",
            "  results_df = results_df.append(new_row, ignore_index=True)\n",
            "/tmp/ipykernel_34140/1471330824.py:274: FutureWarning: The frame.append method is deprecated and will be removed from pandas in a future version. Use pandas.concat instead.\n",
            "  results_df = results_df.append(new_row, ignore_index=True)\n",
            "100%|██████████| 89/89 [00:30<00:00,  2.94it/s]\n",
            "100%|██████████| 12/12 [00:01<00:00,  6.02it/s]\n",
            "100%|██████████| 89/89 [00:29<00:00,  2.98it/s]\n",
            "100%|██████████| 12/12 [00:01<00:00,  7.14it/s]\n",
            "100%|██████████| 89/89 [00:30<00:00,  2.95it/s]\n",
            "100%|██████████| 12/12 [00:01<00:00,  7.06it/s]\n",
            "100%|██████████| 89/89 [00:30<00:00,  2.94it/s]\n",
            "100%|██████████| 12/12 [00:01<00:00,  7.09it/s]\n",
            "100%|██████████| 89/89 [00:30<00:00,  2.89it/s]\n",
            "100%|██████████| 12/12 [00:01<00:00,  7.08it/s]\n",
            "100%|██████████| 89/89 [00:30<00:00,  2.94it/s]\n",
            "100%|██████████| 12/12 [00:01<00:00,  7.07it/s]\n",
            "100%|██████████| 89/89 [00:30<00:00,  2.92it/s]\n",
            "100%|██████████| 12/12 [00:01<00:00,  7.02it/s]\n",
            "100%|██████████| 89/89 [00:30<00:00,  2.94it/s]\n",
            "100%|██████████| 12/12 [00:01<00:00,  7.07it/s]\n",
            "100%|██████████| 89/89 [00:30<00:00,  2.90it/s]\n",
            "100%|██████████| 12/12 [00:01<00:00,  7.14it/s]\n",
            "100%|██████████| 89/89 [00:30<00:00,  2.95it/s]\n",
            "100%|██████████| 12/12 [00:01<00:00,  6.99it/s]\n"
          ]
        },
        {
          "data": {
            "text/plain": [
              "<All keys matched successfully>"
            ]
          },
          "execution_count": 15,
          "metadata": {},
          "output_type": "execute_result"
        },
        {
          "name": "stderr",
          "output_type": "stream",
          "text": [
            "100%|██████████| 12/12 [00:01<00:00,  6.92it/s]\n",
            "100%|██████████| 1/1 [00:00<00:00, 44.53it/s]\n",
            "100%|██████████| 1/1 [00:00<00:00,  9.70it/s]\n"
          ]
        },
        {
          "data": {
            "text/plain": [
              "0"
            ]
          },
          "execution_count": 15,
          "metadata": {},
          "output_type": "execute_result"
        },
        {
          "name": "stdout",
          "output_type": "stream",
          "text": [
            "test predictions: 0.333\n",
            "test loss: 1.141\n",
            "test AUROC: 0.761\n",
            "test predictions 8: 0.305\n",
            "test loss 8: 2.279\n",
            "test AUROC 8: 0.301\n",
            "test predictions 45: 0.284\n",
            "test loss 45: 1.615\n",
            "test AUROC 45: 0.669\n",
            "BEST TEST AUROC: 0.7610864260583362\n",
            "UPDATED BEST MODEL\n",
            "Epoch: 0\n",
            "train loss: 1.210\n",
            "train AUROC: 0.679\n",
            "valid loss: 1.128\n",
            "valid AUROC: 0.716\n",
            "BEST VALID LOSS: 1.1284069915612538\n",
            "BEST VALID AUROC: 0.7162169447281806\n",
            "UPDATED BEST INTERMEDIATE MODEL\n",
            "Epoch: 1\n",
            "train loss: 1.136\n",
            "train AUROC: 0.728\n",
            "valid loss: 1.068\n",
            "valid AUROC: 0.747\n",
            "BEST VALID LOSS: 1.068473642071088\n",
            "BEST VALID AUROC: 0.747057087731245\n",
            "UPDATED BEST INTERMEDIATE MODEL\n",
            "Epoch: 2\n",
            "train loss: 1.100\n",
            "train AUROC: 0.753\n",
            "valid loss: 1.076\n",
            "valid AUROC: 0.754\n",
            "BEST VALID AUROC: 0.7538684598796959\n",
            "UPDATED BEST INTERMEDIATE MODEL\n",
            "Epoch: 3\n",
            "train loss: 1.098\n",
            "train AUROC: 0.753\n",
            "valid loss: 1.055\n",
            "valid AUROC: 0.756\n",
            "BEST VALID LOSS: 1.0549821654955547\n",
            "BEST VALID AUROC: 0.7558449665191238\n",
            "UPDATED BEST INTERMEDIATE MODEL\n",
            "Epoch: 4\n",
            "train loss: 1.076\n",
            "train AUROC: 0.766\n",
            "valid loss: 1.105\n",
            "valid AUROC: 0.749\n",
            "Epoch: 5\n",
            "train loss: 1.100\n",
            "train AUROC: 0.753\n",
            "valid loss: 1.053\n",
            "valid AUROC: 0.763\n",
            "BEST VALID LOSS: 1.0527192801237106\n",
            "BEST VALID AUROC: 0.7631318806037908\n",
            "UPDATED BEST INTERMEDIATE MODEL\n",
            "Epoch: 6\n",
            "train loss: 1.071\n",
            "train AUROC: 0.770\n",
            "valid loss: 1.073\n",
            "valid AUROC: 0.761\n",
            "Epoch: 7\n",
            "train loss: 1.077\n",
            "train AUROC: 0.767\n",
            "valid loss: 1.090\n",
            "valid AUROC: 0.758\n",
            "Epoch: 8\n",
            "train loss: 1.089\n",
            "train AUROC: 0.756\n",
            "valid loss: 1.053\n",
            "valid AUROC: 0.764\n",
            "BEST VALID AUROC: 0.7644330949948928\n",
            "UPDATED BEST INTERMEDIATE MODEL\n",
            "Epoch: 9\n",
            "train loss: 1.059\n",
            "train AUROC: 0.777\n",
            "valid loss: 1.054\n",
            "valid AUROC: 0.765\n",
            "BEST VALID AUROC: 0.7646929973896266\n",
            "UPDATED BEST INTERMEDIATE MODEL\n"
          ]
        },
        {
          "name": "stderr",
          "output_type": "stream",
          "text": [
            "/tmp/ipykernel_34140/1471330824.py:188: FutureWarning: The frame.append method is deprecated and will be removed from pandas in a future version. Use pandas.concat instead.\n",
            "  results_df = results_df.append(new_row, ignore_index=True)\n",
            "/tmp/ipykernel_34140/1471330824.py:231: FutureWarning: The frame.append method is deprecated and will be removed from pandas in a future version. Use pandas.concat instead.\n",
            "  results_df = results_df.append(new_row, ignore_index=True)\n",
            "/tmp/ipykernel_34140/1471330824.py:274: FutureWarning: The frame.append method is deprecated and will be removed from pandas in a future version. Use pandas.concat instead.\n",
            "  results_df = results_df.append(new_row, ignore_index=True)\n",
            "100%|██████████| 89/89 [00:30<00:00,  2.92it/s]\n",
            "100%|██████████| 12/12 [00:01<00:00,  7.03it/s]\n",
            "100%|██████████| 89/89 [00:30<00:00,  2.95it/s]\n",
            "100%|██████████| 12/12 [00:01<00:00,  6.89it/s]\n",
            "100%|██████████| 89/89 [00:30<00:00,  2.92it/s]\n",
            "100%|██████████| 12/12 [00:01<00:00,  6.99it/s]\n",
            "100%|██████████| 89/89 [00:30<00:00,  2.89it/s]\n",
            "100%|██████████| 12/12 [00:01<00:00,  7.00it/s]\n",
            "100%|██████████| 89/89 [00:30<00:00,  2.94it/s]\n",
            "100%|██████████| 12/12 [00:01<00:00,  7.05it/s]\n",
            "100%|██████████| 89/89 [00:30<00:00,  2.92it/s]\n",
            "100%|██████████| 12/12 [00:01<00:00,  7.05it/s]\n",
            "100%|██████████| 89/89 [00:29<00:00,  2.98it/s]\n",
            "100%|██████████| 12/12 [00:01<00:00,  7.17it/s]\n",
            "100%|██████████| 89/89 [00:29<00:00,  2.97it/s]\n",
            "100%|██████████| 12/12 [00:01<00:00,  7.10it/s]\n",
            "100%|██████████| 89/89 [00:29<00:00,  2.99it/s]\n",
            "100%|██████████| 12/12 [00:01<00:00,  7.14it/s]\n",
            "100%|██████████| 89/89 [00:29<00:00,  2.97it/s]\n",
            "100%|██████████| 12/12 [00:01<00:00,  7.17it/s]\n"
          ]
        },
        {
          "data": {
            "text/plain": [
              "<All keys matched successfully>"
            ]
          },
          "execution_count": 15,
          "metadata": {},
          "output_type": "execute_result"
        },
        {
          "name": "stderr",
          "output_type": "stream",
          "text": [
            "\r  0%|          | 0/12 [00:00<?, ?it/s]\r  8%|▊         | 1/12 [00:00<00:01,  6.76it/s]\r 17%|█▋        | 2/12 [00:00<00:01,  6.66it/s]\r 25%|██▌       | 3/12 [00:00<00:01,  6.55it/s]\r 33%|███▎      | 4/12 [00:00<00:01,  6.61it/s]\r 42%|████▏     | 5/12 [00:00<00:01,  6.63it/s]\r 50%|█████     | 6/12 [00:00<00:00,  6.63it/s]\r 58%|█████▊    | 7/12 [00:01<00:00,  6.62it/s]\r 67%|██████▋   | 8/12 [00:01<00:00,  6.63it/s]\r 75%|███████▌  | 9/12 [00:01<00:00,  6.60it/s]\r 83%|████████▎ | 10/12 [00:01<00:00,  6.56it/s]\r 92%|█████████▏| 11/12 [00:01<00:00,  6.59it/s]\r100%|██████████| 12/12 [00:01<00:00,  7.14it/s]\n",
            "\r  0%|          | 0/1 [00:00<?, ?it/s]\r100%|██████████| 1/1 [00:00<00:00, 39.79it/s]\n",
            "\r  0%|          | 0/1 [00:00<?, ?it/s]\r100%|██████████| 1/1 [00:00<00:00,  9.30it/s]\r100%|██████████| 1/1 [00:00<00:00,  9.16it/s]\n"
          ]
        },
        {
          "data": {
            "text/plain": [
              "0"
            ]
          },
          "execution_count": 15,
          "metadata": {},
          "output_type": "execute_result"
        },
        {
          "name": "stdout",
          "output_type": "stream",
          "text": [
            "test predictions: 0.532\n",
            "test loss: 1.226\n",
            "test AUROC: 0.720\n",
            "test predictions 8: 0.639\n",
            "test loss 8: 1.372\n",
            "test AUROC 8: 0.464\n",
            "test predictions 45: 0.634\n",
            "test loss 45: 1.253\n",
            "test AUROC 45: 0.598\n",
            "Epoch: 0\n",
            "train loss: 1.209\n",
            "train AUROC: 0.690\n",
            "valid loss: 1.197\n",
            "valid AUROC: 0.724\n",
            "BEST VALID LOSS: 1.196710119644801\n",
            "BEST VALID AUROC: 0.7241911706112041\n",
            "UPDATED BEST INTERMEDIATE MODEL\n",
            "Epoch: 1\n",
            "train loss: 1.150\n",
            "train AUROC: 0.721\n",
            "valid loss: 1.156\n",
            "valid AUROC: 0.740\n",
            "BEST VALID LOSS: 1.1556655565897624\n",
            "BEST VALID AUROC: 0.7404451692223627\n",
            "UPDATED BEST INTERMEDIATE MODEL\n",
            "Epoch: 2\n",
            "train loss: 1.107\n",
            "train AUROC: 0.749\n",
            "valid loss: 1.135\n",
            "valid AUROC: 0.753\n",
            "BEST VALID LOSS: 1.1353984673817952\n",
            "BEST VALID AUROC: 0.7533255353300776\n",
            "UPDATED BEST INTERMEDIATE MODEL\n",
            "Epoch: 3\n",
            "train loss: 1.093\n",
            "train AUROC: 0.756\n",
            "valid loss: 1.151\n",
            "valid AUROC: 0.755\n",
            "BEST VALID AUROC: 0.7547069772207233\n",
            "UPDATED BEST INTERMEDIATE MODEL\n",
            "Epoch: 4\n",
            "train loss: 1.096\n",
            "train AUROC: 0.756\n",
            "valid loss: 1.129\n",
            "valid AUROC: 0.759\n",
            "BEST VALID LOSS: 1.1286100000143051\n",
            "BEST VALID AUROC: 0.7593140603121478\n",
            "UPDATED BEST INTERMEDIATE MODEL\n",
            "Epoch: 5\n",
            "train loss: 1.083\n",
            "train AUROC: 0.765\n",
            "valid loss: 1.113\n",
            "valid AUROC: 0.766\n",
            "BEST VALID LOSS: 1.1127641250689824\n",
            "BEST VALID AUROC: 0.765599706294184\n",
            "UPDATED BEST INTERMEDIATE MODEL\n",
            "Epoch: 6\n",
            "train loss: 1.102\n",
            "train AUROC: 0.757\n",
            "valid loss: 1.097\n",
            "valid AUROC: 0.771\n",
            "BEST VALID LOSS: 1.0965775450070698\n",
            "BEST VALID AUROC: 0.770822091686304\n",
            "UPDATED BEST INTERMEDIATE MODEL\n",
            "Epoch: 7\n",
            "train loss: 1.092\n",
            "train AUROC: 0.760\n",
            "valid loss: 1.096\n",
            "valid AUROC: 0.769\n",
            "BEST VALID LOSS: 1.096325342853864\n",
            "Epoch: 8\n",
            "train loss: 1.075\n",
            "train AUROC: 0.771\n",
            "valid loss: 1.099\n",
            "valid AUROC: 0.768\n",
            "Epoch: 9\n",
            "train loss: 1.064\n",
            "train AUROC: 0.776\n",
            "valid loss: 1.110\n",
            "valid AUROC: 0.767\n"
          ]
        },
        {
          "name": "stderr",
          "output_type": "stream",
          "text": [
            "/tmp/ipykernel_34140/1471330824.py:188: FutureWarning: The frame.append method is deprecated and will be removed from pandas in a future version. Use pandas.concat instead.\n",
            "  results_df = results_df.append(new_row, ignore_index=True)\n",
            "/tmp/ipykernel_34140/1471330824.py:231: FutureWarning: The frame.append method is deprecated and will be removed from pandas in a future version. Use pandas.concat instead.\n",
            "  results_df = results_df.append(new_row, ignore_index=True)\n",
            "/tmp/ipykernel_34140/1471330824.py:274: FutureWarning: The frame.append method is deprecated and will be removed from pandas in a future version. Use pandas.concat instead.\n",
            "  results_df = results_df.append(new_row, ignore_index=True)\n",
            "100%|██████████| 89/89 [00:30<00:00,  2.95it/s]\n",
            "100%|██████████| 12/12 [00:01<00:00,  7.09it/s]\n",
            "100%|██████████| 89/89 [00:30<00:00,  2.95it/s]\n",
            "100%|██████████| 12/12 [00:01<00:00,  7.07it/s]\n",
            "100%|██████████| 89/89 [00:29<00:00,  2.98it/s]\n",
            "100%|██████████| 12/12 [00:01<00:00,  6.84it/s]\n",
            "100%|██████████| 89/89 [00:30<00:00,  2.95it/s]\n",
            "100%|██████████| 12/12 [00:01<00:00,  7.15it/s]\n",
            "100%|██████████| 89/89 [00:30<00:00,  2.96it/s]\n",
            "100%|██████████| 12/12 [00:01<00:00,  6.93it/s]\n",
            "100%|██████████| 89/89 [00:30<00:00,  2.95it/s]\n",
            "100%|██████████| 12/12 [00:01<00:00,  7.00it/s]\n",
            "100%|██████████| 89/89 [00:30<00:00,  2.95it/s]\n",
            "100%|██████████| 12/12 [00:01<00:00,  7.12it/s]\n",
            "100%|██████████| 89/89 [00:29<00:00,  2.99it/s]\n",
            "100%|██████████| 12/12 [00:01<00:00,  7.14it/s]\n",
            "100%|██████████| 89/89 [00:30<00:00,  2.96it/s]\n",
            "100%|██████████| 12/12 [00:01<00:00,  7.09it/s]\n",
            "100%|██████████| 89/89 [00:29<00:00,  2.98it/s]\n",
            "100%|██████████| 12/12 [00:01<00:00,  7.18it/s]\n"
          ]
        },
        {
          "data": {
            "text/plain": [
              "<All keys matched successfully>"
            ]
          },
          "execution_count": 15,
          "metadata": {},
          "output_type": "execute_result"
        },
        {
          "name": "stderr",
          "output_type": "stream",
          "text": [
            "\r  0%|          | 0/12 [00:00<?, ?it/s]\r  8%|▊         | 1/12 [00:00<00:01,  6.78it/s]\r 17%|█▋        | 2/12 [00:00<00:01,  6.75it/s]\r 25%|██▌       | 3/12 [00:00<00:01,  6.76it/s]\r 33%|███▎      | 4/12 [00:00<00:01,  6.71it/s]\r 42%|████▏     | 5/12 [00:00<00:01,  6.70it/s]\r 50%|█████     | 6/12 [00:00<00:00,  6.70it/s]\r 58%|█████▊    | 7/12 [00:01<00:00,  6.62it/s]\r 67%|██████▋   | 8/12 [00:01<00:00,  6.65it/s]\r 75%|███████▌  | 9/12 [00:01<00:00,  6.68it/s]\r 83%|████████▎ | 10/12 [00:01<00:00,  6.68it/s]\r 92%|█████████▏| 11/12 [00:01<00:00,  6.67it/s]\r100%|██████████| 12/12 [00:01<00:00,  7.22it/s]\n",
            "\r  0%|          | 0/1 [00:00<?, ?it/s]\r100%|██████████| 1/1 [00:00<00:00, 36.89it/s]\n",
            "\r  0%|          | 0/1 [00:00<?, ?it/s]\r100%|██████████| 1/1 [00:00<00:00,  9.00it/s]\r100%|██████████| 1/1 [00:00<00:00,  8.90it/s]\n"
          ]
        },
        {
          "data": {
            "text/plain": [
              "0"
            ]
          },
          "execution_count": 15,
          "metadata": {},
          "output_type": "execute_result"
        },
        {
          "name": "stdout",
          "output_type": "stream",
          "text": [
            "test predictions: 0.519\n",
            "test loss: 1.128\n",
            "test AUROC: 0.749\n",
            "test predictions 8: 0.526\n",
            "test loss 8: 0.967\n",
            "test AUROC 8: 0.831\n",
            "test predictions 45: 0.513\n",
            "test loss 45: 1.082\n",
            "test AUROC 45: 0.709\n",
            "Epoch: 0\n",
            "train loss: 1.208\n",
            "train AUROC: 0.693\n",
            "valid loss: 1.142\n",
            "valid AUROC: 0.741\n",
            "BEST VALID LOSS: 1.1420462727546692\n",
            "BEST VALID AUROC: 0.7405479093382512\n",
            "UPDATED BEST INTERMEDIATE MODEL\n",
            "Epoch: 1\n",
            "train loss: 1.116\n",
            "train AUROC: 0.745\n",
            "valid loss: 1.261\n",
            "valid AUROC: 0.726\n",
            "Epoch: 2\n",
            "train loss: 1.140\n",
            "train AUROC: 0.734\n",
            "valid loss: 1.129\n",
            "valid AUROC: 0.747\n",
            "BEST VALID LOSS: 1.1288850555817287\n",
            "BEST VALID AUROC: 0.7474351968853523\n",
            "UPDATED BEST INTERMEDIATE MODEL\n",
            "Epoch: 3\n",
            "train loss: 1.112\n",
            "train AUROC: 0.743\n",
            "valid loss: 1.106\n",
            "valid AUROC: 0.754\n",
            "BEST VALID LOSS: 1.1056880702575047\n",
            "BEST VALID AUROC: 0.7543355759707661\n",
            "UPDATED BEST INTERMEDIATE MODEL\n",
            "Epoch: 4\n",
            "train loss: 1.089\n",
            "train AUROC: 0.761\n",
            "valid loss: 1.123\n",
            "valid AUROC: 0.752\n",
            "Epoch: 5\n",
            "train loss: 1.098\n",
            "train AUROC: 0.753\n",
            "valid loss: 1.099\n",
            "valid AUROC: 0.759\n",
            "BEST VALID LOSS: 1.0987136860688527\n",
            "BEST VALID AUROC: 0.7590303154491536\n",
            "UPDATED BEST INTERMEDIATE MODEL\n",
            "Epoch: 6\n",
            "train loss: 1.074\n",
            "train AUROC: 0.770\n",
            "valid loss: 1.114\n",
            "valid AUROC: 0.758\n",
            "Epoch: 7\n",
            "train loss: 1.081\n",
            "train AUROC: 0.764\n",
            "valid loss: 1.091\n",
            "valid AUROC: 0.761\n",
            "BEST VALID LOSS: 1.0914634118477504\n",
            "BEST VALID AUROC: 0.7614539576289516\n",
            "UPDATED BEST INTERMEDIATE MODEL\n",
            "Epoch: 8\n",
            "train loss: 1.070\n",
            "train AUROC: 0.769\n",
            "valid loss: 1.134\n",
            "valid AUROC: 0.761\n",
            "Epoch: 9\n",
            "train loss: 1.076\n",
            "train AUROC: 0.768\n",
            "valid loss: 1.077\n",
            "valid AUROC: 0.768\n",
            "BEST VALID LOSS: 1.076615070303281\n",
            "BEST VALID AUROC: 0.7679314231071344\n",
            "UPDATED BEST INTERMEDIATE MODEL\n"
          ]
        },
        {
          "name": "stderr",
          "output_type": "stream",
          "text": [
            "/tmp/ipykernel_34140/1471330824.py:188: FutureWarning: The frame.append method is deprecated and will be removed from pandas in a future version. Use pandas.concat instead.\n",
            "  results_df = results_df.append(new_row, ignore_index=True)\n",
            "/tmp/ipykernel_34140/1471330824.py:231: FutureWarning: The frame.append method is deprecated and will be removed from pandas in a future version. Use pandas.concat instead.\n",
            "  results_df = results_df.append(new_row, ignore_index=True)\n",
            "/tmp/ipykernel_34140/1471330824.py:274: FutureWarning: The frame.append method is deprecated and will be removed from pandas in a future version. Use pandas.concat instead.\n",
            "  results_df = results_df.append(new_row, ignore_index=True)\n",
            "100%|██████████| 89/89 [00:30<00:00,  2.91it/s]\n",
            "100%|██████████| 12/12 [00:01<00:00,  7.04it/s]\n",
            "100%|██████████| 89/89 [00:30<00:00,  2.96it/s]\n",
            "100%|██████████| 12/12 [00:01<00:00,  7.13it/s]\n",
            "100%|██████████| 89/89 [00:30<00:00,  2.95it/s]\n",
            "100%|██████████| 12/12 [00:01<00:00,  7.16it/s]\n",
            "100%|██████████| 89/89 [00:30<00:00,  2.96it/s]\n",
            "100%|██████████| 12/12 [00:01<00:00,  7.14it/s]\n",
            "100%|██████████| 89/89 [00:30<00:00,  2.96it/s]\n",
            "100%|██████████| 12/12 [00:01<00:00,  7.18it/s]\n",
            "100%|██████████| 89/89 [00:29<00:00,  2.97it/s]\n",
            "100%|██████████| 12/12 [00:01<00:00,  7.15it/s]\n",
            "100%|██████████| 89/89 [00:30<00:00,  2.97it/s]\n",
            "100%|██████████| 12/12 [00:01<00:00,  7.14it/s]\n",
            "100%|██████████| 89/89 [00:30<00:00,  2.91it/s]\n",
            "100%|██████████| 12/12 [00:01<00:00,  7.17it/s]\n",
            "100%|██████████| 89/89 [00:29<00:00,  2.98it/s]\n",
            "100%|██████████| 12/12 [00:01<00:00,  7.14it/s]\n",
            "100%|██████████| 89/89 [00:29<00:00,  2.99it/s]\n",
            "100%|██████████| 12/12 [00:01<00:00,  6.70it/s]\n"
          ]
        },
        {
          "data": {
            "text/plain": [
              "<All keys matched successfully>"
            ]
          },
          "execution_count": 15,
          "metadata": {},
          "output_type": "execute_result"
        },
        {
          "name": "stderr",
          "output_type": "stream",
          "text": [
            "\r  0%|          | 0/12 [00:00<?, ?it/s]\r  8%|▊         | 1/12 [00:00<00:01,  6.77it/s]\r 17%|█▋        | 2/12 [00:00<00:01,  6.57it/s]\r 25%|██▌       | 3/12 [00:00<00:01,  6.53it/s]\r 33%|███▎      | 4/12 [00:00<00:01,  6.56it/s]\r 42%|████▏     | 5/12 [00:00<00:01,  6.42it/s]\r 50%|█████     | 6/12 [00:00<00:00,  6.50it/s]\r 58%|█████▊    | 7/12 [00:01<00:00,  6.58it/s]\r 67%|██████▋   | 8/12 [00:01<00:00,  6.58it/s]\r 75%|███████▌  | 9/12 [00:01<00:00,  6.60it/s]\r 83%|████████▎ | 10/12 [00:01<00:00,  6.63it/s]\r 92%|█████████▏| 11/12 [00:01<00:00,  6.61it/s]\r100%|██████████| 12/12 [00:01<00:00,  7.09it/s]\n",
            "\r  0%|          | 0/1 [00:00<?, ?it/s]\r100%|██████████| 1/1 [00:00<00:00, 38.41it/s]\n",
            "\r  0%|          | 0/1 [00:00<?, ?it/s]\r100%|██████████| 1/1 [00:00<00:00,  9.50it/s]\r100%|██████████| 1/1 [00:00<00:00,  9.40it/s]\n"
          ]
        },
        {
          "data": {
            "text/plain": [
              "0"
            ]
          },
          "execution_count": 15,
          "metadata": {},
          "output_type": "execute_result"
        },
        {
          "name": "stdout",
          "output_type": "stream",
          "text": [
            "test predictions: 0.427\n",
            "test loss: 1.120\n",
            "test AUROC: 0.766\n",
            "test predictions 8: 0.469\n",
            "test loss 8: 0.816\n",
            "test AUROC 8: 0.469\n",
            "test predictions 45: 0.447\n",
            "test loss 45: 0.956\n",
            "test AUROC 45: 0.553\n",
            "BEST TEST AUROC: 0.7662349305010074\n",
            "UPDATED BEST MODEL\n",
            "Epoch: 0\n",
            "train loss: 1.212\n",
            "train AUROC: 0.691\n",
            "valid loss: 1.086\n",
            "valid AUROC: 0.733\n",
            "BEST VALID LOSS: 1.0855499332149823\n",
            "BEST VALID AUROC: 0.7330205594071241\n",
            "UPDATED BEST INTERMEDIATE MODEL\n",
            "Epoch: 1\n",
            "train loss: 1.144\n",
            "train AUROC: 0.731\n",
            "valid loss: 1.081\n",
            "valid AUROC: 0.761\n",
            "BEST VALID LOSS: 1.0807827214399974\n",
            "BEST VALID AUROC: 0.7611428912946963\n",
            "UPDATED BEST INTERMEDIATE MODEL\n",
            "Epoch: 2\n",
            "train loss: 1.113\n",
            "train AUROC: 0.745\n",
            "valid loss: 1.053\n",
            "valid AUROC: 0.767\n",
            "BEST VALID LOSS: 1.0532234758138657\n",
            "BEST VALID AUROC: 0.7672816843687033\n",
            "UPDATED BEST INTERMEDIATE MODEL\n",
            "Epoch: 3\n",
            "train loss: 1.097\n",
            "train AUROC: 0.753\n",
            "valid loss: 1.048\n",
            "valid AUROC: 0.771\n",
            "BEST VALID LOSS: 1.0479139139254887\n",
            "BEST VALID AUROC: 0.7706083580934167\n",
            "UPDATED BEST INTERMEDIATE MODEL\n",
            "Epoch: 4\n",
            "train loss: 1.091\n",
            "train AUROC: 0.758\n",
            "valid loss: 1.024\n",
            "valid AUROC: 0.771\n",
            "BEST VALID LOSS: 1.0236594279607136\n",
            "Epoch: 5\n",
            "train loss: 1.092\n",
            "train AUROC: 0.758\n",
            "valid loss: 1.052\n",
            "valid AUROC: 0.773\n",
            "BEST VALID AUROC: 0.7731022961419807\n",
            "UPDATED BEST INTERMEDIATE MODEL\n",
            "Epoch: 6\n",
            "train loss: 1.086\n",
            "train AUROC: 0.759\n",
            "valid loss: 1.018\n",
            "valid AUROC: 0.768\n",
            "BEST VALID LOSS: 1.0181898474693298\n",
            "Epoch: 7\n",
            "train loss: 1.087\n",
            "train AUROC: 0.759\n",
            "valid loss: 1.016\n",
            "valid AUROC: 0.783\n",
            "BEST VALID LOSS: 1.016239623228709\n",
            "BEST VALID AUROC: 0.7826875789761278\n",
            "UPDATED BEST INTERMEDIATE MODEL\n",
            "Epoch: 8\n",
            "train loss: 1.073\n",
            "train AUROC: 0.766\n",
            "valid loss: 1.008\n",
            "valid AUROC: 0.781\n",
            "BEST VALID LOSS: 1.0078305279215176\n",
            "Epoch: 9\n",
            "train loss: 1.064\n",
            "train AUROC: 0.773\n",
            "valid loss: 1.007\n",
            "valid AUROC: 0.784\n",
            "BEST VALID LOSS: 1.0071017344792683\n",
            "BEST VALID AUROC: 0.7842061974203978\n",
            "UPDATED BEST INTERMEDIATE MODEL\n"
          ]
        },
        {
          "name": "stderr",
          "output_type": "stream",
          "text": [
            "/tmp/ipykernel_34140/1471330824.py:188: FutureWarning: The frame.append method is deprecated and will be removed from pandas in a future version. Use pandas.concat instead.\n",
            "  results_df = results_df.append(new_row, ignore_index=True)\n",
            "/tmp/ipykernel_34140/1471330824.py:231: FutureWarning: The frame.append method is deprecated and will be removed from pandas in a future version. Use pandas.concat instead.\n",
            "  results_df = results_df.append(new_row, ignore_index=True)\n",
            "/tmp/ipykernel_34140/1471330824.py:274: FutureWarning: The frame.append method is deprecated and will be removed from pandas in a future version. Use pandas.concat instead.\n",
            "  results_df = results_df.append(new_row, ignore_index=True)\n",
            "100%|██████████| 89/89 [00:30<00:00,  2.91it/s]\n",
            "100%|██████████| 12/12 [00:01<00:00,  6.93it/s]\n",
            "100%|██████████| 89/89 [00:30<00:00,  2.90it/s]\n",
            "100%|██████████| 12/12 [00:01<00:00,  6.98it/s]\n",
            "100%|██████████| 89/89 [00:29<00:00,  2.98it/s]\n",
            "100%|██████████| 12/12 [00:01<00:00,  7.13it/s]\n",
            "100%|██████████| 89/89 [00:30<00:00,  2.96it/s]\n",
            "100%|██████████| 12/12 [00:01<00:00,  7.09it/s]\n",
            "100%|██████████| 89/89 [00:30<00:00,  2.96it/s]\n",
            "100%|██████████| 12/12 [00:01<00:00,  7.05it/s]\n",
            "100%|██████████| 89/89 [00:30<00:00,  2.97it/s]\n",
            "100%|██████████| 12/12 [00:01<00:00,  7.12it/s]\n",
            "100%|██████████| 89/89 [00:29<00:00,  2.99it/s]\n",
            "100%|██████████| 12/12 [00:01<00:00,  7.00it/s]\n",
            "100%|██████████| 89/89 [00:29<00:00,  2.98it/s]\n",
            "100%|██████████| 12/12 [00:01<00:00,  6.95it/s]\n",
            "100%|██████████| 89/89 [00:29<00:00,  3.01it/s]\n",
            "100%|██████████| 12/12 [00:01<00:00,  7.09it/s]\n",
            "100%|██████████| 89/89 [00:29<00:00,  2.98it/s]\n",
            "100%|██████████| 12/12 [00:01<00:00,  7.13it/s]\n"
          ]
        },
        {
          "data": {
            "text/plain": [
              "<All keys matched successfully>"
            ]
          },
          "execution_count": 15,
          "metadata": {},
          "output_type": "execute_result"
        },
        {
          "name": "stderr",
          "output_type": "stream",
          "text": [
            "\r  0%|          | 0/12 [00:00<?, ?it/s]\r  8%|▊         | 1/12 [00:00<00:02,  4.66it/s]\r 17%|█▋        | 2/12 [00:00<00:02,  4.75it/s]\r 25%|██▌       | 3/12 [00:00<00:01,  4.77it/s]\r 33%|███▎      | 4/12 [00:00<00:01,  4.77it/s]\r 42%|████▏     | 5/12 [00:01<00:01,  4.74it/s]\r 50%|█████     | 6/12 [00:01<00:01,  4.77it/s]\r 58%|█████▊    | 7/12 [00:01<00:01,  4.79it/s]\r 67%|██████▋   | 8/12 [00:01<00:00,  5.15it/s]\r 75%|███████▌  | 9/12 [00:01<00:00,  5.42it/s]\r 83%|████████▎ | 10/12 [00:01<00:00,  5.75it/s]\r 92%|█████████▏| 11/12 [00:02<00:00,  5.90it/s]\r100%|██████████| 12/12 [00:02<00:00,  5.66it/s]\n",
            "\r  0%|          | 0/1 [00:00<?, ?it/s]\r100%|██████████| 1/1 [00:00<00:00, 42.57it/s]\n",
            "\r  0%|          | 0/1 [00:00<?, ?it/s]\r100%|██████████| 1/1 [00:00<00:00,  9.37it/s]\r100%|██████████| 1/1 [00:00<00:00,  9.21it/s]\n"
          ]
        },
        {
          "data": {
            "text/plain": [
              "0"
            ]
          },
          "execution_count": 15,
          "metadata": {},
          "output_type": "execute_result"
        },
        {
          "name": "stdout",
          "output_type": "stream",
          "text": [
            "test predictions: 0.311\n",
            "test loss: 1.205\n",
            "test AUROC: 0.758\n",
            "test predictions 8: 0.281\n",
            "test loss 8: 0.990\n",
            "test AUROC 8: 0.765\n",
            "test predictions 45: 0.238\n",
            "test loss 45: 1.651\n",
            "test AUROC 45: 0.544\n",
            "Epoch: 0\n",
            "train loss: 1.209\n",
            "train AUROC: 0.687\n",
            "valid loss: 1.142\n",
            "valid AUROC: 0.723\n",
            "BEST VALID LOSS: 1.1419608195622761\n",
            "BEST VALID AUROC: 0.7228879933517753\n",
            "UPDATED BEST INTERMEDIATE MODEL\n",
            "Epoch: 1\n",
            "train loss: 1.132\n",
            "train AUROC: 0.733\n",
            "valid loss: 1.148\n",
            "valid AUROC: 0.736\n",
            "BEST VALID AUROC: 0.7362228635178671\n",
            "UPDATED BEST INTERMEDIATE MODEL\n",
            "Epoch: 2\n",
            "train loss: 1.117\n",
            "train AUROC: 0.742\n",
            "valid loss: 1.143\n",
            "valid AUROC: 0.745\n",
            "BEST VALID AUROC: 0.7451823139009369\n",
            "UPDATED BEST INTERMEDIATE MODEL\n",
            "Epoch: 3\n",
            "train loss: 1.095\n",
            "train AUROC: 0.754\n",
            "valid loss: 1.144\n",
            "valid AUROC: 0.750\n",
            "BEST VALID AUROC: 0.7499721093314208\n",
            "UPDATED BEST INTERMEDIATE MODEL\n",
            "Epoch: 4\n",
            "train loss: 1.091\n",
            "train AUROC: 0.756\n",
            "valid loss: 1.133\n",
            "valid AUROC: 0.754\n",
            "BEST VALID LOSS: 1.1333007911841075\n",
            "BEST VALID AUROC: 0.7541642475780654\n",
            "UPDATED BEST INTERMEDIATE MODEL\n",
            "Epoch: 5\n",
            "train loss: 1.078\n",
            "train AUROC: 0.766\n",
            "valid loss: 1.164\n",
            "valid AUROC: 0.754\n",
            "Epoch: 6\n",
            "train loss: 1.127\n",
            "train AUROC: 0.741\n",
            "valid loss: 1.173\n",
            "valid AUROC: 0.751\n",
            "Epoch: 7\n",
            "train loss: 1.088\n",
            "train AUROC: 0.759\n",
            "valid loss: 1.139\n",
            "valid AUROC: 0.758\n",
            "BEST VALID AUROC: 0.7582470999396651\n",
            "UPDATED BEST INTERMEDIATE MODEL\n",
            "Epoch: 8\n",
            "train loss: 1.068\n",
            "train AUROC: 0.771\n",
            "valid loss: 1.170\n",
            "valid AUROC: 0.754\n",
            "Epoch: 9\n",
            "train loss: 1.076\n",
            "train AUROC: 0.767\n",
            "valid loss: 1.128\n",
            "valid AUROC: 0.760\n",
            "BEST VALID LOSS: 1.1279547661542892\n",
            "BEST VALID AUROC: 0.7600104732306501\n",
            "UPDATED BEST INTERMEDIATE MODEL\n"
          ]
        },
        {
          "name": "stderr",
          "output_type": "stream",
          "text": [
            "/tmp/ipykernel_34140/1471330824.py:188: FutureWarning: The frame.append method is deprecated and will be removed from pandas in a future version. Use pandas.concat instead.\n",
            "  results_df = results_df.append(new_row, ignore_index=True)\n",
            "/tmp/ipykernel_34140/1471330824.py:231: FutureWarning: The frame.append method is deprecated and will be removed from pandas in a future version. Use pandas.concat instead.\n",
            "  results_df = results_df.append(new_row, ignore_index=True)\n",
            "/tmp/ipykernel_34140/1471330824.py:274: FutureWarning: The frame.append method is deprecated and will be removed from pandas in a future version. Use pandas.concat instead.\n",
            "  results_df = results_df.append(new_row, ignore_index=True)\n",
            "100%|██████████| 89/89 [00:32<00:00,  2.72it/s]\n",
            "100%|██████████| 12/12 [00:02<00:00,  5.78it/s]\n",
            "100%|██████████| 89/89 [00:31<00:00,  2.86it/s]\n",
            "100%|██████████| 12/12 [00:01<00:00,  7.18it/s]\n",
            "100%|██████████| 89/89 [00:29<00:00,  2.99it/s]\n",
            "100%|██████████| 12/12 [00:01<00:00,  7.12it/s]\n",
            "100%|██████████| 89/89 [00:29<00:00,  2.98it/s]\n",
            "100%|██████████| 12/12 [00:01<00:00,  7.17it/s]\n",
            "100%|██████████| 89/89 [00:29<00:00,  2.98it/s]\n",
            "100%|██████████| 12/12 [00:01<00:00,  7.16it/s]\n",
            "100%|██████████| 89/89 [00:29<00:00,  3.00it/s]\n",
            "100%|██████████| 12/12 [00:01<00:00,  7.20it/s]\n",
            "100%|██████████| 89/89 [00:29<00:00,  2.98it/s]\n",
            "100%|██████████| 12/12 [00:01<00:00,  7.10it/s]\n",
            "100%|██████████| 89/89 [00:29<00:00,  2.99it/s]\n",
            "100%|██████████| 12/12 [00:01<00:00,  7.17it/s]\n",
            "100%|██████████| 89/89 [00:29<00:00,  2.97it/s]\n",
            "100%|██████████| 12/12 [00:01<00:00,  7.07it/s]\n",
            "100%|██████████| 89/89 [00:29<00:00,  3.00it/s]\n",
            "100%|██████████| 12/12 [00:01<00:00,  7.03it/s]\n"
          ]
        },
        {
          "data": {
            "text/plain": [
              "<All keys matched successfully>"
            ]
          },
          "execution_count": 15,
          "metadata": {},
          "output_type": "execute_result"
        },
        {
          "name": "stderr",
          "output_type": "stream",
          "text": [
            "100%|██████████| 12/12 [00:01<00:00,  6.78it/s]\n",
            "100%|██████████| 1/1 [00:00<00:00, 34.96it/s]\n",
            "100%|██████████| 1/1 [00:00<00:00,  8.61it/s]\n"
          ]
        },
        {
          "data": {
            "text/plain": [
              "0"
            ]
          },
          "execution_count": 15,
          "metadata": {},
          "output_type": "execute_result"
        },
        {
          "name": "stdout",
          "output_type": "stream",
          "text": [
            "test predictions: 0.513\n",
            "test loss: 1.135\n",
            "test AUROC: 0.774\n",
            "test predictions 8: 0.553\n",
            "test loss 8: 1.105\n",
            "test AUROC 8: 0.578\n",
            "test predictions 45: 0.533\n",
            "test loss 45: 1.115\n",
            "test AUROC 45: 0.557\n",
            "BEST TEST AUROC: 0.7740329337568161\n",
            "UPDATED BEST MODEL\n",
            "Epoch: 0\n",
            "train loss: 1.207\n",
            "train AUROC: 0.695\n",
            "valid loss: 1.130\n",
            "valid AUROC: 0.725\n",
            "BEST VALID LOSS: 1.1301259348789852\n",
            "BEST VALID AUROC: 0.7249297041312341\n",
            "UPDATED BEST INTERMEDIATE MODEL\n",
            "Epoch: 1\n",
            "train loss: 1.120\n",
            "train AUROC: 0.743\n",
            "valid loss: 1.076\n",
            "valid AUROC: 0.744\n",
            "BEST VALID LOSS: 1.0763489504655201\n",
            "BEST VALID AUROC: 0.7443712077228692\n",
            "UPDATED BEST INTERMEDIATE MODEL\n",
            "Epoch: 2\n",
            "train loss: 1.106\n",
            "train AUROC: 0.751\n",
            "valid loss: 1.158\n",
            "valid AUROC: 0.731\n",
            "Epoch: 3\n",
            "train loss: 1.146\n",
            "train AUROC: 0.726\n",
            "valid loss: 1.103\n",
            "valid AUROC: 0.736\n",
            "Epoch: 4\n",
            "train loss: 1.105\n",
            "train AUROC: 0.750\n",
            "valid loss: 1.076\n",
            "valid AUROC: 0.746\n",
            "BEST VALID LOSS: 1.0759353935718536\n",
            "BEST VALID AUROC: 0.7456274262035677\n",
            "UPDATED BEST INTERMEDIATE MODEL\n",
            "Epoch: 5\n",
            "train loss: 1.082\n",
            "train AUROC: 0.764\n",
            "valid loss: 1.077\n",
            "valid AUROC: 0.747\n",
            "BEST VALID AUROC: 0.746620675523377\n",
            "UPDATED BEST INTERMEDIATE MODEL\n",
            "Epoch: 6\n",
            "train loss: 1.075\n",
            "train AUROC: 0.766\n",
            "valid loss: 1.075\n",
            "valid AUROC: 0.748\n",
            "BEST VALID LOSS: 1.0752552797396977\n",
            "BEST VALID AUROC: 0.7482269503546098\n",
            "UPDATED BEST INTERMEDIATE MODEL\n",
            "Epoch: 7\n",
            "train loss: 1.080\n",
            "train AUROC: 0.765\n",
            "valid loss: 1.068\n",
            "valid AUROC: 0.754\n",
            "BEST VALID LOSS: 1.0683187991380692\n",
            "BEST VALID AUROC: 0.7541414796853476\n",
            "UPDATED BEST INTERMEDIATE MODEL\n",
            "Epoch: 8\n",
            "train loss: 1.063\n",
            "train AUROC: 0.773\n",
            "valid loss: 1.054\n",
            "valid AUROC: 0.757\n",
            "BEST VALID LOSS: 1.0538054804007213\n",
            "BEST VALID AUROC: 0.7569590064091618\n",
            "UPDATED BEST INTERMEDIATE MODEL\n",
            "Epoch: 9\n",
            "train loss: 1.057\n",
            "train AUROC: 0.776\n",
            "valid loss: 1.068\n",
            "valid AUROC: 0.757\n",
            "BEST VALID AUROC: 0.7571030133306011\n",
            "UPDATED BEST INTERMEDIATE MODEL\n"
          ]
        },
        {
          "name": "stderr",
          "output_type": "stream",
          "text": [
            "/tmp/ipykernel_34140/1471330824.py:188: FutureWarning: The frame.append method is deprecated and will be removed from pandas in a future version. Use pandas.concat instead.\n",
            "  results_df = results_df.append(new_row, ignore_index=True)\n",
            "/tmp/ipykernel_34140/1471330824.py:231: FutureWarning: The frame.append method is deprecated and will be removed from pandas in a future version. Use pandas.concat instead.\n",
            "  results_df = results_df.append(new_row, ignore_index=True)\n",
            "/tmp/ipykernel_34140/1471330824.py:274: FutureWarning: The frame.append method is deprecated and will be removed from pandas in a future version. Use pandas.concat instead.\n",
            "  results_df = results_df.append(new_row, ignore_index=True)\n",
            "100%|██████████| 89/89 [00:30<00:00,  2.96it/s]\n",
            "100%|██████████| 12/12 [00:01<00:00,  7.12it/s]\n",
            "100%|██████████| 89/89 [00:29<00:00,  3.00it/s]\n",
            "100%|██████████| 12/12 [00:01<00:00,  7.07it/s]\n",
            "100%|██████████| 89/89 [00:30<00:00,  2.96it/s]\n",
            "100%|██████████| 12/12 [00:01<00:00,  7.14it/s]\n",
            "100%|██████████| 89/89 [00:29<00:00,  2.97it/s]\n",
            "100%|██████████| 12/12 [00:01<00:00,  6.95it/s]\n",
            "100%|██████████| 89/89 [00:29<00:00,  2.98it/s]\n",
            "100%|██████████| 12/12 [00:01<00:00,  7.05it/s]\n",
            "100%|██████████| 89/89 [00:29<00:00,  2.98it/s]\n",
            "100%|██████████| 12/12 [00:01<00:00,  7.13it/s]\n",
            "100%|██████████| 89/89 [00:29<00:00,  3.00it/s]\n",
            "100%|██████████| 12/12 [00:01<00:00,  7.14it/s]\n",
            "100%|██████████| 89/89 [00:30<00:00,  2.95it/s]\n",
            "100%|██████████| 12/12 [00:01<00:00,  7.11it/s]\n",
            "100%|██████████| 89/89 [00:29<00:00,  2.98it/s]\n",
            "100%|██████████| 12/12 [00:01<00:00,  7.10it/s]\n",
            "100%|██████████| 89/89 [00:30<00:00,  2.95it/s]\n",
            "100%|██████████| 12/12 [00:01<00:00,  7.02it/s]\n"
          ]
        },
        {
          "data": {
            "text/plain": [
              "<All keys matched successfully>"
            ]
          },
          "execution_count": 15,
          "metadata": {},
          "output_type": "execute_result"
        },
        {
          "name": "stderr",
          "output_type": "stream",
          "text": [
            "100%|██████████| 12/12 [00:01<00:00,  7.07it/s]\n",
            "100%|██████████| 1/1 [00:00<00:00, 38.24it/s]\n",
            "100%|██████████| 1/1 [00:00<00:00,  9.09it/s]\n"
          ]
        },
        {
          "data": {
            "text/plain": [
              "0"
            ]
          },
          "execution_count": 15,
          "metadata": {},
          "output_type": "execute_result"
        },
        {
          "name": "stdout",
          "output_type": "stream",
          "text": [
            "test predictions: 0.548\n",
            "test loss: 1.217\n",
            "test AUROC: 0.747\n",
            "test predictions 8: 0.572\n",
            "test loss 8: 1.402\n",
            "test AUROC 8: 0.554\n",
            "test predictions 45: 0.574\n",
            "test loss 45: 1.314\n",
            "test AUROC 45: 0.604\n",
            "Epoch: 0\n",
            "train loss: 1.198\n",
            "train AUROC: 0.708\n",
            "valid loss: 1.125\n",
            "valid AUROC: 0.740\n",
            "BEST VALID LOSS: 1.124985138575236\n",
            "BEST VALID AUROC: 0.74040242683058\n",
            "UPDATED BEST INTERMEDIATE MODEL\n",
            "Epoch: 1\n",
            "train loss: 1.111\n",
            "train AUROC: 0.749\n",
            "valid loss: 1.132\n",
            "valid AUROC: 0.748\n",
            "BEST VALID AUROC: 0.7479610901274707\n",
            "UPDATED BEST INTERMEDIATE MODEL\n",
            "Epoch: 2\n",
            "train loss: 1.110\n",
            "train AUROC: 0.748\n",
            "valid loss: 1.109\n",
            "valid AUROC: 0.750\n",
            "BEST VALID LOSS: 1.1093477408091228\n",
            "BEST VALID AUROC: 0.7502989149146735\n",
            "UPDATED BEST INTERMEDIATE MODEL\n",
            "Epoch: 3\n",
            "train loss: 1.094\n",
            "train AUROC: 0.756\n",
            "valid loss: 1.090\n",
            "valid AUROC: 0.754\n",
            "BEST VALID LOSS: 1.0902640124162037\n",
            "BEST VALID AUROC: 0.7543036064987887\n",
            "UPDATED BEST INTERMEDIATE MODEL\n",
            "Epoch: 4\n",
            "train loss: 1.081\n",
            "train AUROC: 0.765\n",
            "valid loss: 1.106\n",
            "valid AUROC: 0.753\n",
            "Epoch: 5\n",
            "train loss: 1.087\n",
            "train AUROC: 0.762\n",
            "valid loss: 1.090\n",
            "valid AUROC: 0.757\n",
            "BEST VALID LOSS: 1.0900093118349712\n",
            "BEST VALID AUROC: 0.7566192367468724\n",
            "UPDATED BEST INTERMEDIATE MODEL\n",
            "Epoch: 6\n",
            "train loss: 1.070\n",
            "train AUROC: 0.771\n",
            "valid loss: 1.108\n",
            "valid AUROC: 0.754\n",
            "Epoch: 7\n",
            "train loss: 1.084\n",
            "train AUROC: 0.762\n",
            "valid loss: 1.084\n",
            "valid AUROC: 0.761\n",
            "BEST VALID LOSS: 1.0836028357346852\n",
            "BEST VALID AUROC: 0.7613193572233834\n",
            "UPDATED BEST INTERMEDIATE MODEL\n",
            "Epoch: 8\n",
            "train loss: 1.067\n",
            "train AUROC: 0.774\n",
            "valid loss: 1.091\n",
            "valid AUROC: 0.762\n",
            "BEST VALID AUROC: 0.7624478641739734\n",
            "UPDATED BEST INTERMEDIATE MODEL\n",
            "Epoch: 9\n",
            "train loss: 1.072\n",
            "train AUROC: 0.769\n",
            "valid loss: 1.094\n",
            "valid AUROC: 0.762\n"
          ]
        },
        {
          "name": "stderr",
          "output_type": "stream",
          "text": [
            "/tmp/ipykernel_34140/1471330824.py:188: FutureWarning: The frame.append method is deprecated and will be removed from pandas in a future version. Use pandas.concat instead.\n",
            "  results_df = results_df.append(new_row, ignore_index=True)\n",
            "/tmp/ipykernel_34140/1471330824.py:231: FutureWarning: The frame.append method is deprecated and will be removed from pandas in a future version. Use pandas.concat instead.\n",
            "  results_df = results_df.append(new_row, ignore_index=True)\n",
            "/tmp/ipykernel_34140/1471330824.py:274: FutureWarning: The frame.append method is deprecated and will be removed from pandas in a future version. Use pandas.concat instead.\n",
            "  results_df = results_df.append(new_row, ignore_index=True)\n",
            "100%|██████████| 89/89 [00:29<00:00,  3.00it/s]\n",
            "100%|██████████| 12/12 [00:01<00:00,  7.14it/s]\n",
            "100%|██████████| 89/89 [00:29<00:00,  2.97it/s]\n",
            "100%|██████████| 12/12 [00:01<00:00,  7.08it/s]\n",
            "100%|██████████| 89/89 [00:29<00:00,  2.98it/s]\n",
            "100%|██████████| 12/12 [00:01<00:00,  7.05it/s]\n",
            "100%|██████████| 89/89 [00:30<00:00,  2.92it/s]\n",
            "100%|██████████| 12/12 [00:01<00:00,  7.02it/s]\n",
            "100%|██████████| 89/89 [00:29<00:00,  3.00it/s]\n",
            "100%|██████████| 12/12 [00:01<00:00,  6.96it/s]\n",
            "100%|██████████| 89/89 [00:29<00:00,  2.99it/s]\n",
            "100%|██████████| 12/12 [00:01<00:00,  7.15it/s]\n",
            "100%|██████████| 89/89 [00:29<00:00,  2.99it/s]\n",
            "100%|██████████| 12/12 [00:01<00:00,  7.05it/s]\n",
            "100%|██████████| 89/89 [00:29<00:00,  2.98it/s]\n",
            "100%|██████████| 12/12 [00:01<00:00,  7.14it/s]\n",
            "100%|██████████| 89/89 [00:29<00:00,  2.97it/s]\n",
            "100%|██████████| 12/12 [00:01<00:00,  7.01it/s]\n",
            "100%|██████████| 89/89 [00:29<00:00,  2.98it/s]\n",
            "100%|██████████| 12/12 [00:01<00:00,  7.09it/s]\n"
          ]
        },
        {
          "data": {
            "text/plain": [
              "<All keys matched successfully>"
            ]
          },
          "execution_count": 15,
          "metadata": {},
          "output_type": "execute_result"
        },
        {
          "name": "stderr",
          "output_type": "stream",
          "text": [
            "100%|██████████| 12/12 [00:01<00:00,  7.03it/s]\n",
            "100%|██████████| 1/1 [00:00<00:00, 44.93it/s]\n",
            "100%|██████████| 1/1 [00:00<00:00,  9.73it/s]\n"
          ]
        },
        {
          "data": {
            "text/plain": [
              "0"
            ]
          },
          "execution_count": 15,
          "metadata": {},
          "output_type": "execute_result"
        },
        {
          "name": "stdout",
          "output_type": "stream",
          "text": [
            "test predictions: 0.400\n",
            "test loss: 1.097\n",
            "test AUROC: 0.748\n",
            "test predictions 8: 0.238\n",
            "test loss 8: 1.148\n",
            "test AUROC 8: 0.768\n",
            "test predictions 45: 0.195\n",
            "test loss 45: 1.194\n",
            "test AUROC 45: 0.741\n"
          ]
        },
        {
          "name": "stderr",
          "output_type": "stream",
          "text": [
            "/tmp/ipykernel_34140/1471330824.py:188: FutureWarning: The frame.append method is deprecated and will be removed from pandas in a future version. Use pandas.concat instead.\n",
            "  results_df = results_df.append(new_row, ignore_index=True)\n",
            "/tmp/ipykernel_34140/1471330824.py:231: FutureWarning: The frame.append method is deprecated and will be removed from pandas in a future version. Use pandas.concat instead.\n",
            "  results_df = results_df.append(new_row, ignore_index=True)\n",
            "/tmp/ipykernel_34140/1471330824.py:274: FutureWarning: The frame.append method is deprecated and will be removed from pandas in a future version. Use pandas.concat instead.\n",
            "  results_df = results_df.append(new_row, ignore_index=True)\n"
          ]
        }
      ],
      "source": [
        "# Normal (not random) - all and rare\n",
        "\n",
        "# Run\n",
        "best_test_auroc = 0\n",
        "results_df = pd.DataFrame()\n",
        "for fold in range(10):\n",
        "    fold += 1\n",
        "    if fold < 10:\n",
        "        # Get train, validation and test sets\n",
        "        train_embeddings = feature_array[np.setdiff1d(train_index_dict[fold], test_index_dict[fold+1])]\n",
        "        val_embeddings = feature_array[test_index_dict[fold+1]]\n",
        "        test_embeddings = feature_array[test_index_dict[fold]]\n",
        "        test_embeddings_8 = feature_array[test_index_dict_8[fold]]\n",
        "        test_embeddings_45 = feature_array[test_index_dict_45[fold]]\n",
        "\n",
        "        train_labels = los_array[np.setdiff1d(train_index_dict[fold], test_index_dict[fold+1])]\n",
        "        val_labels = los_array[test_index_dict[fold+1]]\n",
        "        test_labels = los_array[test_index_dict[fold]]\n",
        "        test_labels_8 = los_array[test_index_dict_8[fold]]\n",
        "        test_labels_45 = los_array[test_index_dict_45[fold]]    \n",
        "\n",
        "        # Split masks\n",
        "        train_padding_mask = mask[np.setdiff1d(train_index_dict[fold], test_index_dict[fold+1])]\n",
        "        val_padding_mask = mask[test_index_dict[fold+1]]\n",
        "        test_padding_mask = mask[test_index_dict[fold]]\n",
        "        test_padding_mask_8 = mask[test_index_dict_8[fold]]\n",
        "        test_padding_mask_45 = mask[test_index_dict_45[fold]]\n",
        "\n",
        "    else: # Change here to fist cv split for final fold\n",
        "        # Get train, validation and test sets\n",
        "        train_embeddings = feature_array[np.setdiff1d(train_index_dict[fold], test_index_dict[1])]\n",
        "        val_embeddings = feature_array[test_index_dict[1]]\n",
        "        test_embeddings = feature_array[test_index_dict[fold]]\n",
        "        test_embeddings_8 = feature_array[test_index_dict_8[fold]]\n",
        "        test_embeddings_45 = feature_array[test_index_dict_45[fold]]\n",
        "\n",
        "        train_labels = los_array[np.setdiff1d(train_index_dict[fold], test_index_dict[1])]\n",
        "        val_labels = los_array[test_index_dict[1]]\n",
        "        test_labels = los_array[test_index_dict[fold]]\n",
        "        test_labels_8 = los_array[test_index_dict_8[fold]]\n",
        "        test_labels_45 = los_array[test_index_dict_45[fold]]\n",
        "\n",
        "        # Split masks\n",
        "        train_padding_mask = mask[np.setdiff1d(train_index_dict[fold], test_index_dict[1])]\n",
        "        val_padding_mask = mask[test_index_dict[1]]\n",
        "        test_padding_mask = mask[test_index_dict[fold]]\n",
        "        test_padding_mask_8 = mask[test_index_dict_8[fold]]\n",
        "        test_padding_mask_45 = mask[test_index_dict_45[fold]]\n",
        "    \n",
        "    # Create datasets\n",
        "    train_dataset = DiseaseDataset(train_embeddings.astype(np.float32), train_labels.astype(np.float32), train_padding_mask)\n",
        "    val_dataset = DiseaseDataset(val_embeddings.astype(np.float32), val_labels.astype(np.float32), val_padding_mask)\n",
        "    test_dataset = DiseaseDataset(test_embeddings.astype(np.float32), test_labels.astype(np.float32), test_padding_mask)\n",
        "    test_dataset_8 = DiseaseDataset(test_embeddings_8.astype(np.float32), test_labels_8.astype(np.float32), test_padding_mask_8)\n",
        "    test_dataset_45 = DiseaseDataset(test_embeddings_45.astype(np.float32), test_labels_45.astype(np.float32), test_padding_mask_45)\n",
        "\n",
        "    # Define batch size\n",
        "    batch_size = 512\n",
        "\n",
        "    # Create data loaders\n",
        "    train_loader = DataLoader(train_dataset, batch_size=batch_size, shuffle=True)\n",
        "    val_loader = DataLoader(val_dataset, batch_size=batch_size)\n",
        "    test_loader = DataLoader(test_dataset, batch_size=batch_size)\n",
        "    test_loader_8 = DataLoader(test_dataset_8, batch_size=batch_size)\n",
        "    test_loader_45 = DataLoader(test_dataset_45, batch_size=batch_size)\n",
        "\n",
        "    # Create weight for loss\n",
        "    unique, counts = np.unique(train_labels, return_counts=True)\n",
        "    pos_weight = torch.Tensor([(counts[0] / counts[1])])\n",
        "\n",
        "    # Define model\n",
        "    model = SetTransformer(dim_input=128, num_outputs=1, dim_output=1, num_inds=32, dim_hidden=160, num_heads=4, ln=False)\n",
        "\n",
        "    model = model.to(device)\n",
        "    criterion = nn.BCEWithLogitsLoss(pos_weight=pos_weight)\n",
        "    optimizer = optim.Adam(model.parameters(), lr=1e-4)\n",
        "\n",
        "    # Run\n",
        "    best_valid_loss = float('inf')\n",
        "    best_valid_auroc = 0\n",
        "    num_epochs = 10\n",
        "\n",
        "    for epoch in range(num_epochs):\n",
        "\n",
        "        start_time = time.time()\n",
        "\n",
        "        train_loss, train_auroc, train_predictions, train_labels_out, train_pma_final = train(model, train_loader, optimizer, criterion)\n",
        "        valid_loss, valid_auroc, valid_predictions, valid_labels_out, valid_pma_final = evaluate(model, val_loader, criterion)\n",
        "        \n",
        "        if epoch % 1 == 0:\n",
        "            print('Epoch:', epoch)\n",
        "            print(f'train loss: {train_loss:.3f}')\n",
        "            print(f'train AUROC: {train_auroc:.3f}')\n",
        "            print(f'valid loss: {valid_loss:.3f}')\n",
        "            print(f'valid AUROC: {valid_auroc:.3f}')\n",
        "        \n",
        "        end_time = time.time()\n",
        "\n",
        "        epoch_mins, epoch_secs = epoch_time(start_time, end_time)\n",
        "\n",
        "        if valid_loss < best_valid_loss:\n",
        "            best_valid_loss = valid_loss  \n",
        "            print('BEST VALID LOSS:', best_valid_loss)\n",
        "\n",
        "        if valid_auroc > best_valid_auroc:\n",
        "            best_valid_auroc = valid_auroc\n",
        "            print('BEST VALID AUROC:', best_valid_auroc)\n",
        "            print('UPDATED BEST INTERMEDIATE MODEL')\n",
        "            torch.save(model.state_dict(), f'intermediate_set_transformer_long_los.pt')\n",
        "\n",
        "    # -----------------------------\n",
        "    # Evaluate best model on test set\n",
        "    # -----------------------------\n",
        "\n",
        "    model.load_state_dict(torch.load(f'intermediate_set_transformer_long_los.pt'))\n",
        "\n",
        "    test_loss, test_auroc, test_predictions, test_labels_out, test_pma_final = evaluate(model, test_loader, criterion)\n",
        "    test_loss_8, test_auroc_8, test_predictions_8, test_labels_out_8, test_pma_final_8 = evaluate(model, test_loader_8, criterion)\n",
        "    test_loss_45, test_auroc_45, test_predictions_45, test_labels_out_45, test_pma_final_45 = evaluate(model, test_loader_45, criterion)\n",
        "\n",
        "    # del for memmory \n",
        "    del train_embeddings\n",
        "    del val_embeddings\n",
        "    del train_labels\n",
        "    del val_labels\n",
        "    del train_padding_mask\n",
        "    del val_padding_mask\n",
        "    del train_loader\n",
        "    del val_loader\n",
        "    del train_predictions\n",
        "    del train_labels_out\n",
        "    del train_pma_final\n",
        "    del valid_predictions\n",
        "    del valid_labels_out\n",
        "    del valid_pma_final\n",
        "    gc.collect()\n",
        "\n",
        "    print(f'test predictions: {test_predictions.mean().item():.3f}') \n",
        "    print(f'test loss: {test_loss:.3f}')\n",
        "    print(f'test AUROC: {test_auroc:.3f}')\n",
        "\n",
        "    print(f'test predictions 8: {test_predictions_8.mean().item():.3f}') \n",
        "    print(f'test loss 8: {test_loss_8:.3f}')\n",
        "    print(f'test AUROC 8: {test_auroc_8:.3f}')\n",
        "\n",
        "    print(f'test predictions 45: {test_predictions_45.mean().item():.3f}') \n",
        "    print(f'test loss 45: {test_loss_45:.3f}')\n",
        "    print(f'test AUROC 45: {test_auroc_45:.3f}')\n",
        "\n",
        "    if test_auroc > best_test_auroc:\n",
        "        best_test_auroc = test_auroc\n",
        "        print('BEST TEST AUROC:', best_test_auroc)\n",
        "        print('UPDATED BEST MODEL')\n",
        "        torch.save(model.state_dict(), f'set_transformer_random_long_los.pt')\n",
        "\n",
        "    # Get results\n",
        "    # AUC\n",
        "    aucroc = roc_auc_score(test_labels_out, test_predictions)\n",
        "    # Accuracy\n",
        "    accuracy = accuracy_score(test_labels_out, test_predictions.round())\n",
        "    # Precision\n",
        "    precision = precision_score(test_labels_out, test_predictions.round())\n",
        "    # Recall\n",
        "    recall = recall_score(test_labels_out, test_predictions.round())\n",
        "    # AUPRC\n",
        "    auprc = average_precision_score(test_labels_out, test_predictions)\n",
        "    # F1\n",
        "    f1 = f1_score(test_labels_out, test_predictions.round())\n",
        "    # TPR and FPR\n",
        "    cm = confusion_matrix(test_labels_out, test_predictions.round())\n",
        "    _tp = cm[0, 0]\n",
        "    _fn = cm[0, 1]\n",
        "    _fp = cm[1, 0]\n",
        "    _tn = cm[1, 1]\n",
        "    tpr = _tp / (_tp + _fn)\n",
        "    fpr = _fp / (_tn + _fp)\n",
        "\n",
        "    new_row = {'data': 'set', 'fold': fold, 'subset':'overall', 'AUROC': aucroc, 'accuracy': accuracy, 'precision': precision, 'recall': recall, 'F1': f1, 'AUPRC': auprc, 'TPR': tpr, 'FPR': fpr}\n",
        "    results_df = results_df.append(new_row, ignore_index=True)\n",
        "\n",
        "    # Get results - rare\n",
        "    # AUC\n",
        "    try:\n",
        "        aucroc = roc_auc_score(test_labels_out_8, test_predictions_8)\n",
        "    except:\n",
        "        aucroc = np.nan\n",
        "    # Accuracy\n",
        "    accuracy = accuracy_score(test_labels_out_8, test_predictions_8.round())\n",
        "    # Precision\n",
        "    precision = precision_score(test_labels_out_8, test_predictions_8.round())\n",
        "    # Recall\n",
        "    recall = recall_score(test_labels_out_8, test_predictions_8.round())\n",
        "    # AUPRC\n",
        "    try:\n",
        "        auprc = average_precision_score(test_labels_out_8, test_predictions_8)\n",
        "    except:\n",
        "        auprc = np.nan\n",
        "    # F1\n",
        "    f1 = f1_score(test_labels_out_8, test_predictions_8.round())\n",
        "    # TPR and FPR\n",
        "    cm = confusion_matrix(test_labels_out_8, test_predictions_8.round())\n",
        "    try:\n",
        "        _tp = cm[0, 0]\n",
        "    except:\n",
        "        _tp = np.nan\n",
        "    try:\n",
        "        _fn = cm[0, 1]\n",
        "    except:\n",
        "        _fn = np.nan\n",
        "    try:\n",
        "        _fp = cm[1, 0]\n",
        "    except:\n",
        "        _fp = np.nan\n",
        "    try:\n",
        "        _tn = cm[1, 1]\n",
        "    except:\n",
        "        _tn = np.nan\n",
        "    tpr = _tp / (_tp + _fn)\n",
        "    fpr = _fp / (_tn + _fp)\n",
        "\n",
        "    new_row = {'data': 'set', 'fold': fold, 'subset': 8, 'AUROC': aucroc, 'accuracy': accuracy, 'precision': precision, 'recall': recall, 'F1': f1, 'AUPRC': auprc, 'TPR': tpr, 'FPR': fpr}\n",
        "    results_df = results_df.append(new_row, ignore_index=True)\n",
        "\n",
        "    # Get results\n",
        "    # AUC\n",
        "    try:\n",
        "        aucroc = roc_auc_score(test_labels_out_45, test_predictions_45)\n",
        "    except:\n",
        "        aucroc = np.nan\n",
        "    # Accuracy\n",
        "    accuracy = accuracy_score(test_labels_out_45, test_predictions_45.round())\n",
        "    # Precision\n",
        "    precision = precision_score(test_labels_out_45, test_predictions_45.round())\n",
        "    # Recall\n",
        "    recall = recall_score(test_labels_out_45, test_predictions_45.round())\n",
        "    # AUPRC\n",
        "    try:\n",
        "        auprc = average_precision_score(test_labels_out_45, test_predictions_45)\n",
        "    except:\n",
        "        auprc = np.nan\n",
        "    # F1\n",
        "    f1 = f1_score(test_labels_out_45, test_predictions_45.round())\n",
        "    # TPR and FPR\n",
        "    cm = confusion_matrix(test_labels_out_45, test_predictions_45.round())\n",
        "    try:\n",
        "        _tp = cm[0, 0]\n",
        "    except:\n",
        "        _tp = np.nan\n",
        "    try:\n",
        "        _fn = cm[0, 1]\n",
        "    except:\n",
        "        _fn = np.nan\n",
        "    try:\n",
        "        _fp = cm[1, 0]\n",
        "    except:\n",
        "        _fp = np.nan\n",
        "    try:\n",
        "        _tn = cm[1, 1]\n",
        "    except:\n",
        "        _tn = np.nan\n",
        "    tpr = _tp / (_tp + _fn)\n",
        "    fpr = _fp / (_tn + _fp)\n",
        "\n",
        "    new_row = {'data': 'set', 'fold': fold, 'subset': 45, 'AUROC': aucroc, 'accuracy': accuracy, 'precision': precision, 'recall': recall, 'F1': f1, 'AUPRC': auprc, 'TPR': tpr, 'FPR': fpr}\n",
        "    results_df = results_df.append(new_row, ignore_index=True)\n"
      ]
    },
    {
      "cell_type": "code",
      "execution_count": 16,
      "metadata": {
        "gather": {
          "logged": 1699831847051
        },
        "jupyter": {
          "outputs_hidden": false,
          "source_hidden": false
        },
        "nteract": {
          "transient": {
            "deleting": false
          }
        }
      },
      "outputs": [
        {
          "data": {
            "text/html": [
              "<div>\n",
              "<style scoped>\n",
              "    .dataframe tbody tr th:only-of-type {\n",
              "        vertical-align: middle;\n",
              "    }\n",
              "\n",
              "    .dataframe tbody tr th {\n",
              "        vertical-align: top;\n",
              "    }\n",
              "\n",
              "    .dataframe thead th {\n",
              "        text-align: right;\n",
              "    }\n",
              "</style>\n",
              "<table border=\"1\" class=\"dataframe\">\n",
              "  <thead>\n",
              "    <tr style=\"text-align: right;\">\n",
              "      <th></th>\n",
              "      <th>data</th>\n",
              "      <th>fold</th>\n",
              "      <th>subset</th>\n",
              "      <th>AUROC</th>\n",
              "      <th>accuracy</th>\n",
              "      <th>precision</th>\n",
              "      <th>recall</th>\n",
              "      <th>F1</th>\n",
              "      <th>AUPRC</th>\n",
              "      <th>TPR</th>\n",
              "      <th>FPR</th>\n",
              "    </tr>\n",
              "  </thead>\n",
              "  <tbody>\n",
              "    <tr>\n",
              "      <th>0</th>\n",
              "      <td>set</td>\n",
              "      <td>1</td>\n",
              "      <td>overall</td>\n",
              "      <td>0.747882</td>\n",
              "      <td>0.799295</td>\n",
              "      <td>0.130594</td>\n",
              "      <td>0.434650</td>\n",
              "      <td>0.200843</td>\n",
              "      <td>0.150022</td>\n",
              "      <td>0.821756</td>\n",
              "      <td>0.565350</td>\n",
              "    </tr>\n",
              "    <tr>\n",
              "      <th>1</th>\n",
              "      <td>set</td>\n",
              "      <td>1</td>\n",
              "      <td>8</td>\n",
              "      <td>0.476526</td>\n",
              "      <td>0.864865</td>\n",
              "      <td>0.000000</td>\n",
              "      <td>0.000000</td>\n",
              "      <td>0.000000</td>\n",
              "      <td>0.057520</td>\n",
              "      <td>0.901408</td>\n",
              "      <td>1.000000</td>\n",
              "    </tr>\n",
              "    <tr>\n",
              "      <th>2</th>\n",
              "      <td>set</td>\n",
              "      <td>1</td>\n",
              "      <td>45</td>\n",
              "      <td>0.551880</td>\n",
              "      <td>0.931298</td>\n",
              "      <td>0.000000</td>\n",
              "      <td>0.000000</td>\n",
              "      <td>0.000000</td>\n",
              "      <td>0.035175</td>\n",
              "      <td>0.958115</td>\n",
              "      <td>1.000000</td>\n",
              "    </tr>\n",
              "    <tr>\n",
              "      <th>3</th>\n",
              "      <td>set</td>\n",
              "      <td>2</td>\n",
              "      <td>overall</td>\n",
              "      <td>0.757391</td>\n",
              "      <td>0.553263</td>\n",
              "      <td>0.100725</td>\n",
              "      <td>0.844985</td>\n",
              "      <td>0.179994</td>\n",
              "      <td>0.175319</td>\n",
              "      <td>0.535293</td>\n",
              "      <td>0.155015</td>\n",
              "    </tr>\n",
              "    <tr>\n",
              "      <th>4</th>\n",
              "      <td>set</td>\n",
              "      <td>2</td>\n",
              "      <td>8</td>\n",
              "      <td>0.919048</td>\n",
              "      <td>0.479452</td>\n",
              "      <td>0.073171</td>\n",
              "      <td>1.000000</td>\n",
              "      <td>0.136364</td>\n",
              "      <td>0.344444</td>\n",
              "      <td>0.457143</td>\n",
              "      <td>0.000000</td>\n",
              "    </tr>\n",
              "    <tr>\n",
              "      <th>5</th>\n",
              "      <td>set</td>\n",
              "      <td>2</td>\n",
              "      <td>45</td>\n",
              "      <td>0.633656</td>\n",
              "      <td>0.487310</td>\n",
              "      <td>0.043478</td>\n",
              "      <td>0.692308</td>\n",
              "      <td>0.081818</td>\n",
              "      <td>0.067011</td>\n",
              "      <td>0.480315</td>\n",
              "      <td>0.307692</td>\n",
              "    </tr>\n",
              "    <tr>\n",
              "      <th>6</th>\n",
              "      <td>set</td>\n",
              "      <td>3</td>\n",
              "      <td>overall</td>\n",
              "      <td>0.761086</td>\n",
              "      <td>0.717637</td>\n",
              "      <td>0.126396</td>\n",
              "      <td>0.651515</td>\n",
              "      <td>0.211718</td>\n",
              "      <td>0.158006</td>\n",
              "      <td>0.721723</td>\n",
              "      <td>0.348485</td>\n",
              "    </tr>\n",
              "    <tr>\n",
              "      <th>7</th>\n",
              "      <td>set</td>\n",
              "      <td>3</td>\n",
              "      <td>8</td>\n",
              "      <td>0.301136</td>\n",
              "      <td>0.728571</td>\n",
              "      <td>0.000000</td>\n",
              "      <td>0.000000</td>\n",
              "      <td>0.000000</td>\n",
              "      <td>0.049177</td>\n",
              "      <td>0.772727</td>\n",
              "      <td>1.000000</td>\n",
              "    </tr>\n",
              "    <tr>\n",
              "      <th>8</th>\n",
              "      <td>set</td>\n",
              "      <td>3</td>\n",
              "      <td>45</td>\n",
              "      <td>0.668624</td>\n",
              "      <td>0.779553</td>\n",
              "      <td>0.136364</td>\n",
              "      <td>0.428571</td>\n",
              "      <td>0.206897</td>\n",
              "      <td>0.158546</td>\n",
              "      <td>0.804795</td>\n",
              "      <td>0.571429</td>\n",
              "    </tr>\n",
              "    <tr>\n",
              "      <th>9</th>\n",
              "      <td>set</td>\n",
              "      <td>4</td>\n",
              "      <td>overall</td>\n",
              "      <td>0.720488</td>\n",
              "      <td>0.424515</td>\n",
              "      <td>0.080880</td>\n",
              "      <td>0.857576</td>\n",
              "      <td>0.147819</td>\n",
              "      <td>0.154420</td>\n",
              "      <td>0.397753</td>\n",
              "      <td>0.142424</td>\n",
              "    </tr>\n",
              "    <tr>\n",
              "      <th>10</th>\n",
              "      <td>set</td>\n",
              "      <td>4</td>\n",
              "      <td>8</td>\n",
              "      <td>0.463675</td>\n",
              "      <td>0.172840</td>\n",
              "      <td>0.029412</td>\n",
              "      <td>0.666667</td>\n",
              "      <td>0.056338</td>\n",
              "      <td>0.049142</td>\n",
              "      <td>0.153846</td>\n",
              "      <td>0.333333</td>\n",
              "    </tr>\n",
              "    <tr>\n",
              "      <th>11</th>\n",
              "      <td>set</td>\n",
              "      <td>4</td>\n",
              "      <td>45</td>\n",
              "      <td>0.597689</td>\n",
              "      <td>0.205962</td>\n",
              "      <td>0.036304</td>\n",
              "      <td>0.916667</td>\n",
              "      <td>0.069841</td>\n",
              "      <td>0.051490</td>\n",
              "      <td>0.182073</td>\n",
              "      <td>0.083333</td>\n",
              "    </tr>\n",
              "    <tr>\n",
              "      <th>12</th>\n",
              "      <td>set</td>\n",
              "      <td>5</td>\n",
              "      <td>overall</td>\n",
              "      <td>0.749033</td>\n",
              "      <td>0.494004</td>\n",
              "      <td>0.090616</td>\n",
              "      <td>0.851515</td>\n",
              "      <td>0.163801</td>\n",
              "      <td>0.155817</td>\n",
              "      <td>0.471910</td>\n",
              "      <td>0.148485</td>\n",
              "    </tr>\n",
              "    <tr>\n",
              "      <th>13</th>\n",
              "      <td>set</td>\n",
              "      <td>5</td>\n",
              "      <td>8</td>\n",
              "      <td>0.831276</td>\n",
              "      <td>0.416667</td>\n",
              "      <td>0.057692</td>\n",
              "      <td>1.000000</td>\n",
              "      <td>0.109091</td>\n",
              "      <td>0.261905</td>\n",
              "      <td>0.395062</td>\n",
              "      <td>0.000000</td>\n",
              "    </tr>\n",
              "    <tr>\n",
              "      <th>14</th>\n",
              "      <td>set</td>\n",
              "      <td>5</td>\n",
              "      <td>45</td>\n",
              "      <td>0.708534</td>\n",
              "      <td>0.459530</td>\n",
              "      <td>0.056075</td>\n",
              "      <td>0.705882</td>\n",
              "      <td>0.103896</td>\n",
              "      <td>0.243399</td>\n",
              "      <td>0.448087</td>\n",
              "      <td>0.294118</td>\n",
              "    </tr>\n",
              "    <tr>\n",
              "      <th>15</th>\n",
              "      <td>set</td>\n",
              "      <td>6</td>\n",
              "      <td>overall</td>\n",
              "      <td>0.766235</td>\n",
              "      <td>0.584406</td>\n",
              "      <td>0.105181</td>\n",
              "      <td>0.820669</td>\n",
              "      <td>0.186464</td>\n",
              "      <td>0.160553</td>\n",
              "      <td>0.569850</td>\n",
              "      <td>0.179331</td>\n",
              "    </tr>\n",
              "    <tr>\n",
              "      <th>16</th>\n",
              "      <td>set</td>\n",
              "      <td>6</td>\n",
              "      <td>8</td>\n",
              "      <td>0.469136</td>\n",
              "      <td>0.524390</td>\n",
              "      <td>0.000000</td>\n",
              "      <td>0.000000</td>\n",
              "      <td>0.000000</td>\n",
              "      <td>0.022727</td>\n",
              "      <td>0.530864</td>\n",
              "      <td>1.000000</td>\n",
              "    </tr>\n",
              "    <tr>\n",
              "      <th>17</th>\n",
              "      <td>set</td>\n",
              "      <td>6</td>\n",
              "      <td>45</td>\n",
              "      <td>0.553073</td>\n",
              "      <td>0.557065</td>\n",
              "      <td>0.030675</td>\n",
              "      <td>0.500000</td>\n",
              "      <td>0.057803</td>\n",
              "      <td>0.134716</td>\n",
              "      <td>0.558659</td>\n",
              "      <td>0.500000</td>\n",
              "    </tr>\n",
              "    <tr>\n",
              "      <th>18</th>\n",
              "      <td>set</td>\n",
              "      <td>7</td>\n",
              "      <td>overall</td>\n",
              "      <td>0.757610</td>\n",
              "      <td>0.704181</td>\n",
              "      <td>0.119639</td>\n",
              "      <td>0.644377</td>\n",
              "      <td>0.201809</td>\n",
              "      <td>0.162294</td>\n",
              "      <td>0.707865</td>\n",
              "      <td>0.355623</td>\n",
              "    </tr>\n",
              "    <tr>\n",
              "      <th>19</th>\n",
              "      <td>set</td>\n",
              "      <td>7</td>\n",
              "      <td>8</td>\n",
              "      <td>0.764706</td>\n",
              "      <td>0.774648</td>\n",
              "      <td>0.066667</td>\n",
              "      <td>0.333333</td>\n",
              "      <td>0.111111</td>\n",
              "      <td>0.230159</td>\n",
              "      <td>0.794118</td>\n",
              "      <td>0.666667</td>\n",
              "    </tr>\n",
              "    <tr>\n",
              "      <th>20</th>\n",
              "      <td>set</td>\n",
              "      <td>7</td>\n",
              "      <td>45</td>\n",
              "      <td>0.543639</td>\n",
              "      <td>0.784257</td>\n",
              "      <td>0.031250</td>\n",
              "      <td>0.142857</td>\n",
              "      <td>0.051282</td>\n",
              "      <td>0.051433</td>\n",
              "      <td>0.811550</td>\n",
              "      <td>0.857143</td>\n",
              "    </tr>\n",
              "    <tr>\n",
              "      <th>21</th>\n",
              "      <td>set</td>\n",
              "      <td>8</td>\n",
              "      <td>overall</td>\n",
              "      <td>0.774033</td>\n",
              "      <td>0.489857</td>\n",
              "      <td>0.094847</td>\n",
              "      <td>0.911854</td>\n",
              "      <td>0.171821</td>\n",
              "      <td>0.156042</td>\n",
              "      <td>0.463858</td>\n",
              "      <td>0.088146</td>\n",
              "    </tr>\n",
              "    <tr>\n",
              "      <th>22</th>\n",
              "      <td>set</td>\n",
              "      <td>8</td>\n",
              "      <td>8</td>\n",
              "      <td>0.577778</td>\n",
              "      <td>0.380435</td>\n",
              "      <td>0.033898</td>\n",
              "      <td>1.000000</td>\n",
              "      <td>0.065574</td>\n",
              "      <td>0.036891</td>\n",
              "      <td>0.366667</td>\n",
              "      <td>0.000000</td>\n",
              "    </tr>\n",
              "    <tr>\n",
              "      <th>23</th>\n",
              "      <td>set</td>\n",
              "      <td>8</td>\n",
              "      <td>45</td>\n",
              "      <td>0.556610</td>\n",
              "      <td>0.431472</td>\n",
              "      <td>0.034934</td>\n",
              "      <td>0.727273</td>\n",
              "      <td>0.066667</td>\n",
              "      <td>0.033096</td>\n",
              "      <td>0.422977</td>\n",
              "      <td>0.272727</td>\n",
              "    </tr>\n",
              "    <tr>\n",
              "      <th>24</th>\n",
              "      <td>set</td>\n",
              "      <td>9</td>\n",
              "      <td>overall</td>\n",
              "      <td>0.746641</td>\n",
              "      <td>0.445581</td>\n",
              "      <td>0.088115</td>\n",
              "      <td>0.914894</td>\n",
              "      <td>0.160748</td>\n",
              "      <td>0.139974</td>\n",
              "      <td>0.416667</td>\n",
              "      <td>0.085106</td>\n",
              "    </tr>\n",
              "    <tr>\n",
              "      <th>25</th>\n",
              "      <td>set</td>\n",
              "      <td>9</td>\n",
              "      <td>8</td>\n",
              "      <td>0.554430</td>\n",
              "      <td>0.321429</td>\n",
              "      <td>0.066667</td>\n",
              "      <td>0.800000</td>\n",
              "      <td>0.123077</td>\n",
              "      <td>0.100418</td>\n",
              "      <td>0.291139</td>\n",
              "      <td>0.200000</td>\n",
              "    </tr>\n",
              "    <tr>\n",
              "      <th>26</th>\n",
              "      <td>set</td>\n",
              "      <td>9</td>\n",
              "      <td>45</td>\n",
              "      <td>0.604253</td>\n",
              "      <td>0.335092</td>\n",
              "      <td>0.049618</td>\n",
              "      <td>0.812500</td>\n",
              "      <td>0.093525</td>\n",
              "      <td>0.062691</td>\n",
              "      <td>0.314050</td>\n",
              "      <td>0.187500</td>\n",
              "    </tr>\n",
              "    <tr>\n",
              "      <th>27</th>\n",
              "      <td>set</td>\n",
              "      <td>10</td>\n",
              "      <td>overall</td>\n",
              "      <td>0.748128</td>\n",
              "      <td>0.609102</td>\n",
              "      <td>0.104070</td>\n",
              "      <td>0.753799</td>\n",
              "      <td>0.182891</td>\n",
              "      <td>0.142300</td>\n",
              "      <td>0.600187</td>\n",
              "      <td>0.246201</td>\n",
              "    </tr>\n",
              "    <tr>\n",
              "      <th>28</th>\n",
              "      <td>set</td>\n",
              "      <td>10</td>\n",
              "      <td>8</td>\n",
              "      <td>0.768382</td>\n",
              "      <td>0.875000</td>\n",
              "      <td>0.222222</td>\n",
              "      <td>0.500000</td>\n",
              "      <td>0.307692</td>\n",
              "      <td>0.470139</td>\n",
              "      <td>0.897059</td>\n",
              "      <td>0.500000</td>\n",
              "    </tr>\n",
              "    <tr>\n",
              "      <th>29</th>\n",
              "      <td>set</td>\n",
              "      <td>10</td>\n",
              "      <td>45</td>\n",
              "      <td>0.740728</td>\n",
              "      <td>0.882682</td>\n",
              "      <td>0.142857</td>\n",
              "      <td>0.294118</td>\n",
              "      <td>0.192308</td>\n",
              "      <td>0.279695</td>\n",
              "      <td>0.912023</td>\n",
              "      <td>0.705882</td>\n",
              "    </tr>\n",
              "  </tbody>\n",
              "</table>\n",
              "</div>"
            ],
            "text/plain": [
              "   data  fold   subset     AUROC  accuracy  precision    recall        F1     AUPRC       TPR       FPR\n",
              "0   set     1  overall  0.747882  0.799295   0.130594  0.434650  0.200843  0.150022  0.821756  0.565350\n",
              "1   set     1        8  0.476526  0.864865   0.000000  0.000000  0.000000  0.057520  0.901408  1.000000\n",
              "2   set     1       45  0.551880  0.931298   0.000000  0.000000  0.000000  0.035175  0.958115  1.000000\n",
              "3   set     2  overall  0.757391  0.553263   0.100725  0.844985  0.179994  0.175319  0.535293  0.155015\n",
              "4   set     2        8  0.919048  0.479452   0.073171  1.000000  0.136364  0.344444  0.457143  0.000000\n",
              "5   set     2       45  0.633656  0.487310   0.043478  0.692308  0.081818  0.067011  0.480315  0.307692\n",
              "6   set     3  overall  0.761086  0.717637   0.126396  0.651515  0.211718  0.158006  0.721723  0.348485\n",
              "7   set     3        8  0.301136  0.728571   0.000000  0.000000  0.000000  0.049177  0.772727  1.000000\n",
              "8   set     3       45  0.668624  0.779553   0.136364  0.428571  0.206897  0.158546  0.804795  0.571429\n",
              "9   set     4  overall  0.720488  0.424515   0.080880  0.857576  0.147819  0.154420  0.397753  0.142424\n",
              "10  set     4        8  0.463675  0.172840   0.029412  0.666667  0.056338  0.049142  0.153846  0.333333\n",
              "11  set     4       45  0.597689  0.205962   0.036304  0.916667  0.069841  0.051490  0.182073  0.083333\n",
              "12  set     5  overall  0.749033  0.494004   0.090616  0.851515  0.163801  0.155817  0.471910  0.148485\n",
              "13  set     5        8  0.831276  0.416667   0.057692  1.000000  0.109091  0.261905  0.395062  0.000000\n",
              "14  set     5       45  0.708534  0.459530   0.056075  0.705882  0.103896  0.243399  0.448087  0.294118\n",
              "15  set     6  overall  0.766235  0.584406   0.105181  0.820669  0.186464  0.160553  0.569850  0.179331\n",
              "16  set     6        8  0.469136  0.524390   0.000000  0.000000  0.000000  0.022727  0.530864  1.000000\n",
              "17  set     6       45  0.553073  0.557065   0.030675  0.500000  0.057803  0.134716  0.558659  0.500000\n",
              "18  set     7  overall  0.757610  0.704181   0.119639  0.644377  0.201809  0.162294  0.707865  0.355623\n",
              "19  set     7        8  0.764706  0.774648   0.066667  0.333333  0.111111  0.230159  0.794118  0.666667\n",
              "20  set     7       45  0.543639  0.784257   0.031250  0.142857  0.051282  0.051433  0.811550  0.857143\n",
              "21  set     8  overall  0.774033  0.489857   0.094847  0.911854  0.171821  0.156042  0.463858  0.088146\n",
              "22  set     8        8  0.577778  0.380435   0.033898  1.000000  0.065574  0.036891  0.366667  0.000000\n",
              "23  set     8       45  0.556610  0.431472   0.034934  0.727273  0.066667  0.033096  0.422977  0.272727\n",
              "24  set     9  overall  0.746641  0.445581   0.088115  0.914894  0.160748  0.139974  0.416667  0.085106\n",
              "25  set     9        8  0.554430  0.321429   0.066667  0.800000  0.123077  0.100418  0.291139  0.200000\n",
              "26  set     9       45  0.604253  0.335092   0.049618  0.812500  0.093525  0.062691  0.314050  0.187500\n",
              "27  set    10  overall  0.748128  0.609102   0.104070  0.753799  0.182891  0.142300  0.600187  0.246201\n",
              "28  set    10        8  0.768382  0.875000   0.222222  0.500000  0.307692  0.470139  0.897059  0.500000\n",
              "29  set    10       45  0.740728  0.882682   0.142857  0.294118  0.192308  0.279695  0.912023  0.705882"
            ]
          },
          "execution_count": 16,
          "metadata": {},
          "output_type": "execute_result"
        }
      ],
      "source": [
        "results_df"
      ]
    },
    {
      "cell_type": "code",
      "execution_count": 17,
      "metadata": {
        "gather": {
          "logged": 1699831847597
        },
        "jupyter": {
          "outputs_hidden": false,
          "source_hidden": false
        },
        "nteract": {
          "transient": {
            "deleting": false
          }
        }
      },
      "outputs": [
        {
          "data": {
            "text/html": [
              "<div>\n",
              "<style scoped>\n",
              "    .dataframe tbody tr th:only-of-type {\n",
              "        vertical-align: middle;\n",
              "    }\n",
              "\n",
              "    .dataframe tbody tr th {\n",
              "        vertical-align: top;\n",
              "    }\n",
              "\n",
              "    .dataframe thead th {\n",
              "        text-align: right;\n",
              "    }\n",
              "</style>\n",
              "<table border=\"1\" class=\"dataframe\">\n",
              "  <thead>\n",
              "    <tr style=\"text-align: right;\">\n",
              "      <th></th>\n",
              "      <th></th>\n",
              "      <th>fold</th>\n",
              "      <th>AUROC</th>\n",
              "      <th>accuracy</th>\n",
              "      <th>precision</th>\n",
              "      <th>recall</th>\n",
              "      <th>F1</th>\n",
              "      <th>AUPRC</th>\n",
              "      <th>TPR</th>\n",
              "      <th>FPR</th>\n",
              "    </tr>\n",
              "    <tr>\n",
              "      <th>data</th>\n",
              "      <th>subset</th>\n",
              "      <th></th>\n",
              "      <th></th>\n",
              "      <th></th>\n",
              "      <th></th>\n",
              "      <th></th>\n",
              "      <th></th>\n",
              "      <th></th>\n",
              "      <th></th>\n",
              "      <th></th>\n",
              "    </tr>\n",
              "  </thead>\n",
              "  <tbody>\n",
              "    <tr>\n",
              "      <th rowspan=\"3\" valign=\"top\">set</th>\n",
              "      <th>8</th>\n",
              "      <td>5.5</td>\n",
              "      <td>0.612609</td>\n",
              "      <td>0.553830</td>\n",
              "      <td>0.054973</td>\n",
              "      <td>0.530000</td>\n",
              "      <td>0.090925</td>\n",
              "      <td>0.162252</td>\n",
              "      <td>0.556003</td>\n",
              "      <td>0.470000</td>\n",
              "    </tr>\n",
              "    <tr>\n",
              "      <th>45</th>\n",
              "      <td>5.5</td>\n",
              "      <td>0.615869</td>\n",
              "      <td>0.585422</td>\n",
              "      <td>0.056156</td>\n",
              "      <td>0.522018</td>\n",
              "      <td>0.092404</td>\n",
              "      <td>0.111725</td>\n",
              "      <td>0.589264</td>\n",
              "      <td>0.477982</td>\n",
              "    </tr>\n",
              "    <tr>\n",
              "      <th>overall</th>\n",
              "      <td>5.5</td>\n",
              "      <td>0.752853</td>\n",
              "      <td>0.582184</td>\n",
              "      <td>0.104106</td>\n",
              "      <td>0.768583</td>\n",
              "      <td>0.180791</td>\n",
              "      <td>0.155475</td>\n",
              "      <td>0.570686</td>\n",
              "      <td>0.231417</td>\n",
              "    </tr>\n",
              "  </tbody>\n",
              "</table>\n",
              "</div>"
            ],
            "text/plain": [
              "              fold     AUROC  accuracy  precision    recall        F1     AUPRC       TPR       FPR\n",
              "data subset                                                                                        \n",
              "set  8         5.5  0.612609  0.553830   0.054973  0.530000  0.090925  0.162252  0.556003  0.470000\n",
              "     45        5.5  0.615869  0.585422   0.056156  0.522018  0.092404  0.111725  0.589264  0.477982\n",
              "     overall   5.5  0.752853  0.582184   0.104106  0.768583  0.180791  0.155475  0.570686  0.231417"
            ]
          },
          "execution_count": 17,
          "metadata": {},
          "output_type": "execute_result"
        },
        {
          "data": {
            "text/html": [
              "<div>\n",
              "<style scoped>\n",
              "    .dataframe tbody tr th:only-of-type {\n",
              "        vertical-align: middle;\n",
              "    }\n",
              "\n",
              "    .dataframe tbody tr th {\n",
              "        vertical-align: top;\n",
              "    }\n",
              "\n",
              "    .dataframe thead th {\n",
              "        text-align: right;\n",
              "    }\n",
              "</style>\n",
              "<table border=\"1\" class=\"dataframe\">\n",
              "  <thead>\n",
              "    <tr style=\"text-align: right;\">\n",
              "      <th></th>\n",
              "      <th></th>\n",
              "      <th>fold</th>\n",
              "      <th>AUROC</th>\n",
              "      <th>accuracy</th>\n",
              "      <th>precision</th>\n",
              "      <th>recall</th>\n",
              "      <th>F1</th>\n",
              "      <th>AUPRC</th>\n",
              "      <th>TPR</th>\n",
              "      <th>FPR</th>\n",
              "    </tr>\n",
              "    <tr>\n",
              "      <th>data</th>\n",
              "      <th>subset</th>\n",
              "      <th></th>\n",
              "      <th></th>\n",
              "      <th></th>\n",
              "      <th></th>\n",
              "      <th></th>\n",
              "      <th></th>\n",
              "      <th></th>\n",
              "      <th></th>\n",
              "      <th></th>\n",
              "    </tr>\n",
              "  </thead>\n",
              "  <tbody>\n",
              "    <tr>\n",
              "      <th rowspan=\"3\" valign=\"top\">set</th>\n",
              "      <th>8</th>\n",
              "      <td>3.02765</td>\n",
              "      <td>0.197770</td>\n",
              "      <td>0.243500</td>\n",
              "      <td>0.065615</td>\n",
              "      <td>0.426426</td>\n",
              "      <td>0.092775</td>\n",
              "      <td>0.155665</td>\n",
              "      <td>0.267360</td>\n",
              "      <td>0.426426</td>\n",
              "    </tr>\n",
              "    <tr>\n",
              "      <th>45</th>\n",
              "      <td>3.02765</td>\n",
              "      <td>0.070323</td>\n",
              "      <td>0.245368</td>\n",
              "      <td>0.046454</td>\n",
              "      <td>0.302303</td>\n",
              "      <td>0.063187</td>\n",
              "      <td>0.089432</td>\n",
              "      <td>0.266255</td>\n",
              "      <td>0.302303</td>\n",
              "    </tr>\n",
              "    <tr>\n",
              "      <th>overall</th>\n",
              "      <td>3.02765</td>\n",
              "      <td>0.014478</td>\n",
              "      <td>0.125501</td>\n",
              "      <td>0.016717</td>\n",
              "      <td>0.151343</td>\n",
              "      <td>0.020264</td>\n",
              "      <td>0.010098</td>\n",
              "      <td>0.142043</td>\n",
              "      <td>0.151343</td>\n",
              "    </tr>\n",
              "  </tbody>\n",
              "</table>\n",
              "</div>"
            ],
            "text/plain": [
              "                 fold     AUROC  accuracy  precision    recall        F1     AUPRC       TPR       FPR\n",
              "data subset                                                                                           \n",
              "set  8        3.02765  0.197770  0.243500   0.065615  0.426426  0.092775  0.155665  0.267360  0.426426\n",
              "     45       3.02765  0.070323  0.245368   0.046454  0.302303  0.063187  0.089432  0.266255  0.302303\n",
              "     overall  3.02765  0.014478  0.125501   0.016717  0.151343  0.020264  0.010098  0.142043  0.151343"
            ]
          },
          "execution_count": 17,
          "metadata": {},
          "output_type": "execute_result"
        }
      ],
      "source": [
        "results_df.groupby(['data', 'subset']).mean()\n",
        "results_df.groupby(['data', 'subset']).std()"
      ]
    },
    {
      "cell_type": "code",
      "execution_count": 20,
      "metadata": {
        "gather": {
          "logged": 1699828115788
        },
        "jupyter": {
          "outputs_hidden": false,
          "source_hidden": false
        },
        "nteract": {
          "transient": {
            "deleting": false
          }
        }
      },
      "outputs": [
        {
          "name": "stderr",
          "output_type": "stream",
          "text": [
            "100%|██████████| 89/89 [00:30<00:00,  2.93it/s]\n",
            "100%|██████████| 12/12 [00:01<00:00,  7.10it/s]\n",
            "100%|██████████| 89/89 [00:29<00:00,  2.97it/s]\n",
            "100%|██████████| 12/12 [00:01<00:00,  7.16it/s]\n",
            "100%|██████████| 89/89 [00:30<00:00,  2.91it/s]\n",
            "100%|██████████| 12/12 [00:01<00:00,  6.89it/s]\n",
            "100%|██████████| 89/89 [00:30<00:00,  2.94it/s]\n",
            "100%|██████████| 12/12 [00:01<00:00,  6.95it/s]\n",
            "100%|██████████| 89/89 [00:31<00:00,  2.85it/s]\n",
            "100%|██████████| 12/12 [00:01<00:00,  7.04it/s]\n",
            "100%|██████████| 89/89 [00:30<00:00,  2.95it/s]\n",
            "100%|██████████| 12/12 [00:01<00:00,  6.92it/s]\n",
            "100%|██████████| 89/89 [00:30<00:00,  2.96it/s]\n",
            "100%|██████████| 12/12 [00:01<00:00,  7.04it/s]\n",
            "100%|██████████| 89/89 [00:29<00:00,  2.98it/s]\n",
            "100%|██████████| 12/12 [00:01<00:00,  7.07it/s]\n",
            "100%|██████████| 89/89 [00:29<00:00,  2.97it/s]\n",
            "100%|██████████| 12/12 [00:01<00:00,  7.12it/s]\n",
            "100%|██████████| 89/89 [00:30<00:00,  2.97it/s]\n",
            "100%|██████████| 12/12 [00:01<00:00,  7.13it/s]\n"
          ]
        },
        {
          "name": "stdout",
          "output_type": "stream",
          "text": [
            "Epoch: 0\n",
            "train loss: 1.211\n",
            "train AUROC: 0.669\n",
            "valid loss: 1.200\n",
            "valid AUROC: 0.719\n",
            "BEST VALID LOSS: 1.2002125680446625\n",
            "BEST VALID AUROC: 0.7188088475400198\n",
            "UPDATED BEST INTERMEDIATE MODEL\n",
            "Epoch: 1\n",
            "train loss: 1.171\n",
            "train AUROC: 0.705\n",
            "valid loss: 1.186\n",
            "valid AUROC: 0.730\n",
            "BEST VALID LOSS: 1.1864332457383473\n",
            "BEST VALID AUROC: 0.7300597716011199\n",
            "UPDATED BEST INTERMEDIATE MODEL\n",
            "Epoch: 2\n",
            "train loss: 1.137\n",
            "train AUROC: 0.730\n",
            "valid loss: 1.189\n",
            "valid AUROC: 0.739\n",
            "BEST VALID AUROC: 0.7386023927989535\n",
            "UPDATED BEST INTERMEDIATE MODEL\n",
            "Epoch: 3\n",
            "train loss: 1.126\n",
            "train AUROC: 0.739\n",
            "valid loss: 1.169\n",
            "valid AUROC: 0.749\n",
            "BEST VALID LOSS: 1.1690785586833954\n",
            "BEST VALID AUROC: 0.7492731288438523\n",
            "UPDATED BEST INTERMEDIATE MODEL\n",
            "Epoch: 4\n",
            "train loss: 1.131\n",
            "train AUROC: 0.736\n",
            "valid loss: 1.141\n",
            "valid AUROC: 0.754\n",
            "BEST VALID LOSS: 1.1411865254243214\n",
            "BEST VALID AUROC: 0.7543673446624126\n",
            "UPDATED BEST INTERMEDIATE MODEL\n",
            "Epoch: 5\n",
            "train loss: 1.106\n",
            "train AUROC: 0.750\n",
            "valid loss: 1.131\n",
            "valid AUROC: 0.757\n",
            "BEST VALID LOSS: 1.130654017130534\n",
            "BEST VALID AUROC: 0.7569885766414427\n",
            "UPDATED BEST INTERMEDIATE MODEL\n",
            "Epoch: 6\n",
            "train loss: 1.091\n",
            "train AUROC: 0.757\n",
            "valid loss: 1.172\n",
            "valid AUROC: 0.758\n",
            "BEST VALID AUROC: 0.7576766073541321\n",
            "UPDATED BEST INTERMEDIATE MODEL\n",
            "Epoch: 7\n",
            "train loss: 1.081\n",
            "train AUROC: 0.765\n",
            "valid loss: 1.152\n",
            "valid AUROC: 0.768\n",
            "BEST VALID AUROC: 0.7684153497432546\n",
            "UPDATED BEST INTERMEDIATE MODEL\n",
            "Epoch: 8\n",
            "train loss: 1.075\n",
            "train AUROC: 0.770\n",
            "valid loss: 1.122\n",
            "valid AUROC: 0.771\n",
            "BEST VALID LOSS: 1.122076114018758\n",
            "BEST VALID AUROC: 0.7706723636444344\n",
            "UPDATED BEST INTERMEDIATE MODEL\n",
            "Epoch: 9\n",
            "train loss: 1.056\n",
            "train AUROC: 0.779\n",
            "valid loss: 1.116\n",
            "valid AUROC: 0.774\n",
            "BEST VALID LOSS: 1.1160952250162761\n",
            "BEST VALID AUROC: 0.7744215334833078\n",
            "UPDATED BEST INTERMEDIATE MODEL\n"
          ]
        },
        {
          "data": {
            "text/plain": [
              "<All keys matched successfully>"
            ]
          },
          "execution_count": 20,
          "metadata": {},
          "output_type": "execute_result"
        },
        {
          "name": "stderr",
          "output_type": "stream",
          "text": [
            "100%|██████████| 12/12 [00:01<00:00,  7.09it/s]\n",
            "100%|██████████| 1/1 [00:00<00:00, 41.30it/s]\n",
            "100%|██████████| 1/1 [00:00<00:00,  8.59it/s]\n"
          ]
        },
        {
          "data": {
            "text/plain": [
              "0"
            ]
          },
          "execution_count": 20,
          "metadata": {},
          "output_type": "execute_result"
        },
        {
          "name": "stdout",
          "output_type": "stream",
          "text": [
            "test predictions: 0.426\n",
            "test loss: 1.170\n",
            "test AUROC: 0.745\n",
            "test predictions 8: 0.451\n",
            "test loss 8: 2.562\n",
            "test AUROC 8: 0.204\n",
            "test predictions 45: 0.409\n",
            "test loss 45: 1.385\n",
            "test AUROC 45: 0.488\n",
            "BEST TEST AUROC: 0.7452061218229797\n",
            "UPDATED BEST MODEL\n",
            "Epoch: 0\n",
            "train loss: 1.227\n",
            "train AUROC: 0.646\n",
            "valid loss: 1.196\n",
            "valid AUROC: 0.695\n",
            "BEST VALID LOSS: 1.196043421824773\n",
            "BEST VALID AUROC: 0.6952057087731245\n",
            "UPDATED BEST INTERMEDIATE MODEL\n",
            "Epoch: 1\n",
            "train loss: 1.174\n",
            "train AUROC: 0.702\n",
            "valid loss: 1.165\n",
            "valid AUROC: 0.716\n",
            "BEST VALID LOSS: 1.1654473890860875\n",
            "BEST VALID AUROC: 0.7155410850073772\n",
            "UPDATED BEST INTERMEDIATE MODEL\n",
            "Epoch: 2\n",
            "train loss: 1.148\n",
            "train AUROC: 0.723\n",
            "valid loss: 1.144\n",
            "valid AUROC: 0.727\n",
            "BEST VALID LOSS: 1.144082595904668\n",
            "BEST VALID AUROC: 0.7272077516740438\n",
            "UPDATED BEST INTERMEDIATE MODEL\n",
            "Epoch: 3\n",
            "train loss: 1.119\n",
            "train AUROC: 0.741\n",
            "valid loss: 1.140\n",
            "valid AUROC: 0.729\n",
            "BEST VALID LOSS: 1.1398323824008305\n",
            "BEST VALID AUROC: 0.7294969356486212\n",
            "UPDATED BEST INTERMEDIATE MODEL\n",
            "Epoch: 4\n",
            "train loss: 1.110\n",
            "train AUROC: 0.744\n",
            "valid loss: 1.152\n",
            "valid AUROC: 0.734\n",
            "BEST VALID AUROC: 0.7342761888548406\n",
            "UPDATED BEST INTERMEDIATE MODEL\n",
            "Epoch: 5\n",
            "train loss: 1.099\n",
            "train AUROC: 0.754\n",
            "valid loss: 1.156\n",
            "valid AUROC: 0.737\n",
            "BEST VALID AUROC: 0.7368008739076154\n",
            "UPDATED BEST INTERMEDIATE MODEL\n",
            "Epoch: 6\n",
            "train loss: 1.105\n",
            "train AUROC: 0.754\n",
            "valid loss: 1.129\n",
            "valid AUROC: 0.744\n",
            "BEST VALID LOSS: 1.1292989353338878\n",
            "BEST VALID AUROC: 0.7442829985245715\n",
            "UPDATED BEST INTERMEDIATE MODEL\n",
            "Epoch: 7\n",
            "train loss: 1.076\n",
            "train AUROC: 0.769\n",
            "valid loss: 1.121\n",
            "valid AUROC: 0.747\n",
            "BEST VALID LOSS: 1.1214333722988765\n",
            "BEST VALID AUROC: 0.7469620360912496\n",
            "UPDATED BEST INTERMEDIATE MODEL\n",
            "Epoch: 8\n",
            "train loss: 1.074\n",
            "train AUROC: 0.769\n",
            "valid loss: 1.129\n",
            "valid AUROC: 0.744\n",
            "Epoch: 9\n",
            "train loss: 1.062\n",
            "train AUROC: 0.775\n",
            "valid loss: 1.119\n",
            "valid AUROC: 0.750\n",
            "BEST VALID LOSS: 1.1192100743452709\n",
            "BEST VALID AUROC: 0.7496649075019861\n",
            "UPDATED BEST INTERMEDIATE MODEL\n"
          ]
        },
        {
          "name": "stderr",
          "output_type": "stream",
          "text": [
            "/tmp/ipykernel_27607/2723606158.py:188: FutureWarning: The frame.append method is deprecated and will be removed from pandas in a future version. Use pandas.concat instead.\n",
            "  results_df = results_df.append(new_row, ignore_index=True)\n",
            "/tmp/ipykernel_27607/2723606158.py:231: FutureWarning: The frame.append method is deprecated and will be removed from pandas in a future version. Use pandas.concat instead.\n",
            "  results_df = results_df.append(new_row, ignore_index=True)\n",
            "/tmp/ipykernel_27607/2723606158.py:274: FutureWarning: The frame.append method is deprecated and will be removed from pandas in a future version. Use pandas.concat instead.\n",
            "  results_df = results_df.append(new_row, ignore_index=True)\n",
            "100%|██████████| 89/89 [00:30<00:00,  2.94it/s]\n",
            "100%|██████████| 12/12 [00:01<00:00,  6.73it/s]\n",
            "100%|██████████| 89/89 [00:31<00:00,  2.87it/s]\n",
            "100%|██████████| 12/12 [00:01<00:00,  6.99it/s]\n",
            "100%|██████████| 89/89 [00:30<00:00,  2.93it/s]\n",
            "100%|██████████| 12/12 [00:01<00:00,  7.03it/s]\n",
            "100%|██████████| 89/89 [00:30<00:00,  2.92it/s]\n",
            "100%|██████████| 12/12 [00:01<00:00,  7.10it/s]\n",
            "100%|██████████| 89/89 [00:29<00:00,  3.00it/s]\n",
            "100%|██████████| 12/12 [00:01<00:00,  7.08it/s]\n",
            "100%|██████████| 89/89 [00:29<00:00,  2.97it/s]\n",
            "100%|██████████| 12/12 [00:01<00:00,  7.15it/s]\n",
            "100%|██████████| 89/89 [00:29<00:00,  2.98it/s]\n",
            "100%|██████████| 12/12 [00:01<00:00,  7.07it/s]\n",
            "100%|██████████| 89/89 [00:30<00:00,  2.92it/s]\n",
            "100%|██████████| 12/12 [00:01<00:00,  7.02it/s]\n",
            "100%|██████████| 89/89 [00:30<00:00,  2.96it/s]\n",
            "100%|██████████| 12/12 [00:01<00:00,  6.90it/s]\n",
            "100%|██████████| 89/89 [00:30<00:00,  2.94it/s]\n",
            "100%|██████████| 12/12 [00:01<00:00,  7.03it/s]\n"
          ]
        },
        {
          "data": {
            "text/plain": [
              "<All keys matched successfully>"
            ]
          },
          "execution_count": 20,
          "metadata": {},
          "output_type": "execute_result"
        },
        {
          "name": "stderr",
          "output_type": "stream",
          "text": [
            "100%|██████████| 12/12 [00:01<00:00,  7.06it/s]\n",
            "100%|██████████| 1/1 [00:00<00:00, 33.49it/s]\n",
            "100%|██████████| 1/1 [00:00<00:00,  8.46it/s]\n"
          ]
        },
        {
          "data": {
            "text/plain": [
              "0"
            ]
          },
          "execution_count": 20,
          "metadata": {},
          "output_type": "execute_result"
        },
        {
          "name": "stdout",
          "output_type": "stream",
          "text": [
            "test predictions: 0.383\n",
            "test loss: 1.219\n",
            "test AUROC: 0.755\n",
            "test predictions 8: 0.361\n",
            "test loss 8: 0.934\n",
            "test AUROC 8: 0.776\n",
            "test predictions 45: 0.362\n",
            "test loss 45: 1.025\n",
            "test AUROC 45: 0.698\n",
            "BEST TEST AUROC: 0.7551179753572326\n",
            "UPDATED BEST MODEL\n",
            "Epoch: 0\n",
            "train loss: 1.205\n",
            "train AUROC: 0.672\n",
            "valid loss: 1.284\n",
            "valid AUROC: 0.685\n",
            "BEST VALID LOSS: 1.283976713816325\n",
            "BEST VALID AUROC: 0.6848487685847237\n",
            "UPDATED BEST INTERMEDIATE MODEL\n",
            "Epoch: 1\n",
            "train loss: 1.155\n",
            "train AUROC: 0.718\n",
            "valid loss: 1.223\n",
            "valid AUROC: 0.706\n",
            "BEST VALID LOSS: 1.2234223534663518\n",
            "BEST VALID AUROC: 0.7062038928611963\n",
            "UPDATED BEST INTERMEDIATE MODEL\n",
            "Epoch: 2\n",
            "train loss: 1.125\n",
            "train AUROC: 0.738\n",
            "valid loss: 1.237\n",
            "valid AUROC: 0.709\n",
            "BEST VALID AUROC: 0.7087050278061514\n",
            "UPDATED BEST INTERMEDIATE MODEL\n",
            "Epoch: 3\n",
            "train loss: 1.113\n",
            "train AUROC: 0.746\n",
            "valid loss: 1.242\n",
            "valid AUROC: 0.711\n",
            "BEST VALID AUROC: 0.7114087504256044\n",
            "UPDATED BEST INTERMEDIATE MODEL\n",
            "Epoch: 4\n",
            "train loss: 1.111\n",
            "train AUROC: 0.747\n",
            "valid loss: 1.205\n",
            "valid AUROC: 0.726\n",
            "BEST VALID LOSS: 1.205493837594986\n",
            "BEST VALID AUROC: 0.7259661218930882\n",
            "UPDATED BEST INTERMEDIATE MODEL\n",
            "Epoch: 5\n",
            "train loss: 1.090\n",
            "train AUROC: 0.759\n",
            "valid loss: 1.178\n",
            "valid AUROC: 0.732\n",
            "BEST VALID LOSS: 1.178261637687683\n",
            "BEST VALID AUROC: 0.7321776756327318\n",
            "UPDATED BEST INTERMEDIATE MODEL\n",
            "Epoch: 6\n",
            "train loss: 1.091\n",
            "train AUROC: 0.756\n",
            "valid loss: 1.169\n",
            "valid AUROC: 0.728\n",
            "BEST VALID LOSS: 1.1691407958666484\n",
            "Epoch: 7\n",
            "train loss: 1.079\n",
            "train AUROC: 0.767\n",
            "valid loss: 1.175\n",
            "valid AUROC: 0.734\n",
            "BEST VALID AUROC: 0.7340639541482238\n",
            "UPDATED BEST INTERMEDIATE MODEL\n",
            "Epoch: 8\n",
            "train loss: 1.060\n",
            "train AUROC: 0.776\n",
            "valid loss: 1.179\n",
            "valid AUROC: 0.733\n",
            "Epoch: 9\n",
            "train loss: 1.087\n",
            "train AUROC: 0.763\n",
            "valid loss: 1.161\n",
            "valid AUROC: 0.741\n",
            "BEST VALID LOSS: 1.1613623003164928\n",
            "BEST VALID AUROC: 0.7408327658608558\n",
            "UPDATED BEST INTERMEDIATE MODEL\n"
          ]
        },
        {
          "name": "stderr",
          "output_type": "stream",
          "text": [
            "/tmp/ipykernel_27607/2723606158.py:188: FutureWarning: The frame.append method is deprecated and will be removed from pandas in a future version. Use pandas.concat instead.\n",
            "  results_df = results_df.append(new_row, ignore_index=True)\n",
            "/tmp/ipykernel_27607/2723606158.py:231: FutureWarning: The frame.append method is deprecated and will be removed from pandas in a future version. Use pandas.concat instead.\n",
            "  results_df = results_df.append(new_row, ignore_index=True)\n",
            "/tmp/ipykernel_27607/2723606158.py:274: FutureWarning: The frame.append method is deprecated and will be removed from pandas in a future version. Use pandas.concat instead.\n",
            "  results_df = results_df.append(new_row, ignore_index=True)\n",
            "100%|██████████| 89/89 [00:30<00:00,  2.94it/s]\n",
            "100%|██████████| 12/12 [00:01<00:00,  7.06it/s]\n",
            "100%|██████████| 89/89 [00:29<00:00,  2.97it/s]\n",
            "100%|██████████| 12/12 [00:01<00:00,  7.09it/s]\n",
            "100%|██████████| 89/89 [00:30<00:00,  2.96it/s]\n",
            "100%|██████████| 12/12 [00:01<00:00,  7.17it/s]\n",
            "100%|██████████| 89/89 [00:29<00:00,  2.98it/s]\n",
            "100%|██████████| 12/12 [00:01<00:00,  6.99it/s]\n",
            "100%|██████████| 89/89 [00:29<00:00,  2.97it/s]\n",
            "100%|██████████| 12/12 [00:01<00:00,  7.08it/s]\n",
            "100%|██████████| 89/89 [00:29<00:00,  2.99it/s]\n",
            "100%|██████████| 12/12 [00:01<00:00,  6.97it/s]\n",
            "100%|██████████| 89/89 [00:30<00:00,  2.95it/s]\n",
            "100%|██████████| 12/12 [00:01<00:00,  7.06it/s]\n",
            "100%|██████████| 89/89 [00:29<00:00,  2.99it/s]\n",
            "100%|██████████| 12/12 [00:01<00:00,  7.12it/s]\n",
            "100%|██████████| 89/89 [00:29<00:00,  2.98it/s]\n",
            "100%|██████████| 12/12 [00:01<00:00,  7.14it/s]\n",
            "100%|██████████| 89/89 [00:29<00:00,  2.98it/s]\n",
            "100%|██████████| 12/12 [00:01<00:00,  7.18it/s]\n"
          ]
        },
        {
          "data": {
            "text/plain": [
              "<All keys matched successfully>"
            ]
          },
          "execution_count": 20,
          "metadata": {},
          "output_type": "execute_result"
        },
        {
          "name": "stderr",
          "output_type": "stream",
          "text": [
            "100%|██████████| 12/12 [00:01<00:00,  7.01it/s]\n",
            "100%|██████████| 1/1 [00:00<00:00, 42.77it/s]\n",
            "100%|██████████| 1/1 [00:00<00:00, 10.32it/s]\n"
          ]
        },
        {
          "data": {
            "text/plain": [
              "0"
            ]
          },
          "execution_count": 20,
          "metadata": {},
          "output_type": "execute_result"
        },
        {
          "name": "stderr",
          "output_type": "stream",
          "text": [
            "/tmp/ipykernel_27607/2723606158.py:188: FutureWarning: The frame.append method is deprecated and will be removed from pandas in a future version. Use pandas.concat instead.\n",
            "  results_df = results_df.append(new_row, ignore_index=True)\n",
            "/tmp/ipykernel_27607/2723606158.py:231: FutureWarning: The frame.append method is deprecated and will be removed from pandas in a future version. Use pandas.concat instead.\n",
            "  results_df = results_df.append(new_row, ignore_index=True)\n",
            "/tmp/ipykernel_27607/2723606158.py:274: FutureWarning: The frame.append method is deprecated and will be removed from pandas in a future version. Use pandas.concat instead.\n",
            "  results_df = results_df.append(new_row, ignore_index=True)\n",
            "100%|██████████| 89/89 [00:29<00:00,  2.97it/s]\n",
            "100%|██████████| 12/12 [00:01<00:00,  7.12it/s]\n",
            "100%|██████████| 89/89 [00:29<00:00,  3.00it/s]\n",
            "100%|██████████| 12/12 [00:01<00:00,  6.91it/s]\n",
            "100%|██████████| 89/89 [00:29<00:00,  3.00it/s]\n",
            "100%|██████████| 12/12 [00:01<00:00,  7.09it/s]\n",
            "100%|██████████| 89/89 [00:29<00:00,  2.97it/s]\n",
            "100%|██████████| 12/12 [00:01<00:00,  7.09it/s]\n",
            "100%|██████████| 89/89 [00:29<00:00,  2.97it/s]\n",
            "100%|██████████| 12/12 [00:01<00:00,  7.16it/s]\n",
            "100%|██████████| 89/89 [00:29<00:00,  2.98it/s]\n",
            "100%|██████████| 12/12 [00:01<00:00,  7.09it/s]\n",
            "100%|██████████| 89/89 [00:29<00:00,  2.99it/s]\n",
            "100%|██████████| 12/12 [00:01<00:00,  7.18it/s]\n",
            "100%|██████████| 89/89 [00:29<00:00,  2.98it/s]\n",
            "100%|██████████| 12/12 [00:01<00:00,  7.13it/s]\n",
            "100%|██████████| 89/89 [00:30<00:00,  2.96it/s]\n",
            "100%|██████████| 12/12 [00:01<00:00,  7.17it/s]\n",
            "100%|██████████| 89/89 [00:30<00:00,  2.96it/s]\n",
            "100%|██████████| 12/12 [00:01<00:00,  7.07it/s]\n"
          ]
        },
        {
          "name": "stdout",
          "output_type": "stream",
          "text": [
            "test predictions: 0.497\n",
            "test loss: 1.238\n",
            "test AUROC: 0.706\n",
            "test predictions 8: 0.592\n",
            "test loss 8: 1.699\n",
            "test AUROC 8: 0.384\n",
            "test predictions 45: 0.600\n",
            "test loss 45: 1.770\n",
            "test AUROC 45: 0.465\n",
            "Epoch: 0\n",
            "train loss: 1.206\n",
            "train AUROC: 0.676\n",
            "valid loss: 1.111\n",
            "valid AUROC: 0.721\n",
            "BEST VALID LOSS: 1.1110415508349736\n",
            "BEST VALID AUROC: 0.721474860969243\n",
            "UPDATED BEST INTERMEDIATE MODEL\n",
            "Epoch: 1\n",
            "train loss: 1.158\n",
            "train AUROC: 0.713\n",
            "valid loss: 1.101\n",
            "valid AUROC: 0.729\n",
            "BEST VALID LOSS: 1.100803608695666\n",
            "BEST VALID AUROC: 0.7288576779026218\n",
            "UPDATED BEST INTERMEDIATE MODEL\n",
            "Epoch: 2\n",
            "train loss: 1.132\n",
            "train AUROC: 0.736\n",
            "valid loss: 1.084\n",
            "valid AUROC: 0.740\n",
            "BEST VALID LOSS: 1.083978494008382\n",
            "BEST VALID AUROC: 0.7401254114175462\n",
            "UPDATED BEST INTERMEDIATE MODEL\n",
            "Epoch: 3\n",
            "train loss: 1.113\n",
            "train AUROC: 0.745\n",
            "valid loss: 1.075\n",
            "valid AUROC: 0.742\n",
            "BEST VALID LOSS: 1.074554483095805\n",
            "BEST VALID AUROC: 0.7420837589376915\n",
            "UPDATED BEST INTERMEDIATE MODEL\n",
            "Epoch: 4\n",
            "train loss: 1.092\n",
            "train AUROC: 0.759\n",
            "valid loss: 1.068\n",
            "valid AUROC: 0.750\n",
            "BEST VALID LOSS: 1.0679271072149277\n",
            "BEST VALID AUROC: 0.7498235160594711\n",
            "UPDATED BEST INTERMEDIATE MODEL\n",
            "Epoch: 5\n",
            "train loss: 1.085\n",
            "train AUROC: 0.763\n",
            "valid loss: 1.072\n",
            "valid AUROC: 0.753\n",
            "BEST VALID AUROC: 0.7528549540347294\n",
            "UPDATED BEST INTERMEDIATE MODEL\n",
            "Epoch: 6\n",
            "train loss: 1.080\n",
            "train AUROC: 0.765\n",
            "valid loss: 1.064\n",
            "valid AUROC: 0.758\n",
            "BEST VALID LOSS: 1.0641369968652725\n",
            "BEST VALID AUROC: 0.7575473839518783\n",
            "UPDATED BEST INTERMEDIATE MODEL\n",
            "Epoch: 7\n",
            "train loss: 1.069\n",
            "train AUROC: 0.772\n",
            "valid loss: 1.061\n",
            "valid AUROC: 0.757\n",
            "BEST VALID LOSS: 1.0611825784047444\n",
            "Epoch: 8\n",
            "train loss: 1.070\n",
            "train AUROC: 0.772\n",
            "valid loss: 1.075\n",
            "valid AUROC: 0.747\n",
            "Epoch: 9\n",
            "train loss: 1.060\n",
            "train AUROC: 0.777\n",
            "valid loss: 1.078\n",
            "valid AUROC: 0.755\n"
          ]
        },
        {
          "data": {
            "text/plain": [
              "<All keys matched successfully>"
            ]
          },
          "execution_count": 20,
          "metadata": {},
          "output_type": "execute_result"
        },
        {
          "name": "stderr",
          "output_type": "stream",
          "text": [
            "\r  0%|          | 0/12 [00:00<?, ?it/s]\r  8%|▊         | 1/12 [00:00<00:01,  6.59it/s]\r 17%|█▋        | 2/12 [00:00<00:01,  6.36it/s]\r 25%|██▌       | 3/12 [00:00<00:01,  6.47it/s]\r 33%|███▎      | 4/12 [00:00<00:01,  6.53it/s]\r 42%|████▏     | 5/12 [00:00<00:01,  6.54it/s]\r 50%|█████     | 6/12 [00:00<00:00,  6.53it/s]\r 58%|█████▊    | 7/12 [00:01<00:00,  6.55it/s]\r 67%|██████▋   | 8/12 [00:01<00:00,  6.53it/s]\r 75%|███████▌  | 9/12 [00:01<00:00,  6.48it/s]\r 83%|████████▎ | 10/12 [00:01<00:00,  6.53it/s]\r 92%|█████████▏| 11/12 [00:01<00:00,  6.56it/s]\r100%|██████████| 12/12 [00:01<00:00,  7.05it/s]\n",
            "\r  0%|          | 0/1 [00:00<?, ?it/s]\r100%|██████████| 1/1 [00:00<00:00, 39.96it/s]\n",
            "\r  0%|          | 0/1 [00:00<?, ?it/s]\r100%|██████████| 1/1 [00:00<00:00,  8.79it/s]\r100%|██████████| 1/1 [00:00<00:00,  8.70it/s]\n"
          ]
        },
        {
          "data": {
            "text/plain": [
              "0"
            ]
          },
          "execution_count": 20,
          "metadata": {},
          "output_type": "execute_result"
        },
        {
          "name": "stderr",
          "output_type": "stream",
          "text": [
            "/tmp/ipykernel_27607/2723606158.py:188: FutureWarning: The frame.append method is deprecated and will be removed from pandas in a future version. Use pandas.concat instead.\n",
            "  results_df = results_df.append(new_row, ignore_index=True)\n",
            "/tmp/ipykernel_27607/2723606158.py:231: FutureWarning: The frame.append method is deprecated and will be removed from pandas in a future version. Use pandas.concat instead.\n",
            "  results_df = results_df.append(new_row, ignore_index=True)\n",
            "/tmp/ipykernel_27607/2723606158.py:274: FutureWarning: The frame.append method is deprecated and will be removed from pandas in a future version. Use pandas.concat instead.\n",
            "  results_df = results_df.append(new_row, ignore_index=True)\n",
            "100%|██████████| 89/89 [00:29<00:00,  3.00it/s]\n",
            "100%|██████████| 12/12 [00:01<00:00,  7.18it/s]\n",
            "100%|██████████| 89/89 [00:29<00:00,  3.00it/s]\n",
            "100%|██████████| 12/12 [00:01<00:00,  7.16it/s]\n",
            "100%|██████████| 89/89 [00:30<00:00,  2.96it/s]\n",
            "100%|██████████| 12/12 [00:01<00:00,  7.09it/s]\n",
            "100%|██████████| 89/89 [00:29<00:00,  2.98it/s]\n",
            "100%|██████████| 12/12 [00:01<00:00,  7.13it/s]\n",
            "100%|██████████| 89/89 [00:29<00:00,  3.01it/s]\n",
            "100%|██████████| 12/12 [00:01<00:00,  7.02it/s]\n",
            "100%|██████████| 89/89 [00:29<00:00,  3.00it/s]\n",
            "100%|██████████| 12/12 [00:01<00:00,  7.18it/s]\n",
            "100%|██████████| 89/89 [00:29<00:00,  3.00it/s]\n",
            "100%|██████████| 12/12 [00:01<00:00,  7.04it/s]\n",
            "100%|██████████| 89/89 [00:29<00:00,  2.97it/s]\n",
            "100%|██████████| 12/12 [00:01<00:00,  7.18it/s]\n",
            "100%|██████████| 89/89 [00:29<00:00,  3.00it/s]\n",
            "100%|██████████| 12/12 [00:01<00:00,  7.07it/s]\n",
            "100%|██████████| 89/89 [00:29<00:00,  2.97it/s]\n",
            "100%|██████████| 12/12 [00:01<00:00,  7.14it/s]\n"
          ]
        },
        {
          "name": "stdout",
          "output_type": "stream",
          "text": [
            "test predictions: 0.473\n",
            "test loss: 1.180\n",
            "test AUROC: 0.723\n",
            "test predictions 8: 0.457\n",
            "test loss 8: 1.169\n",
            "test AUROC 8: 0.481\n",
            "test predictions 45: 0.435\n",
            "test loss 45: 1.069\n",
            "test AUROC 45: 0.548\n",
            "Epoch: 0\n",
            "train loss: 1.210\n",
            "train AUROC: 0.675\n",
            "valid loss: 1.307\n",
            "valid AUROC: 0.703\n",
            "BEST VALID LOSS: 1.3067410935958226\n",
            "BEST VALID AUROC: 0.7031490841615153\n",
            "UPDATED BEST INTERMEDIATE MODEL\n",
            "Epoch: 1\n",
            "train loss: 1.164\n",
            "train AUROC: 0.718\n",
            "valid loss: 1.274\n",
            "valid AUROC: 0.719\n",
            "BEST VALID LOSS: 1.2735552787780762\n",
            "BEST VALID AUROC: 0.7189130038819258\n",
            "UPDATED BEST INTERMEDIATE MODEL\n",
            "Epoch: 2\n",
            "train loss: 1.130\n",
            "train AUROC: 0.737\n",
            "valid loss: 1.201\n",
            "valid AUROC: 0.732\n",
            "BEST VALID LOSS: 1.2010574887196224\n",
            "BEST VALID AUROC: 0.7316374099245245\n",
            "UPDATED BEST INTERMEDIATE MODEL\n",
            "Epoch: 3\n",
            "train loss: 1.126\n",
            "train AUROC: 0.740\n",
            "valid loss: 1.207\n",
            "valid AUROC: 0.734\n",
            "BEST VALID AUROC: 0.7338345115717815\n",
            "UPDATED BEST INTERMEDIATE MODEL\n",
            "Epoch: 4\n",
            "train loss: 1.107\n",
            "train AUROC: 0.750\n",
            "valid loss: 1.207\n",
            "valid AUROC: 0.741\n",
            "BEST VALID AUROC: 0.7412576983937251\n",
            "UPDATED BEST INTERMEDIATE MODEL\n",
            "Epoch: 5\n",
            "train loss: 1.085\n",
            "train AUROC: 0.763\n",
            "valid loss: 1.213\n",
            "valid AUROC: 0.751\n",
            "BEST VALID AUROC: 0.7511460787996767\n",
            "UPDATED BEST INTERMEDIATE MODEL\n",
            "Epoch: 6\n",
            "train loss: 1.078\n",
            "train AUROC: 0.768\n",
            "valid loss: 1.211\n",
            "valid AUROC: 0.746\n",
            "Epoch: 7\n",
            "train loss: 1.097\n",
            "train AUROC: 0.758\n",
            "valid loss: 1.173\n",
            "valid AUROC: 0.756\n",
            "BEST VALID LOSS: 1.173473263780276\n",
            "BEST VALID AUROC: 0.7561322473048507\n",
            "UPDATED BEST INTERMEDIATE MODEL\n",
            "Epoch: 8\n",
            "train loss: 1.060\n",
            "train AUROC: 0.778\n",
            "valid loss: 1.167\n",
            "valid AUROC: 0.760\n",
            "BEST VALID LOSS: 1.1671180029710133\n",
            "BEST VALID AUROC: 0.7601746866568766\n",
            "UPDATED BEST INTERMEDIATE MODEL\n",
            "Epoch: 9\n",
            "train loss: 1.058\n",
            "train AUROC: 0.779\n",
            "valid loss: 1.126\n",
            "valid AUROC: 0.764\n",
            "BEST VALID LOSS: 1.1255676696697872\n",
            "BEST VALID AUROC: 0.7637230627369285\n",
            "UPDATED BEST INTERMEDIATE MODEL\n"
          ]
        },
        {
          "data": {
            "text/plain": [
              "<All keys matched successfully>"
            ]
          },
          "execution_count": 20,
          "metadata": {},
          "output_type": "execute_result"
        },
        {
          "name": "stderr",
          "output_type": "stream",
          "text": [
            "\r  0%|          | 0/12 [00:00<?, ?it/s]\r  8%|▊         | 1/12 [00:00<00:01,  6.53it/s]\r 17%|█▋        | 2/12 [00:00<00:01,  6.60it/s]\r 25%|██▌       | 3/12 [00:00<00:01,  6.64it/s]\r 33%|███▎      | 4/12 [00:00<00:01,  6.60it/s]\r 42%|████▏     | 5/12 [00:00<00:01,  6.60it/s]\r 50%|█████     | 6/12 [00:00<00:00,  6.59it/s]\r 58%|█████▊    | 7/12 [00:01<00:00,  6.64it/s]\r 67%|██████▋   | 8/12 [00:01<00:00,  6.64it/s]\r 75%|███████▌  | 9/12 [00:01<00:00,  6.67it/s]\r 83%|████████▎ | 10/12 [00:01<00:00,  6.67it/s]\r 92%|█████████▏| 11/12 [00:01<00:00,  6.62it/s]\r100%|██████████| 12/12 [00:01<00:00,  7.15it/s]\n",
            "\r  0%|          | 0/1 [00:00<?, ?it/s]\r100%|██████████| 1/1 [00:00<00:00, 37.74it/s]\n",
            "\r  0%|          | 0/1 [00:00<?, ?it/s]\r100%|██████████| 1/1 [00:00<00:00,  8.94it/s]\r100%|██████████| 1/1 [00:00<00:00,  8.82it/s]\n"
          ]
        },
        {
          "data": {
            "text/plain": [
              "0"
            ]
          },
          "execution_count": 20,
          "metadata": {},
          "output_type": "execute_result"
        },
        {
          "name": "stderr",
          "output_type": "stream",
          "text": [
            "/tmp/ipykernel_27607/2723606158.py:188: FutureWarning: The frame.append method is deprecated and will be removed from pandas in a future version. Use pandas.concat instead.\n",
            "  results_df = results_df.append(new_row, ignore_index=True)\n",
            "/tmp/ipykernel_27607/2723606158.py:231: FutureWarning: The frame.append method is deprecated and will be removed from pandas in a future version. Use pandas.concat instead.\n",
            "  results_df = results_df.append(new_row, ignore_index=True)\n",
            "/tmp/ipykernel_27607/2723606158.py:274: FutureWarning: The frame.append method is deprecated and will be removed from pandas in a future version. Use pandas.concat instead.\n",
            "  results_df = results_df.append(new_row, ignore_index=True)\n",
            "100%|██████████| 89/89 [00:29<00:00,  3.00it/s]\n",
            "100%|██████████| 12/12 [00:01<00:00,  7.14it/s]\n",
            "100%|██████████| 89/89 [00:29<00:00,  3.01it/s]\n",
            "100%|██████████| 12/12 [00:01<00:00,  7.19it/s]\n",
            "100%|██████████| 89/89 [00:30<00:00,  2.94it/s]\n",
            "100%|██████████| 12/12 [00:01<00:00,  7.03it/s]\n",
            "100%|██████████| 89/89 [00:30<00:00,  2.96it/s]\n",
            "100%|██████████| 12/12 [00:01<00:00,  7.06it/s]\n",
            "100%|██████████| 89/89 [00:30<00:00,  2.96it/s]\n",
            "100%|██████████| 12/12 [00:01<00:00,  7.10it/s]\n",
            "100%|██████████| 89/89 [00:29<00:00,  2.97it/s]\n",
            "100%|██████████| 12/12 [00:01<00:00,  7.03it/s]\n",
            "100%|██████████| 89/89 [00:30<00:00,  2.94it/s]\n",
            "100%|██████████| 12/12 [00:01<00:00,  6.95it/s]\n",
            "100%|██████████| 89/89 [00:30<00:00,  2.88it/s]\n",
            "100%|██████████| 12/12 [00:01<00:00,  7.01it/s]\n",
            "100%|██████████| 89/89 [00:30<00:00,  2.91it/s]\n",
            "100%|██████████| 12/12 [00:01<00:00,  7.02it/s]\n",
            "100%|██████████| 89/89 [00:30<00:00,  2.90it/s]\n",
            "100%|██████████| 12/12 [00:01<00:00,  6.93it/s]\n"
          ]
        },
        {
          "name": "stdout",
          "output_type": "stream",
          "text": [
            "test predictions: 0.547\n",
            "test loss: 1.245\n",
            "test AUROC: 0.706\n",
            "test predictions 8: 0.621\n",
            "test loss 8: 1.714\n",
            "test AUROC 8: 0.309\n",
            "test predictions 45: 0.583\n",
            "test loss 45: 1.427\n",
            "test AUROC 45: 0.543\n",
            "Epoch: 0\n",
            "train loss: 1.212\n",
            "train AUROC: 0.668\n",
            "valid loss: 1.188\n",
            "valid AUROC: 0.698\n",
            "BEST VALID LOSS: 1.1876536160707474\n",
            "BEST VALID AUROC: 0.698197067495418\n",
            "UPDATED BEST INTERMEDIATE MODEL\n",
            "Epoch: 1\n",
            "train loss: 1.162\n",
            "train AUROC: 0.720\n",
            "valid loss: 1.169\n",
            "valid AUROC: 0.717\n",
            "BEST VALID LOSS: 1.1686742355426152\n",
            "BEST VALID AUROC: 0.7168397026513211\n",
            "UPDATED BEST INTERMEDIATE MODEL\n",
            "Epoch: 2\n",
            "train loss: 1.137\n",
            "train AUROC: 0.734\n",
            "valid loss: 1.171\n",
            "valid AUROC: 0.716\n",
            "Epoch: 3\n",
            "train loss: 1.138\n",
            "train AUROC: 0.730\n",
            "valid loss: 1.160\n",
            "valid AUROC: 0.718\n",
            "BEST VALID LOSS: 1.160011500120163\n",
            "BEST VALID AUROC: 0.718288879022802\n",
            "UPDATED BEST INTERMEDIATE MODEL\n",
            "Epoch: 4\n",
            "train loss: 1.130\n",
            "train AUROC: 0.734\n",
            "valid loss: 1.167\n",
            "valid AUROC: 0.726\n",
            "BEST VALID AUROC: 0.725690151748005\n",
            "UPDATED BEST INTERMEDIATE MODEL\n",
            "Epoch: 5\n",
            "train loss: 1.101\n",
            "train AUROC: 0.754\n",
            "valid loss: 1.136\n",
            "valid AUROC: 0.739\n",
            "BEST VALID LOSS: 1.1355930864810944\n",
            "BEST VALID AUROC: 0.7390241681181198\n",
            "UPDATED BEST INTERMEDIATE MODEL\n",
            "Epoch: 6\n",
            "train loss: 1.085\n",
            "train AUROC: 0.763\n",
            "valid loss: 1.134\n",
            "valid AUROC: 0.744\n",
            "BEST VALID LOSS: 1.1340526938438416\n",
            "BEST VALID AUROC: 0.7443359174891568\n",
            "UPDATED BEST INTERMEDIATE MODEL\n",
            "Epoch: 7\n",
            "train loss: 1.078\n",
            "train AUROC: 0.768\n",
            "valid loss: 1.120\n",
            "valid AUROC: 0.750\n",
            "BEST VALID LOSS: 1.1202171643575032\n",
            "BEST VALID AUROC: 0.7500466741800712\n",
            "UPDATED BEST INTERMEDIATE MODEL\n",
            "Epoch: 8\n",
            "train loss: 1.070\n",
            "train AUROC: 0.770\n",
            "valid loss: 1.110\n",
            "valid AUROC: 0.757\n",
            "BEST VALID LOSS: 1.1096211423476536\n",
            "BEST VALID AUROC: 0.7573187391141012\n",
            "UPDATED BEST INTERMEDIATE MODEL\n",
            "Epoch: 9\n",
            "train loss: 1.053\n",
            "train AUROC: 0.779\n",
            "valid loss: 1.099\n",
            "valid AUROC: 0.760\n",
            "BEST VALID LOSS: 1.098705068230629\n",
            "BEST VALID AUROC: 0.7604214336942045\n",
            "UPDATED BEST INTERMEDIATE MODEL\n"
          ]
        },
        {
          "data": {
            "text/plain": [
              "<All keys matched successfully>"
            ]
          },
          "execution_count": 20,
          "metadata": {},
          "output_type": "execute_result"
        },
        {
          "name": "stderr",
          "output_type": "stream",
          "text": [
            "\r  0%|          | 0/12 [00:00<?, ?it/s]\r  8%|▊         | 1/12 [00:00<00:01,  6.51it/s]\r 17%|█▋        | 2/12 [00:00<00:01,  6.33it/s]\r 25%|██▌       | 3/12 [00:00<00:01,  6.34it/s]\r 33%|███▎      | 4/12 [00:00<00:01,  6.39it/s]\r 42%|████▏     | 5/12 [00:00<00:01,  5.93it/s]\r 50%|█████     | 6/12 [00:00<00:01,  5.86it/s]\r 58%|█████▊    | 7/12 [00:01<00:00,  6.02it/s]\r 67%|██████▋   | 8/12 [00:01<00:00,  6.06it/s]\r 75%|███████▌  | 9/12 [00:01<00:00,  6.17it/s]\r 83%|████████▎ | 10/12 [00:01<00:00,  6.24it/s]\r 92%|█████████▏| 11/12 [00:01<00:00,  6.24it/s]\r100%|██████████| 12/12 [00:01<00:00,  6.66it/s]\n",
            "\r  0%|          | 0/1 [00:00<?, ?it/s]\r100%|██████████| 1/1 [00:00<00:00, 34.65it/s]\n",
            "\r  0%|          | 0/1 [00:00<?, ?it/s]\r100%|██████████| 1/1 [00:00<00:00,  8.92it/s]\r100%|██████████| 1/1 [00:00<00:00,  8.82it/s]\n"
          ]
        },
        {
          "data": {
            "text/plain": [
              "0"
            ]
          },
          "execution_count": 20,
          "metadata": {},
          "output_type": "execute_result"
        },
        {
          "name": "stderr",
          "output_type": "stream",
          "text": [
            "/tmp/ipykernel_27607/2723606158.py:188: FutureWarning: The frame.append method is deprecated and will be removed from pandas in a future version. Use pandas.concat instead.\n",
            "  results_df = results_df.append(new_row, ignore_index=True)\n",
            "/tmp/ipykernel_27607/2723606158.py:231: FutureWarning: The frame.append method is deprecated and will be removed from pandas in a future version. Use pandas.concat instead.\n",
            "  results_df = results_df.append(new_row, ignore_index=True)\n",
            "/tmp/ipykernel_27607/2723606158.py:274: FutureWarning: The frame.append method is deprecated and will be removed from pandas in a future version. Use pandas.concat instead.\n",
            "  results_df = results_df.append(new_row, ignore_index=True)\n",
            "100%|██████████| 89/89 [00:31<00:00,  2.81it/s]\n",
            "100%|██████████| 12/12 [00:01<00:00,  6.99it/s]\n",
            "100%|██████████| 89/89 [00:30<00:00,  2.92it/s]\n",
            "100%|██████████| 12/12 [00:01<00:00,  6.98it/s]\n",
            "100%|██████████| 89/89 [00:30<00:00,  2.93it/s]\n",
            "100%|██████████| 12/12 [00:01<00:00,  6.95it/s]\n",
            "100%|██████████| 89/89 [00:30<00:00,  2.92it/s]\n",
            "100%|██████████| 12/12 [00:01<00:00,  7.02it/s]\n",
            "100%|██████████| 89/89 [00:30<00:00,  2.96it/s]\n",
            "100%|██████████| 12/12 [00:01<00:00,  7.07it/s]\n",
            "100%|██████████| 89/89 [00:30<00:00,  2.92it/s]\n",
            "100%|██████████| 12/12 [00:01<00:00,  7.10it/s]\n",
            "100%|██████████| 89/89 [00:30<00:00,  2.96it/s]\n",
            "100%|██████████| 12/12 [00:01<00:00,  6.98it/s]\n",
            "100%|██████████| 89/89 [00:29<00:00,  2.98it/s]\n",
            "100%|██████████| 12/12 [00:01<00:00,  7.05it/s]\n",
            "100%|██████████| 89/89 [00:29<00:00,  2.98it/s]\n",
            "100%|██████████| 12/12 [00:01<00:00,  7.12it/s]\n",
            "100%|██████████| 89/89 [00:30<00:00,  2.96it/s]\n",
            "100%|██████████| 12/12 [00:01<00:00,  7.15it/s]\n"
          ]
        },
        {
          "name": "stdout",
          "output_type": "stream",
          "text": [
            "test predictions: 0.341\n",
            "test loss: 1.319\n",
            "test AUROC: 0.749\n",
            "test predictions 8: 0.285\n",
            "test loss 8: 0.784\n",
            "test AUROC 8: 0.383\n",
            "test predictions 45: 0.256\n",
            "test loss 45: 0.974\n",
            "test AUROC 45: 0.569\n",
            "Epoch: 0\n",
            "train loss: 1.208\n",
            "train AUROC: 0.672\n",
            "valid loss: 1.129\n",
            "valid AUROC: 0.701\n",
            "BEST VALID LOSS: 1.1291442414124806\n",
            "BEST VALID AUROC: 0.701134125656\n",
            "UPDATED BEST INTERMEDIATE MODEL\n",
            "Epoch: 1\n",
            "train loss: 1.144\n",
            "train AUROC: 0.724\n",
            "valid loss: 1.094\n",
            "valid AUROC: 0.725\n",
            "BEST VALID LOSS: 1.0940777485569317\n",
            "BEST VALID AUROC: 0.7254212060152773\n",
            "UPDATED BEST INTERMEDIATE MODEL\n",
            "Epoch: 2\n",
            "train loss: 1.122\n",
            "train AUROC: 0.739\n",
            "valid loss: 1.095\n",
            "valid AUROC: 0.738\n",
            "BEST VALID AUROC: 0.7380881231287639\n",
            "UPDATED BEST INTERMEDIATE MODEL\n",
            "Epoch: 3\n",
            "train loss: 1.108\n",
            "train AUROC: 0.749\n",
            "valid loss: 1.110\n",
            "valid AUROC: 0.731\n",
            "Epoch: 4\n",
            "train loss: 1.143\n",
            "train AUROC: 0.731\n",
            "valid loss: 1.082\n",
            "valid AUROC: 0.746\n",
            "BEST VALID LOSS: 1.0823510537544887\n",
            "BEST VALID AUROC: 0.7455241168903612\n",
            "UPDATED BEST INTERMEDIATE MODEL\n",
            "Epoch: 5\n",
            "train loss: 1.089\n",
            "train AUROC: 0.759\n",
            "valid loss: 1.071\n",
            "valid AUROC: 0.741\n",
            "BEST VALID LOSS: 1.0714923366904259\n",
            "Epoch: 6\n",
            "train loss: 1.095\n",
            "train AUROC: 0.758\n",
            "valid loss: 1.062\n",
            "valid AUROC: 0.753\n",
            "BEST VALID LOSS: 1.0618045230706532\n",
            "BEST VALID AUROC: 0.7526982798857053\n",
            "UPDATED BEST INTERMEDIATE MODEL\n",
            "Epoch: 7\n",
            "train loss: 1.073\n",
            "train AUROC: 0.769\n",
            "valid loss: 1.055\n",
            "valid AUROC: 0.755\n",
            "BEST VALID LOSS: 1.0545761634906132\n",
            "BEST VALID AUROC: 0.7549357945425361\n",
            "UPDATED BEST INTERMEDIATE MODEL\n",
            "Epoch: 8\n",
            "train loss: 1.073\n",
            "train AUROC: 0.770\n",
            "valid loss: 1.059\n",
            "valid AUROC: 0.757\n",
            "BEST VALID AUROC: 0.7565306854274102\n",
            "UPDATED BEST INTERMEDIATE MODEL\n",
            "Epoch: 9\n",
            "train loss: 1.067\n",
            "train AUROC: 0.774\n",
            "valid loss: 1.045\n",
            "valid AUROC: 0.760\n",
            "BEST VALID LOSS: 1.0448455239335697\n",
            "BEST VALID AUROC: 0.7598425600218572\n",
            "UPDATED BEST INTERMEDIATE MODEL\n"
          ]
        },
        {
          "data": {
            "text/plain": [
              "<All keys matched successfully>"
            ]
          },
          "execution_count": 20,
          "metadata": {},
          "output_type": "execute_result"
        },
        {
          "name": "stderr",
          "output_type": "stream",
          "text": [
            "100%|██████████| 12/12 [00:01<00:00,  7.02it/s]\n",
            "100%|██████████| 1/1 [00:00<00:00, 44.57it/s]\n",
            "100%|██████████| 1/1 [00:00<00:00, 10.08it/s]\n"
          ]
        },
        {
          "data": {
            "text/plain": [
              "0"
            ]
          },
          "execution_count": 20,
          "metadata": {},
          "output_type": "execute_result"
        },
        {
          "name": "stderr",
          "output_type": "stream",
          "text": [
            "/tmp/ipykernel_27607/2723606158.py:188: FutureWarning: The frame.append method is deprecated and will be removed from pandas in a future version. Use pandas.concat instead.\n",
            "  results_df = results_df.append(new_row, ignore_index=True)\n",
            "/tmp/ipykernel_27607/2723606158.py:231: FutureWarning: The frame.append method is deprecated and will be removed from pandas in a future version. Use pandas.concat instead.\n",
            "  results_df = results_df.append(new_row, ignore_index=True)\n",
            "/tmp/ipykernel_27607/2723606158.py:274: FutureWarning: The frame.append method is deprecated and will be removed from pandas in a future version. Use pandas.concat instead.\n",
            "  results_df = results_df.append(new_row, ignore_index=True)\n",
            "100%|██████████| 89/89 [00:30<00:00,  2.95it/s]\n",
            "100%|██████████| 12/12 [00:01<00:00,  6.99it/s]\n",
            "100%|██████████| 89/89 [00:29<00:00,  3.00it/s]\n",
            "100%|██████████| 12/12 [00:01<00:00,  6.44it/s]\n",
            "100%|██████████| 89/89 [00:32<00:00,  2.75it/s]\n",
            "100%|██████████| 12/12 [00:01<00:00,  6.87it/s]\n",
            "100%|██████████| 89/89 [00:31<00:00,  2.81it/s]\n",
            "100%|██████████| 12/12 [00:01<00:00,  7.15it/s]\n",
            "100%|██████████| 89/89 [00:30<00:00,  2.96it/s]\n",
            "100%|██████████| 12/12 [00:01<00:00,  7.15it/s]\n",
            "100%|██████████| 89/89 [00:29<00:00,  3.00it/s]\n",
            "100%|██████████| 12/12 [00:01<00:00,  7.18it/s]\n",
            "100%|██████████| 89/89 [00:29<00:00,  2.98it/s]\n",
            "100%|██████████| 12/12 [00:01<00:00,  7.14it/s]\n",
            "100%|██████████| 89/89 [00:29<00:00,  2.99it/s]\n",
            "100%|██████████| 12/12 [00:01<00:00,  7.20it/s]\n",
            "100%|██████████| 89/89 [00:29<00:00,  2.99it/s]\n",
            "100%|██████████| 12/12 [00:01<00:00,  7.18it/s]\n",
            "100%|██████████| 89/89 [00:29<00:00,  2.97it/s]\n",
            "100%|██████████| 12/12 [00:01<00:00,  7.18it/s]\n"
          ]
        },
        {
          "name": "stdout",
          "output_type": "stream",
          "text": [
            "test predictions: 0.295\n",
            "test loss: 1.259\n",
            "test AUROC: 0.742\n",
            "test predictions 8: 0.213\n",
            "test loss 8: 1.664\n",
            "test AUROC 8: 0.461\n",
            "test predictions 45: 0.218\n",
            "test loss 45: 1.307\n",
            "test AUROC 45: 0.600\n",
            "Epoch: 0\n",
            "train loss: 1.211\n",
            "train AUROC: 0.667\n",
            "valid loss: 1.175\n",
            "valid AUROC: 0.710\n",
            "BEST VALID LOSS: 1.1753203372160594\n",
            "BEST VALID AUROC: 0.7100204341837142\n",
            "UPDATED BEST INTERMEDIATE MODEL\n",
            "Epoch: 1\n",
            "train loss: 1.156\n",
            "train AUROC: 0.716\n",
            "valid loss: 1.164\n",
            "valid AUROC: 0.731\n",
            "BEST VALID LOSS: 1.1635485241810481\n",
            "BEST VALID AUROC: 0.7311954282071423\n",
            "UPDATED BEST INTERMEDIATE MODEL\n",
            "Epoch: 2\n",
            "train loss: 1.124\n",
            "train AUROC: 0.738\n",
            "valid loss: 1.149\n",
            "valid AUROC: 0.741\n",
            "BEST VALID LOSS: 1.1489960551261902\n",
            "BEST VALID AUROC: 0.74117061120408\n",
            "UPDATED BEST INTERMEDIATE MODEL\n",
            "Epoch: 3\n",
            "train loss: 1.114\n",
            "train AUROC: 0.744\n",
            "valid loss: 1.140\n",
            "valid AUROC: 0.744\n",
            "BEST VALID LOSS: 1.140350451072057\n",
            "BEST VALID AUROC: 0.7442567990619628\n",
            "UPDATED BEST INTERMEDIATE MODEL\n",
            "Epoch: 4\n",
            "train loss: 1.110\n",
            "train AUROC: 0.746\n",
            "valid loss: 1.142\n",
            "valid AUROC: 0.745\n",
            "BEST VALID AUROC: 0.7454105620254318\n",
            "UPDATED BEST INTERMEDIATE MODEL\n",
            "Epoch: 5\n",
            "train loss: 1.092\n",
            "train AUROC: 0.757\n",
            "valid loss: 1.127\n",
            "valid AUROC: 0.754\n",
            "BEST VALID LOSS: 1.1267348577578862\n",
            "BEST VALID AUROC: 0.7543919265052423\n",
            "UPDATED BEST INTERMEDIATE MODEL\n",
            "Epoch: 6\n",
            "train loss: 1.085\n",
            "train AUROC: 0.762\n",
            "valid loss: 1.157\n",
            "valid AUROC: 0.752\n",
            "Epoch: 7\n",
            "train loss: 1.079\n",
            "train AUROC: 0.768\n",
            "valid loss: 1.166\n",
            "valid AUROC: 0.752\n",
            "Epoch: 8\n",
            "train loss: 1.073\n",
            "train AUROC: 0.771\n",
            "valid loss: 1.143\n",
            "valid AUROC: 0.754\n",
            "Epoch: 9\n",
            "train loss: 1.056\n",
            "train AUROC: 0.777\n",
            "valid loss: 1.199\n",
            "valid AUROC: 0.757\n",
            "BEST VALID AUROC: 0.7573978575412953\n",
            "UPDATED BEST INTERMEDIATE MODEL\n"
          ]
        },
        {
          "data": {
            "text/plain": [
              "<All keys matched successfully>"
            ]
          },
          "execution_count": 20,
          "metadata": {},
          "output_type": "execute_result"
        },
        {
          "name": "stderr",
          "output_type": "stream",
          "text": [
            "100%|██████████| 12/12 [00:01<00:00,  7.06it/s]\n",
            "100%|██████████| 1/1 [00:00<00:00, 36.81it/s]\n",
            "100%|██████████| 1/1 [00:00<00:00,  8.56it/s]\n"
          ]
        },
        {
          "data": {
            "text/plain": [
              "0"
            ]
          },
          "execution_count": 20,
          "metadata": {},
          "output_type": "execute_result"
        },
        {
          "name": "stderr",
          "output_type": "stream",
          "text": [
            "/tmp/ipykernel_27607/2723606158.py:188: FutureWarning: The frame.append method is deprecated and will be removed from pandas in a future version. Use pandas.concat instead.\n",
            "  results_df = results_df.append(new_row, ignore_index=True)\n",
            "/tmp/ipykernel_27607/2723606158.py:231: FutureWarning: The frame.append method is deprecated and will be removed from pandas in a future version. Use pandas.concat instead.\n",
            "  results_df = results_df.append(new_row, ignore_index=True)\n",
            "/tmp/ipykernel_27607/2723606158.py:274: FutureWarning: The frame.append method is deprecated and will be removed from pandas in a future version. Use pandas.concat instead.\n",
            "  results_df = results_df.append(new_row, ignore_index=True)\n",
            "100%|██████████| 89/89 [00:29<00:00,  2.99it/s]\n",
            "100%|██████████| 12/12 [00:01<00:00,  7.11it/s]\n",
            "100%|██████████| 89/89 [00:29<00:00,  3.00it/s]\n",
            "100%|██████████| 12/12 [00:01<00:00,  7.01it/s]\n",
            "100%|██████████| 89/89 [00:29<00:00,  2.98it/s]\n",
            "100%|██████████| 12/12 [00:01<00:00,  7.08it/s]\n",
            "100%|██████████| 89/89 [00:29<00:00,  3.00it/s]\n",
            "100%|██████████| 12/12 [00:01<00:00,  7.16it/s]\n",
            "100%|██████████| 89/89 [00:29<00:00,  3.00it/s]\n",
            "100%|██████████| 12/12 [00:01<00:00,  7.05it/s]\n",
            "100%|██████████| 89/89 [00:29<00:00,  3.00it/s]\n",
            "100%|██████████| 12/12 [00:01<00:00,  7.07it/s]\n",
            "100%|██████████| 89/89 [00:29<00:00,  3.00it/s]\n",
            "100%|██████████| 12/12 [00:01<00:00,  7.19it/s]\n",
            "100%|██████████| 89/89 [00:29<00:00,  3.00it/s]\n",
            "100%|██████████| 12/12 [00:01<00:00,  7.03it/s]\n",
            "100%|██████████| 89/89 [00:29<00:00,  2.99it/s]\n",
            "100%|██████████| 12/12 [00:01<00:00,  7.15it/s]\n",
            "100%|██████████| 89/89 [00:29<00:00,  2.98it/s]\n",
            "100%|██████████| 12/12 [00:01<00:00,  7.19it/s]\n"
          ]
        },
        {
          "name": "stdout",
          "output_type": "stream",
          "text": [
            "test predictions: 0.253\n",
            "test loss: 1.186\n",
            "test AUROC: 0.749\n",
            "test predictions 8: 0.189\n",
            "test loss 8: 0.383\n",
            "test AUROC 8: 0.944\n",
            "test predictions 45: 0.187\n",
            "test loss 45: 0.923\n",
            "test AUROC 45: 0.677\n",
            "Epoch: 0\n",
            "train loss: 1.212\n",
            "train AUROC: 0.676\n",
            "valid loss: 1.172\n",
            "valid AUROC: 0.705\n",
            "BEST VALID LOSS: 1.1723968386650085\n",
            "BEST VALID AUROC: 0.7045939915531119\n",
            "UPDATED BEST INTERMEDIATE MODEL\n",
            "Epoch: 1\n",
            "train loss: 1.165\n",
            "train AUROC: 0.714\n",
            "valid loss: 1.157\n",
            "valid AUROC: 0.724\n",
            "BEST VALID LOSS: 1.1573457767566044\n",
            "BEST VALID AUROC: 0.7240135810480061\n",
            "UPDATED BEST INTERMEDIATE MODEL\n",
            "Epoch: 2\n",
            "train loss: 1.138\n",
            "train AUROC: 0.729\n",
            "valid loss: 1.151\n",
            "valid AUROC: 0.737\n",
            "BEST VALID LOSS: 1.1511441469192505\n",
            "BEST VALID AUROC: 0.736618740252496\n",
            "UPDATED BEST INTERMEDIATE MODEL\n",
            "Epoch: 3\n",
            "train loss: 1.109\n",
            "train AUROC: 0.749\n",
            "valid loss: 1.154\n",
            "valid AUROC: 0.736\n",
            "Epoch: 4\n",
            "train loss: 1.118\n",
            "train AUROC: 0.742\n",
            "valid loss: 1.149\n",
            "valid AUROC: 0.739\n",
            "BEST VALID LOSS: 1.1486188471317291\n",
            "BEST VALID AUROC: 0.7385841785913505\n",
            "UPDATED BEST INTERMEDIATE MODEL\n",
            "Epoch: 5\n",
            "train loss: 1.092\n",
            "train AUROC: 0.760\n",
            "valid loss: 1.163\n",
            "valid AUROC: 0.743\n",
            "BEST VALID AUROC: 0.7432237059298976\n",
            "UPDATED BEST INTERMEDIATE MODEL\n",
            "Epoch: 6\n",
            "train loss: 1.085\n",
            "train AUROC: 0.766\n",
            "valid loss: 1.199\n",
            "valid AUROC: 0.735\n",
            "Epoch: 7\n",
            "train loss: 1.117\n",
            "train AUROC: 0.749\n",
            "valid loss: 1.140\n",
            "valid AUROC: 0.751\n",
            "BEST VALID LOSS: 1.139570598800977\n",
            "BEST VALID AUROC: 0.7506551461129515\n",
            "UPDATED BEST INTERMEDIATE MODEL\n",
            "Epoch: 8\n",
            "train loss: 1.059\n",
            "train AUROC: 0.778\n",
            "valid loss: 1.136\n",
            "valid AUROC: 0.754\n",
            "BEST VALID LOSS: 1.136131505171458\n",
            "BEST VALID AUROC: 0.7535034094919345\n",
            "UPDATED BEST INTERMEDIATE MODEL\n",
            "Epoch: 9\n",
            "train loss: 1.052\n",
            "train AUROC: 0.782\n",
            "valid loss: 1.160\n",
            "valid AUROC: 0.756\n",
            "BEST VALID AUROC: 0.7561957128058012\n",
            "UPDATED BEST INTERMEDIATE MODEL\n"
          ]
        },
        {
          "data": {
            "text/plain": [
              "<All keys matched successfully>"
            ]
          },
          "execution_count": 20,
          "metadata": {},
          "output_type": "execute_result"
        },
        {
          "name": "stderr",
          "output_type": "stream",
          "text": [
            "\r  0%|          | 0/12 [00:00<?, ?it/s]\r  8%|▊         | 1/12 [00:00<00:01,  6.68it/s]\r 17%|█▋        | 2/12 [00:00<00:01,  6.62it/s]\r 25%|██▌       | 3/12 [00:00<00:01,  6.67it/s]\r 33%|███▎      | 4/12 [00:00<00:01,  6.67it/s]\r 42%|████▏     | 5/12 [00:00<00:01,  6.61it/s]\r 50%|█████     | 6/12 [00:00<00:00,  6.63it/s]\r 58%|█████▊    | 7/12 [00:01<00:00,  6.65it/s]\r 67%|██████▋   | 8/12 [00:01<00:00,  6.52it/s]\r 75%|███████▌  | 9/12 [00:01<00:00,  6.48it/s]\r 83%|████████▎ | 10/12 [00:01<00:00,  6.50it/s]\r 92%|█████████▏| 11/12 [00:01<00:00,  6.52it/s]\r100%|██████████| 12/12 [00:01<00:00,  7.10it/s]\n",
            "\r  0%|          | 0/1 [00:00<?, ?it/s]\r100%|██████████| 1/1 [00:00<00:00, 35.59it/s]\n",
            "\r  0%|          | 0/1 [00:00<?, ?it/s]\r100%|██████████| 1/1 [00:00<00:00,  8.81it/s]\r100%|██████████| 1/1 [00:00<00:00,  8.72it/s]\n"
          ]
        },
        {
          "data": {
            "text/plain": [
              "0"
            ]
          },
          "execution_count": 20,
          "metadata": {},
          "output_type": "execute_result"
        },
        {
          "name": "stderr",
          "output_type": "stream",
          "text": [
            "/tmp/ipykernel_27607/2723606158.py:188: FutureWarning: The frame.append method is deprecated and will be removed from pandas in a future version. Use pandas.concat instead.\n",
            "  results_df = results_df.append(new_row, ignore_index=True)\n",
            "/tmp/ipykernel_27607/2723606158.py:231: FutureWarning: The frame.append method is deprecated and will be removed from pandas in a future version. Use pandas.concat instead.\n",
            "  results_df = results_df.append(new_row, ignore_index=True)\n",
            "/tmp/ipykernel_27607/2723606158.py:274: FutureWarning: The frame.append method is deprecated and will be removed from pandas in a future version. Use pandas.concat instead.\n",
            "  results_df = results_df.append(new_row, ignore_index=True)\n",
            "100%|██████████| 89/89 [00:29<00:00,  3.01it/s]\n",
            "100%|██████████| 12/12 [00:01<00:00,  7.16it/s]\n",
            "100%|██████████| 89/89 [00:29<00:00,  3.00it/s]\n",
            "100%|██████████| 12/12 [00:01<00:00,  7.21it/s]\n",
            "100%|██████████| 89/89 [00:29<00:00,  3.00it/s]\n",
            "100%|██████████| 12/12 [00:01<00:00,  7.16it/s]\n",
            "100%|██████████| 89/89 [00:29<00:00,  2.98it/s]\n",
            "100%|██████████| 12/12 [00:01<00:00,  7.16it/s]\n",
            "100%|██████████| 89/89 [00:29<00:00,  3.02it/s]\n",
            "100%|██████████| 12/12 [00:01<00:00,  7.23it/s]\n",
            "100%|██████████| 89/89 [00:29<00:00,  3.00it/s]\n",
            "100%|██████████| 12/12 [00:01<00:00,  7.21it/s]\n",
            "100%|██████████| 89/89 [00:29<00:00,  3.02it/s]\n",
            "100%|██████████| 12/12 [00:01<00:00,  7.19it/s]\n",
            "100%|██████████| 89/89 [00:30<00:00,  2.95it/s]\n",
            "100%|██████████| 12/12 [00:01<00:00,  7.05it/s]\n",
            "100%|██████████| 89/89 [00:29<00:00,  3.01it/s]\n",
            "100%|██████████| 12/12 [00:01<00:00,  7.12it/s]\n",
            "100%|██████████| 89/89 [00:29<00:00,  2.98it/s]\n",
            "100%|██████████| 12/12 [00:01<00:00,  7.14it/s]\n"
          ]
        },
        {
          "name": "stdout",
          "output_type": "stream",
          "text": [
            "test predictions: 0.392\n",
            "test loss: 1.197\n",
            "test AUROC: 0.743\n",
            "test predictions 8: 0.274\n",
            "test loss 8: 2.036\n",
            "test AUROC 8: 0.468\n",
            "test predictions 45: 0.277\n",
            "test loss 45: 1.330\n",
            "test AUROC 45: 0.582\n",
            "Epoch: 0\n",
            "train loss: 1.213\n",
            "train AUROC: 0.668\n",
            "valid loss: 1.210\n",
            "valid AUROC: 0.695\n",
            "BEST VALID LOSS: 1.20969125131766\n",
            "BEST VALID AUROC: 0.6947229353245439\n",
            "UPDATED BEST INTERMEDIATE MODEL\n",
            "Epoch: 1\n",
            "train loss: 1.162\n",
            "train AUROC: 0.712\n",
            "valid loss: 1.162\n",
            "valid AUROC: 0.722\n",
            "BEST VALID LOSS: 1.1619826455911\n",
            "BEST VALID AUROC: 0.7215256867644859\n",
            "UPDATED BEST INTERMEDIATE MODEL\n",
            "Epoch: 2\n",
            "train loss: 1.131\n",
            "train AUROC: 0.737\n",
            "valid loss: 1.135\n",
            "valid AUROC: 0.736\n",
            "BEST VALID LOSS: 1.134886662165324\n",
            "BEST VALID AUROC: 0.7360517280725067\n",
            "UPDATED BEST INTERMEDIATE MODEL\n",
            "Epoch: 3\n",
            "train loss: 1.118\n",
            "train AUROC: 0.744\n",
            "valid loss: 1.133\n",
            "valid AUROC: 0.744\n",
            "BEST VALID LOSS: 1.1331208844979603\n",
            "BEST VALID AUROC: 0.7442341148277163\n",
            "UPDATED BEST INTERMEDIATE MODEL\n",
            "Epoch: 4\n",
            "train loss: 1.120\n",
            "train AUROC: 0.743\n",
            "valid loss: 1.119\n",
            "valid AUROC: 0.755\n",
            "BEST VALID LOSS: 1.1185621072848637\n",
            "BEST VALID AUROC: 0.7545116091666861\n",
            "UPDATED BEST INTERMEDIATE MODEL\n",
            "Epoch: 5\n",
            "train loss: 1.115\n",
            "train AUROC: 0.748\n",
            "valid loss: 1.117\n",
            "valid AUROC: 0.754\n",
            "BEST VALID LOSS: 1.1174886773029964\n",
            "Epoch: 6\n",
            "train loss: 1.098\n",
            "train AUROC: 0.757\n",
            "valid loss: 1.092\n",
            "valid AUROC: 0.759\n",
            "BEST VALID LOSS: 1.0919599483410518\n",
            "BEST VALID AUROC: 0.759109577854175\n",
            "UPDATED BEST INTERMEDIATE MODEL\n",
            "Epoch: 7\n",
            "train loss: 1.086\n",
            "train AUROC: 0.763\n",
            "valid loss: 1.101\n",
            "valid AUROC: 0.765\n",
            "BEST VALID AUROC: 0.7647065853473929\n",
            "UPDATED BEST INTERMEDIATE MODEL\n",
            "Epoch: 8\n",
            "train loss: 1.070\n",
            "train AUROC: 0.771\n",
            "valid loss: 1.096\n",
            "valid AUROC: 0.763\n",
            "Epoch: 9\n",
            "train loss: 1.058\n",
            "train AUROC: 0.778\n",
            "valid loss: 1.076\n",
            "valid AUROC: 0.774\n",
            "BEST VALID LOSS: 1.0756209790706635\n",
            "BEST VALID AUROC: 0.7743503971399777\n",
            "UPDATED BEST INTERMEDIATE MODEL\n"
          ]
        },
        {
          "data": {
            "text/plain": [
              "<All keys matched successfully>"
            ]
          },
          "execution_count": 20,
          "metadata": {},
          "output_type": "execute_result"
        },
        {
          "name": "stderr",
          "output_type": "stream",
          "text": [
            "100%|██████████| 12/12 [00:01<00:00,  7.15it/s]\n",
            "100%|██████████| 1/1 [00:00<00:00, 45.40it/s]\n",
            "100%|██████████| 1/1 [00:00<00:00,  9.07it/s]\n"
          ]
        },
        {
          "data": {
            "text/plain": [
              "0"
            ]
          },
          "execution_count": 20,
          "metadata": {},
          "output_type": "execute_result"
        },
        {
          "name": "stderr",
          "output_type": "stream",
          "text": [
            "/tmp/ipykernel_27607/2723606158.py:188: FutureWarning: The frame.append method is deprecated and will be removed from pandas in a future version. Use pandas.concat instead.\n",
            "  results_df = results_df.append(new_row, ignore_index=True)\n",
            "/tmp/ipykernel_27607/2723606158.py:231: FutureWarning: The frame.append method is deprecated and will be removed from pandas in a future version. Use pandas.concat instead.\n",
            "  results_df = results_df.append(new_row, ignore_index=True)\n",
            "/tmp/ipykernel_27607/2723606158.py:274: FutureWarning: The frame.append method is deprecated and will be removed from pandas in a future version. Use pandas.concat instead.\n",
            "  results_df = results_df.append(new_row, ignore_index=True)\n"
          ]
        },
        {
          "name": "stdout",
          "output_type": "stream",
          "text": [
            "test predictions: 0.389\n",
            "test loss: 1.224\n",
            "test AUROC: 0.741\n",
            "test predictions 8: 0.464\n",
            "test loss 8: 1.056\n",
            "test AUROC 8: 0.757\n",
            "test predictions 45: 0.369\n",
            "test loss 45: 1.395\n",
            "test AUROC 45: 0.569\n"
          ]
        }
      ],
      "source": [
        "# Random - all and rare\n",
        "\n",
        "# Run\n",
        "best_test_auroc = 0\n",
        "results_df = pd.DataFrame()\n",
        "for fold in range(10):\n",
        "    fold += 1\n",
        "    if fold < 10:\n",
        "        # Get train, validation and test sets\n",
        "        train_embeddings = feature_array[np.setdiff1d(train_index_dict[fold], test_index_dict[fold+1])]\n",
        "        val_embeddings = feature_array[test_index_dict[fold+1]]\n",
        "        test_embeddings = feature_array[test_index_dict[fold]]\n",
        "        test_embeddings_8 = feature_array[test_index_dict_8[fold]]\n",
        "        test_embeddings_45 = feature_array[test_index_dict_45[fold]]\n",
        "\n",
        "        train_labels = los_array[np.setdiff1d(train_index_dict[fold], test_index_dict[fold+1])]\n",
        "        val_labels = los_array[test_index_dict[fold+1]]\n",
        "        test_labels = los_array[test_index_dict[fold]]\n",
        "        test_labels_8 = los_array[test_index_dict_8[fold]]\n",
        "        test_labels_45 = los_array[test_index_dict_45[fold]]    \n",
        "\n",
        "        # Split masks\n",
        "        train_padding_mask = mask[np.setdiff1d(train_index_dict[fold], test_index_dict[fold+1])]\n",
        "        val_padding_mask = mask[test_index_dict[fold+1]]\n",
        "        test_padding_mask = mask[test_index_dict[fold]]\n",
        "        test_padding_mask_8 = mask[test_index_dict_8[fold]]\n",
        "        test_padding_mask_45 = mask[test_index_dict_45[fold]]\n",
        "\n",
        "    else: # Change here to fist cv split for final fold\n",
        "        # Get train, validation and test sets\n",
        "        train_embeddings = feature_array[np.setdiff1d(train_index_dict[fold], test_index_dict[1])]\n",
        "        val_embeddings = feature_array[test_index_dict[1]]\n",
        "        test_embeddings = feature_array[test_index_dict[fold]]\n",
        "        test_embeddings_8 = feature_array[test_index_dict_8[fold]]\n",
        "        test_embeddings_45 = feature_array[test_index_dict_45[fold]]\n",
        "\n",
        "        train_labels = los_array[np.setdiff1d(train_index_dict[fold], test_index_dict[1])]\n",
        "        val_labels = los_array[test_index_dict[1]]\n",
        "        test_labels = los_array[test_index_dict[fold]]\n",
        "        test_labels_8 = los_array[test_index_dict_8[fold]]\n",
        "        test_labels_45 = los_array[test_index_dict_45[fold]]\n",
        "\n",
        "        # Split masks\n",
        "        train_padding_mask = mask[np.setdiff1d(train_index_dict[fold], test_index_dict[1])]\n",
        "        val_padding_mask = mask[test_index_dict[1]]\n",
        "        test_padding_mask = mask[test_index_dict[fold]]\n",
        "        test_padding_mask_8 = mask[test_index_dict_8[fold]]\n",
        "        test_padding_mask_45 = mask[test_index_dict_45[fold]]\n",
        "    \n",
        "    # Create datasets\n",
        "    train_dataset = DiseaseDataset(train_embeddings.astype(np.float32), train_labels.astype(np.float32), train_padding_mask)\n",
        "    val_dataset = DiseaseDataset(val_embeddings.astype(np.float32), val_labels.astype(np.float32), val_padding_mask)\n",
        "    test_dataset = DiseaseDataset(test_embeddings.astype(np.float32), test_labels.astype(np.float32), test_padding_mask)\n",
        "    test_dataset_8 = DiseaseDataset(test_embeddings_8.astype(np.float32), test_labels_8.astype(np.float32), test_padding_mask_8)\n",
        "    test_dataset_45 = DiseaseDataset(test_embeddings_45.astype(np.float32), test_labels_45.astype(np.float32), test_padding_mask_45)\n",
        "\n",
        "    # Define batch size\n",
        "    batch_size = 512\n",
        "\n",
        "    # Create data loaders\n",
        "    train_loader = DataLoader(train_dataset, batch_size=batch_size, shuffle=True)\n",
        "    val_loader = DataLoader(val_dataset, batch_size=batch_size)\n",
        "    test_loader = DataLoader(test_dataset, batch_size=batch_size)\n",
        "    test_loader_8 = DataLoader(test_dataset_8, batch_size=batch_size)\n",
        "    test_loader_45 = DataLoader(test_dataset_45, batch_size=batch_size)\n",
        "\n",
        "    # Create weight for loss\n",
        "    unique, counts = np.unique(train_labels, return_counts=True)\n",
        "    pos_weight = torch.Tensor([(counts[0] / counts[1])])\n",
        "\n",
        "    # Define model\n",
        "    model = SetTransformer(dim_input=128, num_outputs=1, dim_output=1, num_inds=32, dim_hidden=160, num_heads=4, ln=False)\n",
        "\n",
        "    model = model.to(device)\n",
        "    criterion = nn.BCEWithLogitsLoss(pos_weight=pos_weight)\n",
        "    optimizer = optim.Adam(model.parameters(), lr=1e-4)\n",
        "\n",
        "    # Run\n",
        "    best_valid_loss = float('inf')\n",
        "    best_valid_auroc = 0\n",
        "    num_epochs = 10\n",
        "\n",
        "    for epoch in range(num_epochs):\n",
        "\n",
        "        start_time = time.time()\n",
        "\n",
        "        train_loss, train_auroc, train_predictions, train_labels_out, train_pma_final = train(model, train_loader, optimizer, criterion)\n",
        "        valid_loss, valid_auroc, valid_predictions, valid_labels_out, valid_pma_final = evaluate(model, val_loader, criterion)\n",
        "        \n",
        "        if epoch % 1 == 0:\n",
        "            print('Epoch:', epoch)\n",
        "            print(f'train loss: {train_loss:.3f}')\n",
        "            print(f'train AUROC: {train_auroc:.3f}')\n",
        "            print(f'valid loss: {valid_loss:.3f}')\n",
        "            print(f'valid AUROC: {valid_auroc:.3f}')\n",
        "        \n",
        "        end_time = time.time()\n",
        "\n",
        "        epoch_mins, epoch_secs = epoch_time(start_time, end_time)\n",
        "\n",
        "        if valid_loss < best_valid_loss:\n",
        "            best_valid_loss = valid_loss  \n",
        "            print('BEST VALID LOSS:', best_valid_loss)\n",
        "\n",
        "        if valid_auroc > best_valid_auroc:\n",
        "            best_valid_auroc = valid_auroc\n",
        "            print('BEST VALID AUROC:', best_valid_auroc)\n",
        "            print('UPDATED BEST INTERMEDIATE MODEL')\n",
        "            torch.save(model.state_dict(), f'intermediate_set_transformer_mortality.pt')\n",
        "\n",
        "    # -----------------------------\n",
        "    # Evaluate best model on test set\n",
        "    # -----------------------------\n",
        "\n",
        "    model.load_state_dict(torch.load(f'intermediate_set_transformer_mortality.pt'))\n",
        "\n",
        "    test_loss, test_auroc, test_predictions, test_labels_out, test_pma_final = evaluate(model, test_loader, criterion)\n",
        "    test_loss_8, test_auroc_8, test_predictions_8, test_labels_out_8, test_pma_final_8 = evaluate(model, test_loader_8, criterion)\n",
        "    test_loss_45, test_auroc_45, test_predictions_45, test_labels_out_45, test_pma_final_45 = evaluate(model, test_loader_45, criterion)\n",
        "\n",
        "    # del for memmory \n",
        "    del train_embeddings\n",
        "    del val_embeddings\n",
        "    del train_labels\n",
        "    del val_labels\n",
        "    del train_padding_mask\n",
        "    del val_padding_mask\n",
        "    del train_loader\n",
        "    del val_loader\n",
        "    del train_predictions\n",
        "    del train_labels_out\n",
        "    del train_pma_final\n",
        "    del valid_predictions\n",
        "    del valid_labels_out\n",
        "    del valid_pma_final\n",
        "    gc.collect()\n",
        "\n",
        "    print(f'test predictions: {test_predictions.mean().item():.3f}') \n",
        "    print(f'test loss: {test_loss:.3f}')\n",
        "    print(f'test AUROC: {test_auroc:.3f}')\n",
        "\n",
        "    print(f'test predictions 8: {test_predictions_8.mean().item():.3f}') \n",
        "    print(f'test loss 8: {test_loss_8:.3f}')\n",
        "    print(f'test AUROC 8: {test_auroc_8:.3f}')\n",
        "\n",
        "    print(f'test predictions 45: {test_predictions_45.mean().item():.3f}') \n",
        "    print(f'test loss 45: {test_loss_45:.3f}')\n",
        "    print(f'test AUROC 45: {test_auroc_45:.3f}')\n",
        "\n",
        "    if test_auroc > best_test_auroc:\n",
        "        best_test_auroc = test_auroc\n",
        "        print('BEST TEST AUROC:', best_test_auroc)\n",
        "        print('UPDATED BEST MODEL')\n",
        "        torch.save(model.state_dict(), f'set_transformer_random_mortality.pt')\n",
        "\n",
        "    # Get results\n",
        "    # AUC\n",
        "    aucroc = roc_auc_score(test_labels_out, test_predictions)\n",
        "    # Accuracy\n",
        "    accuracy = accuracy_score(test_labels_out, test_predictions.round())\n",
        "    # Precision\n",
        "    precision = precision_score(test_labels_out, test_predictions.round())\n",
        "    # Recall\n",
        "    recall = recall_score(test_labels_out, test_predictions.round())\n",
        "    # AUPRC\n",
        "    auprc = average_precision_score(test_labels_out, test_predictions)\n",
        "    # F1\n",
        "    f1 = f1_score(test_labels_out, test_predictions.round())\n",
        "    # TPR and FPR\n",
        "    cm = confusion_matrix(test_labels_out, test_predictions.round())\n",
        "    _tp = cm[0, 0]\n",
        "    _fn = cm[0, 1]\n",
        "    _fp = cm[1, 0]\n",
        "    _tn = cm[1, 1]\n",
        "    tpr = _tp / (_tp + _fn)\n",
        "    fpr = _fp / (_tn + _fp)\n",
        "\n",
        "    new_row = {'data': 'set', 'fold': fold, 'subset':'overall', 'AUROC': aucroc, 'accuracy': accuracy, 'precision': precision, 'recall': recall, 'F1': f1, 'AUPRC': auprc, 'TPR': tpr, 'FPR': fpr}\n",
        "    results_df = results_df.append(new_row, ignore_index=True)\n",
        "\n",
        "    # Get results - rare\n",
        "    # AUC\n",
        "    try:\n",
        "        aucroc = roc_auc_score(test_labels_out_8, test_predictions_8)\n",
        "    except:\n",
        "        aucroc = np.nan\n",
        "    # Accuracy\n",
        "    accuracy = accuracy_score(test_labels_out_8, test_predictions_8.round())\n",
        "    # Precision\n",
        "    precision = precision_score(test_labels_out_8, test_predictions_8.round())\n",
        "    # Recall\n",
        "    recall = recall_score(test_labels_out_8, test_predictions_8.round())\n",
        "    # AUPRC\n",
        "    try:\n",
        "        auprc = average_precision_score(test_labels_out_8, test_predictions_8)\n",
        "    except:\n",
        "        auprc = np.nan\n",
        "    # F1\n",
        "    f1 = f1_score(test_labels_out_8, test_predictions_8.round())\n",
        "    # TPR and FPR\n",
        "    cm = confusion_matrix(test_labels_out_8, test_predictions_8.round())\n",
        "    try:\n",
        "        _tp = cm[0, 0]\n",
        "    except:\n",
        "        _tp = np.nan\n",
        "    try:\n",
        "        _fn = cm[0, 1]\n",
        "    except:\n",
        "        _fn = np.nan\n",
        "    try:\n",
        "        _fp = cm[1, 0]\n",
        "    except:\n",
        "        _fp = np.nan\n",
        "    try:\n",
        "        _tn = cm[1, 1]\n",
        "    except:\n",
        "        _tn = np.nan\n",
        "    tpr = _tp / (_tp + _fn)\n",
        "    fpr = _fp / (_tn + _fp)\n",
        "\n",
        "    new_row = {'data': 'set', 'fold': fold, 'subset': 8, 'AUROC': aucroc, 'accuracy': accuracy, 'precision': precision, 'recall': recall, 'F1': f1, 'AUPRC': auprc, 'TPR': tpr, 'FPR': fpr}\n",
        "    results_df = results_df.append(new_row, ignore_index=True)\n",
        "\n",
        "    # Get results\n",
        "    # AUC\n",
        "    try:\n",
        "        aucroc = roc_auc_score(test_labels_out_45, test_predictions_45)\n",
        "    except:\n",
        "        aucroc = np.nan\n",
        "    # Accuracy\n",
        "    accuracy = accuracy_score(test_labels_out_45, test_predictions_45.round())\n",
        "    # Precision\n",
        "    precision = precision_score(test_labels_out_45, test_predictions_45.round())\n",
        "    # Recall\n",
        "    recall = recall_score(test_labels_out_45, test_predictions_45.round())\n",
        "    # AUPRC\n",
        "    try:\n",
        "        auprc = average_precision_score(test_labels_out_45, test_predictions_45)\n",
        "    except:\n",
        "        auprc = np.nan\n",
        "    # F1\n",
        "    f1 = f1_score(test_labels_out_45, test_predictions_45.round())\n",
        "    # TPR and FPR\n",
        "    cm = confusion_matrix(test_labels_out_45, test_predictions_45.round())\n",
        "    try:\n",
        "        _tp = cm[0, 0]\n",
        "    except:\n",
        "        _tp = np.nan\n",
        "    try:\n",
        "        _fn = cm[0, 1]\n",
        "    except:\n",
        "        _fn = np.nan\n",
        "    try:\n",
        "        _fp = cm[1, 0]\n",
        "    except:\n",
        "        _fp = np.nan\n",
        "    try:\n",
        "        _tn = cm[1, 1]\n",
        "    except:\n",
        "        _tn = np.nan\n",
        "    tpr = _tp / (_tp + _fn)\n",
        "    fpr = _fp / (_tn + _fp)\n",
        "\n",
        "    new_row = {'data': 'set', 'fold': fold, 'subset': 45, 'AUROC': aucroc, 'accuracy': accuracy, 'precision': precision, 'recall': recall, 'F1': f1, 'AUPRC': auprc, 'TPR': tpr, 'FPR': fpr}\n",
        "    results_df = results_df.append(new_row, ignore_index=True)\n"
      ]
    },
    {
      "cell_type": "code",
      "execution_count": 21,
      "metadata": {
        "gather": {
          "logged": 1699828116368
        },
        "jupyter": {
          "outputs_hidden": false,
          "source_hidden": false
        },
        "nteract": {
          "transient": {
            "deleting": false
          }
        }
      },
      "outputs": [
        {
          "data": {
            "text/html": [
              "<div>\n",
              "<style scoped>\n",
              "    .dataframe tbody tr th:only-of-type {\n",
              "        vertical-align: middle;\n",
              "    }\n",
              "\n",
              "    .dataframe tbody tr th {\n",
              "        vertical-align: top;\n",
              "    }\n",
              "\n",
              "    .dataframe thead th {\n",
              "        text-align: right;\n",
              "    }\n",
              "</style>\n",
              "<table border=\"1\" class=\"dataframe\">\n",
              "  <thead>\n",
              "    <tr style=\"text-align: right;\">\n",
              "      <th></th>\n",
              "      <th>data</th>\n",
              "      <th>fold</th>\n",
              "      <th>subset</th>\n",
              "      <th>AUROC</th>\n",
              "      <th>accuracy</th>\n",
              "      <th>precision</th>\n",
              "      <th>recall</th>\n",
              "      <th>F1</th>\n",
              "      <th>AUPRC</th>\n",
              "      <th>TPR</th>\n",
              "      <th>FPR</th>\n",
              "    </tr>\n",
              "  </thead>\n",
              "  <tbody>\n",
              "    <tr>\n",
              "      <th>0</th>\n",
              "      <td>set</td>\n",
              "      <td>1</td>\n",
              "      <td>overall</td>\n",
              "      <td>0.745206</td>\n",
              "      <td>0.598765</td>\n",
              "      <td>0.105434</td>\n",
              "      <td>0.790274</td>\n",
              "      <td>0.186047</td>\n",
              "      <td>0.133456</td>\n",
              "      <td>0.586969</td>\n",
              "      <td>0.209726</td>\n",
              "    </tr>\n",
              "    <tr>\n",
              "      <th>1</th>\n",
              "      <td>set</td>\n",
              "      <td>1</td>\n",
              "      <td>8</td>\n",
              "      <td>0.204225</td>\n",
              "      <td>0.527027</td>\n",
              "      <td>0.000000</td>\n",
              "      <td>0.000000</td>\n",
              "      <td>0.000000</td>\n",
              "      <td>0.032988</td>\n",
              "      <td>0.549296</td>\n",
              "      <td>1.000000</td>\n",
              "    </tr>\n",
              "    <tr>\n",
              "      <th>2</th>\n",
              "      <td>set</td>\n",
              "      <td>1</td>\n",
              "      <td>45</td>\n",
              "      <td>0.488339</td>\n",
              "      <td>0.615776</td>\n",
              "      <td>0.027027</td>\n",
              "      <td>0.363636</td>\n",
              "      <td>0.050314</td>\n",
              "      <td>0.119160</td>\n",
              "      <td>0.623037</td>\n",
              "      <td>0.636364</td>\n",
              "    </tr>\n",
              "    <tr>\n",
              "      <th>3</th>\n",
              "      <td>set</td>\n",
              "      <td>2</td>\n",
              "      <td>overall</td>\n",
              "      <td>0.755118</td>\n",
              "      <td>0.647972</td>\n",
              "      <td>0.116782</td>\n",
              "      <td>0.772036</td>\n",
              "      <td>0.202875</td>\n",
              "      <td>0.143531</td>\n",
              "      <td>0.640330</td>\n",
              "      <td>0.227964</td>\n",
              "    </tr>\n",
              "    <tr>\n",
              "      <th>4</th>\n",
              "      <td>set</td>\n",
              "      <td>2</td>\n",
              "      <td>8</td>\n",
              "      <td>0.776190</td>\n",
              "      <td>0.698630</td>\n",
              "      <td>0.086957</td>\n",
              "      <td>0.666667</td>\n",
              "      <td>0.153846</td>\n",
              "      <td>0.119744</td>\n",
              "      <td>0.700000</td>\n",
              "      <td>0.333333</td>\n",
              "    </tr>\n",
              "    <tr>\n",
              "      <th>5</th>\n",
              "      <td>set</td>\n",
              "      <td>2</td>\n",
              "      <td>45</td>\n",
              "      <td>0.698062</td>\n",
              "      <td>0.703046</td>\n",
              "      <td>0.066667</td>\n",
              "      <td>0.615385</td>\n",
              "      <td>0.120301</td>\n",
              "      <td>0.081267</td>\n",
              "      <td>0.706037</td>\n",
              "      <td>0.384615</td>\n",
              "    </tr>\n",
              "    <tr>\n",
              "      <th>6</th>\n",
              "      <td>set</td>\n",
              "      <td>3</td>\n",
              "      <td>overall</td>\n",
              "      <td>0.705928</td>\n",
              "      <td>0.489418</td>\n",
              "      <td>0.085354</td>\n",
              "      <td>0.800000</td>\n",
              "      <td>0.154251</td>\n",
              "      <td>0.122334</td>\n",
              "      <td>0.470225</td>\n",
              "      <td>0.200000</td>\n",
              "    </tr>\n",
              "    <tr>\n",
              "      <th>7</th>\n",
              "      <td>set</td>\n",
              "      <td>3</td>\n",
              "      <td>8</td>\n",
              "      <td>0.384470</td>\n",
              "      <td>0.342857</td>\n",
              "      <td>0.043478</td>\n",
              "      <td>0.500000</td>\n",
              "      <td>0.080000</td>\n",
              "      <td>0.054819</td>\n",
              "      <td>0.333333</td>\n",
              "      <td>0.500000</td>\n",
              "    </tr>\n",
              "    <tr>\n",
              "      <th>8</th>\n",
              "      <td>set</td>\n",
              "      <td>3</td>\n",
              "      <td>45</td>\n",
              "      <td>0.465427</td>\n",
              "      <td>0.373802</td>\n",
              "      <td>0.064677</td>\n",
              "      <td>0.619048</td>\n",
              "      <td>0.117117</td>\n",
              "      <td>0.105033</td>\n",
              "      <td>0.356164</td>\n",
              "      <td>0.380952</td>\n",
              "    </tr>\n",
              "    <tr>\n",
              "      <th>9</th>\n",
              "      <td>set</td>\n",
              "      <td>4</td>\n",
              "      <td>overall</td>\n",
              "      <td>0.722723</td>\n",
              "      <td>0.559083</td>\n",
              "      <td>0.095149</td>\n",
              "      <td>0.772727</td>\n",
              "      <td>0.169435</td>\n",
              "      <td>0.140080</td>\n",
              "      <td>0.545880</td>\n",
              "      <td>0.227273</td>\n",
              "    </tr>\n",
              "    <tr>\n",
              "      <th>10</th>\n",
              "      <td>set</td>\n",
              "      <td>4</td>\n",
              "      <td>8</td>\n",
              "      <td>0.480769</td>\n",
              "      <td>0.567901</td>\n",
              "      <td>0.029412</td>\n",
              "      <td>0.333333</td>\n",
              "      <td>0.054054</td>\n",
              "      <td>0.061494</td>\n",
              "      <td>0.576923</td>\n",
              "      <td>0.666667</td>\n",
              "    </tr>\n",
              "    <tr>\n",
              "      <th>11</th>\n",
              "      <td>set</td>\n",
              "      <td>4</td>\n",
              "      <td>45</td>\n",
              "      <td>0.547736</td>\n",
              "      <td>0.663957</td>\n",
              "      <td>0.025424</td>\n",
              "      <td>0.250000</td>\n",
              "      <td>0.046154</td>\n",
              "      <td>0.041915</td>\n",
              "      <td>0.677871</td>\n",
              "      <td>0.750000</td>\n",
              "    </tr>\n",
              "    <tr>\n",
              "      <th>12</th>\n",
              "      <td>set</td>\n",
              "      <td>5</td>\n",
              "      <td>overall</td>\n",
              "      <td>0.705892</td>\n",
              "      <td>0.410053</td>\n",
              "      <td>0.080201</td>\n",
              "      <td>0.872727</td>\n",
              "      <td>0.146901</td>\n",
              "      <td>0.135970</td>\n",
              "      <td>0.381461</td>\n",
              "      <td>0.127273</td>\n",
              "    </tr>\n",
              "    <tr>\n",
              "      <th>13</th>\n",
              "      <td>set</td>\n",
              "      <td>5</td>\n",
              "      <td>8</td>\n",
              "      <td>0.308642</td>\n",
              "      <td>0.261905</td>\n",
              "      <td>0.031746</td>\n",
              "      <td>0.666667</td>\n",
              "      <td>0.060606</td>\n",
              "      <td>0.033325</td>\n",
              "      <td>0.246914</td>\n",
              "      <td>0.333333</td>\n",
              "    </tr>\n",
              "    <tr>\n",
              "      <th>14</th>\n",
              "      <td>set</td>\n",
              "      <td>5</td>\n",
              "      <td>45</td>\n",
              "      <td>0.542510</td>\n",
              "      <td>0.394256</td>\n",
              "      <td>0.061224</td>\n",
              "      <td>0.882353</td>\n",
              "      <td>0.114504</td>\n",
              "      <td>0.048855</td>\n",
              "      <td>0.371585</td>\n",
              "      <td>0.117647</td>\n",
              "    </tr>\n",
              "    <tr>\n",
              "      <th>15</th>\n",
              "      <td>set</td>\n",
              "      <td>6</td>\n",
              "      <td>overall</td>\n",
              "      <td>0.748889</td>\n",
              "      <td>0.718469</td>\n",
              "      <td>0.122242</td>\n",
              "      <td>0.623100</td>\n",
              "      <td>0.204387</td>\n",
              "      <td>0.131900</td>\n",
              "      <td>0.724345</td>\n",
              "      <td>0.376900</td>\n",
              "    </tr>\n",
              "    <tr>\n",
              "      <th>16</th>\n",
              "      <td>set</td>\n",
              "      <td>6</td>\n",
              "      <td>8</td>\n",
              "      <td>0.382716</td>\n",
              "      <td>0.817073</td>\n",
              "      <td>0.000000</td>\n",
              "      <td>0.000000</td>\n",
              "      <td>0.000000</td>\n",
              "      <td>0.019608</td>\n",
              "      <td>0.827160</td>\n",
              "      <td>1.000000</td>\n",
              "    </tr>\n",
              "    <tr>\n",
              "      <th>17</th>\n",
              "      <td>set</td>\n",
              "      <td>6</td>\n",
              "      <td>45</td>\n",
              "      <td>0.569274</td>\n",
              "      <td>0.850543</td>\n",
              "      <td>0.058824</td>\n",
              "      <td>0.300000</td>\n",
              "      <td>0.098361</td>\n",
              "      <td>0.037476</td>\n",
              "      <td>0.865922</td>\n",
              "      <td>0.700000</td>\n",
              "    </tr>\n",
              "    <tr>\n",
              "      <th>18</th>\n",
              "      <td>set</td>\n",
              "      <td>7</td>\n",
              "      <td>overall</td>\n",
              "      <td>0.742211</td>\n",
              "      <td>0.787970</td>\n",
              "      <td>0.136553</td>\n",
              "      <td>0.498480</td>\n",
              "      <td>0.214379</td>\n",
              "      <td>0.136121</td>\n",
              "      <td>0.805805</td>\n",
              "      <td>0.501520</td>\n",
              "    </tr>\n",
              "    <tr>\n",
              "      <th>19</th>\n",
              "      <td>set</td>\n",
              "      <td>7</td>\n",
              "      <td>8</td>\n",
              "      <td>0.460784</td>\n",
              "      <td>0.859155</td>\n",
              "      <td>0.000000</td>\n",
              "      <td>0.000000</td>\n",
              "      <td>0.000000</td>\n",
              "      <td>0.059512</td>\n",
              "      <td>0.897059</td>\n",
              "      <td>1.000000</td>\n",
              "    </tr>\n",
              "    <tr>\n",
              "      <th>20</th>\n",
              "      <td>set</td>\n",
              "      <td>7</td>\n",
              "      <td>45</td>\n",
              "      <td>0.599870</td>\n",
              "      <td>0.868805</td>\n",
              "      <td>0.000000</td>\n",
              "      <td>0.000000</td>\n",
              "      <td>0.000000</td>\n",
              "      <td>0.053188</td>\n",
              "      <td>0.905775</td>\n",
              "      <td>1.000000</td>\n",
              "    </tr>\n",
              "    <tr>\n",
              "      <th>21</th>\n",
              "      <td>set</td>\n",
              "      <td>8</td>\n",
              "      <td>overall</td>\n",
              "      <td>0.748850</td>\n",
              "      <td>0.832069</td>\n",
              "      <td>0.141542</td>\n",
              "      <td>0.373860</td>\n",
              "      <td>0.205342</td>\n",
              "      <td>0.149619</td>\n",
              "      <td>0.860300</td>\n",
              "      <td>0.626140</td>\n",
              "    </tr>\n",
              "    <tr>\n",
              "      <th>22</th>\n",
              "      <td>set</td>\n",
              "      <td>8</td>\n",
              "      <td>8</td>\n",
              "      <td>0.944444</td>\n",
              "      <td>0.902174</td>\n",
              "      <td>0.181818</td>\n",
              "      <td>1.000000</td>\n",
              "      <td>0.307692</td>\n",
              "      <td>0.340909</td>\n",
              "      <td>0.900000</td>\n",
              "      <td>0.000000</td>\n",
              "    </tr>\n",
              "    <tr>\n",
              "      <th>23</th>\n",
              "      <td>set</td>\n",
              "      <td>8</td>\n",
              "      <td>45</td>\n",
              "      <td>0.677427</td>\n",
              "      <td>0.918782</td>\n",
              "      <td>0.080000</td>\n",
              "      <td>0.181818</td>\n",
              "      <td>0.111111</td>\n",
              "      <td>0.109907</td>\n",
              "      <td>0.939948</td>\n",
              "      <td>0.818182</td>\n",
              "    </tr>\n",
              "    <tr>\n",
              "      <th>24</th>\n",
              "      <td>set</td>\n",
              "      <td>9</td>\n",
              "      <td>overall</td>\n",
              "      <td>0.742797</td>\n",
              "      <td>0.633798</td>\n",
              "      <td>0.110219</td>\n",
              "      <td>0.750760</td>\n",
              "      <td>0.192218</td>\n",
              "      <td>0.117779</td>\n",
              "      <td>0.626592</td>\n",
              "      <td>0.249240</td>\n",
              "    </tr>\n",
              "    <tr>\n",
              "      <th>25</th>\n",
              "      <td>set</td>\n",
              "      <td>9</td>\n",
              "      <td>8</td>\n",
              "      <td>0.468354</td>\n",
              "      <td>0.809524</td>\n",
              "      <td>0.076923</td>\n",
              "      <td>0.200000</td>\n",
              "      <td>0.111111</td>\n",
              "      <td>0.073771</td>\n",
              "      <td>0.848101</td>\n",
              "      <td>0.800000</td>\n",
              "    </tr>\n",
              "    <tr>\n",
              "      <th>26</th>\n",
              "      <td>set</td>\n",
              "      <td>9</td>\n",
              "      <td>45</td>\n",
              "      <td>0.582042</td>\n",
              "      <td>0.823219</td>\n",
              "      <td>0.036364</td>\n",
              "      <td>0.125000</td>\n",
              "      <td>0.056338</td>\n",
              "      <td>0.053321</td>\n",
              "      <td>0.853994</td>\n",
              "      <td>0.875000</td>\n",
              "    </tr>\n",
              "    <tr>\n",
              "      <th>27</th>\n",
              "      <td>set</td>\n",
              "      <td>10</td>\n",
              "      <td>overall</td>\n",
              "      <td>0.740542</td>\n",
              "      <td>0.644029</td>\n",
              "      <td>0.106660</td>\n",
              "      <td>0.696049</td>\n",
              "      <td>0.184976</td>\n",
              "      <td>0.142565</td>\n",
              "      <td>0.640824</td>\n",
              "      <td>0.303951</td>\n",
              "    </tr>\n",
              "    <tr>\n",
              "      <th>28</th>\n",
              "      <td>set</td>\n",
              "      <td>10</td>\n",
              "      <td>8</td>\n",
              "      <td>0.757353</td>\n",
              "      <td>0.597222</td>\n",
              "      <td>0.121212</td>\n",
              "      <td>1.000000</td>\n",
              "      <td>0.216216</td>\n",
              "      <td>0.346970</td>\n",
              "      <td>0.573529</td>\n",
              "      <td>0.000000</td>\n",
              "    </tr>\n",
              "    <tr>\n",
              "      <th>29</th>\n",
              "      <td>set</td>\n",
              "      <td>10</td>\n",
              "      <td>45</td>\n",
              "      <td>0.569260</td>\n",
              "      <td>0.698324</td>\n",
              "      <td>0.074766</td>\n",
              "      <td>0.470588</td>\n",
              "      <td>0.129032</td>\n",
              "      <td>0.086140</td>\n",
              "      <td>0.709677</td>\n",
              "      <td>0.529412</td>\n",
              "    </tr>\n",
              "  </tbody>\n",
              "</table>\n",
              "</div>"
            ],
            "text/plain": [
              "   data  fold   subset     AUROC  accuracy  precision    recall        F1     AUPRC       TPR       FPR\n",
              "0   set     1  overall  0.745206  0.598765   0.105434  0.790274  0.186047  0.133456  0.586969  0.209726\n",
              "1   set     1        8  0.204225  0.527027   0.000000  0.000000  0.000000  0.032988  0.549296  1.000000\n",
              "2   set     1       45  0.488339  0.615776   0.027027  0.363636  0.050314  0.119160  0.623037  0.636364\n",
              "3   set     2  overall  0.755118  0.647972   0.116782  0.772036  0.202875  0.143531  0.640330  0.227964\n",
              "4   set     2        8  0.776190  0.698630   0.086957  0.666667  0.153846  0.119744  0.700000  0.333333\n",
              "5   set     2       45  0.698062  0.703046   0.066667  0.615385  0.120301  0.081267  0.706037  0.384615\n",
              "6   set     3  overall  0.705928  0.489418   0.085354  0.800000  0.154251  0.122334  0.470225  0.200000\n",
              "7   set     3        8  0.384470  0.342857   0.043478  0.500000  0.080000  0.054819  0.333333  0.500000\n",
              "8   set     3       45  0.465427  0.373802   0.064677  0.619048  0.117117  0.105033  0.356164  0.380952\n",
              "9   set     4  overall  0.722723  0.559083   0.095149  0.772727  0.169435  0.140080  0.545880  0.227273\n",
              "10  set     4        8  0.480769  0.567901   0.029412  0.333333  0.054054  0.061494  0.576923  0.666667\n",
              "11  set     4       45  0.547736  0.663957   0.025424  0.250000  0.046154  0.041915  0.677871  0.750000\n",
              "12  set     5  overall  0.705892  0.410053   0.080201  0.872727  0.146901  0.135970  0.381461  0.127273\n",
              "13  set     5        8  0.308642  0.261905   0.031746  0.666667  0.060606  0.033325  0.246914  0.333333\n",
              "14  set     5       45  0.542510  0.394256   0.061224  0.882353  0.114504  0.048855  0.371585  0.117647\n",
              "15  set     6  overall  0.748889  0.718469   0.122242  0.623100  0.204387  0.131900  0.724345  0.376900\n",
              "16  set     6        8  0.382716  0.817073   0.000000  0.000000  0.000000  0.019608  0.827160  1.000000\n",
              "17  set     6       45  0.569274  0.850543   0.058824  0.300000  0.098361  0.037476  0.865922  0.700000\n",
              "18  set     7  overall  0.742211  0.787970   0.136553  0.498480  0.214379  0.136121  0.805805  0.501520\n",
              "19  set     7        8  0.460784  0.859155   0.000000  0.000000  0.000000  0.059512  0.897059  1.000000\n",
              "20  set     7       45  0.599870  0.868805   0.000000  0.000000  0.000000  0.053188  0.905775  1.000000\n",
              "21  set     8  overall  0.748850  0.832069   0.141542  0.373860  0.205342  0.149619  0.860300  0.626140\n",
              "22  set     8        8  0.944444  0.902174   0.181818  1.000000  0.307692  0.340909  0.900000  0.000000\n",
              "23  set     8       45  0.677427  0.918782   0.080000  0.181818  0.111111  0.109907  0.939948  0.818182\n",
              "24  set     9  overall  0.742797  0.633798   0.110219  0.750760  0.192218  0.117779  0.626592  0.249240\n",
              "25  set     9        8  0.468354  0.809524   0.076923  0.200000  0.111111  0.073771  0.848101  0.800000\n",
              "26  set     9       45  0.582042  0.823219   0.036364  0.125000  0.056338  0.053321  0.853994  0.875000\n",
              "27  set    10  overall  0.740542  0.644029   0.106660  0.696049  0.184976  0.142565  0.640824  0.303951\n",
              "28  set    10        8  0.757353  0.597222   0.121212  1.000000  0.216216  0.346970  0.573529  0.000000\n",
              "29  set    10       45  0.569260  0.698324   0.074766  0.470588  0.129032  0.086140  0.709677  0.529412"
            ]
          },
          "execution_count": 21,
          "metadata": {},
          "output_type": "execute_result"
        }
      ],
      "source": [
        "results_df"
      ]
    },
    {
      "cell_type": "code",
      "execution_count": 22,
      "metadata": {
        "gather": {
          "logged": 1699828116887
        },
        "jupyter": {
          "outputs_hidden": false,
          "source_hidden": false
        },
        "nteract": {
          "transient": {
            "deleting": false
          }
        }
      },
      "outputs": [
        {
          "data": {
            "text/html": [
              "<div>\n",
              "<style scoped>\n",
              "    .dataframe tbody tr th:only-of-type {\n",
              "        vertical-align: middle;\n",
              "    }\n",
              "\n",
              "    .dataframe tbody tr th {\n",
              "        vertical-align: top;\n",
              "    }\n",
              "\n",
              "    .dataframe thead th {\n",
              "        text-align: right;\n",
              "    }\n",
              "</style>\n",
              "<table border=\"1\" class=\"dataframe\">\n",
              "  <thead>\n",
              "    <tr style=\"text-align: right;\">\n",
              "      <th></th>\n",
              "      <th></th>\n",
              "      <th>fold</th>\n",
              "      <th>AUROC</th>\n",
              "      <th>accuracy</th>\n",
              "      <th>precision</th>\n",
              "      <th>recall</th>\n",
              "      <th>F1</th>\n",
              "      <th>AUPRC</th>\n",
              "      <th>TPR</th>\n",
              "      <th>FPR</th>\n",
              "    </tr>\n",
              "    <tr>\n",
              "      <th>data</th>\n",
              "      <th>subset</th>\n",
              "      <th></th>\n",
              "      <th></th>\n",
              "      <th></th>\n",
              "      <th></th>\n",
              "      <th></th>\n",
              "      <th></th>\n",
              "      <th></th>\n",
              "      <th></th>\n",
              "      <th></th>\n",
              "    </tr>\n",
              "  </thead>\n",
              "  <tbody>\n",
              "    <tr>\n",
              "      <th rowspan=\"3\" valign=\"top\">set</th>\n",
              "      <th>8</th>\n",
              "      <td>5.5</td>\n",
              "      <td>0.516795</td>\n",
              "      <td>0.638347</td>\n",
              "      <td>0.057155</td>\n",
              "      <td>0.436667</td>\n",
              "      <td>0.098353</td>\n",
              "      <td>0.114314</td>\n",
              "      <td>0.645232</td>\n",
              "      <td>0.563333</td>\n",
              "    </tr>\n",
              "    <tr>\n",
              "      <th>45</th>\n",
              "      <td>5.5</td>\n",
              "      <td>0.573995</td>\n",
              "      <td>0.691051</td>\n",
              "      <td>0.049497</td>\n",
              "      <td>0.380783</td>\n",
              "      <td>0.084323</td>\n",
              "      <td>0.073626</td>\n",
              "      <td>0.701001</td>\n",
              "      <td>0.619217</td>\n",
              "    </tr>\n",
              "    <tr>\n",
              "      <th>overall</th>\n",
              "      <td>5.5</td>\n",
              "      <td>0.735816</td>\n",
              "      <td>0.632163</td>\n",
              "      <td>0.110014</td>\n",
              "      <td>0.695001</td>\n",
              "      <td>0.186081</td>\n",
              "      <td>0.135336</td>\n",
              "      <td>0.628273</td>\n",
              "      <td>0.304999</td>\n",
              "    </tr>\n",
              "  </tbody>\n",
              "</table>\n",
              "</div>"
            ],
            "text/plain": [
              "              fold     AUROC  accuracy  precision    recall        F1     AUPRC       TPR       FPR\n",
              "data subset                                                                                        \n",
              "set  8         5.5  0.516795  0.638347   0.057155  0.436667  0.098353  0.114314  0.645232  0.563333\n",
              "     45        5.5  0.573995  0.691051   0.049497  0.380783  0.084323  0.073626  0.701001  0.619217\n",
              "     overall   5.5  0.735816  0.632163   0.110014  0.695001  0.186081  0.135336  0.628273  0.304999"
            ]
          },
          "execution_count": 22,
          "metadata": {},
          "output_type": "execute_result"
        },
        {
          "data": {
            "text/html": [
              "<div>\n",
              "<style scoped>\n",
              "    .dataframe tbody tr th:only-of-type {\n",
              "        vertical-align: middle;\n",
              "    }\n",
              "\n",
              "    .dataframe tbody tr th {\n",
              "        vertical-align: top;\n",
              "    }\n",
              "\n",
              "    .dataframe thead th {\n",
              "        text-align: right;\n",
              "    }\n",
              "</style>\n",
              "<table border=\"1\" class=\"dataframe\">\n",
              "  <thead>\n",
              "    <tr style=\"text-align: right;\">\n",
              "      <th></th>\n",
              "      <th></th>\n",
              "      <th>fold</th>\n",
              "      <th>AUROC</th>\n",
              "      <th>accuracy</th>\n",
              "      <th>precision</th>\n",
              "      <th>recall</th>\n",
              "      <th>F1</th>\n",
              "      <th>AUPRC</th>\n",
              "      <th>TPR</th>\n",
              "      <th>FPR</th>\n",
              "    </tr>\n",
              "    <tr>\n",
              "      <th>data</th>\n",
              "      <th>subset</th>\n",
              "      <th></th>\n",
              "      <th></th>\n",
              "      <th></th>\n",
              "      <th></th>\n",
              "      <th></th>\n",
              "      <th></th>\n",
              "      <th></th>\n",
              "      <th></th>\n",
              "      <th></th>\n",
              "    </tr>\n",
              "  </thead>\n",
              "  <tbody>\n",
              "    <tr>\n",
              "      <th rowspan=\"3\" valign=\"top\">set</th>\n",
              "      <th>8</th>\n",
              "      <td>3.02765</td>\n",
              "      <td>0.233651</td>\n",
              "      <td>0.218914</td>\n",
              "      <td>0.059931</td>\n",
              "      <td>0.392035</td>\n",
              "      <td>0.102035</td>\n",
              "      <td>0.124107</td>\n",
              "      <td>0.231067</td>\n",
              "      <td>0.392035</td>\n",
              "    </tr>\n",
              "    <tr>\n",
              "      <th>45</th>\n",
              "      <td>3.02765</td>\n",
              "      <td>0.072782</td>\n",
              "      <td>0.189061</td>\n",
              "      <td>0.025875</td>\n",
              "      <td>0.267785</td>\n",
              "      <td>0.043078</td>\n",
              "      <td>0.030454</td>\n",
              "      <td>0.206499</td>\n",
              "      <td>0.267785</td>\n",
              "    </tr>\n",
              "    <tr>\n",
              "      <th>overall</th>\n",
              "      <td>3.02765</td>\n",
              "      <td>0.017869</td>\n",
              "      <td>0.128342</td>\n",
              "      <td>0.020121</td>\n",
              "      <td>0.154091</td>\n",
              "      <td>0.022738</td>\n",
              "      <td>0.009659</td>\n",
              "      <td>0.145021</td>\n",
              "      <td>0.154091</td>\n",
              "    </tr>\n",
              "  </tbody>\n",
              "</table>\n",
              "</div>"
            ],
            "text/plain": [
              "                 fold     AUROC  accuracy  precision    recall        F1     AUPRC       TPR       FPR\n",
              "data subset                                                                                           \n",
              "set  8        3.02765  0.233651  0.218914   0.059931  0.392035  0.102035  0.124107  0.231067  0.392035\n",
              "     45       3.02765  0.072782  0.189061   0.025875  0.267785  0.043078  0.030454  0.206499  0.267785\n",
              "     overall  3.02765  0.017869  0.128342   0.020121  0.154091  0.022738  0.009659  0.145021  0.154091"
            ]
          },
          "execution_count": 22,
          "metadata": {},
          "output_type": "execute_result"
        }
      ],
      "source": [
        "results_df.groupby(['data', 'subset']).mean()\n",
        "results_df.groupby(['data', 'subset']).std()"
      ]
    }
  ],
  "metadata": {
    "kernel_info": {
      "name": "python310-sdkv2"
    },
    "kernelspec": {
      "display_name": "Python 3.10 - SDK v2",
      "language": "python",
      "name": "python310-sdkv2"
    },
    "language_info": {
      "codemirror_mode": {
        "name": "ipython",
        "version": 3
      },
      "file_extension": ".py",
      "mimetype": "text/x-python",
      "name": "python",
      "nbconvert_exporter": "python",
      "pygments_lexer": "ipython3",
      "version": "3.10.11"
    },
    "microsoft": {
      "host": {
        "AzureML": {
          "notebookHasBeenCompleted": true
        }
      },
      "ms_spell_check": {
        "ms_spell_check_language": "en"
      }
    },
    "nteract": {
      "version": "nteract-front-end@1.0.0"
    }
  },
  "nbformat": 4,
  "nbformat_minor": 2
}
