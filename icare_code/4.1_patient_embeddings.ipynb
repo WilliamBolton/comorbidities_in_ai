{
  "cells": [
    {
      "cell_type": "code",
      "execution_count": 1,
      "metadata": {
        "gather": {
          "logged": 1688664106032
        }
      },
      "outputs": [],
      "source": [
        "# Libraries\n",
        "import pandas as pd\n",
        "pd.set_option('display.max_columns', 40)\n",
        "pd.set_option('display.width', 2000)\n",
        "\n",
        "from IPython.core.interactiveshell import InteractiveShell\n",
        "InteractiveShell.ast_node_interactivity = \"all\""
      ]
    },
    {
      "cell_type": "code",
      "execution_count": 2,
      "metadata": {
        "gather": {
          "logged": 1688664106375
        },
        "jupyter": {
          "outputs_hidden": false,
          "source_hidden": false
        },
        "nteract": {
          "transient": {
            "deleting": false
          }
        }
      },
      "outputs": [],
      "source": [
        "# Import\n",
        "path = r'data/final_trimmed_snomed_embedding_128d.csv'\n",
        "embedding = pd.read_csv(path)\n",
        "\n",
        "# Import\n",
        "path = r'data/final_problem_dummies.csv'\n",
        "problem_dummies = pd.read_csv(path)"
      ]
    },
    {
      "cell_type": "code",
      "execution_count": 5,
      "metadata": {
        "gather": {
          "logged": 1684415022894
        },
        "jupyter": {
          "outputs_hidden": false,
          "source_hidden": false
        },
        "nteract": {
          "transient": {
            "deleting": false
          }
        }
      },
      "outputs": [],
      "source": [
        "# Conver to string\n",
        "embedding['snomed_code'] = embedding['snomed_code'].astype(str)\n",
        "# Drop columns\n",
        "problem_dummies.drop(columns=['SUBJECT', 'PROBLEM_DT_TM'], inplace=True)\n",
        "# Remove prefix\n",
        "problem_dummies.columns = problem_dummies.columns.str.strip('PROBLEM_')\n",
        "# Set index\n",
        "problem_dummies.set_index('new_subject', inplace=True)"
      ]
    },
    {
      "cell_type": "code",
      "execution_count": 7,
      "metadata": {
        "gather": {
          "logged": 1684417278645
        },
        "jupyter": {
          "outputs_hidden": false,
          "source_hidden": false
        },
        "nteract": {
          "transient": {
            "deleting": false
          }
        }
      },
      "outputs": [
        {
          "name": "stdout",
          "output_type": "stream",
          "text": [
            "0\n",
            "10000\n",
            "20000\n",
            "30000\n",
            "40000\n",
            "50000\n",
            "60000\n",
            "70000\n",
            "80000\n",
            "90000\n"
          ]
        }
      ],
      "source": [
        "# Work out patient embeddings - mean\n",
        "patients_embeddings = pd.DataFrame()\n",
        "for index, row in problem_dummies.iterrows():\n",
        "    if index % 10000 == 0:\n",
        "        print(index)\n",
        "    patient_df = pd.DataFrame()\n",
        "    # Get problems the patient has\n",
        "    codes = row[row == 1].index.tolist()\n",
        "    for problem in codes:\n",
        "        # Get embedding of the problem \n",
        "        temp_df = embedding[embedding['snomed_code'] == problem]\n",
        "        patient_df = pd.concat([patient_df, temp_df.drop(columns=['snomed_code'])], ignore_index=True)\n",
        "       \n",
        "    temp_df = pd.DataFrame(patient_df.mean()).transpose()\n",
        "    patients_embeddings = pd.concat([patients_embeddings, temp_df], ignore_index=True)\n",
        "patients_embeddings.index = problem_dummies.index"
      ]
    },
    {
      "cell_type": "code",
      "execution_count": 17,
      "metadata": {
        "gather": {
          "logged": 1684229699382
        },
        "jupyter": {
          "outputs_hidden": false,
          "source_hidden": false
        },
        "nteract": {
          "transient": {
            "deleting": false
          }
        }
      },
      "outputs": [],
      "source": [
        "# Save\n",
        "#patients_embeddings.to_csv('trimmed_patient_embedding_128d.csv')"
      ]
    },
    {
      "cell_type": "code",
      "execution_count": 7,
      "metadata": {
        "gather": {
          "logged": 1684314755395
        },
        "jupyter": {
          "outputs_hidden": false,
          "source_hidden": false
        },
        "nteract": {
          "transient": {
            "deleting": false
          }
        }
      },
      "outputs": [
        {
          "name": "stdout",
          "output_type": "stream",
          "text": [
            "0\n",
            "10000\n",
            "20000\n",
            "30000\n",
            "40000\n",
            "50000\n",
            "60000\n",
            "70000\n",
            "80000\n",
            "90000\n"
          ]
        }
      ],
      "source": [
        "# Work out patient embeddings - sum\n",
        "patients_embeddings = pd.DataFrame()\n",
        "for index, row in problem_dummies.iterrows():\n",
        "    if index % 10000 == 0:\n",
        "        print(index)\n",
        "    patient_df = pd.DataFrame()\n",
        "    # Get problems the patient has\n",
        "    codes = row[row == 1].index.tolist()\n",
        "    for problem in codes:\n",
        "        # Get embedding of the problem \n",
        "        temp_df = embedding[embedding['snomed_code'] == problem]\n",
        "        patient_df = pd.concat([patient_df, temp_df.drop(columns=['snomed_code'])], ignore_index=True)\n",
        "       \n",
        "    temp_df = pd.DataFrame(patient_df.sum()).transpose()\n",
        "    patients_embeddings = pd.concat([patients_embeddings, temp_df], ignore_index=True)\n",
        "patients_embeddings.index = problem_dummies.index"
      ]
    },
    {
      "cell_type": "code",
      "execution_count": 9,
      "metadata": {
        "gather": {
          "logged": 1684314902560
        },
        "jupyter": {
          "outputs_hidden": false,
          "source_hidden": false
        },
        "nteract": {
          "transient": {
            "deleting": false
          }
        }
      },
      "outputs": [],
      "source": [
        "# Save\n",
        "#patients_embeddings.to_csv('trimmed_patient_embedding_128d_sum.csv')"
      ]
    }
  ],
  "metadata": {
    "kernel_info": {
      "name": "python310-sdkv2"
    },
    "kernelspec": {
      "display_name": "Python 3.10 - SDK V2",
      "language": "python",
      "name": "python310-sdkv2"
    },
    "language_info": {
      "codemirror_mode": {
        "name": "ipython",
        "version": 3
      },
      "file_extension": ".py",
      "mimetype": "text/x-python",
      "name": "python",
      "nbconvert_exporter": "python",
      "pygments_lexer": "ipython3",
      "version": "3.10.6"
    },
    "microsoft": {
      "host": {
        "AzureML": {
          "notebookHasBeenCompleted": true
        }
      },
      "ms_spell_check": {
        "ms_spell_check_language": "en"
      }
    },
    "nteract": {
      "version": "nteract-front-end@1.0.0"
    }
  },
  "nbformat": 4,
  "nbformat_minor": 2
}
