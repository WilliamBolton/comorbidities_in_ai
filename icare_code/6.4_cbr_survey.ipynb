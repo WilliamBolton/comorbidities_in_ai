{
  "cells": [
    {
      "cell_type": "code",
      "execution_count": 1,
      "metadata": {
        "gather": {
          "logged": 1694182820463
        }
      },
      "outputs": [],
      "source": [
        "# Libraries\n",
        "import pandas as pd\n",
        "pd.set_option('display.max_columns', 40)\n",
        "pd.set_option('display.width', 2000)\n",
        "import random\n",
        "from scipy import spatial\n",
        "\n",
        "from IPython.core.interactiveshell import InteractiveShell\n",
        "InteractiveShell.ast_node_interactivity = \"all\""
      ]
    },
    {
      "cell_type": "markdown",
      "metadata": {},
      "source": [
        "Run"
      ]
    },
    {
      "cell_type": "code",
      "execution_count": 17,
      "metadata": {
        "gather": {
          "logged": 1694184212741
        },
        "jupyter": {
          "outputs_hidden": false,
          "source_hidden": false
        },
        "nteract": {
          "transient": {
            "deleting": false
          }
        }
      },
      "outputs": [],
      "source": [
        "# Import\n",
        "path = r'data/cbr_metric_my_method.csv'\n",
        "cbr_metric_my_method = pd.read_csv(path, index_col=0)"
      ]
    },
    {
      "cell_type": "code",
      "execution_count": 19,
      "metadata": {
        "gather": {
          "logged": 1694184222745
        },
        "jupyter": {
          "outputs_hidden": false,
          "source_hidden": false
        },
        "nteract": {
          "transient": {
            "deleting": false
          }
        }
      },
      "outputs": [],
      "source": [
        "# get random codes / patients to use in survey\n",
        "index_list = cbr_metric_my_method.index.to_list()\n",
        "random.shuffle(index_list)\n",
        "final_index_list = index_list[:10]"
      ]
    },
    {
      "cell_type": "code",
      "execution_count": 76,
      "metadata": {
        "gather": {
          "logged": 1694188446156
        },
        "jupyter": {
          "outputs_hidden": false,
          "source_hidden": false
        },
        "nteract": {
          "transient": {
            "deleting": false
          }
        }
      },
      "outputs": [],
      "source": [
        "# Import\n",
        "path = r'data/final_problem_dummies.csv'\n",
        "problem_dummies = pd.read_csv(path)\n",
        "# Drop columns\n",
        "problem_dummies.drop(columns=['SUBJECT', 'PROBLEM_DT_TM'], inplace=True)\n",
        "# Remove prefix\n",
        "problem_dummies.columns = problem_dummies.columns.str.strip('PROBLEM_')\n",
        "# Set index\n",
        "problem_dummies.set_index('new_subject', inplace=True)"
      ]
    },
    {
      "cell_type": "code",
      "execution_count": null,
      "metadata": {
        "gather": {
          "logged": 1694172877719
        },
        "jupyter": {
          "outputs_hidden": false,
          "source_hidden": false
        },
        "nteract": {
          "transient": {
            "deleting": false
          }
        }
      },
      "outputs": [],
      "source": [
        "# One hot method\n",
        "\n",
        "# Get closest point for each subject\n",
        "for n in final_index_list:\n",
        "    distance, index = spatial.KDTree(problem_dummies).query(problem_dummies.iloc[n], k=2)\n",
        "    print(n)\n",
        "    print(index, distance)"
      ]
    },
    {
      "cell_type": "code",
      "execution_count": 41,
      "metadata": {
        "gather": {
          "logged": 1694186218175
        },
        "jupyter": {
          "outputs_hidden": false,
          "source_hidden": false
        },
        "nteract": {
          "transient": {
            "deleting": false
          }
        }
      },
      "outputs": [],
      "source": [
        "# Import\n",
        "path = r'data/trimmed_patient_embedding_128d.csv'\n",
        "patients_embeddings = pd.read_csv(path, index_col=0)"
      ]
    },
    {
      "cell_type": "code",
      "execution_count": null,
      "metadata": {
        "gather": {
          "logged": 1694171824306
        },
        "jupyter": {
          "outputs_hidden": false,
          "source_hidden": false
        },
        "nteract": {
          "transient": {
            "deleting": false
          }
        }
      },
      "outputs": [],
      "source": [
        "# My method\n",
        "\n",
        "# Get closest point for each subject\n",
        "for n in final_index_list:\n",
        "    distance, index = spatial.KDTree(patients_embeddings).query(patients_embeddings.iloc[n], k=2)\n",
        "    print(n)\n",
        "    print(index, distance)"
      ]
    },
    {
      "cell_type": "code",
      "execution_count": null,
      "metadata": {},
      "outputs": [],
      "source": [
        "# Import\n",
        "path = r'data/snomed_codes_parents.csv'\n",
        "snomed_codes_parents = pd.read_csv(path)\n",
        "# Change to str\n",
        "snomed_codes_parents['snomed_code'] = snomed_codes_parents['snomed_code'].astype(int).astype(str)\n",
        "# Get lists\n",
        "problem_list = problem_dummies.columns.tolist()\n",
        "snomed_parent_list = snomed_codes_parents['snomed_code'].tolist()\n",
        "overlap_list = list(set(problem_list)&set(snomed_parent_list))\n",
        "len(overlap_list)\n",
        "# Add in one hot encodings for parents across all patients\n",
        "n = -1\n",
        "for code in overlap_list:\n",
        "    n += 1\n",
        "    if n % 500 == 0:\n",
        "        print(n)\n",
        "    # Get parents\n",
        "    parent_list = snomed_codes_parents[snomed_codes_parents['snomed_code'] == code]['parents'].values[0].strip('[]').split(', ')\n",
        "    # Filter parent_list for those in problem_dummies\n",
        "    parent_list = list(set(problem_list)&set(parent_list))\n",
        "    # Update problem_dummies\n",
        "    problem_dummies.loc[problem_dummies[code] == 1, parent_list] = 1\n",
        "# Create frequency df\n",
        "sum_df = pd.DataFrame()\n",
        "sum_df.index = problem_dummies.columns\n",
        "sum_df['frequency'] = problem_dummies.sum(axis=0)\n"
      ]
    },
    {
      "cell_type": "code",
      "execution_count": null,
      "metadata": {},
      "outputs": [],
      "source": [
        "# Rocheteau method\n",
        "\n",
        "# Get closest point for spesfic point\n",
        "# Set up patient\n",
        "for n in final_index_list:\n",
        "    patient = problem_dummies.loc[[n]]\n",
        "    patient = patient.loc[:, (patient != 0).any(axis=0)]\n",
        "    # Find similarity\n",
        "    score_list2 = []\n",
        "    for index, subject in problem_dummies.iterrows():\n",
        "        if index % 10000 == 0:\n",
        "            print(index)\n",
        "        running_score = 0\n",
        "        # Filter for relevant diseases\n",
        "        subject = subject[patient.columns]\n",
        "        # Algorithm\n",
        "        for column in patient:\n",
        "            running_score += patient[column].values[0] * subject[column] * ((1/sum_df.loc[column].values[0]) + 0.5)\n",
        "        running_score = running_score * 5\n",
        "        running_score = running_score - (patient.sum(axis=1).values[0] + subject.sum())\n",
        "        # Add to list\n",
        "        score_list2.append(running_score)\n",
        "\n",
        "    # Create df\n",
        "    score_df2 = pd.DataFrame()\n",
        "    score_df2.index = problem_dummies.index\n",
        "    score_df2['score'] = score_list2\n",
        "    # Find top scores\n",
        "    score_df2.apply(lambda s: pd.Series(s.nlargest(2).index))"
      ]
    },
    {
      "cell_type": "markdown",
      "metadata": {},
      "source": [
        "Results"
      ]
    },
    {
      "cell_type": "code",
      "execution_count": null,
      "metadata": {
        "jupyter": {
          "outputs_hidden": false,
          "source_hidden": false
        },
        "nteract": {
          "transient": {
            "deleting": false
          }
        }
      },
      "outputs": [],
      "source": [
        "# 76031\n",
        "\n",
        "# The following lines are the random patient in question and their co-morbidities followed by the most similar patient and their co-morbidities retrieved by our method, Rocheteau's method and the One hot method respectively.\n",
        "\n",
        "# 76031 - Asthma, Depressive disorder, Hypothyroidism, Fibromyalgia\n",
        "\n",
        "# 5457 - Asthma, Depressive disorder, Hypothyroidism, Asperger\n",
        "\n",
        "# 16789 - Asthma, Hypertensive disorder, Diabetes mellitus type 2, Gastroesophageal reflux disease, Cerebrovascular accident, Mixed anxiety and depressive disorder, Hyperlipidemia, Fibromyalgia\n",
        "\n",
        "# 39239 - Asthma, Depressive disorder, Fibromyalgia"
      ]
    },
    {
      "cell_type": "code",
      "execution_count": null,
      "metadata": {
        "jupyter": {
          "outputs_hidden": false,
          "source_hidden": false
        },
        "nteract": {
          "transient": {
            "deleting": false
          }
        }
      },
      "outputs": [],
      "source": [
        "# 38512\n",
        "\n",
        "# The following lines are the random patient in question and their co-morbidities followed by the most similar patient and their co-morbidities retrieved by our method, Rocheteau's method and the One hot method respectively.\n",
        "\n",
        "# 38512 -  Ischemic heart disease, Hearing loss, Dementia, Essential hypertension, Alzheimer's disease, Diverticulosis of sigmoid colon\n",
        "\n",
        "# 13785 - Hypertensive disorder, Myocardial infarction, Cataract, Dementia, Alzheimer's disease\n",
        "\n",
        "# 3791 - Hearing loss, Dementia\n",
        "\n",
        "# 88330 - Hypertensive disorder, Hypercholesterolemia, Transient ischemic attack, Osteoarthritis, Diverticular disease, Benign prostatic hyperplasia, Myocardial infarction, Alzheimer's disease,  Retention of urine, Small vessel cerebrovascular disease\n"
      ]
    },
    {
      "cell_type": "code",
      "execution_count": null,
      "metadata": {
        "jupyter": {
          "outputs_hidden": false,
          "source_hidden": false
        },
        "nteract": {
          "transient": {
            "deleting": false
          }
        }
      },
      "outputs": [],
      "source": [
        "# 13675\n",
        "\n",
        "# The following lines are the random patient in question and their co-morbidities followed by the most similar patient and their co-morbidities retrieved by our method, Rocheteau's method and the One hot method respectively.\n",
        "# Note in this case Rocheteau's method and the One hot method retrieved the same similar patient\n",
        "\n",
        "# 13675 - Hypertensive disorder, Varicella, Polycystic ovaries, Scoliosis deformity of spine\n",
        "\n",
        "# 59945 - Hypertensive disorder, Varicella, Polycystic ovaries\n",
        "\n",
        "# 13674 - Varicella, Polycystic ovaries, Scoliosis deformity of spine"
      ]
    },
    {
      "cell_type": "code",
      "execution_count": null,
      "metadata": {
        "jupyter": {
          "outputs_hidden": false,
          "source_hidden": false
        },
        "nteract": {
          "transient": {
            "deleting": false
          }
        }
      },
      "outputs": [],
      "source": [
        "# 3534\n",
        "\n",
        "# The following lines are the random patient in question and their co-morbidities followed by the most similar patient and their co-morbidities retrieved by our method, Rocheteau's method and the One hot method respectively.\n",
        "\n",
        "# 3534 - Varicella, Rheumatoid arthritis with arteritis\n",
        "\n",
        "# 56760 - Varicella, Rheumatoid arthritis\n",
        "\n",
        "# 23902 - Rheumatoid arthritis with arteritis\n",
        "\n",
        "# 242 - Asthma, Varicella, Transient ischemic attack, Cerebrovascular accident, Fibromyositis, Rheumatoid arthritis with aortitis, Seizures in response to acute event"
      ]
    },
    {
      "cell_type": "code",
      "execution_count": null,
      "metadata": {
        "jupyter": {
          "outputs_hidden": false,
          "source_hidden": false
        },
        "nteract": {
          "transient": {
            "deleting": false
          }
        }
      },
      "outputs": [],
      "source": [
        "# 79550\n",
        "\n",
        "# The following lines are the random patient in question and their co-morbidities followed by the most similar patient and their co-morbidities retrieved by our method, Rocheteau's method and the One hot method respectively.\n",
        "\n",
        "# 79550 - Hypertensive disorder, Hypercholesterolemia, Neoplasm of kidney\n",
        "\n",
        "# 92747 - Hypertensive disorder, Neoplasm of kidney\n",
        "\n",
        "# 93178 - Hypertensive disorder, Hypercholesterolemia, Insulin treated type 2 diabetes mellitus, Neoplasm of kidney\n",
        "\n",
        "# 478 - Hypertensive disorder,  Diabetes mellitus type 2, Hypercholesterolemia, Osteoarthritis, Atrial fibrillation, Mixed anxiety and depressive disorder, Malignant tumor of prostate, Neoplasm of kidney"
      ]
    },
    {
      "cell_type": "code",
      "execution_count": null,
      "metadata": {
        "jupyter": {
          "outputs_hidden": false,
          "source_hidden": false
        },
        "nteract": {
          "transient": {
            "deleting": false
          }
        }
      },
      "outputs": [],
      "source": [
        "# 52894\n",
        "\n",
        "# The following lines are the random patient in question and their co-morbidities followed by the most similar patient and their co-morbidities retrieved by our method, Rocheteau's method and the One hot method respectively.\n",
        "\n",
        "# 52894 - Asthma, Hemorrhoids, Colitis, Viral hepatitis type B, Gastritis, Human immunodeficiency virus infection, Supraventricular tachycardia, Non-alcoholic fatty liver, Portal hypertension, Hemophilia\n",
        "\n",
        "# 14197 - Asthma, Osteoporosis, Hypertensive disorder, Hypercholesterolemia, Vitamin D deficiency, Depressive disorder, Hemorrhoids, Atrial fibrillation, Chronic obstructive lung disease, Anemia, Rheumatoid arthritis, Inflammatory disease of liver, Dysphagia, Steatosis of liver, Aortic valve regurgitation\n",
        "\n",
        "# 18386 - Asthma, Depressive disorder, Hemorrhoids, Human immunodeficiency virus infection\n",
        "\n",
        "# 43224 - Hemorrhoids, Atrial fibrillation, Hypothyroidism, Viral hepatitis type B"
      ]
    },
    {
      "cell_type": "code",
      "execution_count": null,
      "metadata": {
        "jupyter": {
          "outputs_hidden": false,
          "source_hidden": false
        },
        "nteract": {
          "transient": {
            "deleting": false
          }
        }
      },
      "outputs": [],
      "source": [
        "# 64561\n",
        "\n",
        "# The following lines are the random patient in question and their co-morbidities followed by the most similar patient and their co-morbidities retrieved by our method, Rocheteau's method and the One hot method respectively.\n",
        "\n",
        "# 64561 - Hypertensive disorder, Varicella, Gestational diabetes mellitus, Pre-eclampsia\n",
        "\n",
        "# 39443 - Varicella, Gestational diabetes mellitus, Pre-eclampsia, Pregnancy-induced hypertension\n",
        "\n",
        "# 5188 - Hypertensive disorder, Varicella, Gestational diabetes mellitus\n",
        "\n",
        "# 24987 - Varicella, Gestational diabetes mellitus, Pre-eclampsia"
      ]
    },
    {
      "cell_type": "code",
      "execution_count": null,
      "metadata": {
        "jupyter": {
          "outputs_hidden": false,
          "source_hidden": false
        },
        "nteract": {
          "transient": {
            "deleting": false
          }
        }
      },
      "outputs": [],
      "source": [
        "# 78751\n",
        "\n",
        "# The following lines are the random patient in question and their co-morbidities followed by the most similar patient and their co-morbidities retrieved by our method, Rocheteau's method and the One hot method respectively.\n",
        "\n",
        "# 78751 - Hypertensive disorder, Diabetes mellitus type 2, Hypercholesterolemia, Vitamin D deficiency, Benign prostatic hyperplasia, Angina, Old myocardial infarction, Chronic ischemic heart disease\n",
        "\n",
        "# 77680 - Hypertensive disorder, Diabetes mellitus type 2, Ischemic heart disease, Angina\n",
        "\n",
        "# 55423 - Hypertensive disorder, Diabetes mellitus type 2, Hypercholesterolemia, Vitamin D deficiency\n",
        "\n",
        "# 56819 - Hypertensive disorder, Diabetes mellitus type 2,  Benign prostatic hyperplasia, Gastroesophageal reflux disease,  Iron deficiency anemia, Acute non-ST segment elevation myocardial infarction, Angina,  Heart failure, Constipation, Hyperlipidemia, Retention of urine, Bilateral cataracts, Heart failure with normal ejection fraction     "
      ]
    },
    {
      "cell_type": "code",
      "execution_count": null,
      "metadata": {},
      "outputs": [],
      "source": [
        "#8684\n",
        "\n",
        "# The following lines are the random patient in question and their co-morbidities followed by the most similar patient and their co-morbidities retrieved by our method, Rocheteau's method and the One hot method respectively.\n",
        "# Note in this case Rocheteau's method and the One hot method retrieved the same similar patient\n",
        "\n",
        "# 89732 - Osteoarthritis, Alcohol dependence\n",
        "\n",
        "# 8685 -  Osteoarthritis, Peripheral nerve entrapment syndrome, Alcoholism"
      ]
    },
    {
      "cell_type": "code",
      "execution_count": null,
      "metadata": {},
      "outputs": [],
      "source": [
        "# 32662\n",
        "\n",
        "# The following lines are the random patient in question and their co-morbidities followed by the most similar patient and their co-morbidities retrieved by our method, Rocheteau's method and the One hot method respectively.\n",
        "\n",
        "# 32662 - Asthma, Hypertensive disorder, Osteoarthritis, Gastroesophageal reflux disease, Anemia, Diabetes mellitus type 2, Hypercholesterolemia, Hypothyroidism\n",
        "\n",
        "# 31758 - Asthma, Hypertensive disorder, Osteoarthritis, Gastroesophageal reflux disease, Anemia, Diabetes mellitus, Hyperlipidemia, Obstructive sleep apnea syndrome\n",
        "\n",
        "# 53442 - Asthma, Hypertensive disorder, Rheumatoid arthritis,  Diabetes, Hypercholesterolemia, Anemia, Gastroesophageal reflux disease, Hypothyroidism, Coronary arteriosclerosis, Pulmonary embolism, Chronic kidney disease\n",
        "\n",
        "# 341 - Asthma, Hypertensive disorder, Osteoarthritis, Hypercholesterolemia, Diabetes mellitus type 2"
      ]
    },
    {
      "cell_type": "code",
      "execution_count": null,
      "metadata": {},
      "outputs": [],
      "source": [
        "# My method - mean 0.01 s per patient - 10933.33 times faster or 10^4 fold faster\n",
        "# Rocheteau method - mean 103.33 s per patient\n",
        "# One hit method - mean 109.33 s per patient"
      ]
    }
  ],
  "metadata": {
    "kernel_info": {
      "name": "python310-sdkv2"
    },
    "kernelspec": {
      "display_name": "Python 3.10 - SDK v2",
      "language": "python",
      "name": "python310-sdkv2"
    },
    "language_info": {
      "codemirror_mode": {
        "name": "ipython",
        "version": 3
      },
      "file_extension": ".py",
      "mimetype": "text/x-python",
      "name": "python",
      "nbconvert_exporter": "python",
      "pygments_lexer": "ipython3",
      "version": "3.10.11"
    },
    "microsoft": {
      "host": {
        "AzureML": {
          "notebookHasBeenCompleted": true
        }
      },
      "ms_spell_check": {
        "ms_spell_check_language": "en"
      }
    },
    "nteract": {
      "version": "nteract-front-end@1.0.0"
    }
  },
  "nbformat": 4,
  "nbformat_minor": 2
}
