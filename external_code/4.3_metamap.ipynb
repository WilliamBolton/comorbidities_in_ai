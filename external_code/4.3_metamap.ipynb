{
 "cells": [
  {
   "cell_type": "code",
   "execution_count": 1,
   "metadata": {},
   "outputs": [],
   "source": [
    "# Libraries\n",
    "import pandas as pd\n",
    "pd.set_option('display.max_columns', 40)\n",
    "pd.set_option('display.width', 2000)\n",
    "\n",
    "from IPython.core.interactiveshell import InteractiveShell\n",
    "InteractiveShell.ast_node_interactivity = \"all\""
   ]
  },
  {
   "attachments": {},
   "cell_type": "markdown",
   "metadata": {},
   "source": [
    "## Import"
   ]
  },
  {
   "cell_type": "code",
   "execution_count": null,
   "metadata": {},
   "outputs": [],
   "source": [
    "# Import indications\n",
    "path = r'data/bnf_drug_indications_and_prescribing_medications.csv'\n",
    "drug_indication_df = pd.read_csv(path)\n",
    "\n",
    "# Import codes\n",
    "path = r'data/snomed_diagnosis_codes_morethan5.csv'\n",
    "snomed_diagnosis_codes = pd.read_csv(path)\n",
    "\n",
    "path = r'data/snomed_problem_codes_morethan5.csv'\n",
    "snomed_problem_codes = pd.read_csv(path)\n",
    "\n",
    "path = r'data/snomed_riskfactor_codes_morethan5.csv'\n",
    "snomed_riskfactor_codes = pd.read_csv(path)\n",
    "\n",
    "# Import UMLS CUI to snomed map\n",
    "iter_csv = pd.read_csv(r\"data/MRCONSO.RRF\", sep=\"|\" , iterator=True, chunksize=10000000)\n",
    "mrconso_df = pd.concat([chunk for chunk in iter_csv])\n",
    "mrconso_df.columns = ['cui_code', 'language', 'term_status', 'LUI', 'string_type', 'SUI', 'atom_status', 'AUI', 'SAUI', 'SCUI', 'SDUI', 'SAB', 'TTY', 'snomed_code', 'STR', 'SRL', 'suppress', 'CVF', 'extra']\n",
    "print('Done!')\n",
    "\n",
    "# Import metamap output\n",
    "metamap_output_df = pd.read_fwf('data/metamap_batch_output')\n",
    "metamap_output_df.columns = ['metamap_text', 'other']"
   ]
  },
  {
   "cell_type": "markdown",
   "metadata": {},
   "source": [
    "## Map UMLS CUI to SNOMED"
   ]
  },
  {
   "attachments": {},
   "cell_type": "markdown",
   "metadata": {},
   "source": [
    "mrconso_df"
   ]
  },
  {
   "cell_type": "code",
   "execution_count": 3,
   "metadata": {},
   "outputs": [],
   "source": [
    "mrconso_df = mrconso_df[(mrconso_df['language'] == 'ENG') & (mrconso_df['SAB'] == 'SNOMEDCT_US')]\n",
    "mrconso_df.reset_index(inplace=True, drop=True)\n",
    "mrconso_df = mrconso_df[['cui_code', 'snomed_code']]\n",
    "mrconso_df.drop_duplicates(inplace=True)"
   ]
  },
  {
   "cell_type": "code",
   "execution_count": 4,
   "metadata": {},
   "outputs": [
    {
     "data": {
      "text/html": [
       "<div>\n",
       "<style scoped>\n",
       "    .dataframe tbody tr th:only-of-type {\n",
       "        vertical-align: middle;\n",
       "    }\n",
       "\n",
       "    .dataframe tbody tr th {\n",
       "        vertical-align: top;\n",
       "    }\n",
       "\n",
       "    .dataframe thead th {\n",
       "        text-align: right;\n",
       "    }\n",
       "</style>\n",
       "<table border=\"1\" class=\"dataframe\">\n",
       "  <thead>\n",
       "    <tr style=\"text-align: right;\">\n",
       "      <th></th>\n",
       "      <th>cui_code</th>\n",
       "      <th>snomed_code</th>\n",
       "    </tr>\n",
       "  </thead>\n",
       "  <tbody>\n",
       "    <tr>\n",
       "      <th>0</th>\n",
       "      <td>C0000039</td>\n",
       "      <td>102735002</td>\n",
       "    </tr>\n",
       "    <tr>\n",
       "      <th>2</th>\n",
       "      <td>C0000052</td>\n",
       "      <td>58488005</td>\n",
       "    </tr>\n",
       "    <tr>\n",
       "      <th>7</th>\n",
       "      <td>C0000097</td>\n",
       "      <td>285407008</td>\n",
       "    </tr>\n",
       "    <tr>\n",
       "      <th>9</th>\n",
       "      <td>C0000102</td>\n",
       "      <td>13579002</td>\n",
       "    </tr>\n",
       "    <tr>\n",
       "      <th>14</th>\n",
       "      <td>C0000163</td>\n",
       "      <td>112116001</td>\n",
       "    </tr>\n",
       "    <tr>\n",
       "      <th>...</th>\n",
       "      <td>...</td>\n",
       "      <td>...</td>\n",
       "    </tr>\n",
       "    <tr>\n",
       "      <th>1597433</th>\n",
       "      <td>C5699989</td>\n",
       "      <td>640961000124109</td>\n",
       "    </tr>\n",
       "    <tr>\n",
       "      <th>1597435</th>\n",
       "      <td>C5699990</td>\n",
       "      <td>640971000124102</td>\n",
       "    </tr>\n",
       "    <tr>\n",
       "      <th>1597437</th>\n",
       "      <td>C5699991</td>\n",
       "      <td>138875005</td>\n",
       "    </tr>\n",
       "    <tr>\n",
       "      <th>1597438</th>\n",
       "      <td>C5699992</td>\n",
       "      <td>6011000124106</td>\n",
       "    </tr>\n",
       "    <tr>\n",
       "      <th>1597439</th>\n",
       "      <td>C5699993</td>\n",
       "      <td>447562003</td>\n",
       "    </tr>\n",
       "  </tbody>\n",
       "</table>\n",
       "<p>527863 rows × 2 columns</p>\n",
       "</div>"
      ],
      "text/plain": [
       "         cui_code      snomed_code\n",
       "0        C0000039        102735002\n",
       "2        C0000052         58488005\n",
       "7        C0000097        285407008\n",
       "9        C0000102         13579002\n",
       "14       C0000163        112116001\n",
       "...           ...              ...\n",
       "1597433  C5699989  640961000124109\n",
       "1597435  C5699990  640971000124102\n",
       "1597437  C5699991        138875005\n",
       "1597438  C5699992    6011000124106\n",
       "1597439  C5699993        447562003\n",
       "\n",
       "[527863 rows x 2 columns]"
      ]
     },
     "execution_count": 4,
     "metadata": {},
     "output_type": "execute_result"
    }
   ],
   "source": [
    "mrconso_df"
   ]
  },
  {
   "attachments": {},
   "cell_type": "markdown",
   "metadata": {},
   "source": [
    "metamap_df"
   ]
  },
  {
   "cell_type": "code",
   "execution_count": 55,
   "metadata": {},
   "outputs": [],
   "source": [
    "# Import metamap output\n",
    "# read_table works better than read_fwf\n",
    "metamap_output_df = pd.read_table('data/metamap_batch_output')\n",
    "metamap_output_df.columns = ['metamap_text']"
   ]
  },
  {
   "cell_type": "code",
   "execution_count": null,
   "metadata": {},
   "outputs": [],
   "source": [
    "# Filter for rows and text of interest\n",
    "filtered_metamap_output_df = metamap_output_df[metamap_output_df['metamap_text'].str.contains('Processing', case=False) | metamap_output_df['metamap_text'].str.contains('Disease or Syndrome', case=False)]\n",
    "# Fill na\n",
    "filtered_metamap_output_df.fillna('', inplace=True)\n",
    "# Reset index\n",
    "filtered_metamap_output_df.reset_index(inplace=True, drop=True)"
   ]
  },
  {
   "cell_type": "code",
   "execution_count": 45,
   "metadata": {},
   "outputs": [
    {
     "data": {
      "text/html": [
       "<div>\n",
       "<style scoped>\n",
       "    .dataframe tbody tr th:only-of-type {\n",
       "        vertical-align: middle;\n",
       "    }\n",
       "\n",
       "    .dataframe tbody tr th {\n",
       "        vertical-align: top;\n",
       "    }\n",
       "\n",
       "    .dataframe thead th {\n",
       "        text-align: right;\n",
       "    }\n",
       "</style>\n",
       "<table border=\"1\" class=\"dataframe\">\n",
       "  <thead>\n",
       "    <tr style=\"text-align: right;\">\n",
       "      <th></th>\n",
       "      <th>metamap_text</th>\n",
       "    </tr>\n",
       "  </thead>\n",
       "  <tbody>\n",
       "    <tr>\n",
       "      <th>0</th>\n",
       "      <td>Processing 'text_000N_20459.tx.1': \"Primary hy...</td>\n",
       "    </tr>\n",
       "    <tr>\n",
       "      <th>1</th>\n",
       "      <td>833   C0342879 : Primary hypercholesterolem...</td>\n",
       "    </tr>\n",
       "    <tr>\n",
       "      <th>2</th>\n",
       "      <td>Processing 'text_000N_211766.tx.1': Combined (...</td>\n",
       "    </tr>\n",
       "    <tr>\n",
       "      <th>3</th>\n",
       "      <td>833   C0020474 : Familial combined hyperlip...</td>\n",
       "    </tr>\n",
       "    <tr>\n",
       "      <th>4</th>\n",
       "      <td>833   C2047520 : Mixed hyperlipidemia (diso...</td>\n",
       "    </tr>\n",
       "    <tr>\n",
       "      <th>...</th>\n",
       "      <td>...</td>\n",
       "    </tr>\n",
       "    <tr>\n",
       "      <th>9812</th>\n",
       "      <td>901   C0030567 : Parkinson disease (Parkins...</td>\n",
       "    </tr>\n",
       "    <tr>\n",
       "      <th>9813</th>\n",
       "      <td>Processing 'text_000N_153641.tx.1': Parkinson'...</td>\n",
       "    </tr>\n",
       "    <tr>\n",
       "      <th>9814</th>\n",
       "      <td>1000   C0030567 : Parkinson disease (Parkins...</td>\n",
       "    </tr>\n",
       "    <tr>\n",
       "      <th>9815</th>\n",
       "      <td>Processing 'text_000N_20735.tx.1': Parkinson's...</td>\n",
       "    </tr>\n",
       "    <tr>\n",
       "      <th>9816</th>\n",
       "      <td>1000   C0030567 : Parkinson disease (Parkins...</td>\n",
       "    </tr>\n",
       "  </tbody>\n",
       "</table>\n",
       "<p>9817 rows × 1 columns</p>\n",
       "</div>"
      ],
      "text/plain": [
       "                                           metamap_text\n",
       "0     Processing 'text_000N_20459.tx.1': \"Primary hy...\n",
       "1        833   C0342879 : Primary hypercholesterolem...\n",
       "2     Processing 'text_000N_211766.tx.1': Combined (...\n",
       "3        833   C0020474 : Familial combined hyperlip...\n",
       "4        833   C2047520 : Mixed hyperlipidemia (diso...\n",
       "...                                                 ...\n",
       "9812     901   C0030567 : Parkinson disease (Parkins...\n",
       "9813  Processing 'text_000N_153641.tx.1': Parkinson'...\n",
       "9814    1000   C0030567 : Parkinson disease (Parkins...\n",
       "9815  Processing 'text_000N_20735.tx.1': Parkinson's...\n",
       "9816    1000   C0030567 : Parkinson disease (Parkins...\n",
       "\n",
       "[9817 rows x 1 columns]"
      ]
     },
     "execution_count": 45,
     "metadata": {},
     "output_type": "execute_result"
    }
   ],
   "source": [
    "filtered_metamap_output_df"
   ]
  },
  {
   "cell_type": "code",
   "execution_count": null,
   "metadata": {},
   "outputs": [],
   "source": [
    "# First filter procesing lines \n",
    "processing_list = filtered_metamap_output_df[filtered_metamap_output_df['metamap_text'].str.contains('Processing', case=False)].index.to_list()\n",
    "\n",
    "for x in processing_list:\n",
    "    indication_text = filtered_metamap_output_df.iloc[x]['metamap_text'].split(\":\",1)[1]\n",
    "    indication_text = indication_text.replace('\"', '') \n",
    "    filtered_metamap_output_df.loc[x, 'indication'] = indication_text\n"
   ]
  },
  {
   "cell_type": "code",
   "execution_count": null,
   "metadata": {},
   "outputs": [],
   "source": [
    "# Second filter codes / disorders \n",
    "code_list = filtered_metamap_output_df[filtered_metamap_output_df['metamap_text'].str.contains('Disease or Syndrome', case=False)].index.to_list()\n",
    "\n",
    "for x in code_list:\n",
    "    start = 'C'\n",
    "    end = ':'\n",
    "    s  = filtered_metamap_output_df.iloc[x]['metamap_text']\n",
    "    snomed_code_text = s[s.find(start)+len(start)-1:s.rfind(end)]\n",
    "    snomed_code_text = snomed_code_text.replace(' ', '') \n",
    "    filtered_metamap_output_df.loc[x, 'cui_code'] = snomed_code_text\n",
    "    \n",
    "    disease_text = filtered_metamap_output_df.iloc[x]['metamap_text'].split(\":\",1)[1]\n",
    "    filtered_metamap_output_df.loc[x, 'disease_or_syndrome'] = disease_text"
   ]
  },
  {
   "cell_type": "code",
   "execution_count": null,
   "metadata": {},
   "outputs": [],
   "source": [
    "# Forward fill indication column\n",
    "filtered_metamap_output_df['indication'] = filtered_metamap_output_df['indication'].ffill()\n",
    "# Drop rows where no snomed code\n",
    "filtered_metamap_output_df = filtered_metamap_output_df[filtered_metamap_output_df['cui_code'].notna()]\n",
    "# Drop full text column\n",
    "filtered_metamap_output_df = filtered_metamap_output_df[['indication', 'cui_code', 'disease_or_syndrome']]\n",
    "# Drop duplicates \n",
    "filtered_metamap_output_df.drop_duplicates(inplace=True)\n",
    "# Reset index \n",
    "filtered_metamap_output_df.reset_index(inplace=True, drop=True)"
   ]
  },
  {
   "cell_type": "code",
   "execution_count": 60,
   "metadata": {},
   "outputs": [
    {
     "data": {
      "text/html": [
       "<div>\n",
       "<style scoped>\n",
       "    .dataframe tbody tr th:only-of-type {\n",
       "        vertical-align: middle;\n",
       "    }\n",
       "\n",
       "    .dataframe tbody tr th {\n",
       "        vertical-align: top;\n",
       "    }\n",
       "\n",
       "    .dataframe thead th {\n",
       "        text-align: right;\n",
       "    }\n",
       "</style>\n",
       "<table border=\"1\" class=\"dataframe\">\n",
       "  <thead>\n",
       "    <tr style=\"text-align: right;\">\n",
       "      <th></th>\n",
       "      <th>indication</th>\n",
       "      <th>cui_code</th>\n",
       "      <th>disease_or_syndrome</th>\n",
       "    </tr>\n",
       "  </thead>\n",
       "  <tbody>\n",
       "    <tr>\n",
       "      <th>0</th>\n",
       "      <td>Primary hypercholesterolaemia in patients who...</td>\n",
       "      <td>C0342879</td>\n",
       "      <td>Primary hypercholesterolemia [Disease or Synd...</td>\n",
       "    </tr>\n",
       "    <tr>\n",
       "      <th>1</th>\n",
       "      <td>Combined (mixed) hyperlipidaemia in patients ...</td>\n",
       "      <td>C0020474</td>\n",
       "      <td>Familial combined hyperlipidemia (Hyperlipide...</td>\n",
       "    </tr>\n",
       "    <tr>\n",
       "      <th>2</th>\n",
       "      <td>Combined (mixed) hyperlipidaemia in patients ...</td>\n",
       "      <td>C2047520</td>\n",
       "      <td>Mixed hyperlipidemia (disorder) [Disease or S...</td>\n",
       "    </tr>\n",
       "    <tr>\n",
       "      <th>3</th>\n",
       "      <td>Heterozygous familial hypercholesterolaemia i...</td>\n",
       "      <td>C0342882</td>\n",
       "      <td>Familial hypercholesterolemia - heterozygous ...</td>\n",
       "    </tr>\n",
       "    <tr>\n",
       "      <th>4</th>\n",
       "      <td>Homozygous familial hypercholesterolaemia in ...</td>\n",
       "      <td>C0342881</td>\n",
       "      <td>Familial homozygous hypercholesterolemia (Hom...</td>\n",
       "    </tr>\n",
       "    <tr>\n",
       "      <th>...</th>\n",
       "      <td>...</td>\n",
       "      <td>...</td>\n",
       "      <td>...</td>\n",
       "    </tr>\n",
       "    <tr>\n",
       "      <th>1797</th>\n",
       "      <td>Parkinson's disease (patients not receiving l...</td>\n",
       "      <td>C0030567</td>\n",
       "      <td>Parkinson disease (Parkinson Disease) [Diseas...</td>\n",
       "    </tr>\n",
       "    <tr>\n",
       "      <th>1798</th>\n",
       "      <td>Parkinson's disease (patients transferring fr...</td>\n",
       "      <td>C0030567</td>\n",
       "      <td>Parkinson disease (Parkinson Disease) [Diseas...</td>\n",
       "    </tr>\n",
       "    <tr>\n",
       "      <th>1799</th>\n",
       "      <td>Severe Parkinson's disease inadequately contr...</td>\n",
       "      <td>C0030567</td>\n",
       "      <td>Parkinson disease (Parkinson Disease) [Diseas...</td>\n",
       "    </tr>\n",
       "    <tr>\n",
       "      <th>1800</th>\n",
       "      <td>Parkinson's disease (for fine adjustment of S...</td>\n",
       "      <td>C0030567</td>\n",
       "      <td>Parkinson disease (Parkinson Disease) [Diseas...</td>\n",
       "    </tr>\n",
       "    <tr>\n",
       "      <th>1801</th>\n",
       "      <td>Parkinson's disease (patients not receiving l...</td>\n",
       "      <td>C0030567</td>\n",
       "      <td>Parkinson disease (Parkinson Disease) [Diseas...</td>\n",
       "    </tr>\n",
       "  </tbody>\n",
       "</table>\n",
       "<p>1802 rows × 3 columns</p>\n",
       "</div>"
      ],
      "text/plain": [
       "                                             indication  cui_code                                disease_or_syndrome\n",
       "0      Primary hypercholesterolaemia in patients who...  C0342879   Primary hypercholesterolemia [Disease or Synd...\n",
       "1      Combined (mixed) hyperlipidaemia in patients ...  C0020474   Familial combined hyperlipidemia (Hyperlipide...\n",
       "2      Combined (mixed) hyperlipidaemia in patients ...  C2047520   Mixed hyperlipidemia (disorder) [Disease or S...\n",
       "3      Heterozygous familial hypercholesterolaemia i...  C0342882   Familial hypercholesterolemia - heterozygous ...\n",
       "4      Homozygous familial hypercholesterolaemia in ...  C0342881   Familial homozygous hypercholesterolemia (Hom...\n",
       "...                                                 ...       ...                                                ...\n",
       "1797   Parkinson's disease (patients not receiving l...  C0030567   Parkinson disease (Parkinson Disease) [Diseas...\n",
       "1798   Parkinson's disease (patients transferring fr...  C0030567   Parkinson disease (Parkinson Disease) [Diseas...\n",
       "1799   Severe Parkinson's disease inadequately contr...  C0030567   Parkinson disease (Parkinson Disease) [Diseas...\n",
       "1800   Parkinson's disease (for fine adjustment of S...  C0030567   Parkinson disease (Parkinson Disease) [Diseas...\n",
       "1801   Parkinson's disease (patients not receiving l...  C0030567   Parkinson disease (Parkinson Disease) [Diseas...\n",
       "\n",
       "[1802 rows x 3 columns]"
      ]
     },
     "execution_count": 60,
     "metadata": {},
     "output_type": "execute_result"
    }
   ],
   "source": [
    "filtered_metamap_output_df"
   ]
  },
  {
   "attachments": {},
   "cell_type": "markdown",
   "metadata": {},
   "source": [
    "indication_code_df"
   ]
  },
  {
   "cell_type": "code",
   "execution_count": 63,
   "metadata": {},
   "outputs": [],
   "source": [
    "indication_code_df = pd.merge(filtered_metamap_output_df, mrconso_df)"
   ]
  },
  {
   "cell_type": "code",
   "execution_count": 64,
   "metadata": {},
   "outputs": [
    {
     "data": {
      "text/html": [
       "<div>\n",
       "<style scoped>\n",
       "    .dataframe tbody tr th:only-of-type {\n",
       "        vertical-align: middle;\n",
       "    }\n",
       "\n",
       "    .dataframe tbody tr th {\n",
       "        vertical-align: top;\n",
       "    }\n",
       "\n",
       "    .dataframe thead th {\n",
       "        text-align: right;\n",
       "    }\n",
       "</style>\n",
       "<table border=\"1\" class=\"dataframe\">\n",
       "  <thead>\n",
       "    <tr style=\"text-align: right;\">\n",
       "      <th></th>\n",
       "      <th>indication</th>\n",
       "      <th>cui_code</th>\n",
       "      <th>disease_or_syndrome</th>\n",
       "      <th>snomed_code</th>\n",
       "    </tr>\n",
       "  </thead>\n",
       "  <tbody>\n",
       "    <tr>\n",
       "      <th>0</th>\n",
       "      <td>Primary hypercholesterolaemia in patients who...</td>\n",
       "      <td>C0342879</td>\n",
       "      <td>Primary hypercholesterolemia [Disease or Synd...</td>\n",
       "      <td>238076009</td>\n",
       "    </tr>\n",
       "    <tr>\n",
       "      <th>1</th>\n",
       "      <td>Primary hypercholesterolaemia, or combined (m...</td>\n",
       "      <td>C0342879</td>\n",
       "      <td>Primary hypercholesterolemia [Disease or Synd...</td>\n",
       "      <td>238076009</td>\n",
       "    </tr>\n",
       "    <tr>\n",
       "      <th>2</th>\n",
       "      <td>Primary hypercholesterolaemia (type IIa incl...</td>\n",
       "      <td>C0342879</td>\n",
       "      <td>Primary hypercholesterolemia [Disease or Synd...</td>\n",
       "      <td>238076009</td>\n",
       "    </tr>\n",
       "    <tr>\n",
       "      <th>3</th>\n",
       "      <td>Primary hypercholesterolaemia (type IIa inclu...</td>\n",
       "      <td>C0342879</td>\n",
       "      <td>Primary hypercholesterolemia [Disease or Synd...</td>\n",
       "      <td>238076009</td>\n",
       "    </tr>\n",
       "    <tr>\n",
       "      <th>4</th>\n",
       "      <td>Severe primary hypercholesterolaemia (type II...</td>\n",
       "      <td>C0342879</td>\n",
       "      <td>Primary hypercholesterolemia [Disease or Synd...</td>\n",
       "      <td>238076009</td>\n",
       "    </tr>\n",
       "    <tr>\n",
       "      <th>...</th>\n",
       "      <td>...</td>\n",
       "      <td>...</td>\n",
       "      <td>...</td>\n",
       "      <td>...</td>\n",
       "    </tr>\n",
       "    <tr>\n",
       "      <th>7507</th>\n",
       "      <td>Acute pulmonary oedema</td>\n",
       "      <td>C0155919</td>\n",
       "      <td>Acute pulmonary edema [Disease or Syndrome]</td>\n",
       "      <td>123262009</td>\n",
       "    </tr>\n",
       "    <tr>\n",
       "      <th>7508</th>\n",
       "      <td>Acute pulmonary oedema</td>\n",
       "      <td>C0155919</td>\n",
       "      <td>Acute pulmonary edema [Disease or Syndrome]</td>\n",
       "      <td>40541001</td>\n",
       "    </tr>\n",
       "    <tr>\n",
       "      <th>7509</th>\n",
       "      <td>Acute pulmonary oedema</td>\n",
       "      <td>C0155919</td>\n",
       "      <td>Acute pulmonary edema [Disease or Syndrome]</td>\n",
       "      <td>195113008</td>\n",
       "    </tr>\n",
       "    <tr>\n",
       "      <th>7510</th>\n",
       "      <td>Acute pulmonary oedema</td>\n",
       "      <td>C0155919</td>\n",
       "      <td>Acute pulmonary edema [Disease or Syndrome]</td>\n",
       "      <td>196149004</td>\n",
       "    </tr>\n",
       "    <tr>\n",
       "      <th>7511</th>\n",
       "      <td>Acute pulmonary oedema</td>\n",
       "      <td>C0155919</td>\n",
       "      <td>Acute pulmonary edema [Disease or Syndrome]</td>\n",
       "      <td>196148007</td>\n",
       "    </tr>\n",
       "  </tbody>\n",
       "</table>\n",
       "<p>7512 rows × 4 columns</p>\n",
       "</div>"
      ],
      "text/plain": [
       "                                             indication  cui_code                                disease_or_syndrome snomed_code\n",
       "0      Primary hypercholesterolaemia in patients who...  C0342879   Primary hypercholesterolemia [Disease or Synd...   238076009\n",
       "1      Primary hypercholesterolaemia, or combined (m...  C0342879   Primary hypercholesterolemia [Disease or Synd...   238076009\n",
       "2       Primary hypercholesterolaemia (type IIa incl...  C0342879   Primary hypercholesterolemia [Disease or Synd...   238076009\n",
       "3      Primary hypercholesterolaemia (type IIa inclu...  C0342879   Primary hypercholesterolemia [Disease or Synd...   238076009\n",
       "4      Severe primary hypercholesterolaemia (type II...  C0342879   Primary hypercholesterolemia [Disease or Synd...   238076009\n",
       "...                                                 ...       ...                                                ...         ...\n",
       "7507                             Acute pulmonary oedema  C0155919        Acute pulmonary edema [Disease or Syndrome]   123262009\n",
       "7508                             Acute pulmonary oedema  C0155919        Acute pulmonary edema [Disease or Syndrome]    40541001\n",
       "7509                             Acute pulmonary oedema  C0155919        Acute pulmonary edema [Disease or Syndrome]   195113008\n",
       "7510                             Acute pulmonary oedema  C0155919        Acute pulmonary edema [Disease or Syndrome]   196149004\n",
       "7511                             Acute pulmonary oedema  C0155919        Acute pulmonary edema [Disease or Syndrome]   196148007\n",
       "\n",
       "[7512 rows x 4 columns]"
      ]
     },
     "execution_count": 64,
     "metadata": {},
     "output_type": "execute_result"
    }
   ],
   "source": [
    "indication_code_df"
   ]
  },
  {
   "attachments": {},
   "cell_type": "markdown",
   "metadata": {},
   "source": [
    "drug_indication_code_df"
   ]
  },
  {
   "cell_type": "code",
   "execution_count": 110,
   "metadata": {},
   "outputs": [],
   "source": [
    "# Strip both so merge works properly \n",
    "drug_indication_df2 = drug_indication_df.copy()\n",
    "indication_code_df2 = indication_code_df.copy()\n",
    "\n",
    "# Remove text after BMI so obesity works properly\n",
    "for x in range(len(drug_indication_df2)):\n",
    "    indication_text = drug_indication_df2.iloc[x]['indication'].split(\"BMI\",1)[0]\n",
    "    drug_indication_df2.loc[x, 'indication'] = indication_text\n",
    "\n",
    "for x in range(len(indication_code_df2)):\n",
    "    indication_text = indication_code_df2.iloc[x]['indication'].split(\"BMI\",1)[0]\n",
    "    indication_code_df2.loc[x, 'indication'] = indication_text\n",
    "\n",
    "drug_indication_df2['indication'] = drug_indication_df2['indication'].str.strip()\n",
    "indication_code_df2['indication'] = indication_code_df2['indication'].str.strip()"
   ]
  },
  {
   "cell_type": "code",
   "execution_count": 112,
   "metadata": {},
   "outputs": [],
   "source": [
    "drug_indication_code_df = pd.merge(drug_indication_df2, indication_code_df2)"
   ]
  },
  {
   "cell_type": "code",
   "execution_count": 113,
   "metadata": {},
   "outputs": [],
   "source": [
    "# Rename and drop duplicates\n",
    "drug_indication_code_df.drop_duplicates(inplace=True)\n",
    "drug_indication_code_df.rename(columns={'drug_name':'bnf_drug_name', 'indication':'bnf_indication', 'prescribing_medication':'icht_prescribing_medication', 'disease_or_syndrome':'cui_disease_or_syndrome'}, inplace=True)"
   ]
  },
  {
   "cell_type": "code",
   "execution_count": 114,
   "metadata": {},
   "outputs": [
    {
     "data": {
      "text/html": [
       "<div>\n",
       "<style scoped>\n",
       "    .dataframe tbody tr th:only-of-type {\n",
       "        vertical-align: middle;\n",
       "    }\n",
       "\n",
       "    .dataframe tbody tr th {\n",
       "        vertical-align: top;\n",
       "    }\n",
       "\n",
       "    .dataframe thead th {\n",
       "        text-align: right;\n",
       "    }\n",
       "</style>\n",
       "<table border=\"1\" class=\"dataframe\">\n",
       "  <thead>\n",
       "    <tr style=\"text-align: right;\">\n",
       "      <th></th>\n",
       "      <th>bnf_drug_name</th>\n",
       "      <th>bnf_indication</th>\n",
       "      <th>icht_prescribing_medication</th>\n",
       "      <th>cui_code</th>\n",
       "      <th>cui_disease_or_syndrome</th>\n",
       "      <th>snomed_code</th>\n",
       "    </tr>\n",
       "  </thead>\n",
       "  <tbody>\n",
       "    <tr>\n",
       "      <th>0</th>\n",
       "      <td>Atorvastatin</td>\n",
       "      <td>Primary hypercholesterolaemia in patients who ...</td>\n",
       "      <td>atorvastatin</td>\n",
       "      <td>C0342879</td>\n",
       "      <td>Primary hypercholesterolemia [Disease or Synd...</td>\n",
       "      <td>238076009</td>\n",
       "    </tr>\n",
       "    <tr>\n",
       "      <th>1</th>\n",
       "      <td>Atorvastatin</td>\n",
       "      <td>Primary hypercholesterolaemia in patients who ...</td>\n",
       "      <td>Atorvastatin</td>\n",
       "      <td>C0342879</td>\n",
       "      <td>Primary hypercholesterolemia [Disease or Synd...</td>\n",
       "      <td>238076009</td>\n",
       "    </tr>\n",
       "    <tr>\n",
       "      <th>2</th>\n",
       "      <td>Atorvastatin</td>\n",
       "      <td>Combined (mixed) hyperlipidaemia in patients w...</td>\n",
       "      <td>atorvastatin</td>\n",
       "      <td>C0020474</td>\n",
       "      <td>Familial combined hyperlipidemia (Hyperlipide...</td>\n",
       "      <td>48190005</td>\n",
       "    </tr>\n",
       "    <tr>\n",
       "      <th>3</th>\n",
       "      <td>Atorvastatin</td>\n",
       "      <td>Combined (mixed) hyperlipidaemia in patients w...</td>\n",
       "      <td>atorvastatin</td>\n",
       "      <td>C0020474</td>\n",
       "      <td>Familial combined hyperlipidemia (Hyperlipide...</td>\n",
       "      <td>238040008</td>\n",
       "    </tr>\n",
       "    <tr>\n",
       "      <th>4</th>\n",
       "      <td>Atorvastatin</td>\n",
       "      <td>Combined (mixed) hyperlipidaemia in patients w...</td>\n",
       "      <td>atorvastatin</td>\n",
       "      <td>C0020474</td>\n",
       "      <td>Familial combined hyperlipidemia (Hyperlipide...</td>\n",
       "      <td>190780005</td>\n",
       "    </tr>\n",
       "    <tr>\n",
       "      <th>...</th>\n",
       "      <td>...</td>\n",
       "      <td>...</td>\n",
       "      <td>...</td>\n",
       "      <td>...</td>\n",
       "      <td>...</td>\n",
       "      <td>...</td>\n",
       "    </tr>\n",
       "    <tr>\n",
       "      <th>15682</th>\n",
       "      <td>Co-careldopa</td>\n",
       "      <td>Parkinson's disease (patients not receiving le...</td>\n",
       "      <td>Co-careldopa</td>\n",
       "      <td>C0030567</td>\n",
       "      <td>Parkinson disease (Parkinson Disease) [Diseas...</td>\n",
       "      <td>154999006</td>\n",
       "    </tr>\n",
       "    <tr>\n",
       "      <th>15683</th>\n",
       "      <td>Co-careldopa</td>\n",
       "      <td>Parkinson's disease (patients not receiving le...</td>\n",
       "      <td>Co-careldopa</td>\n",
       "      <td>C0030567</td>\n",
       "      <td>Parkinson disease (Parkinson Disease) [Diseas...</td>\n",
       "      <td>192825001</td>\n",
       "    </tr>\n",
       "    <tr>\n",
       "      <th>15684</th>\n",
       "      <td>Co-careldopa</td>\n",
       "      <td>Parkinson's disease (patients not receiving le...</td>\n",
       "      <td>Co-careldopa</td>\n",
       "      <td>C0030567</td>\n",
       "      <td>Parkinson disease (Parkinson Disease) [Diseas...</td>\n",
       "      <td>155000006</td>\n",
       "    </tr>\n",
       "    <tr>\n",
       "      <th>15685</th>\n",
       "      <td>Co-careldopa</td>\n",
       "      <td>Parkinson's disease (patients not receiving le...</td>\n",
       "      <td>Co-careldopa</td>\n",
       "      <td>C0030567</td>\n",
       "      <td>Parkinson disease (Parkinson Disease) [Diseas...</td>\n",
       "      <td>192831003</td>\n",
       "    </tr>\n",
       "    <tr>\n",
       "      <th>15686</th>\n",
       "      <td>Co-careldopa</td>\n",
       "      <td>Parkinson's disease (patients not receiving le...</td>\n",
       "      <td>Co-careldopa</td>\n",
       "      <td>C0030567</td>\n",
       "      <td>Parkinson disease (Parkinson Disease) [Diseas...</td>\n",
       "      <td>155002003</td>\n",
       "    </tr>\n",
       "  </tbody>\n",
       "</table>\n",
       "<p>15671 rows × 6 columns</p>\n",
       "</div>"
      ],
      "text/plain": [
       "      bnf_drug_name                                     bnf_indication icht_prescribing_medication  cui_code                            cui_disease_or_syndrome snomed_code\n",
       "0      Atorvastatin  Primary hypercholesterolaemia in patients who ...                atorvastatin  C0342879   Primary hypercholesterolemia [Disease or Synd...   238076009\n",
       "1      Atorvastatin  Primary hypercholesterolaemia in patients who ...                Atorvastatin  C0342879   Primary hypercholesterolemia [Disease or Synd...   238076009\n",
       "2      Atorvastatin  Combined (mixed) hyperlipidaemia in patients w...                atorvastatin  C0020474   Familial combined hyperlipidemia (Hyperlipide...    48190005\n",
       "3      Atorvastatin  Combined (mixed) hyperlipidaemia in patients w...                atorvastatin  C0020474   Familial combined hyperlipidemia (Hyperlipide...   238040008\n",
       "4      Atorvastatin  Combined (mixed) hyperlipidaemia in patients w...                atorvastatin  C0020474   Familial combined hyperlipidemia (Hyperlipide...   190780005\n",
       "...             ...                                                ...                         ...       ...                                                ...         ...\n",
       "15682  Co-careldopa  Parkinson's disease (patients not receiving le...                Co-careldopa  C0030567   Parkinson disease (Parkinson Disease) [Diseas...   154999006\n",
       "15683  Co-careldopa  Parkinson's disease (patients not receiving le...                Co-careldopa  C0030567   Parkinson disease (Parkinson Disease) [Diseas...   192825001\n",
       "15684  Co-careldopa  Parkinson's disease (patients not receiving le...                Co-careldopa  C0030567   Parkinson disease (Parkinson Disease) [Diseas...   155000006\n",
       "15685  Co-careldopa  Parkinson's disease (patients not receiving le...                Co-careldopa  C0030567   Parkinson disease (Parkinson Disease) [Diseas...   192831003\n",
       "15686  Co-careldopa  Parkinson's disease (patients not receiving le...                Co-careldopa  C0030567   Parkinson disease (Parkinson Disease) [Diseas...   155002003\n",
       "\n",
       "[15671 rows x 6 columns]"
      ]
     },
     "execution_count": 114,
     "metadata": {},
     "output_type": "execute_result"
    }
   ],
   "source": [
    "drug_indication_code_df"
   ]
  },
  {
   "cell_type": "code",
   "execution_count": 116,
   "metadata": {},
   "outputs": [],
   "source": [
    "# See how many overlap "
   ]
  },
  {
   "cell_type": "code",
   "execution_count": 117,
   "metadata": {},
   "outputs": [],
   "source": [
    "snomed_problem_codes.rename(columns={'PROBLEM':'snomed_code'}, inplace=True)\n",
    "snomed_diagnosis_codes.rename(columns={'DIAGNOSIS_CODE_SNOMED':'snomed_code'}, inplace=True)\n",
    "snomed_riskfactor_codes.rename(columns={'SNOMED_CODE':'snomed_code'}, inplace=True)"
   ]
  },
  {
   "cell_type": "code",
   "execution_count": 118,
   "metadata": {},
   "outputs": [],
   "source": [
    "snomed_problem_codes['snomed_code'] = snomed_problem_codes['snomed_code'].astype(str)\n",
    "snomed_diagnosis_codes['snomed_code'] = snomed_diagnosis_codes['snomed_code'].astype(str)\n",
    "snomed_riskfactor_codes['snomed_code'] = snomed_riskfactor_codes['snomed_code'].astype(str)"
   ]
  },
  {
   "cell_type": "code",
   "execution_count": 119,
   "metadata": {},
   "outputs": [],
   "source": [
    "new_problem_df = pd.merge(drug_indication_code_df, snomed_problem_codes)\n",
    "new_riskfactor_df = pd.merge(drug_indication_code_df, snomed_riskfactor_codes)\n",
    "new_diagnosis_df = pd.merge(drug_indication_code_df, snomed_diagnosis_codes)"
   ]
  },
  {
   "cell_type": "code",
   "execution_count": 120,
   "metadata": {},
   "outputs": [
    {
     "data": {
      "text/plain": [
       "336"
      ]
     },
     "execution_count": 120,
     "metadata": {},
     "output_type": "execute_result"
    },
    {
     "data": {
      "text/plain": [
       "2361"
      ]
     },
     "execution_count": 120,
     "metadata": {},
     "output_type": "execute_result"
    },
    {
     "data": {
      "text/plain": [
       "0.1423125794155019"
      ]
     },
     "execution_count": 120,
     "metadata": {},
     "output_type": "execute_result"
    },
    {
     "data": {
      "text/plain": [
       "41"
      ]
     },
     "execution_count": 120,
     "metadata": {},
     "output_type": "execute_result"
    },
    {
     "data": {
      "text/plain": [
       "211"
      ]
     },
     "execution_count": 120,
     "metadata": {},
     "output_type": "execute_result"
    },
    {
     "data": {
      "text/plain": [
       "0.1943127962085308"
      ]
     },
     "execution_count": 120,
     "metadata": {},
     "output_type": "execute_result"
    },
    {
     "data": {
      "text/plain": [
       "187"
      ]
     },
     "execution_count": 120,
     "metadata": {},
     "output_type": "execute_result"
    },
    {
     "data": {
      "text/plain": [
       "1184"
      ]
     },
     "execution_count": 120,
     "metadata": {},
     "output_type": "execute_result"
    },
    {
     "data": {
      "text/plain": [
       "0.1579391891891892"
      ]
     },
     "execution_count": 120,
     "metadata": {},
     "output_type": "execute_result"
    }
   ],
   "source": [
    "new_problem_df.snomed_code.nunique()\n",
    "snomed_problem_codes.snomed_code.nunique()\n",
    "new_problem_df.snomed_code.nunique()/snomed_problem_codes.snomed_code.nunique()\n",
    "new_riskfactor_df.snomed_code.nunique()\n",
    "snomed_riskfactor_codes.snomed_code.nunique()\n",
    "new_riskfactor_df.snomed_code.nunique()/snomed_riskfactor_codes.snomed_code.nunique()\n",
    "new_diagnosis_df.snomed_code.nunique()\n",
    "snomed_diagnosis_codes.snomed_code.nunique()\n",
    "new_diagnosis_df.snomed_code.nunique()/snomed_diagnosis_codes.snomed_code.nunique()"
   ]
  },
  {
   "attachments": {},
   "cell_type": "markdown",
   "metadata": {},
   "source": [
    "Fuzzy indication merge "
   ]
  },
  {
   "cell_type": "code",
   "execution_count": 127,
   "metadata": {},
   "outputs": [],
   "source": [
    "import difflib \n",
    "drug_indication_df2 = drug_indication_df.copy()\n",
    "drug_indication_df2['new_indication'] = drug_indication_df2['indication'].apply(lambda x: difflib.get_close_matches(x, indication_code_df['indication'], n=1, cutoff=0.8))#[0])"
   ]
  },
  {
   "cell_type": "code",
   "execution_count": 133,
   "metadata": {},
   "outputs": [],
   "source": [
    "# select first element in list for fuzzy indication merge\n",
    "for x in range(len(drug_indication_df2)):\n",
    "    if len(drug_indication_df2.iloc[x]['new_indication']) >= 1:\n",
    "        indication_2_text = drug_indication_df2.iloc[x]['new_indication'][0]\n",
    "        drug_indication_df2.loc[x, 'indication_2'] = indication_2_text\n",
    "    else:\n",
    "        indication_2_text = drug_indication_df2.iloc[x]['indication']\n",
    "        drug_indication_df2.loc[x, 'indication_2'] = indication_2_text\n"
   ]
  },
  {
   "cell_type": "code",
   "execution_count": 135,
   "metadata": {},
   "outputs": [
    {
     "data": {
      "text/html": [
       "<div>\n",
       "<style scoped>\n",
       "    .dataframe tbody tr th:only-of-type {\n",
       "        vertical-align: middle;\n",
       "    }\n",
       "\n",
       "    .dataframe tbody tr th {\n",
       "        vertical-align: top;\n",
       "    }\n",
       "\n",
       "    .dataframe thead th {\n",
       "        text-align: right;\n",
       "    }\n",
       "</style>\n",
       "<table border=\"1\" class=\"dataframe\">\n",
       "  <thead>\n",
       "    <tr style=\"text-align: right;\">\n",
       "      <th></th>\n",
       "      <th>drug_name</th>\n",
       "      <th>indication</th>\n",
       "      <th>prescribing_medication</th>\n",
       "      <th>new_indication</th>\n",
       "      <th>indication_2</th>\n",
       "    </tr>\n",
       "  </thead>\n",
       "  <tbody>\n",
       "    <tr>\n",
       "      <th>0</th>\n",
       "      <td>Atorvastatin</td>\n",
       "      <td>Primary hypercholesterolaemia in patients who ...</td>\n",
       "      <td>atorvastatin</td>\n",
       "      <td>[ Primary hypercholesterolaemia in patients wh...</td>\n",
       "      <td>Primary hypercholesterolaemia in patients who...</td>\n",
       "    </tr>\n",
       "    <tr>\n",
       "      <th>1</th>\n",
       "      <td>Atorvastatin</td>\n",
       "      <td>Combined (mixed) hyperlipidaemia in patients w...</td>\n",
       "      <td>atorvastatin</td>\n",
       "      <td>[ Combined (mixed) hyperlipidaemia in patients...</td>\n",
       "      <td>Combined (mixed) hyperlipidaemia in patients ...</td>\n",
       "    </tr>\n",
       "    <tr>\n",
       "      <th>2</th>\n",
       "      <td>Atorvastatin</td>\n",
       "      <td>Heterozygous familial hypercholesterolaemia in...</td>\n",
       "      <td>atorvastatin</td>\n",
       "      <td>[ Heterozygous familial hypercholesterolaemia ...</td>\n",
       "      <td>Heterozygous familial hypercholesterolaemia i...</td>\n",
       "    </tr>\n",
       "    <tr>\n",
       "      <th>3</th>\n",
       "      <td>Atorvastatin</td>\n",
       "      <td>Homozygous familial hypercholesterolaemia in ...</td>\n",
       "      <td>atorvastatin</td>\n",
       "      <td>[ Homozygous familial hypercholesterolaemia in...</td>\n",
       "      <td>Homozygous familial hypercholesterolaemia in ...</td>\n",
       "    </tr>\n",
       "    <tr>\n",
       "      <th>4</th>\n",
       "      <td>Atorvastatin</td>\n",
       "      <td>Primary prevention of cardiovascular events in...</td>\n",
       "      <td>atorvastatin</td>\n",
       "      <td>[]</td>\n",
       "      <td>Primary prevention of cardiovascular events in...</td>\n",
       "    </tr>\n",
       "    <tr>\n",
       "      <th>...</th>\n",
       "      <td>...</td>\n",
       "      <td>...</td>\n",
       "      <td>...</td>\n",
       "      <td>...</td>\n",
       "      <td>...</td>\n",
       "    </tr>\n",
       "    <tr>\n",
       "      <th>4173</th>\n",
       "      <td>Co-careldopa</td>\n",
       "      <td>Parkinson's disease (patients not receiving le...</td>\n",
       "      <td>Co-careldopa</td>\n",
       "      <td>[ Parkinson's disease (patients not receiving ...</td>\n",
       "      <td>Parkinson's disease (patients not receiving l...</td>\n",
       "    </tr>\n",
       "    <tr>\n",
       "      <th>4174</th>\n",
       "      <td>Co-careldopa</td>\n",
       "      <td>Parkinson's disease (patients transferring fro...</td>\n",
       "      <td>Co-careldopa</td>\n",
       "      <td>[ Parkinson's disease (patients transferring f...</td>\n",
       "      <td>Parkinson's disease (patients transferring fr...</td>\n",
       "    </tr>\n",
       "    <tr>\n",
       "      <th>4175</th>\n",
       "      <td>Co-careldopa</td>\n",
       "      <td>Severe Parkinson's disease inadequately contro...</td>\n",
       "      <td>Co-careldopa</td>\n",
       "      <td>[ Severe Parkinson's disease inadequately cont...</td>\n",
       "      <td>Severe Parkinson's disease inadequately contr...</td>\n",
       "    </tr>\n",
       "    <tr>\n",
       "      <th>4176</th>\n",
       "      <td>Co-careldopa</td>\n",
       "      <td>Parkinson's disease (for fine adjustment of Si...</td>\n",
       "      <td>Co-careldopa</td>\n",
       "      <td>[ Parkinson's disease (for fine adjustment of ...</td>\n",
       "      <td>Parkinson's disease (for fine adjustment of S...</td>\n",
       "    </tr>\n",
       "    <tr>\n",
       "      <th>4177</th>\n",
       "      <td>Co-careldopa</td>\n",
       "      <td>Parkinson's disease (patients not receiving le...</td>\n",
       "      <td>Co-careldopa</td>\n",
       "      <td>[ Parkinson's disease (patients not receiving ...</td>\n",
       "      <td>Parkinson's disease (patients not receiving l...</td>\n",
       "    </tr>\n",
       "  </tbody>\n",
       "</table>\n",
       "<p>4178 rows × 5 columns</p>\n",
       "</div>"
      ],
      "text/plain": [
       "         drug_name                                         indication prescribing_medication                                     new_indication                                       indication_2\n",
       "0     Atorvastatin  Primary hypercholesterolaemia in patients who ...           atorvastatin  [ Primary hypercholesterolaemia in patients wh...   Primary hypercholesterolaemia in patients who...\n",
       "1     Atorvastatin  Combined (mixed) hyperlipidaemia in patients w...           atorvastatin  [ Combined (mixed) hyperlipidaemia in patients...   Combined (mixed) hyperlipidaemia in patients ...\n",
       "2     Atorvastatin  Heterozygous familial hypercholesterolaemia in...           atorvastatin  [ Heterozygous familial hypercholesterolaemia ...   Heterozygous familial hypercholesterolaemia i...\n",
       "3     Atorvastatin   Homozygous familial hypercholesterolaemia in ...           atorvastatin  [ Homozygous familial hypercholesterolaemia in...   Homozygous familial hypercholesterolaemia in ...\n",
       "4     Atorvastatin  Primary prevention of cardiovascular events in...           atorvastatin                                                 []  Primary prevention of cardiovascular events in...\n",
       "...            ...                                                ...                    ...                                                ...                                                ...\n",
       "4173  Co-careldopa  Parkinson's disease (patients not receiving le...           Co-careldopa  [ Parkinson's disease (patients not receiving ...   Parkinson's disease (patients not receiving l...\n",
       "4174  Co-careldopa  Parkinson's disease (patients transferring fro...           Co-careldopa  [ Parkinson's disease (patients transferring f...   Parkinson's disease (patients transferring fr...\n",
       "4175  Co-careldopa  Severe Parkinson's disease inadequately contro...           Co-careldopa  [ Severe Parkinson's disease inadequately cont...   Severe Parkinson's disease inadequately contr...\n",
       "4176  Co-careldopa  Parkinson's disease (for fine adjustment of Si...           Co-careldopa  [ Parkinson's disease (for fine adjustment of ...   Parkinson's disease (for fine adjustment of S...\n",
       "4177  Co-careldopa  Parkinson's disease (patients not receiving le...           Co-careldopa  [ Parkinson's disease (patients not receiving ...   Parkinson's disease (patients not receiving l...\n",
       "\n",
       "[4178 rows x 5 columns]"
      ]
     },
     "execution_count": 135,
     "metadata": {},
     "output_type": "execute_result"
    }
   ],
   "source": [
    "drug_indication_df2"
   ]
  },
  {
   "cell_type": "code",
   "execution_count": 140,
   "metadata": {},
   "outputs": [],
   "source": [
    "# New merge with indication_2\n",
    "drug_indication_code_df_2 = pd.merge(drug_indication_df2[['drug_name', 'prescribing_medication', 'indication_2']], indication_code_df, how='inner', left_on='indication_2', right_on='indication')"
   ]
  },
  {
   "cell_type": "code",
   "execution_count": 142,
   "metadata": {},
   "outputs": [],
   "source": [
    "# Rename and drop duplicates\n",
    "drug_indication_code_df_2.drop_duplicates(inplace=True)\n",
    "drug_indication_code_df_2.rename(columns={'drug_name':'bnf_drug_name', 'indication':'bnf_indication', 'prescribing_medication':'icht_prescribing_medication', 'disease_or_syndrome':'cui_disease_or_syndrome'}, inplace=True)\n",
    "drug_indication_code_df_2.drop('indication_2', axis=1, inplace=True)"
   ]
  },
  {
   "cell_type": "code",
   "execution_count": 143,
   "metadata": {},
   "outputs": [
    {
     "data": {
      "text/html": [
       "<div>\n",
       "<style scoped>\n",
       "    .dataframe tbody tr th:only-of-type {\n",
       "        vertical-align: middle;\n",
       "    }\n",
       "\n",
       "    .dataframe tbody tr th {\n",
       "        vertical-align: top;\n",
       "    }\n",
       "\n",
       "    .dataframe thead th {\n",
       "        text-align: right;\n",
       "    }\n",
       "</style>\n",
       "<table border=\"1\" class=\"dataframe\">\n",
       "  <thead>\n",
       "    <tr style=\"text-align: right;\">\n",
       "      <th></th>\n",
       "      <th>bnf_drug_name</th>\n",
       "      <th>icht_prescribing_medication</th>\n",
       "      <th>bnf_indication</th>\n",
       "      <th>cui_code</th>\n",
       "      <th>cui_disease_or_syndrome</th>\n",
       "      <th>snomed_code</th>\n",
       "    </tr>\n",
       "  </thead>\n",
       "  <tbody>\n",
       "    <tr>\n",
       "      <th>0</th>\n",
       "      <td>Atorvastatin</td>\n",
       "      <td>atorvastatin</td>\n",
       "      <td>Primary hypercholesterolaemia in patients who...</td>\n",
       "      <td>C0342879</td>\n",
       "      <td>Primary hypercholesterolemia [Disease or Synd...</td>\n",
       "      <td>238076009</td>\n",
       "    </tr>\n",
       "    <tr>\n",
       "      <th>1</th>\n",
       "      <td>Atorvastatin</td>\n",
       "      <td>Atorvastatin</td>\n",
       "      <td>Primary hypercholesterolaemia in patients who...</td>\n",
       "      <td>C0342879</td>\n",
       "      <td>Primary hypercholesterolemia [Disease or Synd...</td>\n",
       "      <td>238076009</td>\n",
       "    </tr>\n",
       "    <tr>\n",
       "      <th>2</th>\n",
       "      <td>Atorvastatin</td>\n",
       "      <td>atorvastatin</td>\n",
       "      <td>Combined (mixed) hyperlipidaemia in patients ...</td>\n",
       "      <td>C0020474</td>\n",
       "      <td>Familial combined hyperlipidemia (Hyperlipide...</td>\n",
       "      <td>48190005</td>\n",
       "    </tr>\n",
       "    <tr>\n",
       "      <th>3</th>\n",
       "      <td>Atorvastatin</td>\n",
       "      <td>atorvastatin</td>\n",
       "      <td>Combined (mixed) hyperlipidaemia in patients ...</td>\n",
       "      <td>C0020474</td>\n",
       "      <td>Familial combined hyperlipidemia (Hyperlipide...</td>\n",
       "      <td>238040008</td>\n",
       "    </tr>\n",
       "    <tr>\n",
       "      <th>4</th>\n",
       "      <td>Atorvastatin</td>\n",
       "      <td>atorvastatin</td>\n",
       "      <td>Combined (mixed) hyperlipidaemia in patients ...</td>\n",
       "      <td>C0020474</td>\n",
       "      <td>Familial combined hyperlipidemia (Hyperlipide...</td>\n",
       "      <td>190780005</td>\n",
       "    </tr>\n",
       "    <tr>\n",
       "      <th>...</th>\n",
       "      <td>...</td>\n",
       "      <td>...</td>\n",
       "      <td>...</td>\n",
       "      <td>...</td>\n",
       "      <td>...</td>\n",
       "      <td>...</td>\n",
       "    </tr>\n",
       "    <tr>\n",
       "      <th>16792</th>\n",
       "      <td>Co-careldopa</td>\n",
       "      <td>Co-careldopa</td>\n",
       "      <td>Parkinson's disease (patients not receiving l...</td>\n",
       "      <td>C0030567</td>\n",
       "      <td>Parkinson disease (Parkinson Disease) [Diseas...</td>\n",
       "      <td>154999006</td>\n",
       "    </tr>\n",
       "    <tr>\n",
       "      <th>16793</th>\n",
       "      <td>Co-careldopa</td>\n",
       "      <td>Co-careldopa</td>\n",
       "      <td>Parkinson's disease (patients not receiving l...</td>\n",
       "      <td>C0030567</td>\n",
       "      <td>Parkinson disease (Parkinson Disease) [Diseas...</td>\n",
       "      <td>192825001</td>\n",
       "    </tr>\n",
       "    <tr>\n",
       "      <th>16794</th>\n",
       "      <td>Co-careldopa</td>\n",
       "      <td>Co-careldopa</td>\n",
       "      <td>Parkinson's disease (patients not receiving l...</td>\n",
       "      <td>C0030567</td>\n",
       "      <td>Parkinson disease (Parkinson Disease) [Diseas...</td>\n",
       "      <td>155000006</td>\n",
       "    </tr>\n",
       "    <tr>\n",
       "      <th>16795</th>\n",
       "      <td>Co-careldopa</td>\n",
       "      <td>Co-careldopa</td>\n",
       "      <td>Parkinson's disease (patients not receiving l...</td>\n",
       "      <td>C0030567</td>\n",
       "      <td>Parkinson disease (Parkinson Disease) [Diseas...</td>\n",
       "      <td>192831003</td>\n",
       "    </tr>\n",
       "    <tr>\n",
       "      <th>16796</th>\n",
       "      <td>Co-careldopa</td>\n",
       "      <td>Co-careldopa</td>\n",
       "      <td>Parkinson's disease (patients not receiving l...</td>\n",
       "      <td>C0030567</td>\n",
       "      <td>Parkinson disease (Parkinson Disease) [Diseas...</td>\n",
       "      <td>155002003</td>\n",
       "    </tr>\n",
       "  </tbody>\n",
       "</table>\n",
       "<p>16573 rows × 6 columns</p>\n",
       "</div>"
      ],
      "text/plain": [
       "      bnf_drug_name icht_prescribing_medication                                     bnf_indication  cui_code                            cui_disease_or_syndrome snomed_code\n",
       "0      Atorvastatin                atorvastatin   Primary hypercholesterolaemia in patients who...  C0342879   Primary hypercholesterolemia [Disease or Synd...   238076009\n",
       "1      Atorvastatin                Atorvastatin   Primary hypercholesterolaemia in patients who...  C0342879   Primary hypercholesterolemia [Disease or Synd...   238076009\n",
       "2      Atorvastatin                atorvastatin   Combined (mixed) hyperlipidaemia in patients ...  C0020474   Familial combined hyperlipidemia (Hyperlipide...    48190005\n",
       "3      Atorvastatin                atorvastatin   Combined (mixed) hyperlipidaemia in patients ...  C0020474   Familial combined hyperlipidemia (Hyperlipide...   238040008\n",
       "4      Atorvastatin                atorvastatin   Combined (mixed) hyperlipidaemia in patients ...  C0020474   Familial combined hyperlipidemia (Hyperlipide...   190780005\n",
       "...             ...                         ...                                                ...       ...                                                ...         ...\n",
       "16792  Co-careldopa                Co-careldopa   Parkinson's disease (patients not receiving l...  C0030567   Parkinson disease (Parkinson Disease) [Diseas...   154999006\n",
       "16793  Co-careldopa                Co-careldopa   Parkinson's disease (patients not receiving l...  C0030567   Parkinson disease (Parkinson Disease) [Diseas...   192825001\n",
       "16794  Co-careldopa                Co-careldopa   Parkinson's disease (patients not receiving l...  C0030567   Parkinson disease (Parkinson Disease) [Diseas...   155000006\n",
       "16795  Co-careldopa                Co-careldopa   Parkinson's disease (patients not receiving l...  C0030567   Parkinson disease (Parkinson Disease) [Diseas...   192831003\n",
       "16796  Co-careldopa                Co-careldopa   Parkinson's disease (patients not receiving l...  C0030567   Parkinson disease (Parkinson Disease) [Diseas...   155002003\n",
       "\n",
       "[16573 rows x 6 columns]"
      ]
     },
     "execution_count": 143,
     "metadata": {},
     "output_type": "execute_result"
    }
   ],
   "source": [
    "drug_indication_code_df_2"
   ]
  },
  {
   "cell_type": "code",
   "execution_count": 158,
   "metadata": {},
   "outputs": [],
   "source": [
    "# Merge fuzzy with normal"
   ]
  },
  {
   "cell_type": "code",
   "execution_count": 155,
   "metadata": {},
   "outputs": [],
   "source": [
    "drug_indication_code_df_3 = drug_indication_code_df_2.copy()\n",
    "drug_indication_code_df_3['bnf_indication'] = drug_indication_code_df_3['bnf_indication'].str.strip()\n",
    "drug_indication_code_df_3 = pd.concat([drug_indication_code_df, drug_indication_code_df_3])"
   ]
  },
  {
   "cell_type": "code",
   "execution_count": 156,
   "metadata": {},
   "outputs": [],
   "source": [
    "drug_indication_code_df_3.drop_duplicates(inplace=True)\n",
    "drug_indication_code_df_3.reset_index(drop=True, inplace=True)"
   ]
  },
  {
   "cell_type": "code",
   "execution_count": 157,
   "metadata": {},
   "outputs": [
    {
     "data": {
      "text/html": [
       "<div>\n",
       "<style scoped>\n",
       "    .dataframe tbody tr th:only-of-type {\n",
       "        vertical-align: middle;\n",
       "    }\n",
       "\n",
       "    .dataframe tbody tr th {\n",
       "        vertical-align: top;\n",
       "    }\n",
       "\n",
       "    .dataframe thead th {\n",
       "        text-align: right;\n",
       "    }\n",
       "</style>\n",
       "<table border=\"1\" class=\"dataframe\">\n",
       "  <thead>\n",
       "    <tr style=\"text-align: right;\">\n",
       "      <th></th>\n",
       "      <th>bnf_drug_name</th>\n",
       "      <th>bnf_indication</th>\n",
       "      <th>icht_prescribing_medication</th>\n",
       "      <th>cui_code</th>\n",
       "      <th>cui_disease_or_syndrome</th>\n",
       "      <th>snomed_code</th>\n",
       "    </tr>\n",
       "  </thead>\n",
       "  <tbody>\n",
       "    <tr>\n",
       "      <th>0</th>\n",
       "      <td>Atorvastatin</td>\n",
       "      <td>Primary hypercholesterolaemia in patients who ...</td>\n",
       "      <td>atorvastatin</td>\n",
       "      <td>C0342879</td>\n",
       "      <td>Primary hypercholesterolemia [Disease or Synd...</td>\n",
       "      <td>238076009</td>\n",
       "    </tr>\n",
       "    <tr>\n",
       "      <th>1</th>\n",
       "      <td>Atorvastatin</td>\n",
       "      <td>Primary hypercholesterolaemia in patients who ...</td>\n",
       "      <td>Atorvastatin</td>\n",
       "      <td>C0342879</td>\n",
       "      <td>Primary hypercholesterolemia [Disease or Synd...</td>\n",
       "      <td>238076009</td>\n",
       "    </tr>\n",
       "    <tr>\n",
       "      <th>2</th>\n",
       "      <td>Atorvastatin</td>\n",
       "      <td>Combined (mixed) hyperlipidaemia in patients w...</td>\n",
       "      <td>atorvastatin</td>\n",
       "      <td>C0020474</td>\n",
       "      <td>Familial combined hyperlipidemia (Hyperlipide...</td>\n",
       "      <td>48190005</td>\n",
       "    </tr>\n",
       "    <tr>\n",
       "      <th>3</th>\n",
       "      <td>Atorvastatin</td>\n",
       "      <td>Combined (mixed) hyperlipidaemia in patients w...</td>\n",
       "      <td>atorvastatin</td>\n",
       "      <td>C0020474</td>\n",
       "      <td>Familial combined hyperlipidemia (Hyperlipide...</td>\n",
       "      <td>238040008</td>\n",
       "    </tr>\n",
       "    <tr>\n",
       "      <th>4</th>\n",
       "      <td>Atorvastatin</td>\n",
       "      <td>Combined (mixed) hyperlipidaemia in patients w...</td>\n",
       "      <td>atorvastatin</td>\n",
       "      <td>C0020474</td>\n",
       "      <td>Familial combined hyperlipidemia (Hyperlipide...</td>\n",
       "      <td>190780005</td>\n",
       "    </tr>\n",
       "    <tr>\n",
       "      <th>...</th>\n",
       "      <td>...</td>\n",
       "      <td>...</td>\n",
       "      <td>...</td>\n",
       "      <td>...</td>\n",
       "      <td>...</td>\n",
       "      <td>...</td>\n",
       "    </tr>\n",
       "    <tr>\n",
       "      <th>16578</th>\n",
       "      <td>Co-careldopa</td>\n",
       "      <td>Parkinson's disease (for fine adjustment of Si...</td>\n",
       "      <td>Co-careldopa</td>\n",
       "      <td>C0030567</td>\n",
       "      <td>Parkinson disease (Parkinson Disease) [Diseas...</td>\n",
       "      <td>154999006</td>\n",
       "    </tr>\n",
       "    <tr>\n",
       "      <th>16579</th>\n",
       "      <td>Co-careldopa</td>\n",
       "      <td>Parkinson's disease (for fine adjustment of Si...</td>\n",
       "      <td>Co-careldopa</td>\n",
       "      <td>C0030567</td>\n",
       "      <td>Parkinson disease (Parkinson Disease) [Diseas...</td>\n",
       "      <td>192825001</td>\n",
       "    </tr>\n",
       "    <tr>\n",
       "      <th>16580</th>\n",
       "      <td>Co-careldopa</td>\n",
       "      <td>Parkinson's disease (for fine adjustment of Si...</td>\n",
       "      <td>Co-careldopa</td>\n",
       "      <td>C0030567</td>\n",
       "      <td>Parkinson disease (Parkinson Disease) [Diseas...</td>\n",
       "      <td>155000006</td>\n",
       "    </tr>\n",
       "    <tr>\n",
       "      <th>16581</th>\n",
       "      <td>Co-careldopa</td>\n",
       "      <td>Parkinson's disease (for fine adjustment of Si...</td>\n",
       "      <td>Co-careldopa</td>\n",
       "      <td>C0030567</td>\n",
       "      <td>Parkinson disease (Parkinson Disease) [Diseas...</td>\n",
       "      <td>192831003</td>\n",
       "    </tr>\n",
       "    <tr>\n",
       "      <th>16582</th>\n",
       "      <td>Co-careldopa</td>\n",
       "      <td>Parkinson's disease (for fine adjustment of Si...</td>\n",
       "      <td>Co-careldopa</td>\n",
       "      <td>C0030567</td>\n",
       "      <td>Parkinson disease (Parkinson Disease) [Diseas...</td>\n",
       "      <td>155002003</td>\n",
       "    </tr>\n",
       "  </tbody>\n",
       "</table>\n",
       "<p>16583 rows × 6 columns</p>\n",
       "</div>"
      ],
      "text/plain": [
       "      bnf_drug_name                                     bnf_indication icht_prescribing_medication  cui_code                            cui_disease_or_syndrome snomed_code\n",
       "0      Atorvastatin  Primary hypercholesterolaemia in patients who ...                atorvastatin  C0342879   Primary hypercholesterolemia [Disease or Synd...   238076009\n",
       "1      Atorvastatin  Primary hypercholesterolaemia in patients who ...                Atorvastatin  C0342879   Primary hypercholesterolemia [Disease or Synd...   238076009\n",
       "2      Atorvastatin  Combined (mixed) hyperlipidaemia in patients w...                atorvastatin  C0020474   Familial combined hyperlipidemia (Hyperlipide...    48190005\n",
       "3      Atorvastatin  Combined (mixed) hyperlipidaemia in patients w...                atorvastatin  C0020474   Familial combined hyperlipidemia (Hyperlipide...   238040008\n",
       "4      Atorvastatin  Combined (mixed) hyperlipidaemia in patients w...                atorvastatin  C0020474   Familial combined hyperlipidemia (Hyperlipide...   190780005\n",
       "...             ...                                                ...                         ...       ...                                                ...         ...\n",
       "16578  Co-careldopa  Parkinson's disease (for fine adjustment of Si...                Co-careldopa  C0030567   Parkinson disease (Parkinson Disease) [Diseas...   154999006\n",
       "16579  Co-careldopa  Parkinson's disease (for fine adjustment of Si...                Co-careldopa  C0030567   Parkinson disease (Parkinson Disease) [Diseas...   192825001\n",
       "16580  Co-careldopa  Parkinson's disease (for fine adjustment of Si...                Co-careldopa  C0030567   Parkinson disease (Parkinson Disease) [Diseas...   155000006\n",
       "16581  Co-careldopa  Parkinson's disease (for fine adjustment of Si...                Co-careldopa  C0030567   Parkinson disease (Parkinson Disease) [Diseas...   192831003\n",
       "16582  Co-careldopa  Parkinson's disease (for fine adjustment of Si...                Co-careldopa  C0030567   Parkinson disease (Parkinson Disease) [Diseas...   155002003\n",
       "\n",
       "[16583 rows x 6 columns]"
      ]
     },
     "execution_count": 157,
     "metadata": {},
     "output_type": "execute_result"
    }
   ],
   "source": [
    "drug_indication_code_df_3"
   ]
  },
  {
   "cell_type": "code",
   "execution_count": 159,
   "metadata": {},
   "outputs": [],
   "source": [
    "# See how many overlap"
   ]
  },
  {
   "cell_type": "code",
   "execution_count": 160,
   "metadata": {},
   "outputs": [],
   "source": [
    "new_problem_df_2 = pd.merge(drug_indication_code_df_3, snomed_problem_codes)\n",
    "new_riskfactor_df_2 = pd.merge(drug_indication_code_df_3, snomed_riskfactor_codes)\n",
    "new_diagnosis_df_2 = pd.merge(drug_indication_code_df_3, snomed_diagnosis_codes)"
   ]
  },
  {
   "cell_type": "code",
   "execution_count": 161,
   "metadata": {},
   "outputs": [
    {
     "data": {
      "text/plain": [
       "340"
      ]
     },
     "execution_count": 161,
     "metadata": {},
     "output_type": "execute_result"
    },
    {
     "data": {
      "text/plain": [
       "2361"
      ]
     },
     "execution_count": 161,
     "metadata": {},
     "output_type": "execute_result"
    },
    {
     "data": {
      "text/plain": [
       "0.14400677678949597"
      ]
     },
     "execution_count": 161,
     "metadata": {},
     "output_type": "execute_result"
    },
    {
     "data": {
      "text/plain": [
       "41"
      ]
     },
     "execution_count": 161,
     "metadata": {},
     "output_type": "execute_result"
    },
    {
     "data": {
      "text/plain": [
       "211"
      ]
     },
     "execution_count": 161,
     "metadata": {},
     "output_type": "execute_result"
    },
    {
     "data": {
      "text/plain": [
       "0.1943127962085308"
      ]
     },
     "execution_count": 161,
     "metadata": {},
     "output_type": "execute_result"
    },
    {
     "data": {
      "text/plain": [
       "187"
      ]
     },
     "execution_count": 161,
     "metadata": {},
     "output_type": "execute_result"
    },
    {
     "data": {
      "text/plain": [
       "1184"
      ]
     },
     "execution_count": 161,
     "metadata": {},
     "output_type": "execute_result"
    },
    {
     "data": {
      "text/plain": [
       "0.1579391891891892"
      ]
     },
     "execution_count": 161,
     "metadata": {},
     "output_type": "execute_result"
    }
   ],
   "source": [
    "new_problem_df_2.snomed_code.nunique()\n",
    "snomed_problem_codes.snomed_code.nunique()\n",
    "new_problem_df_2.snomed_code.nunique()/snomed_problem_codes.snomed_code.nunique()\n",
    "new_riskfactor_df_2.snomed_code.nunique()\n",
    "snomed_riskfactor_codes.snomed_code.nunique()\n",
    "new_riskfactor_df_2.snomed_code.nunique()/snomed_riskfactor_codes.snomed_code.nunique()\n",
    "new_diagnosis_df_2.snomed_code.nunique()\n",
    "snomed_diagnosis_codes.snomed_code.nunique()\n",
    "new_diagnosis_df_2.snomed_code.nunique()/snomed_diagnosis_codes.snomed_code.nunique()"
   ]
  },
  {
   "cell_type": "code",
   "execution_count": null,
   "metadata": {},
   "outputs": [],
   "source": [
    "# Check numbers match "
   ]
  },
  {
   "cell_type": "code",
   "execution_count": 163,
   "metadata": {},
   "outputs": [],
   "source": [
    "new_problem_df_4 = pd.merge(indication_code_df, snomed_problem_codes)\n",
    "new_riskfactor_df_4 = pd.merge(indication_code_df, snomed_riskfactor_codes)\n",
    "new_diagnosis_df_4 = pd.merge(indication_code_df, snomed_diagnosis_codes)"
   ]
  },
  {
   "cell_type": "code",
   "execution_count": 164,
   "metadata": {},
   "outputs": [
    {
     "data": {
      "text/plain": [
       "340"
      ]
     },
     "execution_count": 164,
     "metadata": {},
     "output_type": "execute_result"
    },
    {
     "data": {
      "text/plain": [
       "2361"
      ]
     },
     "execution_count": 164,
     "metadata": {},
     "output_type": "execute_result"
    },
    {
     "data": {
      "text/plain": [
       "0.14400677678949597"
      ]
     },
     "execution_count": 164,
     "metadata": {},
     "output_type": "execute_result"
    },
    {
     "data": {
      "text/plain": [
       "41"
      ]
     },
     "execution_count": 164,
     "metadata": {},
     "output_type": "execute_result"
    },
    {
     "data": {
      "text/plain": [
       "211"
      ]
     },
     "execution_count": 164,
     "metadata": {},
     "output_type": "execute_result"
    },
    {
     "data": {
      "text/plain": [
       "0.1943127962085308"
      ]
     },
     "execution_count": 164,
     "metadata": {},
     "output_type": "execute_result"
    },
    {
     "data": {
      "text/plain": [
       "187"
      ]
     },
     "execution_count": 164,
     "metadata": {},
     "output_type": "execute_result"
    },
    {
     "data": {
      "text/plain": [
       "1184"
      ]
     },
     "execution_count": 164,
     "metadata": {},
     "output_type": "execute_result"
    },
    {
     "data": {
      "text/plain": [
       "0.1579391891891892"
      ]
     },
     "execution_count": 164,
     "metadata": {},
     "output_type": "execute_result"
    }
   ],
   "source": [
    "new_problem_df_4.snomed_code.nunique()\n",
    "snomed_problem_codes.snomed_code.nunique()\n",
    "new_problem_df_4.snomed_code.nunique()/snomed_problem_codes.snomed_code.nunique()\n",
    "new_riskfactor_df_4.snomed_code.nunique()\n",
    "snomed_riskfactor_codes.snomed_code.nunique()\n",
    "new_riskfactor_df_4.snomed_code.nunique()/snomed_riskfactor_codes.snomed_code.nunique()\n",
    "new_diagnosis_df_4.snomed_code.nunique()\n",
    "snomed_diagnosis_codes.snomed_code.nunique()\n",
    "new_diagnosis_df_4.snomed_code.nunique()/snomed_diagnosis_codes.snomed_code.nunique()"
   ]
  },
  {
   "attachments": {},
   "cell_type": "markdown",
   "metadata": {},
   "source": [
    "Save"
   ]
  },
  {
   "cell_type": "code",
   "execution_count": 165,
   "metadata": {},
   "outputs": [],
   "source": [
    "# Save\n",
    "#drug_indication_code_df.to_csv('drugs_indications_and_codes.csv', index=False)"
   ]
  },
  {
   "cell_type": "code",
   "execution_count": 166,
   "metadata": {},
   "outputs": [],
   "source": [
    "# Save\n",
    "#drug_indication_code_df_3.to_csv('drugs_indications_and_codes_fuzzy.csv', index=False)"
   ]
  }
 ],
 "metadata": {
  "kernelspec": {
   "display_name": "multimorbid",
   "language": "python",
   "name": "python3"
  },
  "language_info": {
   "codemirror_mode": {
    "name": "ipython",
    "version": 3
   },
   "file_extension": ".py",
   "mimetype": "text/x-python",
   "name": "python",
   "nbconvert_exporter": "python",
   "pygments_lexer": "ipython3",
   "version": "3.9.12"
  },
  "orig_nbformat": 4,
  "vscode": {
   "interpreter": {
    "hash": "450841604c5919b022db927ad0b60ac7563e937094c5a5aa6ccae5286af93dd2"
   }
  }
 },
 "nbformat": 4,
 "nbformat_minor": 2
}
