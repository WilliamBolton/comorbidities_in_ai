{
 "cells": [
  {
   "cell_type": "code",
   "execution_count": 1,
   "metadata": {},
   "outputs": [],
   "source": [
    "# Libraries\n",
    "import pandas as pd\n",
    "pd.set_option('display.max_columns', 40)\n",
    "pd.set_option('display.width', 2000)\n",
    "\n",
    "from IPython.core.interactiveshell import InteractiveShell\n",
    "InteractiveShell.ast_node_interactivity = \"all\"\n",
    "\n",
    "from bs4 import BeautifulSoup\n",
    "import requests"
   ]
  },
  {
   "attachments": {},
   "cell_type": "markdown",
   "metadata": {},
   "source": [
    "### Functions"
   ]
  },
  {
   "cell_type": "code",
   "execution_count": 34,
   "metadata": {},
   "outputs": [],
   "source": [
    "def parse(drug_name, url_string):\n",
    "    get_url = requests.get(url_string, timeout=5)  \n",
    "    page_content = BeautifulSoup(get_url.content, 'lxml')\n",
    "    containers = page_content.findAll('span', \n",
    "                 {'class':'IndicationsAndDoseContent-module--indicationText--iUQa1'})\n",
    "    \n",
    "    df = pd.DataFrame(columns = ['drug_name', 'indication'])\n",
    "\n",
    "    for item in containers:\n",
    "        text = item.contents[0]\n",
    "        interim_df = pd.DataFrame([[drug_name, text]], columns=df.columns)\n",
    "        df = pd.concat([df, interim_df], ignore_index=True)\n",
    "        #df = df.append({'drug_name': drug_name, 'indication': text}, ignore_index=True)\n",
    "    \n",
    "    return df"
   ]
  },
  {
   "cell_type": "code",
   "execution_count": 35,
   "metadata": {},
   "outputs": [],
   "source": [
    "def drug_indication_scraping(drug_list, base_url):\n",
    "    final_drug_df = pd.DataFrame(columns = ['drug_name', 'indication'])\n",
    "\n",
    "    for drug in drug_list:\n",
    "        \n",
    "        full_url = base_url + drug\n",
    "        \n",
    "        drug_df = parse(drug, full_url)   \n",
    "        final_drug_df = pd.concat([final_drug_df, drug_df], ignore_index=True)\n",
    "    \n",
    "    return final_drug_df"
   ]
  },
  {
   "cell_type": "code",
   "execution_count": 77,
   "metadata": {},
   "outputs": [],
   "source": [
    "def get_all_bnf_drugs():\n",
    "    # Get content\n",
    "    get_url = requests.get('https://bnf.nice.org.uk/drugs/', timeout=5)  \n",
    "    page_content = BeautifulSoup(get_url.content, 'lxml')\n",
    "    containers = page_content.findAll('a')\n",
    "    #print(len(containers))\n",
    "    # Exstract text\n",
    "    text_list = []\n",
    "    for item in containers:\n",
    "        text = item.contents[0]\n",
    "        text_list.append(text)\n",
    "    # Find location of first and last drug in whole list\n",
    "    start = text_list.index(\"Abacavir\")\n",
    "    end = text_list.index(\"Zuclopenthixol decanoate\")\n",
    "    # Filter\n",
    "    filtered_drug_list = text_list[start:end+1]\n",
    "    # Remove space from the end so web links work \n",
    "    filtered_drug_list = [x.rstrip() for x in filtered_drug_list]\n",
    "    # Replace / with dash so web links work\n",
    "    filtered_drug_list = [x.replace(\"/\", \"-\") for x in filtered_drug_list]\n",
    "    # Replace , with nothing so web links work\n",
    "    filtered_drug_list = [x.replace(\",\", \"\") for x in filtered_drug_list]\n",
    "    # Replace () with nothing so web links work\n",
    "    filtered_drug_list = [x.replace(\"(\", \"\") for x in filtered_drug_list]\n",
    "    filtered_drug_list = [x.replace(\")\", \"\") for x in filtered_drug_list]\n",
    "    # Replace space with dash so web links work\n",
    "    filtered_drug_list = [x.replace(\" \", \"-\") for x in filtered_drug_list]\n",
    "    # Replace é with e so web links work\n",
    "    filtered_drug_list = [x.replace(\"é\", \"e\") for x in filtered_drug_list]\n",
    "\n",
    "    return filtered_drug_list"
   ]
  },
  {
   "attachments": {},
   "cell_type": "markdown",
   "metadata": {},
   "source": [
    "### Run"
   ]
  },
  {
   "cell_type": "code",
   "execution_count": null,
   "metadata": {},
   "outputs": [],
   "source": [
    "# Scrape data from bnf\n",
    "drug_list = get_all_bnf_drugs()\n",
    "base_url = 'https://bnf.nice.org.uk/drugs/'\n",
    "final_drug_df = drug_indication_scraping(drug_list, base_url)"
   ]
  },
  {
   "cell_type": "code",
   "execution_count": 80,
   "metadata": {},
   "outputs": [
    {
     "data": {
      "text/html": [
       "<div>\n",
       "<style scoped>\n",
       "    .dataframe tbody tr th:only-of-type {\n",
       "        vertical-align: middle;\n",
       "    }\n",
       "\n",
       "    .dataframe tbody tr th {\n",
       "        vertical-align: top;\n",
       "    }\n",
       "\n",
       "    .dataframe thead th {\n",
       "        text-align: right;\n",
       "    }\n",
       "</style>\n",
       "<table border=\"1\" class=\"dataframe\">\n",
       "  <thead>\n",
       "    <tr style=\"text-align: right;\">\n",
       "      <th></th>\n",
       "      <th>drug_name</th>\n",
       "      <th>indication</th>\n",
       "    </tr>\n",
       "  </thead>\n",
       "  <tbody>\n",
       "    <tr>\n",
       "      <th>0</th>\n",
       "      <td>Abacavir</td>\n",
       "      <td>HIV infection in combination with other antire...</td>\n",
       "    </tr>\n",
       "    <tr>\n",
       "      <th>1</th>\n",
       "      <td>Abacavir-with-dolutegravir-and-lamivudine</td>\n",
       "      <td>HIV infection</td>\n",
       "    </tr>\n",
       "    <tr>\n",
       "      <th>2</th>\n",
       "      <td>Abacavir-with-lamivudine</td>\n",
       "      <td>HIV infection in combination with other antire...</td>\n",
       "    </tr>\n",
       "    <tr>\n",
       "      <th>3</th>\n",
       "      <td>Abacavir-with-lamivudine-and-zidovudine</td>\n",
       "      <td>HIV infection (use only if patient is stabilis...</td>\n",
       "    </tr>\n",
       "    <tr>\n",
       "      <th>4</th>\n",
       "      <td>Abatacept</td>\n",
       "      <td>Moderate-to-severe active rheumatoid arthritis...</td>\n",
       "    </tr>\n",
       "    <tr>\n",
       "      <th>...</th>\n",
       "      <td>...</td>\n",
       "      <td>...</td>\n",
       "    </tr>\n",
       "    <tr>\n",
       "      <th>5474</th>\n",
       "      <td>Zuclopenthixol</td>\n",
       "      <td>Schizophrenia and other psychoses</td>\n",
       "    </tr>\n",
       "    <tr>\n",
       "      <th>5475</th>\n",
       "      <td>Zuclopenthixol-acetate</td>\n",
       "      <td>Short-term management of acute psychosis,</td>\n",
       "    </tr>\n",
       "    <tr>\n",
       "      <th>5476</th>\n",
       "      <td>Zuclopenthixol-acetate</td>\n",
       "      <td>Short-term management of mania,</td>\n",
       "    </tr>\n",
       "    <tr>\n",
       "      <th>5477</th>\n",
       "      <td>Zuclopenthixol-acetate</td>\n",
       "      <td>Short-term management of exacerbation of chron...</td>\n",
       "    </tr>\n",
       "    <tr>\n",
       "      <th>5478</th>\n",
       "      <td>Zuclopenthixol-decanoate</td>\n",
       "      <td>Maintenance in schizophrenia and paranoid psyc...</td>\n",
       "    </tr>\n",
       "  </tbody>\n",
       "</table>\n",
       "<p>5479 rows × 2 columns</p>\n",
       "</div>"
      ],
      "text/plain": [
       "                                      drug_name                                         indication\n",
       "0                                      Abacavir  HIV infection in combination with other antire...\n",
       "1     Abacavir-with-dolutegravir-and-lamivudine                                      HIV infection\n",
       "2                      Abacavir-with-lamivudine  HIV infection in combination with other antire...\n",
       "3       Abacavir-with-lamivudine-and-zidovudine  HIV infection (use only if patient is stabilis...\n",
       "4                                     Abatacept  Moderate-to-severe active rheumatoid arthritis...\n",
       "...                                         ...                                                ...\n",
       "5474                             Zuclopenthixol                  Schizophrenia and other psychoses\n",
       "5475                     Zuclopenthixol-acetate         Short-term management of acute psychosis, \n",
       "5476                     Zuclopenthixol-acetate                   Short-term management of mania, \n",
       "5477                     Zuclopenthixol-acetate  Short-term management of exacerbation of chron...\n",
       "5478                   Zuclopenthixol-decanoate  Maintenance in schizophrenia and paranoid psyc...\n",
       "\n",
       "[5479 rows x 2 columns]"
      ]
     },
     "execution_count": 80,
     "metadata": {},
     "output_type": "execute_result"
    }
   ],
   "source": [
    "final_drug_df"
   ]
  },
  {
   "cell_type": "code",
   "execution_count": 83,
   "metadata": {},
   "outputs": [
    {
     "data": {
      "text/plain": [
       "1695"
      ]
     },
     "execution_count": 83,
     "metadata": {},
     "output_type": "execute_result"
    },
    {
     "data": {
      "text/plain": [
       "1701"
      ]
     },
     "execution_count": 83,
     "metadata": {},
     "output_type": "execute_result"
    }
   ],
   "source": [
    "final_drug_df.drug_name.nunique()\n",
    "len(drug_list)"
   ]
  },
  {
   "cell_type": "code",
   "execution_count": 84,
   "metadata": {},
   "outputs": [
    {
     "data": {
      "text/plain": [
       "{'Anti-D-Rh',\n",
       " 'Cranberry',\n",
       " 'Dairy-products',\n",
       " 'Enteral-feeds',\n",
       " 'Grapefruit',\n",
       " \"St-John's-wort\"}"
      ]
     },
     "execution_count": 84,
     "metadata": {},
     "output_type": "execute_result"
    }
   ],
   "source": [
    "# These drug not included - mainly as just interact with drugs or link did not work \n",
    "set(drug_list) - set(final_drug_df.drug_name.unique().tolist())"
   ]
  },
  {
   "cell_type": "code",
   "execution_count": 87,
   "metadata": {},
   "outputs": [],
   "source": [
    "# Save\n",
    "#final_drug_df.to_csv('bnf_drug_indications.csv', index=False)"
   ]
  }
 ],
 "metadata": {
  "kernelspec": {
   "display_name": "multimorbid",
   "language": "python",
   "name": "python3"
  },
  "language_info": {
   "codemirror_mode": {
    "name": "ipython",
    "version": 3
   },
   "file_extension": ".py",
   "mimetype": "text/x-python",
   "name": "python",
   "nbconvert_exporter": "python",
   "pygments_lexer": "ipython3",
   "version": "3.9.12"
  },
  "orig_nbformat": 4,
  "vscode": {
   "interpreter": {
    "hash": "450841604c5919b022db927ad0b60ac7563e937094c5a5aa6ccae5286af93dd2"
   }
  }
 },
 "nbformat": 4,
 "nbformat_minor": 2
}
