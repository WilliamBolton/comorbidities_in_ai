{
 "cells": [
  {
   "cell_type": "code",
   "execution_count": 2,
   "metadata": {},
   "outputs": [],
   "source": [
    "# Libraries\n",
    "import numpy as np\n",
    "import pandas as pd\n",
    "pd.set_option('display.max_columns', 40)\n",
    "pd.set_option('display.width', 2000)\n",
    "import matplotlib as mpl\n",
    "import matplotlib.pyplot as plt\n",
    "\n",
    "from IPython.core.interactiveshell import InteractiveShell\n",
    "InteractiveShell.ast_node_interactivity = \"all\""
   ]
  },
  {
   "cell_type": "code",
   "execution_count": 3,
   "metadata": {},
   "outputs": [],
   "source": [
    "# Import survey data\n",
    "path = r'data/multi_morbidity_survey_data_nov23.csv'\n",
    "results = pd.read_csv(path)"
   ]
  },
  {
   "cell_type": "code",
   "execution_count": 4,
   "metadata": {},
   "outputs": [
    {
     "data": {
      "text/html": [
       "<div>\n",
       "<style scoped>\n",
       "    .dataframe tbody tr th:only-of-type {\n",
       "        vertical-align: middle;\n",
       "    }\n",
       "\n",
       "    .dataframe tbody tr th {\n",
       "        vertical-align: top;\n",
       "    }\n",
       "\n",
       "    .dataframe thead th {\n",
       "        text-align: right;\n",
       "    }\n",
       "</style>\n",
       "<table border=\"1\" class=\"dataframe\">\n",
       "  <thead>\n",
       "    <tr style=\"text-align: right;\">\n",
       "      <th></th>\n",
       "      <th>1</th>\n",
       "      <th>2</th>\n",
       "      <th>3</th>\n",
       "      <th>4</th>\n",
       "      <th>5</th>\n",
       "      <th>6</th>\n",
       "      <th>7</th>\n",
       "      <th>8</th>\n",
       "      <th>9</th>\n",
       "      <th>10</th>\n",
       "      <th>medical_speciality</th>\n",
       "    </tr>\n",
       "  </thead>\n",
       "  <tbody>\n",
       "    <tr>\n",
       "      <th>0</th>\n",
       "      <td>snomed</td>\n",
       "      <td>one_hot</td>\n",
       "      <td>snomed</td>\n",
       "      <td>snomed</td>\n",
       "      <td>one_hot</td>\n",
       "      <td>snomed</td>\n",
       "      <td>one_hot</td>\n",
       "      <td>snomed</td>\n",
       "      <td>one_hot</td>\n",
       "      <td>snomed</td>\n",
       "      <td>ID</td>\n",
       "    </tr>\n",
       "    <tr>\n",
       "      <th>1</th>\n",
       "      <td>one_hot</td>\n",
       "      <td>snomed</td>\n",
       "      <td>rocheteau</td>\n",
       "      <td>other</td>\n",
       "      <td>snomed</td>\n",
       "      <td>rocheteau</td>\n",
       "      <td>rocheteau</td>\n",
       "      <td>rocheteau</td>\n",
       "      <td>one_hot</td>\n",
       "      <td>snomed</td>\n",
       "      <td>ID</td>\n",
       "    </tr>\n",
       "    <tr>\n",
       "      <th>2</th>\n",
       "      <td>snomed</td>\n",
       "      <td>one_hot</td>\n",
       "      <td>snomed</td>\n",
       "      <td>snomed</td>\n",
       "      <td>one_hot</td>\n",
       "      <td>snomed</td>\n",
       "      <td>rocheteau</td>\n",
       "      <td>snomed</td>\n",
       "      <td>one_hot</td>\n",
       "      <td>snomed</td>\n",
       "      <td>ID</td>\n",
       "    </tr>\n",
       "    <tr>\n",
       "      <th>3</th>\n",
       "      <td>one_hot</td>\n",
       "      <td>snomed</td>\n",
       "      <td>rocheteau</td>\n",
       "      <td>other</td>\n",
       "      <td>one_hot</td>\n",
       "      <td>rocheteau</td>\n",
       "      <td>snomed</td>\n",
       "      <td>one_hot</td>\n",
       "      <td>rocheteau</td>\n",
       "      <td>snomed</td>\n",
       "      <td>internal_medicine</td>\n",
       "    </tr>\n",
       "    <tr>\n",
       "      <th>4</th>\n",
       "      <td>snomed</td>\n",
       "      <td>one_hot</td>\n",
       "      <td>snomed</td>\n",
       "      <td>snomed</td>\n",
       "      <td>one_hot</td>\n",
       "      <td>snomed</td>\n",
       "      <td>one_hot</td>\n",
       "      <td>rocheteau</td>\n",
       "      <td>snomed</td>\n",
       "      <td>snomed</td>\n",
       "      <td>internal_medicine</td>\n",
       "    </tr>\n",
       "    <tr>\n",
       "      <th>5</th>\n",
       "      <td>snomed</td>\n",
       "      <td>snomed</td>\n",
       "      <td>snomed</td>\n",
       "      <td>snomed</td>\n",
       "      <td>snomed</td>\n",
       "      <td>rocheteau</td>\n",
       "      <td>rocheteau</td>\n",
       "      <td>snomed</td>\n",
       "      <td>snomed</td>\n",
       "      <td>snomed</td>\n",
       "      <td>ICU</td>\n",
       "    </tr>\n",
       "    <tr>\n",
       "      <th>6</th>\n",
       "      <td>snomed</td>\n",
       "      <td>snomed</td>\n",
       "      <td>rocheteau</td>\n",
       "      <td>snomed</td>\n",
       "      <td>one_hot</td>\n",
       "      <td>snomed</td>\n",
       "      <td>one_hot</td>\n",
       "      <td>snomed</td>\n",
       "      <td>one_hot</td>\n",
       "      <td>other</td>\n",
       "      <td>gastroenterology</td>\n",
       "    </tr>\n",
       "    <tr>\n",
       "      <th>7</th>\n",
       "      <td>snomed</td>\n",
       "      <td>one_hot</td>\n",
       "      <td>rocheteau</td>\n",
       "      <td>snomed</td>\n",
       "      <td>snomed</td>\n",
       "      <td>snomed</td>\n",
       "      <td>one_hot</td>\n",
       "      <td>snomed</td>\n",
       "      <td>snomed</td>\n",
       "      <td>snomed</td>\n",
       "      <td>ID</td>\n",
       "    </tr>\n",
       "    <tr>\n",
       "      <th>8</th>\n",
       "      <td>snomed</td>\n",
       "      <td>one_hot</td>\n",
       "      <td>snomed</td>\n",
       "      <td>snomed</td>\n",
       "      <td>one_hot</td>\n",
       "      <td>snomed</td>\n",
       "      <td>one_hot</td>\n",
       "      <td>snomed</td>\n",
       "      <td>snomed</td>\n",
       "      <td>snomed</td>\n",
       "      <td>GP</td>\n",
       "    </tr>\n",
       "    <tr>\n",
       "      <th>9</th>\n",
       "      <td>snomed</td>\n",
       "      <td>one_hot</td>\n",
       "      <td>snomed</td>\n",
       "      <td>snomed</td>\n",
       "      <td>one_hot</td>\n",
       "      <td>rocheteau</td>\n",
       "      <td>one_hot</td>\n",
       "      <td>snomed</td>\n",
       "      <td>one_hot</td>\n",
       "      <td>snomed</td>\n",
       "      <td>ID</td>\n",
       "    </tr>\n",
       "    <tr>\n",
       "      <th>10</th>\n",
       "      <td>one_hot</td>\n",
       "      <td>one_hot</td>\n",
       "      <td>rocheteau</td>\n",
       "      <td>other</td>\n",
       "      <td>one_hot</td>\n",
       "      <td>one_hot</td>\n",
       "      <td>snomed</td>\n",
       "      <td>snomed</td>\n",
       "      <td>one_hot</td>\n",
       "      <td>snomed</td>\n",
       "      <td>pharmacist</td>\n",
       "    </tr>\n",
       "    <tr>\n",
       "      <th>11</th>\n",
       "      <td>one_hot</td>\n",
       "      <td>snomed</td>\n",
       "      <td>rocheteau</td>\n",
       "      <td>snomed</td>\n",
       "      <td>snomed</td>\n",
       "      <td>snomed</td>\n",
       "      <td>one_hot</td>\n",
       "      <td>snomed</td>\n",
       "      <td>rocheteau</td>\n",
       "      <td>snomed</td>\n",
       "      <td>ID</td>\n",
       "    </tr>\n",
       "    <tr>\n",
       "      <th>12</th>\n",
       "      <td>snomed</td>\n",
       "      <td>one_hot</td>\n",
       "      <td>snomed</td>\n",
       "      <td>snomed</td>\n",
       "      <td>one_hot</td>\n",
       "      <td>rocheteau</td>\n",
       "      <td>one_hot</td>\n",
       "      <td>snomed</td>\n",
       "      <td>one_hot</td>\n",
       "      <td>snomed</td>\n",
       "      <td>internal_medicine</td>\n",
       "    </tr>\n",
       "    <tr>\n",
       "      <th>13</th>\n",
       "      <td>one_hot</td>\n",
       "      <td>one_hot</td>\n",
       "      <td>rocheteau</td>\n",
       "      <td>snomed</td>\n",
       "      <td>snomed</td>\n",
       "      <td>rocheteau</td>\n",
       "      <td>rocheteau</td>\n",
       "      <td>snomed</td>\n",
       "      <td>rocheteau</td>\n",
       "      <td>snomed</td>\n",
       "      <td>NaN</td>\n",
       "    </tr>\n",
       "    <tr>\n",
       "      <th>14</th>\n",
       "      <td>one_hot</td>\n",
       "      <td>one_hot</td>\n",
       "      <td>snomed</td>\n",
       "      <td>snomed</td>\n",
       "      <td>one_hot</td>\n",
       "      <td>snomed</td>\n",
       "      <td>rocheteau</td>\n",
       "      <td>snomed</td>\n",
       "      <td>one_hot</td>\n",
       "      <td>snomed</td>\n",
       "      <td>GP</td>\n",
       "    </tr>\n",
       "    <tr>\n",
       "      <th>15</th>\n",
       "      <td>one_hot</td>\n",
       "      <td>rocheteau</td>\n",
       "      <td>rocheteau</td>\n",
       "      <td>snomed</td>\n",
       "      <td>snomed</td>\n",
       "      <td>rocheteau</td>\n",
       "      <td>rocheteau</td>\n",
       "      <td>snomed</td>\n",
       "      <td>snomed</td>\n",
       "      <td>snomed</td>\n",
       "      <td>GP</td>\n",
       "    </tr>\n",
       "    <tr>\n",
       "      <th>16</th>\n",
       "      <td>snomed</td>\n",
       "      <td>one_hot</td>\n",
       "      <td>snomed</td>\n",
       "      <td>snomed</td>\n",
       "      <td>snomed</td>\n",
       "      <td>snomed</td>\n",
       "      <td>one_hot</td>\n",
       "      <td>snomed</td>\n",
       "      <td>snomed</td>\n",
       "      <td>other</td>\n",
       "      <td>ID</td>\n",
       "    </tr>\n",
       "    <tr>\n",
       "      <th>17</th>\n",
       "      <td>one_hot</td>\n",
       "      <td>one_hot</td>\n",
       "      <td>rocheteau</td>\n",
       "      <td>other</td>\n",
       "      <td>one_hot</td>\n",
       "      <td>snomed</td>\n",
       "      <td>rocheteau</td>\n",
       "      <td>snomed</td>\n",
       "      <td>snomed</td>\n",
       "      <td>snomed</td>\n",
       "      <td>ICU</td>\n",
       "    </tr>\n",
       "    <tr>\n",
       "      <th>18</th>\n",
       "      <td>one_hot</td>\n",
       "      <td>snomed</td>\n",
       "      <td>snomed</td>\n",
       "      <td>snomed</td>\n",
       "      <td>snomed</td>\n",
       "      <td>one_hot</td>\n",
       "      <td>snomed</td>\n",
       "      <td>rocheteau</td>\n",
       "      <td>one_hot</td>\n",
       "      <td>snomed</td>\n",
       "      <td>radiology</td>\n",
       "    </tr>\n",
       "    <tr>\n",
       "      <th>19</th>\n",
       "      <td>snomed</td>\n",
       "      <td>one_hot</td>\n",
       "      <td>one_hot</td>\n",
       "      <td>snomed</td>\n",
       "      <td>one_hot</td>\n",
       "      <td>snomed</td>\n",
       "      <td>one_hot</td>\n",
       "      <td>snomed</td>\n",
       "      <td>rocheteau</td>\n",
       "      <td>snomed</td>\n",
       "      <td>gynaecology</td>\n",
       "    </tr>\n",
       "  </tbody>\n",
       "</table>\n",
       "</div>"
      ],
      "text/plain": [
       "          1          2          3       4        5          6          7          8          9      10 medical_speciality\n",
       "0    snomed    one_hot     snomed  snomed  one_hot     snomed    one_hot     snomed    one_hot  snomed                 ID\n",
       "1   one_hot     snomed  rocheteau   other   snomed  rocheteau  rocheteau  rocheteau    one_hot  snomed                 ID\n",
       "2    snomed    one_hot     snomed  snomed  one_hot     snomed  rocheteau     snomed    one_hot  snomed                 ID\n",
       "3   one_hot     snomed  rocheteau   other  one_hot  rocheteau     snomed    one_hot  rocheteau  snomed  internal_medicine\n",
       "4    snomed    one_hot     snomed  snomed  one_hot     snomed    one_hot  rocheteau     snomed  snomed  internal_medicine\n",
       "5    snomed     snomed     snomed  snomed   snomed  rocheteau  rocheteau     snomed     snomed  snomed                ICU\n",
       "6    snomed     snomed  rocheteau  snomed  one_hot     snomed    one_hot     snomed    one_hot   other   gastroenterology\n",
       "7    snomed    one_hot  rocheteau  snomed   snomed     snomed    one_hot     snomed     snomed  snomed                 ID\n",
       "8    snomed    one_hot     snomed  snomed  one_hot     snomed    one_hot     snomed     snomed  snomed                 GP\n",
       "9    snomed    one_hot     snomed  snomed  one_hot  rocheteau    one_hot     snomed    one_hot  snomed                 ID\n",
       "10  one_hot    one_hot  rocheteau   other  one_hot    one_hot     snomed     snomed    one_hot  snomed         pharmacist\n",
       "11  one_hot     snomed  rocheteau  snomed   snomed     snomed    one_hot     snomed  rocheteau  snomed                 ID\n",
       "12   snomed    one_hot     snomed  snomed  one_hot  rocheteau    one_hot     snomed    one_hot  snomed  internal_medicine\n",
       "13  one_hot    one_hot  rocheteau  snomed   snomed  rocheteau  rocheteau     snomed  rocheteau  snomed                NaN\n",
       "14  one_hot    one_hot     snomed  snomed  one_hot     snomed  rocheteau     snomed    one_hot  snomed                 GP\n",
       "15  one_hot  rocheteau  rocheteau  snomed   snomed  rocheteau  rocheteau     snomed     snomed  snomed                 GP\n",
       "16   snomed    one_hot     snomed  snomed   snomed     snomed    one_hot     snomed     snomed   other                 ID\n",
       "17  one_hot    one_hot  rocheteau   other  one_hot     snomed  rocheteau     snomed     snomed  snomed                ICU\n",
       "18  one_hot     snomed     snomed  snomed   snomed    one_hot     snomed  rocheteau    one_hot  snomed          radiology\n",
       "19   snomed    one_hot    one_hot  snomed  one_hot     snomed    one_hot     snomed  rocheteau  snomed        gynaecology"
      ]
     },
     "execution_count": 4,
     "metadata": {},
     "output_type": "execute_result"
    },
    {
     "name": "stdout",
     "output_type": "stream",
     "text": [
      "<class 'pandas.core.frame.DataFrame'>\n",
      "RangeIndex: 20 entries, 0 to 19\n",
      "Data columns (total 11 columns):\n",
      " #   Column              Non-Null Count  Dtype \n",
      "---  ------              --------------  ----- \n",
      " 0   1                   20 non-null     object\n",
      " 1   2                   20 non-null     object\n",
      " 2   3                   20 non-null     object\n",
      " 3   4                   20 non-null     object\n",
      " 4   5                   20 non-null     object\n",
      " 5   6                   20 non-null     object\n",
      " 6   7                   20 non-null     object\n",
      " 7   8                   20 non-null     object\n",
      " 8   9                   20 non-null     object\n",
      " 9   10                  20 non-null     object\n",
      " 10  medical_speciality  19 non-null     object\n",
      "dtypes: object(11)\n",
      "memory usage: 1.8+ KB\n"
     ]
    }
   ],
   "source": [
    "results\n",
    "results.info()"
   ]
  },
  {
   "cell_type": "code",
   "execution_count": 141,
   "metadata": {},
   "outputs": [
    {
     "data": {
      "text/plain": [
       "ID                   7\n",
       "internal_medicine    3\n",
       "GP                   3\n",
       "ICU                  2\n",
       "gastroenterology     1\n",
       "pharmacist           1\n",
       "radiology            1\n",
       "gynaecology          1\n",
       "Name: medical_speciality, dtype: int64"
      ]
     },
     "execution_count": 141,
     "metadata": {},
     "output_type": "execute_result"
    },
    {
     "data": {
      "text/plain": [
       "8"
      ]
     },
     "execution_count": 141,
     "metadata": {},
     "output_type": "execute_result"
    }
   ],
   "source": [
    "results['medical_speciality'].value_counts()\n",
    "results['medical_speciality'].nunique()"
   ]
  },
  {
   "cell_type": "code",
   "execution_count": 6,
   "metadata": {},
   "outputs": [
    {
     "data": {
      "text/plain": [
       "snomed       106\n",
       "one_hot       57\n",
       "rocheteau     31\n",
       "other          6\n",
       "Name: value, dtype: int64"
      ]
     },
     "execution_count": 6,
     "metadata": {},
     "output_type": "execute_result"
    }
   ],
   "source": [
    "# Get total number of votes for each method \n",
    "pd.melt(results.iloc[:,:-1])['value'].value_counts()"
   ]
  },
  {
   "cell_type": "code",
   "execution_count": 4,
   "metadata": {},
   "outputs": [
    {
     "data": {
      "text/html": [
       "<div>\n",
       "<style scoped>\n",
       "    .dataframe tbody tr th:only-of-type {\n",
       "        vertical-align: middle;\n",
       "    }\n",
       "\n",
       "    .dataframe tbody tr th {\n",
       "        vertical-align: top;\n",
       "    }\n",
       "\n",
       "    .dataframe thead th {\n",
       "        text-align: right;\n",
       "    }\n",
       "</style>\n",
       "<table border=\"1\" class=\"dataframe\">\n",
       "  <thead>\n",
       "    <tr style=\"text-align: right;\">\n",
       "      <th></th>\n",
       "      <th>question</th>\n",
       "    </tr>\n",
       "  </thead>\n",
       "  <tbody>\n",
       "    <tr>\n",
       "      <th>1</th>\n",
       "      <td>snomed</td>\n",
       "    </tr>\n",
       "    <tr>\n",
       "      <th>2</th>\n",
       "      <td>one_hot</td>\n",
       "    </tr>\n",
       "    <tr>\n",
       "      <th>3</th>\n",
       "      <td>snomed</td>\n",
       "    </tr>\n",
       "    <tr>\n",
       "      <th>4</th>\n",
       "      <td>snomed</td>\n",
       "    </tr>\n",
       "    <tr>\n",
       "      <th>5</th>\n",
       "      <td>one_hot</td>\n",
       "    </tr>\n",
       "    <tr>\n",
       "      <th>6</th>\n",
       "      <td>snomed</td>\n",
       "    </tr>\n",
       "    <tr>\n",
       "      <th>7</th>\n",
       "      <td>one_hot</td>\n",
       "    </tr>\n",
       "    <tr>\n",
       "      <th>8</th>\n",
       "      <td>snomed</td>\n",
       "    </tr>\n",
       "    <tr>\n",
       "      <th>9</th>\n",
       "      <td>one_hot</td>\n",
       "    </tr>\n",
       "    <tr>\n",
       "      <th>10</th>\n",
       "      <td>snomed</td>\n",
       "    </tr>\n",
       "  </tbody>\n",
       "</table>\n",
       "</div>"
      ],
      "text/plain": [
       "   question\n",
       "1    snomed\n",
       "2   one_hot\n",
       "3    snomed\n",
       "4    snomed\n",
       "5   one_hot\n",
       "6    snomed\n",
       "7   one_hot\n",
       "8    snomed\n",
       "9   one_hot\n",
       "10   snomed"
      ]
     },
     "execution_count": 4,
     "metadata": {},
     "output_type": "execute_result"
    },
    {
     "data": {
      "text/plain": [
       "question\n",
       "snomed      6\n",
       "one_hot     4\n",
       "dtype: int64"
      ]
     },
     "execution_count": 4,
     "metadata": {},
     "output_type": "execute_result"
    }
   ],
   "source": [
    "# Get winner for each question\n",
    "winner_df = results.iloc[:,:-1].mode().T\n",
    "winner_df.columns = ['question']\n",
    "winner_df\n",
    "winner_df.value_counts()"
   ]
  },
  {
   "cell_type": "code",
   "execution_count": 5,
   "metadata": {},
   "outputs": [],
   "source": [
    "# Get frequency and percentages for all\n",
    "melted_df = pd.melt(results.iloc[:,:-1], value_vars=results.iloc[:,:-1].columns)\n",
    "frequency_df = melted_df.pivot_table(index='value', columns='variable', aggfunc='size', fill_value=np.nan)\n",
    "frequency_df.columns = frequency_df.columns.to_list()\n",
    "percentage_df = frequency_df.div(frequency_df.sum(axis=0), axis=1) * 100"
   ]
  },
  {
   "cell_type": "code",
   "execution_count": 6,
   "metadata": {},
   "outputs": [],
   "source": [
    "# Change order as question 10 moves for some reason \n",
    "frequency_df = frequency_df[['1', '2', '3', '4', '5', '6', '7', '8', '9', '10']]\n",
    "percentage_df = percentage_df[['1', '2', '3', '4', '5', '6', '7', '8', '9', '10']]"
   ]
  },
  {
   "cell_type": "code",
   "execution_count": 71,
   "metadata": {},
   "outputs": [
    {
     "data": {
      "text/html": [
       "<div>\n",
       "<style scoped>\n",
       "    .dataframe tbody tr th:only-of-type {\n",
       "        vertical-align: middle;\n",
       "    }\n",
       "\n",
       "    .dataframe tbody tr th {\n",
       "        vertical-align: top;\n",
       "    }\n",
       "\n",
       "    .dataframe thead th {\n",
       "        text-align: right;\n",
       "    }\n",
       "</style>\n",
       "<table border=\"1\" class=\"dataframe\">\n",
       "  <thead>\n",
       "    <tr style=\"text-align: right;\">\n",
       "      <th></th>\n",
       "      <th>1</th>\n",
       "      <th>2</th>\n",
       "      <th>3</th>\n",
       "      <th>4</th>\n",
       "      <th>5</th>\n",
       "      <th>6</th>\n",
       "      <th>7</th>\n",
       "      <th>8</th>\n",
       "      <th>9</th>\n",
       "      <th>10</th>\n",
       "    </tr>\n",
       "    <tr>\n",
       "      <th>value</th>\n",
       "      <th></th>\n",
       "      <th></th>\n",
       "      <th></th>\n",
       "      <th></th>\n",
       "      <th></th>\n",
       "      <th></th>\n",
       "      <th></th>\n",
       "      <th></th>\n",
       "      <th></th>\n",
       "      <th></th>\n",
       "    </tr>\n",
       "  </thead>\n",
       "  <tbody>\n",
       "    <tr>\n",
       "      <th>one_hot</th>\n",
       "      <td>9.0</td>\n",
       "      <td>13.0</td>\n",
       "      <td>1.0</td>\n",
       "      <td>NaN</td>\n",
       "      <td>12.0</td>\n",
       "      <td>2.0</td>\n",
       "      <td>10.0</td>\n",
       "      <td>1.0</td>\n",
       "      <td>9.0</td>\n",
       "      <td>NaN</td>\n",
       "    </tr>\n",
       "    <tr>\n",
       "      <th>other</th>\n",
       "      <td>NaN</td>\n",
       "      <td>NaN</td>\n",
       "      <td>NaN</td>\n",
       "      <td>4.0</td>\n",
       "      <td>NaN</td>\n",
       "      <td>NaN</td>\n",
       "      <td>NaN</td>\n",
       "      <td>NaN</td>\n",
       "      <td>NaN</td>\n",
       "      <td>2.0</td>\n",
       "    </tr>\n",
       "    <tr>\n",
       "      <th>rocheteau</th>\n",
       "      <td>NaN</td>\n",
       "      <td>1.0</td>\n",
       "      <td>9.0</td>\n",
       "      <td>NaN</td>\n",
       "      <td>NaN</td>\n",
       "      <td>7.0</td>\n",
       "      <td>7.0</td>\n",
       "      <td>3.0</td>\n",
       "      <td>4.0</td>\n",
       "      <td>NaN</td>\n",
       "    </tr>\n",
       "    <tr>\n",
       "      <th>snomed</th>\n",
       "      <td>11.0</td>\n",
       "      <td>6.0</td>\n",
       "      <td>10.0</td>\n",
       "      <td>16.0</td>\n",
       "      <td>8.0</td>\n",
       "      <td>11.0</td>\n",
       "      <td>3.0</td>\n",
       "      <td>16.0</td>\n",
       "      <td>7.0</td>\n",
       "      <td>18.0</td>\n",
       "    </tr>\n",
       "  </tbody>\n",
       "</table>\n",
       "</div>"
      ],
      "text/plain": [
       "              1     2     3     4     5     6     7     8    9    10\n",
       "value                                                               \n",
       "one_hot     9.0  13.0   1.0   NaN  12.0   2.0  10.0   1.0  9.0   NaN\n",
       "other       NaN   NaN   NaN   4.0   NaN   NaN   NaN   NaN  NaN   2.0\n",
       "rocheteau   NaN   1.0   9.0   NaN   NaN   7.0   7.0   3.0  4.0   NaN\n",
       "snomed     11.0   6.0  10.0  16.0   8.0  11.0   3.0  16.0  7.0  18.0"
      ]
     },
     "execution_count": 71,
     "metadata": {},
     "output_type": "execute_result"
    },
    {
     "data": {
      "text/html": [
       "<div>\n",
       "<style scoped>\n",
       "    .dataframe tbody tr th:only-of-type {\n",
       "        vertical-align: middle;\n",
       "    }\n",
       "\n",
       "    .dataframe tbody tr th {\n",
       "        vertical-align: top;\n",
       "    }\n",
       "\n",
       "    .dataframe thead th {\n",
       "        text-align: right;\n",
       "    }\n",
       "</style>\n",
       "<table border=\"1\" class=\"dataframe\">\n",
       "  <thead>\n",
       "    <tr style=\"text-align: right;\">\n",
       "      <th></th>\n",
       "      <th>1</th>\n",
       "      <th>2</th>\n",
       "      <th>3</th>\n",
       "      <th>4</th>\n",
       "      <th>5</th>\n",
       "      <th>6</th>\n",
       "      <th>7</th>\n",
       "      <th>8</th>\n",
       "      <th>9</th>\n",
       "      <th>10</th>\n",
       "    </tr>\n",
       "    <tr>\n",
       "      <th>value</th>\n",
       "      <th></th>\n",
       "      <th></th>\n",
       "      <th></th>\n",
       "      <th></th>\n",
       "      <th></th>\n",
       "      <th></th>\n",
       "      <th></th>\n",
       "      <th></th>\n",
       "      <th></th>\n",
       "      <th></th>\n",
       "    </tr>\n",
       "  </thead>\n",
       "  <tbody>\n",
       "    <tr>\n",
       "      <th>one_hot</th>\n",
       "      <td>45.0</td>\n",
       "      <td>65.0</td>\n",
       "      <td>5.0</td>\n",
       "      <td>NaN</td>\n",
       "      <td>60.0</td>\n",
       "      <td>10.0</td>\n",
       "      <td>50.0</td>\n",
       "      <td>5.0</td>\n",
       "      <td>45.0</td>\n",
       "      <td>NaN</td>\n",
       "    </tr>\n",
       "    <tr>\n",
       "      <th>other</th>\n",
       "      <td>NaN</td>\n",
       "      <td>NaN</td>\n",
       "      <td>NaN</td>\n",
       "      <td>20.0</td>\n",
       "      <td>NaN</td>\n",
       "      <td>NaN</td>\n",
       "      <td>NaN</td>\n",
       "      <td>NaN</td>\n",
       "      <td>NaN</td>\n",
       "      <td>10.0</td>\n",
       "    </tr>\n",
       "    <tr>\n",
       "      <th>rocheteau</th>\n",
       "      <td>NaN</td>\n",
       "      <td>5.0</td>\n",
       "      <td>45.0</td>\n",
       "      <td>NaN</td>\n",
       "      <td>NaN</td>\n",
       "      <td>35.0</td>\n",
       "      <td>35.0</td>\n",
       "      <td>15.0</td>\n",
       "      <td>20.0</td>\n",
       "      <td>NaN</td>\n",
       "    </tr>\n",
       "    <tr>\n",
       "      <th>snomed</th>\n",
       "      <td>55.0</td>\n",
       "      <td>30.0</td>\n",
       "      <td>50.0</td>\n",
       "      <td>80.0</td>\n",
       "      <td>40.0</td>\n",
       "      <td>55.0</td>\n",
       "      <td>15.0</td>\n",
       "      <td>80.0</td>\n",
       "      <td>35.0</td>\n",
       "      <td>90.0</td>\n",
       "    </tr>\n",
       "  </tbody>\n",
       "</table>\n",
       "</div>"
      ],
      "text/plain": [
       "              1     2     3     4     5     6     7     8     9    10\n",
       "value                                                                \n",
       "one_hot    45.0  65.0   5.0   NaN  60.0  10.0  50.0   5.0  45.0   NaN\n",
       "other       NaN   NaN   NaN  20.0   NaN   NaN   NaN   NaN   NaN  10.0\n",
       "rocheteau   NaN   5.0  45.0   NaN   NaN  35.0  35.0  15.0  20.0   NaN\n",
       "snomed     55.0  30.0  50.0  80.0  40.0  55.0  15.0  80.0  35.0  90.0"
      ]
     },
     "execution_count": 71,
     "metadata": {},
     "output_type": "execute_result"
    }
   ],
   "source": [
    "frequency_df\n",
    "percentage_df"
   ]
  },
  {
   "cell_type": "code",
   "execution_count": 57,
   "metadata": {},
   "outputs": [
    {
     "name": "stdout",
     "output_type": "stream",
     "text": [
      "one_hot\n",
      "mean, 35.625\n",
      "std, 24.991069833613995\n",
      "other\n",
      "mean, 15.0\n",
      "std, 7.0710678118654755\n",
      "rocheteau\n",
      "mean, 25.833333333333332\n",
      "std, 14.972196454317139\n",
      "snomed\n",
      "mean, 53.0\n",
      "std, 24.289915602982237\n"
     ]
    }
   ],
   "source": [
    "# Get average proportion of the vote\n",
    "for index, row in percentage_df.iterrows():\n",
    "    print(index)\n",
    "    print('mean,', percentage_df.loc[index].mean())\n",
    "    print('std,', percentage_df.loc[index].std())"
   ]
  },
  {
   "cell_type": "code",
   "execution_count": 58,
   "metadata": {},
   "outputs": [
    {
     "name": "stdout",
     "output_type": "stream",
     "text": [
      "one_hot with other mean, 25.3125\n",
      "rocheteau with other mean, 20.416666666666664\n"
     ]
    }
   ],
   "source": [
    "print('one_hot with other mean,', np.mean([35.625, 15.0]))\n",
    "print('rocheteau with other mean,', np.mean([25.833333333333332, 15.0]))"
   ]
  },
  {
   "cell_type": "code",
   "execution_count": 42,
   "metadata": {},
   "outputs": [],
   "source": [
    "# Get percentages for those our method won\n",
    "snomed_questions = winner_df[winner_df['question'] == 'snomed'].index.to_list()\n",
    "snomed_df = results.loc[:,snomed_questions]\n",
    "melted_df = pd.melt(snomed_df, value_vars=snomed_df.columns)\n",
    "snomed_frequency_df = melted_df.pivot_table(index='value', columns='variable', aggfunc='size', fill_value=np.nan)\n",
    "snomed_frequency_df.columns = snomed_frequency_df.columns.to_list()\n",
    "snomed_percentage_df = snomed_frequency_df.div(snomed_frequency_df.sum(axis=0), axis=1) * 100"
   ]
  },
  {
   "cell_type": "code",
   "execution_count": 43,
   "metadata": {},
   "outputs": [
    {
     "data": {
      "text/html": [
       "<div>\n",
       "<style scoped>\n",
       "    .dataframe tbody tr th:only-of-type {\n",
       "        vertical-align: middle;\n",
       "    }\n",
       "\n",
       "    .dataframe tbody tr th {\n",
       "        vertical-align: top;\n",
       "    }\n",
       "\n",
       "    .dataframe thead th {\n",
       "        text-align: right;\n",
       "    }\n",
       "</style>\n",
       "<table border=\"1\" class=\"dataframe\">\n",
       "  <thead>\n",
       "    <tr style=\"text-align: right;\">\n",
       "      <th></th>\n",
       "      <th>1</th>\n",
       "      <th>10</th>\n",
       "      <th>3</th>\n",
       "      <th>4</th>\n",
       "      <th>6</th>\n",
       "      <th>8</th>\n",
       "    </tr>\n",
       "    <tr>\n",
       "      <th>value</th>\n",
       "      <th></th>\n",
       "      <th></th>\n",
       "      <th></th>\n",
       "      <th></th>\n",
       "      <th></th>\n",
       "      <th></th>\n",
       "    </tr>\n",
       "  </thead>\n",
       "  <tbody>\n",
       "    <tr>\n",
       "      <th>one_hot</th>\n",
       "      <td>9.0</td>\n",
       "      <td>NaN</td>\n",
       "      <td>1.0</td>\n",
       "      <td>NaN</td>\n",
       "      <td>2.0</td>\n",
       "      <td>1.0</td>\n",
       "    </tr>\n",
       "    <tr>\n",
       "      <th>other</th>\n",
       "      <td>NaN</td>\n",
       "      <td>2.0</td>\n",
       "      <td>NaN</td>\n",
       "      <td>4.0</td>\n",
       "      <td>NaN</td>\n",
       "      <td>NaN</td>\n",
       "    </tr>\n",
       "    <tr>\n",
       "      <th>rocheteau</th>\n",
       "      <td>NaN</td>\n",
       "      <td>NaN</td>\n",
       "      <td>9.0</td>\n",
       "      <td>NaN</td>\n",
       "      <td>7.0</td>\n",
       "      <td>3.0</td>\n",
       "    </tr>\n",
       "    <tr>\n",
       "      <th>snomed</th>\n",
       "      <td>11.0</td>\n",
       "      <td>18.0</td>\n",
       "      <td>10.0</td>\n",
       "      <td>16.0</td>\n",
       "      <td>11.0</td>\n",
       "      <td>16.0</td>\n",
       "    </tr>\n",
       "  </tbody>\n",
       "</table>\n",
       "</div>"
      ],
      "text/plain": [
       "              1    10     3     4     6     8\n",
       "value                                        \n",
       "one_hot     9.0   NaN   1.0   NaN   2.0   1.0\n",
       "other       NaN   2.0   NaN   4.0   NaN   NaN\n",
       "rocheteau   NaN   NaN   9.0   NaN   7.0   3.0\n",
       "snomed     11.0  18.0  10.0  16.0  11.0  16.0"
      ]
     },
     "execution_count": 43,
     "metadata": {},
     "output_type": "execute_result"
    },
    {
     "data": {
      "text/html": [
       "<div>\n",
       "<style scoped>\n",
       "    .dataframe tbody tr th:only-of-type {\n",
       "        vertical-align: middle;\n",
       "    }\n",
       "\n",
       "    .dataframe tbody tr th {\n",
       "        vertical-align: top;\n",
       "    }\n",
       "\n",
       "    .dataframe thead th {\n",
       "        text-align: right;\n",
       "    }\n",
       "</style>\n",
       "<table border=\"1\" class=\"dataframe\">\n",
       "  <thead>\n",
       "    <tr style=\"text-align: right;\">\n",
       "      <th></th>\n",
       "      <th>1</th>\n",
       "      <th>10</th>\n",
       "      <th>3</th>\n",
       "      <th>4</th>\n",
       "      <th>6</th>\n",
       "      <th>8</th>\n",
       "    </tr>\n",
       "    <tr>\n",
       "      <th>value</th>\n",
       "      <th></th>\n",
       "      <th></th>\n",
       "      <th></th>\n",
       "      <th></th>\n",
       "      <th></th>\n",
       "      <th></th>\n",
       "    </tr>\n",
       "  </thead>\n",
       "  <tbody>\n",
       "    <tr>\n",
       "      <th>one_hot</th>\n",
       "      <td>45.0</td>\n",
       "      <td>NaN</td>\n",
       "      <td>5.0</td>\n",
       "      <td>NaN</td>\n",
       "      <td>10.0</td>\n",
       "      <td>5.0</td>\n",
       "    </tr>\n",
       "    <tr>\n",
       "      <th>other</th>\n",
       "      <td>NaN</td>\n",
       "      <td>10.0</td>\n",
       "      <td>NaN</td>\n",
       "      <td>20.0</td>\n",
       "      <td>NaN</td>\n",
       "      <td>NaN</td>\n",
       "    </tr>\n",
       "    <tr>\n",
       "      <th>rocheteau</th>\n",
       "      <td>NaN</td>\n",
       "      <td>NaN</td>\n",
       "      <td>45.0</td>\n",
       "      <td>NaN</td>\n",
       "      <td>35.0</td>\n",
       "      <td>15.0</td>\n",
       "    </tr>\n",
       "    <tr>\n",
       "      <th>snomed</th>\n",
       "      <td>55.0</td>\n",
       "      <td>90.0</td>\n",
       "      <td>50.0</td>\n",
       "      <td>80.0</td>\n",
       "      <td>55.0</td>\n",
       "      <td>80.0</td>\n",
       "    </tr>\n",
       "  </tbody>\n",
       "</table>\n",
       "</div>"
      ],
      "text/plain": [
       "              1    10     3     4     6     8\n",
       "value                                        \n",
       "one_hot    45.0   NaN   5.0   NaN  10.0   5.0\n",
       "other       NaN  10.0   NaN  20.0   NaN   NaN\n",
       "rocheteau   NaN   NaN  45.0   NaN  35.0  15.0\n",
       "snomed     55.0  90.0  50.0  80.0  55.0  80.0"
      ]
     },
     "execution_count": 43,
     "metadata": {},
     "output_type": "execute_result"
    }
   ],
   "source": [
    "snomed_frequency_df\n",
    "snomed_percentage_df"
   ]
  },
  {
   "cell_type": "code",
   "execution_count": 50,
   "metadata": {},
   "outputs": [
    {
     "data": {
      "text/plain": [
       "68.33333333333333"
      ]
     },
     "execution_count": 50,
     "metadata": {},
     "output_type": "execute_result"
    },
    {
     "data": {
      "text/plain": [
       "16.931233465600393"
      ]
     },
     "execution_count": 50,
     "metadata": {},
     "output_type": "execute_result"
    }
   ],
   "source": [
    "# For those our method won get the average proportion of the vote\n",
    "snomed_percentage_df.loc['snomed'].mean()\n",
    "snomed_percentage_df.loc['snomed'].std()"
   ]
  },
  {
   "cell_type": "code",
   "execution_count": 61,
   "metadata": {},
   "outputs": [],
   "source": [
    "# Work out percentage by which snomed won\n",
    "# Calculate the winning option for each column\n",
    "winning_option = snomed_percentage_df.idxmax()\n",
    "\n",
    "# Initialize an empty DataFrame to store the percentage differences\n",
    "snomed_percentage_difference_df = pd.DataFrame()\n",
    "\n",
    "# Loop through each column (question)\n",
    "for column in snomed_percentage_df.columns:\n",
    "    # Find the winning option for the current column\n",
    "    winner = winning_option[column]\n",
    "    \n",
    "    # Find the percentage of votes for the winning option\n",
    "    winning_percentage = snomed_percentage_df.loc[winner, column]\n",
    "    \n",
    "    # Find the second-highest percentage of votes\n",
    "    second_highest_percentage = snomed_percentage_df.drop(winner).max(axis=0)[column]\n",
    "    \n",
    "    # Calculate the percentage difference\n",
    "    percentage_difference = winning_percentage - second_highest_percentage\n",
    "    \n",
    "    # Add the percentage difference to the new DataFrame\n",
    "    snomed_percentage_difference_df[column] = [percentage_difference]"
   ]
  },
  {
   "cell_type": "code",
   "execution_count": 65,
   "metadata": {},
   "outputs": [
    {
     "data": {
      "text/html": [
       "<div>\n",
       "<style scoped>\n",
       "    .dataframe tbody tr th:only-of-type {\n",
       "        vertical-align: middle;\n",
       "    }\n",
       "\n",
       "    .dataframe tbody tr th {\n",
       "        vertical-align: top;\n",
       "    }\n",
       "\n",
       "    .dataframe thead th {\n",
       "        text-align: right;\n",
       "    }\n",
       "</style>\n",
       "<table border=\"1\" class=\"dataframe\">\n",
       "  <thead>\n",
       "    <tr style=\"text-align: right;\">\n",
       "      <th></th>\n",
       "      <th>1</th>\n",
       "      <th>10</th>\n",
       "      <th>3</th>\n",
       "      <th>4</th>\n",
       "      <th>6</th>\n",
       "      <th>8</th>\n",
       "    </tr>\n",
       "  </thead>\n",
       "  <tbody>\n",
       "    <tr>\n",
       "      <th>0</th>\n",
       "      <td>10.0</td>\n",
       "      <td>80.0</td>\n",
       "      <td>5.0</td>\n",
       "      <td>60.0</td>\n",
       "      <td>20.0</td>\n",
       "      <td>65.0</td>\n",
       "    </tr>\n",
       "  </tbody>\n",
       "</table>\n",
       "</div>"
      ],
      "text/plain": [
       "      1    10    3     4     6     8\n",
       "0  10.0  80.0  5.0  60.0  20.0  65.0"
      ]
     },
     "execution_count": 65,
     "metadata": {},
     "output_type": "execute_result"
    },
    {
     "name": "stdout",
     "output_type": "stream",
     "text": [
      "mean percentage winning margin, 0    40.0\n",
      "dtype: float64\n",
      "std percentage winning margin, 0    32.093613\n",
      "dtype: float64\n"
     ]
    }
   ],
   "source": [
    "snomed_percentage_difference_df\n",
    "print('mean percentage winning margin,', snomed_percentage_difference_df.T.mean())\n",
    "print('std percentage winning margin,', snomed_percentage_difference_df.T.std())"
   ]
  },
  {
   "cell_type": "code",
   "execution_count": 63,
   "metadata": {},
   "outputs": [],
   "source": [
    "# For those one_hot won get the average proportion of the vote\n",
    "# Get percentages for those they won\n",
    "one_hot_questions = winner_df[winner_df['question'] == 'one_hot'].index.to_list()\n",
    "one_hot_df = results.loc[:,one_hot_questions]\n",
    "melted_df = pd.melt(one_hot_df, value_vars=one_hot_df.columns)\n",
    "one_hot_frequency_df = melted_df.pivot_table(index='value', columns='variable', aggfunc='size', fill_value=np.nan)\n",
    "one_hot_frequency_df.columns = one_hot_frequency_df.columns.to_list()\n",
    "one_hot_percentage_df = one_hot_frequency_df.div(one_hot_frequency_df.sum(axis=0), axis=1) * 100\n",
    "# Work out percentage by which they won\n",
    "# Calculate the winning option for each column\n",
    "winning_option = one_hot_percentage_df.idxmax()\n",
    "\n",
    "# Initialize an empty DataFrame to store the percentage differences\n",
    "one_hot_percentage_difference_df = pd.DataFrame()\n",
    "\n",
    "# Loop through each column (question)\n",
    "for column in one_hot_percentage_df.columns:\n",
    "    # Find the winning option for the current column\n",
    "    winner = winning_option[column]\n",
    "    \n",
    "    # Find the percentage of votes for the winning option\n",
    "    winning_percentage = one_hot_percentage_df.loc[winner, column]\n",
    "    \n",
    "    # Find the second-highest percentage of votes\n",
    "    second_highest_percentage = one_hot_percentage_df.drop(winner).max(axis=0)[column]\n",
    "    \n",
    "    # Calculate the percentage difference\n",
    "    percentage_difference = winning_percentage - second_highest_percentage\n",
    "    \n",
    "    # Add the percentage difference to the new DataFrame\n",
    "    one_hot_percentage_difference_df[column] = [percentage_difference]"
   ]
  },
  {
   "cell_type": "code",
   "execution_count": 66,
   "metadata": {},
   "outputs": [
    {
     "data": {
      "text/html": [
       "<div>\n",
       "<style scoped>\n",
       "    .dataframe tbody tr th:only-of-type {\n",
       "        vertical-align: middle;\n",
       "    }\n",
       "\n",
       "    .dataframe tbody tr th {\n",
       "        vertical-align: top;\n",
       "    }\n",
       "\n",
       "    .dataframe thead th {\n",
       "        text-align: right;\n",
       "    }\n",
       "</style>\n",
       "<table border=\"1\" class=\"dataframe\">\n",
       "  <thead>\n",
       "    <tr style=\"text-align: right;\">\n",
       "      <th></th>\n",
       "      <th>2</th>\n",
       "      <th>5</th>\n",
       "      <th>7</th>\n",
       "      <th>9</th>\n",
       "    </tr>\n",
       "    <tr>\n",
       "      <th>value</th>\n",
       "      <th></th>\n",
       "      <th></th>\n",
       "      <th></th>\n",
       "      <th></th>\n",
       "    </tr>\n",
       "  </thead>\n",
       "  <tbody>\n",
       "    <tr>\n",
       "      <th>one_hot</th>\n",
       "      <td>13</td>\n",
       "      <td>12.0</td>\n",
       "      <td>10</td>\n",
       "      <td>9</td>\n",
       "    </tr>\n",
       "    <tr>\n",
       "      <th>rocheteau</th>\n",
       "      <td>1</td>\n",
       "      <td>NaN</td>\n",
       "      <td>7</td>\n",
       "      <td>4</td>\n",
       "    </tr>\n",
       "    <tr>\n",
       "      <th>snomed</th>\n",
       "      <td>6</td>\n",
       "      <td>8.0</td>\n",
       "      <td>3</td>\n",
       "      <td>7</td>\n",
       "    </tr>\n",
       "  </tbody>\n",
       "</table>\n",
       "</div>"
      ],
      "text/plain": [
       "            2     5   7  9\n",
       "value                     \n",
       "one_hot    13  12.0  10  9\n",
       "rocheteau   1   NaN   7  4\n",
       "snomed      6   8.0   3  7"
      ]
     },
     "execution_count": 66,
     "metadata": {},
     "output_type": "execute_result"
    },
    {
     "data": {
      "text/html": [
       "<div>\n",
       "<style scoped>\n",
       "    .dataframe tbody tr th:only-of-type {\n",
       "        vertical-align: middle;\n",
       "    }\n",
       "\n",
       "    .dataframe tbody tr th {\n",
       "        vertical-align: top;\n",
       "    }\n",
       "\n",
       "    .dataframe thead th {\n",
       "        text-align: right;\n",
       "    }\n",
       "</style>\n",
       "<table border=\"1\" class=\"dataframe\">\n",
       "  <thead>\n",
       "    <tr style=\"text-align: right;\">\n",
       "      <th></th>\n",
       "      <th>2</th>\n",
       "      <th>5</th>\n",
       "      <th>7</th>\n",
       "      <th>9</th>\n",
       "    </tr>\n",
       "    <tr>\n",
       "      <th>value</th>\n",
       "      <th></th>\n",
       "      <th></th>\n",
       "      <th></th>\n",
       "      <th></th>\n",
       "    </tr>\n",
       "  </thead>\n",
       "  <tbody>\n",
       "    <tr>\n",
       "      <th>one_hot</th>\n",
       "      <td>65.0</td>\n",
       "      <td>60.0</td>\n",
       "      <td>50.0</td>\n",
       "      <td>45.0</td>\n",
       "    </tr>\n",
       "    <tr>\n",
       "      <th>rocheteau</th>\n",
       "      <td>5.0</td>\n",
       "      <td>NaN</td>\n",
       "      <td>35.0</td>\n",
       "      <td>20.0</td>\n",
       "    </tr>\n",
       "    <tr>\n",
       "      <th>snomed</th>\n",
       "      <td>30.0</td>\n",
       "      <td>40.0</td>\n",
       "      <td>15.0</td>\n",
       "      <td>35.0</td>\n",
       "    </tr>\n",
       "  </tbody>\n",
       "</table>\n",
       "</div>"
      ],
      "text/plain": [
       "              2     5     7     9\n",
       "value                            \n",
       "one_hot    65.0  60.0  50.0  45.0\n",
       "rocheteau   5.0   NaN  35.0  20.0\n",
       "snomed     30.0  40.0  15.0  35.0"
      ]
     },
     "execution_count": 66,
     "metadata": {},
     "output_type": "execute_result"
    },
    {
     "name": "stdout",
     "output_type": "stream",
     "text": [
      "mean proportion of the vote for those one_hot won, 55.0\n",
      "std for proportion of the vote for those one_hot won, 9.128709291752768\n"
     ]
    },
    {
     "data": {
      "text/html": [
       "<div>\n",
       "<style scoped>\n",
       "    .dataframe tbody tr th:only-of-type {\n",
       "        vertical-align: middle;\n",
       "    }\n",
       "\n",
       "    .dataframe tbody tr th {\n",
       "        vertical-align: top;\n",
       "    }\n",
       "\n",
       "    .dataframe thead th {\n",
       "        text-align: right;\n",
       "    }\n",
       "</style>\n",
       "<table border=\"1\" class=\"dataframe\">\n",
       "  <thead>\n",
       "    <tr style=\"text-align: right;\">\n",
       "      <th></th>\n",
       "      <th>2</th>\n",
       "      <th>5</th>\n",
       "      <th>7</th>\n",
       "      <th>9</th>\n",
       "    </tr>\n",
       "  </thead>\n",
       "  <tbody>\n",
       "    <tr>\n",
       "      <th>0</th>\n",
       "      <td>35.0</td>\n",
       "      <td>20.0</td>\n",
       "      <td>15.0</td>\n",
       "      <td>10.0</td>\n",
       "    </tr>\n",
       "  </tbody>\n",
       "</table>\n",
       "</div>"
      ],
      "text/plain": [
       "      2     5     7     9\n",
       "0  35.0  20.0  15.0  10.0"
      ]
     },
     "execution_count": 66,
     "metadata": {},
     "output_type": "execute_result"
    },
    {
     "name": "stdout",
     "output_type": "stream",
     "text": [
      "mean percentage winning margin, 0    20.0\n",
      "dtype: float64\n",
      "mean percentage winning margin, 0    10.801234\n",
      "dtype: float64\n"
     ]
    }
   ],
   "source": [
    "one_hot_frequency_df\n",
    "one_hot_percentage_df\n",
    "# For those our method won get the average proportion of the vote\n",
    "print('mean proportion of the vote for those one_hot won,', one_hot_percentage_df.loc['one_hot'].mean())\n",
    "print('std for proportion of the vote for those one_hot won,',one_hot_percentage_df.loc['one_hot'].std())\n",
    "one_hot_percentage_difference_df\n",
    "print('mean percentage winning margin,', one_hot_percentage_difference_df.T.mean())\n",
    "print('mean percentage winning margin,', one_hot_percentage_difference_df.T.std())"
   ]
  },
  {
   "cell_type": "code",
   "execution_count": 158,
   "metadata": {},
   "outputs": [
    {
     "data": {
      "text/html": [
       "<div>\n",
       "<style scoped>\n",
       "    .dataframe tbody tr th:only-of-type {\n",
       "        vertical-align: middle;\n",
       "    }\n",
       "\n",
       "    .dataframe tbody tr th {\n",
       "        vertical-align: top;\n",
       "    }\n",
       "\n",
       "    .dataframe thead th {\n",
       "        text-align: right;\n",
       "    }\n",
       "</style>\n",
       "<table border=\"1\" class=\"dataframe\">\n",
       "  <thead>\n",
       "    <tr style=\"text-align: right;\">\n",
       "      <th></th>\n",
       "      <th>1</th>\n",
       "      <th>2</th>\n",
       "      <th>3</th>\n",
       "      <th>4</th>\n",
       "      <th>5</th>\n",
       "      <th>6</th>\n",
       "      <th>7</th>\n",
       "      <th>8</th>\n",
       "      <th>9</th>\n",
       "      <th>10</th>\n",
       "    </tr>\n",
       "    <tr>\n",
       "      <th>value</th>\n",
       "      <th></th>\n",
       "      <th></th>\n",
       "      <th></th>\n",
       "      <th></th>\n",
       "      <th></th>\n",
       "      <th></th>\n",
       "      <th></th>\n",
       "      <th></th>\n",
       "      <th></th>\n",
       "      <th></th>\n",
       "    </tr>\n",
       "  </thead>\n",
       "  <tbody>\n",
       "    <tr>\n",
       "      <th>one_hot</th>\n",
       "      <td>45.0</td>\n",
       "      <td>65.0</td>\n",
       "      <td>5.0</td>\n",
       "      <td>NaN</td>\n",
       "      <td>60.0</td>\n",
       "      <td>10.0</td>\n",
       "      <td>50.0</td>\n",
       "      <td>5.0</td>\n",
       "      <td>45.0</td>\n",
       "      <td>NaN</td>\n",
       "    </tr>\n",
       "    <tr>\n",
       "      <th>other</th>\n",
       "      <td>NaN</td>\n",
       "      <td>NaN</td>\n",
       "      <td>NaN</td>\n",
       "      <td>20.0</td>\n",
       "      <td>NaN</td>\n",
       "      <td>NaN</td>\n",
       "      <td>NaN</td>\n",
       "      <td>NaN</td>\n",
       "      <td>NaN</td>\n",
       "      <td>10.0</td>\n",
       "    </tr>\n",
       "    <tr>\n",
       "      <th>rocheteau</th>\n",
       "      <td>NaN</td>\n",
       "      <td>5.0</td>\n",
       "      <td>45.0</td>\n",
       "      <td>NaN</td>\n",
       "      <td>NaN</td>\n",
       "      <td>35.0</td>\n",
       "      <td>35.0</td>\n",
       "      <td>15.0</td>\n",
       "      <td>20.0</td>\n",
       "      <td>NaN</td>\n",
       "    </tr>\n",
       "    <tr>\n",
       "      <th>snomed</th>\n",
       "      <td>55.0</td>\n",
       "      <td>30.0</td>\n",
       "      <td>50.0</td>\n",
       "      <td>80.0</td>\n",
       "      <td>40.0</td>\n",
       "      <td>55.0</td>\n",
       "      <td>15.0</td>\n",
       "      <td>80.0</td>\n",
       "      <td>35.0</td>\n",
       "      <td>90.0</td>\n",
       "    </tr>\n",
       "  </tbody>\n",
       "</table>\n",
       "</div>"
      ],
      "text/plain": [
       "              1     2     3     4     5     6     7     8     9    10\n",
       "value                                                                \n",
       "one_hot    45.0  65.0   5.0   NaN  60.0  10.0  50.0   5.0  45.0   NaN\n",
       "other       NaN   NaN   NaN  20.0   NaN   NaN   NaN   NaN   NaN  10.0\n",
       "rocheteau   NaN   5.0  45.0   NaN   NaN  35.0  35.0  15.0  20.0   NaN\n",
       "snomed     55.0  30.0  50.0  80.0  40.0  55.0  15.0  80.0  35.0  90.0"
      ]
     },
     "execution_count": 158,
     "metadata": {},
     "output_type": "execute_result"
    }
   ],
   "source": [
    "percentage_df"
   ]
  },
  {
   "cell_type": "code",
   "execution_count": 14,
   "metadata": {},
   "outputs": [
    {
     "data": {
      "text/plain": [
       "<AxesSubplot:>"
      ]
     },
     "execution_count": 14,
     "metadata": {},
     "output_type": "execute_result"
    },
    {
     "data": {
      "text/plain": [
       "Text(0.5, 1.0, 'Milti-morbid patient similarity survey results')"
      ]
     },
     "execution_count": 14,
     "metadata": {},
     "output_type": "execute_result"
    },
    {
     "data": {
      "text/plain": [
       "Text(0.5, 0, 'Question')"
      ]
     },
     "execution_count": 14,
     "metadata": {},
     "output_type": "execute_result"
    },
    {
     "data": {
      "text/plain": [
       "Text(0, 0.5, 'Percentage of Votes')"
      ]
     },
     "execution_count": 14,
     "metadata": {},
     "output_type": "execute_result"
    },
    {
     "data": {
      "text/plain": [
       "(array([0, 1, 2, 3, 4, 5, 6, 7, 8, 9]),\n",
       " [Text(0, 0, '1'),\n",
       "  Text(1, 0, '2'),\n",
       "  Text(2, 0, '3'),\n",
       "  Text(3, 0, '4'),\n",
       "  Text(4, 0, '5'),\n",
       "  Text(5, 0, '6'),\n",
       "  Text(6, 0, '7'),\n",
       "  Text(7, 0, '8'),\n",
       "  Text(8, 0, '9'),\n",
       "  Text(9, 0, '10')])"
      ]
     },
     "execution_count": 14,
     "metadata": {},
     "output_type": "execute_result"
    },
    {
     "data": {
      "image/png": "[encoded data removed]",
      "text/plain": [
       "<Figure size 640x480 with 1 Axes>"
      ]
     },
     "metadata": {},
     "output_type": "display_data"
    }
   ],
   "source": [
    "# Stacked Bar Plot\n",
    "#plt.figure(figsize=(20, 16))\n",
    "percentage_df.T.plot(kind='bar', stacked=True, colormap='Set2_r', edgecolor='black')\n",
    "plt.title('Milti-morbid patient similarity survey results')\n",
    "plt.xlabel('Question')\n",
    "plt.ylabel('Percentage of Votes')\n",
    "L = plt.legend(title='Method', bbox_to_anchor=(1.05, 1), loc='upper left')\n",
    "L.get_texts()[0].set_text('One hot encodings')\n",
    "L.get_texts()[1].set_text('One hot encodings and \\nRocheteau similarity score')\n",
    "L.get_texts()[2].set_text('Rocheteau similarity score')\n",
    "L.get_texts()[3].set_text('Co-morbid patient embeddings')\n",
    "#plt.tight_layout()\n",
    "plt.xticks(rotation=360) # Needed to get ticks upright for some reason?\n",
    "plt.show()"
   ]
  },
  {
   "cell_type": "code",
   "execution_count": 140,
   "metadata": {},
   "outputs": [
    {
     "name": "stdout",
     "output_type": "stream",
     "text": [
      "Entropy per question:\n",
      " 1     0.992774\n",
      "10    0.468996\n",
      "2     1.141154\n",
      "3     1.234498\n",
      "4     0.721928\n",
      "5     0.970951\n",
      "6     1.336666\n",
      "7     1.440645\n",
      "8     0.884184\n",
      "9     1.512888\n",
      "dtype: float64\n",
      "Gini Index per question:\n",
      " 1     0.495\n",
      "10    0.180\n",
      "2     0.485\n",
      "3     0.545\n",
      "4     0.320\n",
      "5     0.480\n",
      "6     0.565\n",
      "7     0.605\n",
      "8     0.335\n",
      "9     0.635\n",
      "dtype: float64\n",
      "Mean Gini Index accross question:\n",
      " 0.46449999999999997\n",
      "Std Gini Index accross question:\n",
      " 0.143593755667392\n"
     ]
    }
   ],
   "source": [
    "# Extract the columns that represent survey questions\n",
    "# In this example, all columns except 'medical_speciality'\n",
    "question_columns = results.columns.difference(['medical_speciality', 'MCA1', 'MCA2', 'cluster'])\n",
    "\n",
    "# Calculate entropy for each question\n",
    "entropy_per_question = results[question_columns].apply(lambda col: -np.sum((col.value_counts() / len(col)) * np.log2(col.value_counts() / len(col))))\n",
    "\n",
    "# Display the entropy for each question\n",
    "print(\"Entropy per question:\\n\", entropy_per_question)\n",
    "\n",
    "# Gini Index\n",
    "gini_index_per_question = 1 - results[question_columns].apply(lambda col: sum((col.value_counts() / len(col))**2))\n",
    "print(\"Gini Index per question:\\n\", gini_index_per_question)\n",
    "print(\"Mean Gini Index accross question:\\n\", gini_index_per_question.mean())\n",
    "print(\"Std Gini Index accross question:\\n\", gini_index_per_question.std())"
   ]
  },
  {
   "cell_type": "code",
   "execution_count": null,
   "metadata": {},
   "outputs": [],
   "source": [
    "# Do chi-square test to see if differences between specialities"
   ]
  },
  {
   "cell_type": "code",
   "execution_count": 121,
   "metadata": {},
   "outputs": [
    {
     "name": "stdout",
     "output_type": "stream",
     "text": [
      "1\n",
      "\n",
      "Chi-Square Test for 1 against medical_speciality:\n",
      "Chi-Square Statistic: 5.618777056277056\n",
      "P-value: 0.5848984495947852\n",
      "Independent (fail to reject H0)\n",
      "10\n",
      "\n",
      "Chi-Square Test for 10 against medical_speciality:\n",
      "Chi-Square Statistic: 9.899159663865547\n",
      "P-value: 0.19436039275355588\n",
      "Independent (fail to reject H0)\n",
      "2\n",
      "\n",
      "Chi-Square Test for 2 against medical_speciality:\n",
      "Chi-Square Statistic: 11.950396825396826\n",
      "P-value: 0.6102864230598011\n",
      "Independent (fail to reject H0)\n",
      "3\n",
      "\n",
      "Chi-Square Test for 3 against medical_speciality:\n",
      "Chi-Square Statistic: 22.833928571428572\n",
      "P-value: 0.06302624841237496\n",
      "Independent (fail to reject H0)\n",
      "4\n",
      "\n",
      "Chi-Square Test for 4 against medical_speciality:\n",
      "Chi-Square Statistic: 6.823412698412699\n",
      "P-value: 0.4474949315997202\n",
      "Independent (fail to reject H0)\n",
      "5\n",
      "\n",
      "Chi-Square Test for 5 against medical_speciality:\n",
      "Chi-Square Statistic: 6.618764172335601\n",
      "P-value: 0.46962236888711384\n",
      "Independent (fail to reject H0)\n",
      "6\n",
      "\n",
      "Chi-Square Test for 6 against medical_speciality:\n",
      "Chi-Square Statistic: 22.03643578643579\n",
      "P-value: 0.07786880908344702\n",
      "Independent (fail to reject H0)\n",
      "7\n",
      "\n",
      "Chi-Square Test for 7 against medical_speciality:\n",
      "Chi-Square Statistic: 21.895238095238096\n",
      "P-value: 0.08079272482383931\n",
      "Independent (fail to reject H0)\n",
      "8\n",
      "\n",
      "Chi-Square Test for 8 against medical_speciality:\n",
      "Chi-Square Statistic: 13.752380952380953\n",
      "P-value: 0.46831723155759075\n",
      "Independent (fail to reject H0)\n",
      "9\n",
      "\n",
      "Chi-Square Test for 9 against medical_speciality:\n",
      "Chi-Square Statistic: 14.418745275888133\n",
      "P-value: 0.41900276197131714\n",
      "Independent (fail to reject H0)\n"
     ]
    }
   ],
   "source": [
    "from scipy.stats import chi2_contingency\n",
    "\n",
    "\n",
    "# Get a list of all question columns (excluding 'medical_speciality')\n",
    "question_columns = results.columns.difference(['medical_speciality'])\n",
    "\n",
    "# Perform Chi-Square Test for each question\n",
    "for question_column in question_columns:\n",
    "    observed_table = pd.crosstab(results['medical_speciality'], results[question_column])\n",
    "    chi2, p, dof, expected = chi2_contingency(observed_table)\n",
    "    print(question_column)\n",
    "    print(f\"\\nChi-Square Test for {question_column} against medical_speciality:\")\n",
    "    print(\"Chi-Square Statistic:\", chi2)\n",
    "    print(\"P-value:\", p)\n",
    "    alpha = 0.05\n",
    "    if p <= alpha:\n",
    "        print('Dependent (reject H0)')\n",
    "    else:\n",
    "        print('Independent (fail to reject H0)')\n",
    "    #print(\"Degrees of Freedom:\", dof)\n",
    "    #print(\"Expected Frequencies Table:\")\n",
    "    #print(pd.DataFrame(expected, index=observed_table.index, columns=observed_table.columns))"
   ]
  },
  {
   "cell_type": "code",
   "execution_count": 145,
   "metadata": {},
   "outputs": [
    {
     "name": "stdout",
     "output_type": "stream",
     "text": [
      "1\n",
      "\n",
      "Chi-Square Test for 1 against medical_speciality:\n",
      "Chi-Square Statistic: 0.3751803751803752\n",
      "P-value: 0.5401939723107335\n",
      "Independent (fail to reject H0)\n",
      "10\n",
      "\n",
      "Chi-Square Test for 10 against medical_speciality:\n",
      "Chi-Square Statistic: 0.0\n",
      "P-value: 1.0\n",
      "Independent (fail to reject H0)\n",
      "2\n",
      "\n",
      "Chi-Square Test for 2 against medical_speciality:\n",
      "Chi-Square Statistic: 0.6142575373344603\n",
      "P-value: 0.7355558782586129\n",
      "Independent (fail to reject H0)\n",
      "3\n",
      "\n",
      "Chi-Square Test for 3 against medical_speciality:\n",
      "Chi-Square Statistic: 0.6593406593406592\n",
      "P-value: 0.7191607803276518\n",
      "Independent (fail to reject H0)\n",
      "4\n",
      "\n",
      "Chi-Square Test for 4 against medical_speciality:\n",
      "Chi-Square Statistic: 0.0\n",
      "P-value: 1.0\n",
      "Independent (fail to reject H0)\n",
      "5\n",
      "\n",
      "Chi-Square Test for 5 against medical_speciality:\n",
      "Chi-Square Statistic: 0.448717948717949\n",
      "P-value: 0.5029444096390316\n",
      "Independent (fail to reject H0)\n",
      "6\n",
      "\n",
      "Chi-Square Test for 6 against medical_speciality:\n",
      "Chi-Square Statistic: 1.73255316112459\n",
      "P-value: 0.4205143893385689\n",
      "Independent (fail to reject H0)\n",
      "7\n",
      "\n",
      "Chi-Square Test for 7 against medical_speciality:\n",
      "Chi-Square Statistic: 2.7315541601255884\n",
      "P-value: 0.2551823018426235\n",
      "Independent (fail to reject H0)\n",
      "8\n",
      "\n",
      "Chi-Square Test for 8 against medical_speciality:\n",
      "Chi-Square Statistic: 0.5860805860805861\n",
      "P-value: 0.7459920818026331\n",
      "Independent (fail to reject H0)\n",
      "9\n",
      "\n",
      "Chi-Square Test for 9 against medical_speciality:\n",
      "Chi-Square Statistic: 0.655852084423513\n",
      "P-value: 0.7204162981311242\n",
      "Independent (fail to reject H0)\n"
     ]
    }
   ],
   "source": [
    "# Get a list of all question columns (excluding 'medical_speciality')\n",
    "results_copy = results.copy()\n",
    "\n",
    "def f(row):\n",
    "    if row['medical_speciality'] == 'ID':\n",
    "        return 'ID'\n",
    "    else:\n",
    "        return 'other'\n",
    "# Group into ID and other and compare\n",
    "results_copy['medical_speciality_2'] = results_copy.apply(f, axis=1)\n",
    "results_copy.drop(columns=['MCA1', 'MCA2', 'cluster', 'medical_speciality'], inplace=True)\n",
    "question_columns = results_copy.columns.difference(['medical_speciality_2'])\n",
    "\n",
    "# Perform Chi-Square Test for each question\n",
    "for question_column in question_columns:\n",
    "    observed_table = pd.crosstab(results_copy['medical_speciality_2'], results_copy[question_column])\n",
    "    chi2, p, dof, expected = chi2_contingency(observed_table)\n",
    "    print(question_column)\n",
    "    print(f\"\\nChi-Square Test for {question_column} against medical_speciality:\")\n",
    "    print(\"Chi-Square Statistic:\", chi2)\n",
    "    print(\"P-value:\", p)\n",
    "    alpha = 0.05\n",
    "    if p <= alpha:\n",
    "        print('Dependent (reject H0)')\n",
    "    else:\n",
    "        print('Independent (fail to reject H0)')"
   ]
  },
  {
   "cell_type": "code",
   "execution_count": 162,
   "metadata": {},
   "outputs": [
    {
     "data": {
      "text/plain": [
       "array([0, 0, 0, 0, 0, 0, 0, 0, 0, 0, 0, 0, 0, 0, 0, 0, 0, 0, 0, 0],\n",
       "      dtype=uint16)"
      ]
     },
     "execution_count": 162,
     "metadata": {},
     "output_type": "execute_result"
    },
    {
     "data": {
      "text/plain": [
       "array([0, 1, 0, 1, 0, 1, 0, 0, 0, 0, 0, 1, 0, 1, 0, 1, 0, 0, 1, 0],\n",
       "      dtype=uint16)"
      ]
     },
     "execution_count": 162,
     "metadata": {},
     "output_type": "execute_result"
    },
    {
     "data": {
      "text/plain": [
       "array([1, 2, 1, 2, 1, 2, 1, 1, 1, 1, 0, 2, 1, 2, 0, 2, 1, 0, 2, 1],\n",
       "      dtype=uint16)"
      ]
     },
     "execution_count": 162,
     "metadata": {},
     "output_type": "execute_result"
    },
    {
     "data": {
      "text/plain": [
       "array([1, 3, 1, 3, 1, 3, 1, 1, 1, 2, 0, 3, 2, 3, 0, 3, 1, 0, 3, 1],\n",
       "      dtype=uint16)"
      ]
     },
     "execution_count": 162,
     "metadata": {},
     "output_type": "execute_result"
    },
    {
     "data": {
      "text/plain": [
       "array([0, 1, 0, 1, 0, 3, 0, 0, 0, 0, 2, 4, 0, 3, 2, 3, 0, 2, 1, 0],\n",
       "      dtype=uint16)"
      ]
     },
     "execution_count": 162,
     "metadata": {},
     "output_type": "execute_result"
    },
    {
     "data": {
      "text/plain": [
       "array([1, 5, 4, 5, 1, 5, 3, 1, 1, 2, 0, 5, 2, 5, 0, 5, 1, 0, 5, 1],\n",
       "      dtype=uint16)"
      ]
     },
     "execution_count": 162,
     "metadata": {},
     "output_type": "execute_result"
    },
    {
     "data": {
      "text/plain": [
       "array([0, 3, 0, 3, 1, 3, 0, 4, 1, 0, 6, 3, 0, 3, 0, 3, 1, 6, 5, 2],\n",
       "      dtype=uint16)"
      ]
     },
     "execution_count": 162,
     "metadata": {},
     "output_type": "execute_result"
    },
    {
     "data": {
      "text/plain": [
       "array([2, 6, 1, 6, 2, 0, 4, 4, 2, 3, 7, 0, 3, 0, 1, 0, 4, 1, 5, 2],\n",
       "      dtype=uint16)"
      ]
     },
     "execution_count": 162,
     "metadata": {},
     "output_type": "execute_result"
    },
    {
     "data": {
      "text/plain": [
       "array([2, 0, 2, 0, 7, 5, 6, 6, 7, 4, 1, 5, 4, 5, 8, 5, 6, 1, 0, 3],\n",
       "      dtype=uint16)"
      ]
     },
     "execution_count": 162,
     "metadata": {},
     "output_type": "execute_result"
    },
    {
     "data": {
      "text/plain": [
       "array([2, 5, 6, 5, 0, 8, 2, 7, 7, 4, 1, 5, 4, 8, 3, 8, 7, 1, 9, 2],\n",
       "      dtype=uint16)"
      ]
     },
     "execution_count": 162,
     "metadata": {},
     "output_type": "execute_result"
    },
    {
     "data": {
      "text/plain": [
       "<Figure size 800x500 with 0 Axes>"
      ]
     },
     "execution_count": 162,
     "metadata": {},
     "output_type": "execute_result"
    },
    {
     "data": {
      "text/plain": [
       "[<matplotlib.lines.Line2D at 0x7ff6b8359d30>]"
      ]
     },
     "execution_count": 162,
     "metadata": {},
     "output_type": "execute_result"
    },
    {
     "data": {
      "text/plain": [
       "Text(0.5, 1.0, 'Elbow method for kmodes clusters')"
      ]
     },
     "execution_count": 162,
     "metadata": {},
     "output_type": "execute_result"
    },
    {
     "data": {
      "text/plain": [
       "Text(0.5, 0, 'Number of Clusters')"
      ]
     },
     "execution_count": 162,
     "metadata": {},
     "output_type": "execute_result"
    },
    {
     "data": {
      "text/plain": [
       "([<matplotlib.axis.XTick at 0x7ff6b8405f10>,\n",
       "  <matplotlib.axis.XTick at 0x7ff6b8405eb0>,\n",
       "  <matplotlib.axis.XTick at 0x7ff6b7ba42e0>,\n",
       "  <matplotlib.axis.XTick at 0x7ff6b836c520>,\n",
       "  <matplotlib.axis.XTick at 0x7ff6b836cc70>,\n",
       "  <matplotlib.axis.XTick at 0x7ff6b836e400>,\n",
       "  <matplotlib.axis.XTick at 0x7ff6b836eb50>,\n",
       "  <matplotlib.axis.XTick at 0x7ff6b82f32e0>,\n",
       "  <matplotlib.axis.XTick at 0x7ff6b836ebb0>,\n",
       "  <matplotlib.axis.XTick at 0x7ff6b836c9d0>],\n",
       " [Text(1, 0, '1'),\n",
       "  Text(2, 0, '2'),\n",
       "  Text(3, 0, '3'),\n",
       "  Text(4, 0, '4'),\n",
       "  Text(5, 0, '5'),\n",
       "  Text(6, 0, '6'),\n",
       "  Text(7, 0, '7'),\n",
       "  Text(8, 0, '8'),\n",
       "  Text(9, 0, '9'),\n",
       "  Text(10, 0, '10')])"
      ]
     },
     "execution_count": 162,
     "metadata": {},
     "output_type": "execute_result"
    },
    {
     "data": {
      "text/plain": [
       "Text(0, 0.5, 'Cost')"
      ]
     },
     "execution_count": 162,
     "metadata": {},
     "output_type": "execute_result"
    },
    {
     "data": {
      "image/png": "[encoded data removed]",
      "text/plain": [
       "<Figure size 800x500 with 1 Axes>"
      ]
     },
     "metadata": {},
     "output_type": "display_data"
    }
   ],
   "source": [
    "from kmodes.kmodes import KModes\n",
    "from sklearn.preprocessing import LabelEncoder\n",
    "\n",
    "# Extract the columns that you want to use for clustering\n",
    "# In this example, we're using all columns except 'medical_speciality'\n",
    "columns_for_clustering = results.columns.difference(['medical_speciality'])\n",
    "\n",
    "# Convert categorical data to numerical using LabelEncoder\n",
    "df_encoded = results.copy()\n",
    "le = LabelEncoder()\n",
    "for column in columns_for_clustering:\n",
    "    df_encoded[column] = le.fit_transform(results[column])\n",
    "\n",
    "# Determine the optimal number of clusters using the elbow method\n",
    "cost = []\n",
    "max_clusters = 10  # Adjust as needed\n",
    "\n",
    "for num_clusters in range(1, max_clusters + 1):\n",
    "    km = KModes(n_clusters=num_clusters, init='Huang', n_init=5, verbose=0)\n",
    "    km.fit_predict(df_encoded[columns_for_clustering])\n",
    "    cost.append(km.cost_)\n",
    "\n",
    "# Plot the elbow method graph\n",
    "plt.figure(figsize=(8, 5))\n",
    "plt.plot(range(1, max_clusters + 1), cost, marker='o')\n",
    "plt.title('Elbow method for kmodes clusters')\n",
    "plt.xlabel('Number of Clusters')\n",
    "plt.xticks([1,2,3,4,5,6,7,8,9, 10], ['1','2','3','4','5','6','7','8','9','10'])\n",
    "plt.ylabel('Cost')\n",
    "plt.show()"
   ]
  },
  {
   "cell_type": "code",
   "execution_count": 11,
   "metadata": {},
   "outputs": [
    {
     "name": "stdout",
     "output_type": "stream",
     "text": [
      "Init: initializing centroids\n",
      "Init: initializing clusters\n",
      "Starting iterations...\n",
      "Run 1, iteration: 1/100, moves: 8, cost: 51.0\n",
      "Run 1, iteration: 2/100, moves: 2, cost: 50.0\n",
      "Run 1, iteration: 3/100, moves: 0, cost: 50.0\n",
      "Init: initializing centroids\n",
      "Init: initializing clusters\n",
      "Starting iterations...\n",
      "Run 2, iteration: 1/100, moves: 1, cost: 49.0\n",
      "Run 2, iteration: 2/100, moves: 0, cost: 49.0\n",
      "Init: initializing centroids\n",
      "Init: initializing clusters\n",
      "Starting iterations...\n",
      "Run 3, iteration: 1/100, moves: 3, cost: 63.0\n",
      "Run 3, iteration: 2/100, moves: 1, cost: 63.0\n",
      "Init: initializing centroids\n",
      "Init: initializing clusters\n",
      "Starting iterations...\n",
      "Run 4, iteration: 1/100, moves: 0, cost: 52.0\n",
      "Init: initializing centroids\n",
      "Init: initializing clusters\n",
      "Starting iterations...\n",
      "Run 5, iteration: 1/100, moves: 5, cost: 49.0\n",
      "Run 5, iteration: 2/100, moves: 1, cost: 49.0\n",
      "Best run was number 2\n"
     ]
    }
   ],
   "source": [
    "# Choose the optimal number of clusters based on the elbow method (visual inspection)\n",
    "\n",
    "# Specify the chosen number of clusters (k)\n",
    "k_optimal = 2  # Replace with the chosen value\n",
    "\n",
    "# Create and fit the k-modes model with the optimal number of clusters\n",
    "km = KModes(n_clusters=k_optimal, init='Huang', n_init=5, verbose=1)\n",
    "clusters = km.fit_predict(df_encoded[columns_for_clustering])\n",
    "\n",
    "# Add the cluster labels to the original DataFrame\n",
    "results['cluster'] = clusters"
   ]
  },
  {
   "cell_type": "code",
   "execution_count": 13,
   "metadata": {},
   "outputs": [
    {
     "data": {
      "text/plain": [
       "<Figure size 1000x600 with 0 Axes>"
      ]
     },
     "execution_count": 13,
     "metadata": {},
     "output_type": "execute_result"
    },
    {
     "data": {
      "text/plain": [
       "<matplotlib.collections.PathCollection at 0x7f8d813d4b20>"
      ]
     },
     "execution_count": 13,
     "metadata": {},
     "output_type": "execute_result"
    },
    {
     "data": {
      "text/plain": [
       "<matplotlib.collections.PathCollection at 0x7f8d813d4f70>"
      ]
     },
     "execution_count": 13,
     "metadata": {},
     "output_type": "execute_result"
    },
    {
     "data": {
      "text/plain": [
       "Text(0.5, 1.0, 'MCA visualisation of survey results with kmodes clusters')"
      ]
     },
     "execution_count": 13,
     "metadata": {},
     "output_type": "execute_result"
    },
    {
     "data": {
      "text/plain": [
       "Text(0.5, 0, 'MCA dimension 1')"
      ]
     },
     "execution_count": 13,
     "metadata": {},
     "output_type": "execute_result"
    },
    {
     "data": {
      "text/plain": [
       "Text(0, 0.5, 'MCA dimension 2')"
      ]
     },
     "execution_count": 13,
     "metadata": {},
     "output_type": "execute_result"
    },
    {
     "data": {
      "image/png": "[encoded data removed]",
      "text/plain": [
       "<Figure size 1000x600 with 1 Axes>"
      ]
     },
     "metadata": {},
     "output_type": "display_data"
    }
   ],
   "source": [
    "# Use MCA for dimensionality reduction to 2D\n",
    "from prince import MCA\n",
    "mca = MCA(n_components=2)\n",
    "mca_result = mca.fit_transform(df_encoded[columns_for_clustering])\n",
    "\n",
    "# Add MCA components to the DataFrame\n",
    "results['MCA1'] = mca_result.iloc[:, 0]\n",
    "results['MCA2'] = mca_result.iloc[:, 1]\n",
    "\n",
    "# Plot the clusters in 2D using MCA components\n",
    "plt.figure(figsize=(10, 6))\n",
    "for cluster in results['cluster'].unique():\n",
    "    cluster_data = results[results['cluster'] == cluster]\n",
    "    plt.scatter(cluster_data['MCA1'], cluster_data['MCA2'], label=f'Cluster {cluster}')\n",
    "\n",
    "plt.title('MCA visualisation of survey results with kmodes clusters')\n",
    "plt.xlabel('MCA dimension 1')\n",
    "plt.ylabel('MCA dimension 2')\n",
    "L = plt.legend(title=\"Cluster\")\n",
    "L.get_texts()[0].set_text('0')\n",
    "L.get_texts()[1].set_text('1')\n",
    "\n",
    "plt.show()"
   ]
  }
 ],
 "metadata": {
  "kernelspec": {
   "display_name": "multimorbid",
   "language": "python",
   "name": "python3"
  },
  "language_info": {
   "codemirror_mode": {
    "name": "ipython",
    "version": 3
   },
   "file_extension": ".py",
   "mimetype": "text/x-python",
   "name": "python",
   "nbconvert_exporter": "python",
   "pygments_lexer": "ipython3",
   "version": "3.9.12"
  },
  "orig_nbformat": 4
 },
 "nbformat": 4,
 "nbformat_minor": 2
}
